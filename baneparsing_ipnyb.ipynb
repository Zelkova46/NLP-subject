{
  "nbformat": 4,
  "nbformat_minor": 0,
  "metadata": {
    "colab": {
      "provenance": [],
      "authorship_tag": "ABX9TyP+H5L3lVUTS5TDUAbrYQ6N",
      "include_colab_link": true
    },
    "kernelspec": {
      "name": "python3",
      "display_name": "Python 3"
    },
    "language_info": {
      "name": "python"
    }
  },
  "cells": [
    {
      "cell_type": "markdown",
      "metadata": {
        "id": "view-in-github",
        "colab_type": "text"
      },
      "source": [
        "<a href=\"https://colab.research.google.com/github/Zelkova46/NLP-subject/blob/main/baneparsing_ipnyb.ipynb\" target=\"_parent\"><img src=\"https://colab.research.google.com/assets/colab-badge.svg\" alt=\"Open In Colab\"/></a>"
      ]
    },
    {
      "cell_type": "markdown",
      "source": [
        "sumber : https://github.com/nikitakit/self-attentive-parser"
      ],
      "metadata": {
        "id": "eoTp8DgV-eIQ"
      }
    },
    {
      "cell_type": "code",
      "execution_count": null,
      "metadata": {
        "colab": {
          "base_uri": "https://localhost:8080/"
        },
        "id": "L7fgWGipyQfk",
        "outputId": "bb421dd6-c5ee-4b42-da83-f9142e730cb9"
      },
      "outputs": [
        {
          "output_type": "stream",
          "name": "stdout",
          "text": [
            "Looking in indexes: https://pypi.org/simple, https://us-python.pkg.dev/colab-wheels/public/simple/\n",
            "Collecting benepar\n",
            "  Downloading benepar-0.2.0.tar.gz (33 kB)\n",
            "  Preparing metadata (setup.py) ... \u001b[?25l\u001b[?25hdone\n",
            "Requirement already satisfied: nltk>=3.2 in /usr/local/lib/python3.8/dist-packages (from benepar) (3.7)\n",
            "Requirement already satisfied: spacy>=2.0.9 in /usr/local/lib/python3.8/dist-packages (from benepar) (3.4.4)\n",
            "Requirement already satisfied: torch>=1.6.0 in /usr/local/lib/python3.8/dist-packages (from benepar) (1.13.1+cu116)\n",
            "Collecting torch-struct>=0.5\n",
            "  Downloading torch_struct-0.5-py3-none-any.whl (34 kB)\n",
            "Collecting tokenizers>=0.9.4\n",
            "  Downloading tokenizers-0.13.2-cp38-cp38-manylinux_2_17_x86_64.manylinux2014_x86_64.whl (7.6 MB)\n",
            "\u001b[2K     \u001b[90m━━━━━━━━━━━━━━━━━━━━━━━━━━━━━━━━━━━━━━━━\u001b[0m \u001b[32m7.6/7.6 MB\u001b[0m \u001b[31m46.0 MB/s\u001b[0m eta \u001b[36m0:00:00\u001b[0m\n",
            "\u001b[?25hCollecting transformers[tokenizers,torch]>=4.2.2\n",
            "  Downloading transformers-4.26.1-py3-none-any.whl (6.3 MB)\n",
            "\u001b[2K     \u001b[90m━━━━━━━━━━━━━━━━━━━━━━━━━━━━━━━━━━━━━━━━\u001b[0m \u001b[32m6.3/6.3 MB\u001b[0m \u001b[31m82.3 MB/s\u001b[0m eta \u001b[36m0:00:00\u001b[0m\n",
            "\u001b[?25hRequirement already satisfied: protobuf in /usr/local/lib/python3.8/dist-packages (from benepar) (3.19.6)\n",
            "Collecting sentencepiece>=0.1.91\n",
            "  Downloading sentencepiece-0.1.97-cp38-cp38-manylinux_2_17_x86_64.manylinux2014_x86_64.whl (1.3 MB)\n",
            "\u001b[2K     \u001b[90m━━━━━━━━━━━━━━━━━━━━━━━━━━━━━━━━━━━━━━━━\u001b[0m \u001b[32m1.3/1.3 MB\u001b[0m \u001b[31m49.7 MB/s\u001b[0m eta \u001b[36m0:00:00\u001b[0m\n",
            "\u001b[?25hRequirement already satisfied: click in /usr/local/lib/python3.8/dist-packages (from nltk>=3.2->benepar) (7.1.2)\n",
            "Requirement already satisfied: joblib in /usr/local/lib/python3.8/dist-packages (from nltk>=3.2->benepar) (1.2.0)\n",
            "Requirement already satisfied: regex>=2021.8.3 in /usr/local/lib/python3.8/dist-packages (from nltk>=3.2->benepar) (2022.6.2)\n",
            "Requirement already satisfied: tqdm in /usr/local/lib/python3.8/dist-packages (from nltk>=3.2->benepar) (4.64.1)\n",
            "Requirement already satisfied: srsly<3.0.0,>=2.4.3 in /usr/local/lib/python3.8/dist-packages (from spacy>=2.0.9->benepar) (2.4.5)\n",
            "Requirement already satisfied: requests<3.0.0,>=2.13.0 in /usr/local/lib/python3.8/dist-packages (from spacy>=2.0.9->benepar) (2.25.1)\n",
            "Requirement already satisfied: pathy>=0.3.5 in /usr/local/lib/python3.8/dist-packages (from spacy>=2.0.9->benepar) (0.10.1)\n",
            "Requirement already satisfied: packaging>=20.0 in /usr/local/lib/python3.8/dist-packages (from spacy>=2.0.9->benepar) (23.0)\n",
            "Requirement already satisfied: thinc<8.2.0,>=8.1.0 in /usr/local/lib/python3.8/dist-packages (from spacy>=2.0.9->benepar) (8.1.7)\n",
            "Requirement already satisfied: catalogue<2.1.0,>=2.0.6 in /usr/local/lib/python3.8/dist-packages (from spacy>=2.0.9->benepar) (2.0.8)\n",
            "Requirement already satisfied: numpy>=1.15.0 in /usr/local/lib/python3.8/dist-packages (from spacy>=2.0.9->benepar) (1.22.4)\n",
            "Requirement already satisfied: smart-open<7.0.0,>=5.2.1 in /usr/local/lib/python3.8/dist-packages (from spacy>=2.0.9->benepar) (6.3.0)\n",
            "Requirement already satisfied: setuptools in /usr/local/lib/python3.8/dist-packages (from spacy>=2.0.9->benepar) (57.4.0)\n",
            "Requirement already satisfied: langcodes<4.0.0,>=3.2.0 in /usr/local/lib/python3.8/dist-packages (from spacy>=2.0.9->benepar) (3.3.0)\n",
            "Requirement already satisfied: typer<0.8.0,>=0.3.0 in /usr/local/lib/python3.8/dist-packages (from spacy>=2.0.9->benepar) (0.7.0)\n",
            "Requirement already satisfied: spacy-legacy<3.1.0,>=3.0.10 in /usr/local/lib/python3.8/dist-packages (from spacy>=2.0.9->benepar) (3.0.12)\n",
            "Requirement already satisfied: cymem<2.1.0,>=2.0.2 in /usr/local/lib/python3.8/dist-packages (from spacy>=2.0.9->benepar) (2.0.7)\n",
            "Requirement already satisfied: jinja2 in /usr/local/lib/python3.8/dist-packages (from spacy>=2.0.9->benepar) (2.11.3)\n",
            "Requirement already satisfied: murmurhash<1.1.0,>=0.28.0 in /usr/local/lib/python3.8/dist-packages (from spacy>=2.0.9->benepar) (1.0.9)\n",
            "Requirement already satisfied: spacy-loggers<2.0.0,>=1.0.0 in /usr/local/lib/python3.8/dist-packages (from spacy>=2.0.9->benepar) (1.0.4)\n",
            "Requirement already satisfied: wasabi<1.1.0,>=0.9.1 in /usr/local/lib/python3.8/dist-packages (from spacy>=2.0.9->benepar) (0.10.1)\n",
            "Requirement already satisfied: preshed<3.1.0,>=3.0.2 in /usr/local/lib/python3.8/dist-packages (from spacy>=2.0.9->benepar) (3.0.8)\n",
            "Requirement already satisfied: pydantic!=1.8,!=1.8.1,<1.11.0,>=1.7.4 in /usr/local/lib/python3.8/dist-packages (from spacy>=2.0.9->benepar) (1.10.5)\n",
            "Requirement already satisfied: typing-extensions in /usr/local/lib/python3.8/dist-packages (from torch>=1.6.0->benepar) (4.5.0)\n",
            "Requirement already satisfied: pyyaml>=5.1 in /usr/local/lib/python3.8/dist-packages (from transformers[tokenizers,torch]>=4.2.2->benepar) (6.0)\n",
            "Requirement already satisfied: filelock in /usr/local/lib/python3.8/dist-packages (from transformers[tokenizers,torch]>=4.2.2->benepar) (3.9.0)\n",
            "Collecting huggingface-hub<1.0,>=0.11.0\n",
            "  Downloading huggingface_hub-0.12.1-py3-none-any.whl (190 kB)\n",
            "\u001b[2K     \u001b[90m━━━━━━━━━━━━━━━━━━━━━━━━━━━━━━━━━━━━━━\u001b[0m \u001b[32m190.3/190.3 KB\u001b[0m \u001b[31m13.7 MB/s\u001b[0m eta \u001b[36m0:00:00\u001b[0m\n",
            "\u001b[?25hRequirement already satisfied: idna<3,>=2.5 in /usr/local/lib/python3.8/dist-packages (from requests<3.0.0,>=2.13.0->spacy>=2.0.9->benepar) (2.10)\n",
            "Requirement already satisfied: certifi>=2017.4.17 in /usr/local/lib/python3.8/dist-packages (from requests<3.0.0,>=2.13.0->spacy>=2.0.9->benepar) (2022.12.7)\n",
            "Requirement already satisfied: urllib3<1.27,>=1.21.1 in /usr/local/lib/python3.8/dist-packages (from requests<3.0.0,>=2.13.0->spacy>=2.0.9->benepar) (1.24.3)\n",
            "Requirement already satisfied: chardet<5,>=3.0.2 in /usr/local/lib/python3.8/dist-packages (from requests<3.0.0,>=2.13.0->spacy>=2.0.9->benepar) (4.0.0)\n",
            "Requirement already satisfied: blis<0.8.0,>=0.7.8 in /usr/local/lib/python3.8/dist-packages (from thinc<8.2.0,>=8.1.0->spacy>=2.0.9->benepar) (0.7.9)\n",
            "Requirement already satisfied: confection<1.0.0,>=0.0.1 in /usr/local/lib/python3.8/dist-packages (from thinc<8.2.0,>=8.1.0->spacy>=2.0.9->benepar) (0.0.4)\n",
            "Requirement already satisfied: MarkupSafe>=0.23 in /usr/local/lib/python3.8/dist-packages (from jinja2->spacy>=2.0.9->benepar) (2.0.1)\n",
            "Building wheels for collected packages: benepar\n",
            "  Building wheel for benepar (setup.py) ... \u001b[?25l\u001b[?25hdone\n",
            "  Created wheel for benepar: filename=benepar-0.2.0-py3-none-any.whl size=37646 sha256=9e676ab1522468f495e7cde1ca5a36c23f8421329b5564d3c95c420d3591e3f6\n",
            "  Stored in directory: /root/.cache/pip/wheels/61/a2/7e/f3631621bc53a802ee5a333d2b1bd0582fd50402cf702b3e37\n",
            "Successfully built benepar\n",
            "Installing collected packages: tokenizers, sentencepiece, torch-struct, huggingface-hub, transformers, benepar\n",
            "Successfully installed benepar-0.2.0 huggingface-hub-0.12.1 sentencepiece-0.1.97 tokenizers-0.13.2 torch-struct-0.5 transformers-4.26.1\n"
          ]
        }
      ],
      "source": [
        "!pip install benepar"
      ]
    },
    {
      "cell_type": "code",
      "source": [
        "!python -m spacy download en_core_web_md"
      ],
      "metadata": {
        "colab": {
          "base_uri": "https://localhost:8080/"
        },
        "id": "HmV7_wB5yYJq",
        "outputId": "b546d554-cded-4303-c5d3-90ac59e22254"
      },
      "execution_count": null,
      "outputs": [
        {
          "output_type": "stream",
          "name": "stdout",
          "text": [
            "/usr/local/lib/python3.8/dist-packages/torch/cuda/__init__.py:497: UserWarning: Can't initialize NVML\n",
            "  warnings.warn(\"Can't initialize NVML\")\n",
            "2023-02-23 02:00:05.184626: I tensorflow/core/platform/cpu_feature_guard.cc:193] This TensorFlow binary is optimized with oneAPI Deep Neural Network Library (oneDNN) to use the following CPU instructions in performance-critical operations:  AVX2 FMA\n",
            "To enable them in other operations, rebuild TensorFlow with the appropriate compiler flags.\n",
            "2023-02-23 02:00:06.587572: W tensorflow/compiler/xla/stream_executor/platform/default/dso_loader.cc:64] Could not load dynamic library 'libnvinfer.so.7'; dlerror: libnvinfer.so.7: cannot open shared object file: No such file or directory; LD_LIBRARY_PATH: /usr/local/nvidia/lib:/usr/local/nvidia/lib64\n",
            "2023-02-23 02:00:06.587760: W tensorflow/compiler/xla/stream_executor/platform/default/dso_loader.cc:64] Could not load dynamic library 'libnvinfer_plugin.so.7'; dlerror: libnvinfer_plugin.so.7: cannot open shared object file: No such file or directory; LD_LIBRARY_PATH: /usr/local/nvidia/lib:/usr/local/nvidia/lib64\n",
            "2023-02-23 02:00:06.587791: W tensorflow/compiler/tf2tensorrt/utils/py_utils.cc:38] TF-TRT Warning: Cannot dlopen some TensorRT libraries. If you would like to use Nvidia GPU with TensorRT, please make sure the missing libraries mentioned above are installed properly.\n",
            "2023-02-23 02:00:12.218422: E tensorflow/compiler/xla/stream_executor/cuda/cuda_driver.cc:267] failed call to cuInit: CUDA_ERROR_NO_DEVICE: no CUDA-capable device is detected\n",
            "Looking in indexes: https://pypi.org/simple, https://us-python.pkg.dev/colab-wheels/public/simple/\n",
            "Collecting en-core-web-md==3.4.1\n",
            "  Downloading https://github.com/explosion/spacy-models/releases/download/en_core_web_md-3.4.1/en_core_web_md-3.4.1-py3-none-any.whl (42.8 MB)\n",
            "\u001b[2K     \u001b[90m━━━━━━━━━━━━━━━━━━━━━━━━━━━━━━━━━━━━━━━━\u001b[0m \u001b[32m42.8/42.8 MB\u001b[0m \u001b[31m11.4 MB/s\u001b[0m eta \u001b[36m0:00:00\u001b[0m\n",
            "\u001b[?25hRequirement already satisfied: spacy<3.5.0,>=3.4.0 in /usr/local/lib/python3.8/dist-packages (from en-core-web-md==3.4.1) (3.4.4)\n",
            "Requirement already satisfied: spacy-legacy<3.1.0,>=3.0.10 in /usr/local/lib/python3.8/dist-packages (from spacy<3.5.0,>=3.4.0->en-core-web-md==3.4.1) (3.0.12)\n",
            "Requirement already satisfied: spacy-loggers<2.0.0,>=1.0.0 in /usr/local/lib/python3.8/dist-packages (from spacy<3.5.0,>=3.4.0->en-core-web-md==3.4.1) (1.0.4)\n",
            "Requirement already satisfied: tqdm<5.0.0,>=4.38.0 in /usr/local/lib/python3.8/dist-packages (from spacy<3.5.0,>=3.4.0->en-core-web-md==3.4.1) (4.64.1)\n",
            "Requirement already satisfied: catalogue<2.1.0,>=2.0.6 in /usr/local/lib/python3.8/dist-packages (from spacy<3.5.0,>=3.4.0->en-core-web-md==3.4.1) (2.0.8)\n",
            "Requirement already satisfied: jinja2 in /usr/local/lib/python3.8/dist-packages (from spacy<3.5.0,>=3.4.0->en-core-web-md==3.4.1) (2.11.3)\n",
            "Requirement already satisfied: pydantic!=1.8,!=1.8.1,<1.11.0,>=1.7.4 in /usr/local/lib/python3.8/dist-packages (from spacy<3.5.0,>=3.4.0->en-core-web-md==3.4.1) (1.10.5)\n",
            "Requirement already satisfied: thinc<8.2.0,>=8.1.0 in /usr/local/lib/python3.8/dist-packages (from spacy<3.5.0,>=3.4.0->en-core-web-md==3.4.1) (8.1.7)\n",
            "Requirement already satisfied: srsly<3.0.0,>=2.4.3 in /usr/local/lib/python3.8/dist-packages (from spacy<3.5.0,>=3.4.0->en-core-web-md==3.4.1) (2.4.5)\n",
            "Requirement already satisfied: preshed<3.1.0,>=3.0.2 in /usr/local/lib/python3.8/dist-packages (from spacy<3.5.0,>=3.4.0->en-core-web-md==3.4.1) (3.0.8)\n",
            "Requirement already satisfied: packaging>=20.0 in /usr/local/lib/python3.8/dist-packages (from spacy<3.5.0,>=3.4.0->en-core-web-md==3.4.1) (23.0)\n",
            "Requirement already satisfied: requests<3.0.0,>=2.13.0 in /usr/local/lib/python3.8/dist-packages (from spacy<3.5.0,>=3.4.0->en-core-web-md==3.4.1) (2.25.1)\n",
            "Requirement already satisfied: langcodes<4.0.0,>=3.2.0 in /usr/local/lib/python3.8/dist-packages (from spacy<3.5.0,>=3.4.0->en-core-web-md==3.4.1) (3.3.0)\n",
            "Requirement already satisfied: numpy>=1.15.0 in /usr/local/lib/python3.8/dist-packages (from spacy<3.5.0,>=3.4.0->en-core-web-md==3.4.1) (1.22.4)\n",
            "Requirement already satisfied: murmurhash<1.1.0,>=0.28.0 in /usr/local/lib/python3.8/dist-packages (from spacy<3.5.0,>=3.4.0->en-core-web-md==3.4.1) (1.0.9)\n",
            "Requirement already satisfied: pathy>=0.3.5 in /usr/local/lib/python3.8/dist-packages (from spacy<3.5.0,>=3.4.0->en-core-web-md==3.4.1) (0.10.1)\n",
            "Requirement already satisfied: typer<0.8.0,>=0.3.0 in /usr/local/lib/python3.8/dist-packages (from spacy<3.5.0,>=3.4.0->en-core-web-md==3.4.1) (0.7.0)\n",
            "Requirement already satisfied: smart-open<7.0.0,>=5.2.1 in /usr/local/lib/python3.8/dist-packages (from spacy<3.5.0,>=3.4.0->en-core-web-md==3.4.1) (6.3.0)\n",
            "Requirement already satisfied: wasabi<1.1.0,>=0.9.1 in /usr/local/lib/python3.8/dist-packages (from spacy<3.5.0,>=3.4.0->en-core-web-md==3.4.1) (0.10.1)\n",
            "Requirement already satisfied: cymem<2.1.0,>=2.0.2 in /usr/local/lib/python3.8/dist-packages (from spacy<3.5.0,>=3.4.0->en-core-web-md==3.4.1) (2.0.7)\n",
            "Requirement already satisfied: setuptools in /usr/local/lib/python3.8/dist-packages (from spacy<3.5.0,>=3.4.0->en-core-web-md==3.4.1) (57.4.0)\n",
            "Requirement already satisfied: typing-extensions>=4.2.0 in /usr/local/lib/python3.8/dist-packages (from pydantic!=1.8,!=1.8.1,<1.11.0,>=1.7.4->spacy<3.5.0,>=3.4.0->en-core-web-md==3.4.1) (4.5.0)\n",
            "Requirement already satisfied: chardet<5,>=3.0.2 in /usr/local/lib/python3.8/dist-packages (from requests<3.0.0,>=2.13.0->spacy<3.5.0,>=3.4.0->en-core-web-md==3.4.1) (4.0.0)\n",
            "Requirement already satisfied: certifi>=2017.4.17 in /usr/local/lib/python3.8/dist-packages (from requests<3.0.0,>=2.13.0->spacy<3.5.0,>=3.4.0->en-core-web-md==3.4.1) (2022.12.7)\n",
            "Requirement already satisfied: idna<3,>=2.5 in /usr/local/lib/python3.8/dist-packages (from requests<3.0.0,>=2.13.0->spacy<3.5.0,>=3.4.0->en-core-web-md==3.4.1) (2.10)\n",
            "Requirement already satisfied: urllib3<1.27,>=1.21.1 in /usr/local/lib/python3.8/dist-packages (from requests<3.0.0,>=2.13.0->spacy<3.5.0,>=3.4.0->en-core-web-md==3.4.1) (1.24.3)\n",
            "Requirement already satisfied: confection<1.0.0,>=0.0.1 in /usr/local/lib/python3.8/dist-packages (from thinc<8.2.0,>=8.1.0->spacy<3.5.0,>=3.4.0->en-core-web-md==3.4.1) (0.0.4)\n",
            "Requirement already satisfied: blis<0.8.0,>=0.7.8 in /usr/local/lib/python3.8/dist-packages (from thinc<8.2.0,>=8.1.0->spacy<3.5.0,>=3.4.0->en-core-web-md==3.4.1) (0.7.9)\n",
            "Requirement already satisfied: click<9.0.0,>=7.1.1 in /usr/local/lib/python3.8/dist-packages (from typer<0.8.0,>=0.3.0->spacy<3.5.0,>=3.4.0->en-core-web-md==3.4.1) (7.1.2)\n",
            "Requirement already satisfied: MarkupSafe>=0.23 in /usr/local/lib/python3.8/dist-packages (from jinja2->spacy<3.5.0,>=3.4.0->en-core-web-md==3.4.1) (2.0.1)\n",
            "Installing collected packages: en-core-web-md\n",
            "Successfully installed en-core-web-md-3.4.1\n",
            "\u001b[38;5;2m✔ Download and installation successful\u001b[0m\n",
            "You can now load the package via spacy.load('en_core_web_md')\n"
          ]
        }
      ]
    },
    {
      "cell_type": "code",
      "source": [],
      "metadata": {
        "id": "Y9oB-78d9HL6"
      },
      "execution_count": null,
      "outputs": []
    },
    {
      "cell_type": "markdown",
      "source": [
        "## import banepar untuk parsing"
      ],
      "metadata": {
        "id": "2n_icTWM87w_"
      }
    },
    {
      "cell_type": "code",
      "source": [
        "import benepar\n",
        "benepar.download('benepar_en3')"
      ],
      "metadata": {
        "colab": {
          "base_uri": "https://localhost:8080/"
        },
        "id": "pWJVQvw_1C63",
        "outputId": "c34fe7ee-6a10-4fd1-abd3-6dc744288d09"
      },
      "execution_count": null,
      "outputs": [
        {
          "output_type": "stream",
          "name": "stderr",
          "text": [
            "/usr/local/lib/python3.8/dist-packages/torch/cuda/__init__.py:497: UserWarning: Can't initialize NVML\n",
            "  warnings.warn(\"Can't initialize NVML\")\n",
            "[nltk_data] Downloading package benepar_en3 to /root/nltk_data...\n",
            "[nltk_data]   Unzipping models/benepar_en3.zip.\n"
          ]
        },
        {
          "output_type": "execute_result",
          "data": {
            "text/plain": [
              "True"
            ]
          },
          "metadata": {},
          "execution_count": 3
        }
      ]
    },
    {
      "cell_type": "markdown",
      "source": [
        "## Tokenization dan POS tagging menggunakan spaCy\n",
        "\n",
        "# Parsing Constituency dilakukan dengan bane parsing"
      ],
      "metadata": {
        "id": "sqXGDQNk1z4D"
      }
    },
    {
      "cell_type": "code",
      "source": [
        "import benepar, spacy"
      ],
      "metadata": {
        "id": "2RDOwku_2EAf"
      },
      "execution_count": null,
      "outputs": []
    },
    {
      "cell_type": "markdown",
      "source": [
        "load package untuk parsing bahasa inggris dengan banepar_en3"
      ],
      "metadata": {
        "id": "aCgb_nBO2ZKm"
      }
    },
    {
      "cell_type": "code",
      "source": [
        "nlp = spacy.load('en_core_web_md')"
      ],
      "metadata": {
        "id": "JK0Ce99g2fa5"
      },
      "execution_count": null,
      "outputs": []
    },
    {
      "cell_type": "code",
      "source": [
        "if spacy.__version__.startswith('2'):\n",
        "  nlp.add_pipe(benepar.BeneparComponent(\"benepar_en3\"))\n",
        "else:\n",
        "  nlp.add_pipe(\"benepar\", config={\"model\": \"benepar_en3\"})"
      ],
      "metadata": {
        "id": "ecGJB43s2vdr"
      },
      "execution_count": null,
      "outputs": []
    },
    {
      "cell_type": "markdown",
      "source": [
        "## import dataset"
      ],
      "metadata": {
        "id": "KHtURl1n40dW"
      }
    },
    {
      "cell_type": "code",
      "source": [
        "!pip install xmltodict"
      ],
      "metadata": {
        "colab": {
          "base_uri": "https://localhost:8080/"
        },
        "id": "oABRUIE940K-",
        "outputId": "49e15a05-6ca6-4eb2-c7f5-d03adb05fd34"
      },
      "execution_count": null,
      "outputs": [
        {
          "output_type": "stream",
          "name": "stdout",
          "text": [
            "Looking in indexes: https://pypi.org/simple, https://us-python.pkg.dev/colab-wheels/public/simple/\n",
            "Collecting xmltodict\n",
            "  Downloading xmltodict-0.13.0-py2.py3-none-any.whl (10.0 kB)\n",
            "Installing collected packages: xmltodict\n",
            "Successfully installed xmltodict-0.13.0\n"
          ]
        }
      ]
    },
    {
      "cell_type": "code",
      "source": [
        "import csv\n",
        "import xmltodict\n",
        "import numpy as np\n",
        "import nltk\n",
        "nltk.download('punkt')\n",
        "nltk.download('averaged_perceptron_tagger')"
      ],
      "metadata": {
        "colab": {
          "base_uri": "https://localhost:8080/"
        },
        "id": "hGzSwLR845ph",
        "outputId": "e9cf5804-b74d-4545-ac4f-0c100b91cfa3"
      },
      "execution_count": null,
      "outputs": [
        {
          "output_type": "stream",
          "name": "stderr",
          "text": [
            "[nltk_data] Downloading package punkt to /root/nltk_data...\n",
            "[nltk_data]   Unzipping tokenizers/punkt.zip.\n",
            "[nltk_data] Downloading package averaged_perceptron_tagger to\n",
            "[nltk_data]     /root/nltk_data...\n",
            "[nltk_data]   Unzipping taggers/averaged_perceptron_tagger.zip.\n"
          ]
        },
        {
          "output_type": "execute_result",
          "data": {
            "text/plain": [
              "True"
            ]
          },
          "metadata": {},
          "execution_count": 8
        }
      ]
    },
    {
      "cell_type": "code",
      "source": [],
      "metadata": {
        "id": "mZMhIQW25GTf"
      },
      "execution_count": null,
      "outputs": []
    },
    {
      "cell_type": "code",
      "source": [
        "with open(\"/content/0000 - cctns.xml\", \"r\") as file:\n",
        "  filedata = file.read()\n",
        "\n",
        "\n",
        "#convverting xml to python dictionary (ordered dict)\n",
        "data_dict = xmltodict.parse(filedata)"
      ],
      "metadata": {
        "id": "MOm-WG9em29p"
      },
      "execution_count": null,
      "outputs": []
    },
    {
      "cell_type": "code",
      "source": [
        "data_dict.keys()"
      ],
      "metadata": {
        "colab": {
          "base_uri": "https://localhost:8080/"
        },
        "id": "9lye4FyinQDE",
        "outputId": "566b2c9c-90e6-404e-ac16-c55dcb5db774"
      },
      "execution_count": null,
      "outputs": [
        {
          "output_type": "execute_result",
          "data": {
            "text/plain": [
              "dict_keys(['req_document'])"
            ]
          },
          "metadata": {},
          "execution_count": 10
        }
      ]
    },
    {
      "cell_type": "code",
      "source": [
        "data_dict = data_dict['req_document']"
      ],
      "metadata": {
        "id": "j7ZHGpUEnSP_"
      },
      "execution_count": null,
      "outputs": []
    },
    {
      "cell_type": "code",
      "source": [
        "data_dict.keys()"
      ],
      "metadata": {
        "colab": {
          "base_uri": "https://localhost:8080/"
        },
        "id": "hcSx-pFnnWmL",
        "outputId": "4e0ffcc2-2935-49d6-87de-5bc579cad3ec"
      },
      "execution_count": null,
      "outputs": [
        {
          "output_type": "execute_result",
          "data": {
            "text/plain": [
              "dict_keys(['@xsi:schemaLocation', '@xmlns:xsi', '@xmlns', 'title', 'version', 'p'])"
            ]
          },
          "metadata": {},
          "execution_count": 12
        }
      ]
    },
    {
      "cell_type": "code",
      "source": [
        "data_dict = data_dict['p']"
      ],
      "metadata": {
        "id": "acRwZEngnZee"
      },
      "execution_count": null,
      "outputs": []
    },
    {
      "cell_type": "code",
      "source": [
        "print((data_dict))\n",
        "print(len(data_dict))"
      ],
      "metadata": {
        "colab": {
          "base_uri": "https://localhost:8080/"
        },
        "id": "dSEGfi1kng7v",
        "outputId": "5285a0df-f6a0-4ed7-f547-a6c36f97f7b8"
      },
      "execution_count": null,
      "outputs": [
        {
          "output_type": "stream",
          "name": "stdout",
          "text": [
            "[{'@id': '1', 'title': 'INTRODUCTION', 'text_body': 'The Functional Requirements Specifications (FRS) report provides the detailed description of the functionalities required for the first version of the CCTNS. The key guiding principle behind the functional design of CCTNS V1.0 is to focus on the critical functionality that provides value to the police personnel at the cutting edge which in turn can improve the outcomes in the areas of “Investigation of Crime” and “Detection of Criminals”.'}, {'@id': '2', 'title': 'FUNCTIONAL OVERVIEW', 'text_body': 'CCTNS V1.0 functionality is designed to focus on delivering value to IOs, records room staff and citizens within the broad crime investigation area. Based on the guiding principles stated above, nine different function blocks have been identified and the detailed functionality of each block was determined.'}, {'@id': '3', 'title': 'DESCRIPTION OF THE MODULES AND FUNCTIONAL REQUIREMENTS', 'text_body': 'The functionality of the CCTNS application is focused on providing value to the police personnel, especially the officers operating at the cutting edge and easing the day to day operations of the police function.', 'p': [{'@id': '', 'title': 'Registration', 'text_body': 'Citizens can register their complaints with police and then based on the evidence, facts and following investigation, police shall take the complaint forward. The Registration module acts as an interface between the police and citizens and it eases the approach, interaction and information exchange between police and complainants.'}, {'@id': '', 'title': 'Investigation', 'text_body': 'After a complaint is initiated, police initiates the investigation process. The Investigation module of the CCTNS facilitates the investigation process and introduces operational efficiencies by automating most of the tasks that take place after initial entries are made during Registration.'}, {'@id': '', 'title': 'Prosecution', 'text_body': 'Interfacing with the courts during the prosecution of cases is an integral part of the responsibilities of police personnel. A designated constable from each police station constantly interfaces with the courts. The Prosecution module of the CCTNS aids this interfacing by providing a platform to record entries of the court interactions.'}, {'@id': '', 'title': 'Search', 'text_body': 'The Search module of the CCTNS gives police personnel the ability to execute a basic or advanced search on cases. Using the search functionality, police personnel can search for a particular person, type of crime, modus operandi, property etc. It also gives the user the ability to customize the results view by criminal/accused or by cases. It makes reporting easy for police by enabling them to execute different types of queries such as monthly reporting, RTI related etc.'}, {'@id': '', 'title': 'Citizen Interface', 'text_body': 'The Citizen Interface module of the CCTNS acts as a conduit for the information exchange between citizens and police units/personnel. Citizens can use it as a tool to get information or acknowledgements from police. The police in turn can use it to respond to citizens with very little turnaround time. It improves overall productivity by helping citizens and police to cut short the drudgery of large amounts of paperwork.'}, {'@id': '', 'title': 'Navigation', 'text_body': 'The Navigation module of the CCTNS provides role based landing pages which help in navigating through the CCTNS application. It shows information such as cases assigned, alerts, pending tasks etc hence helping police personnel to plan better and execute with greater efficiency.'}, {'@id': '', 'title': 'Application Configuration', 'text_body': 'The Configuration module of the CCTNS helps keep the application configured according to the states’ requirements in addition to keeping data elements/rules up to date. With a proper configuration, information such as act and sections, state specific data, castes, tribes, property information etc. can be created updated and deleted.\\n        The functional requirements for each of the modules are provided as A1 to A7 in separate enclosures.'}]}, {'@id': '4', 'title': 'NON-FUNCTIONAL REQUIREMENTS', 'text_body': 'The non-functional requirements specify the qualitative attributes such as user-friendliness and performance of the system that are critical for the increased user-acceptance of the application.', 'p': [{'@id': '', 'title': 'Help Module', 'req': [{'@id': '1', 'text_body': 'The solution should provide detailed context-sensitive help material for all the possible actions and scenarios on all user interfaces in the application.'}, {'@id': '2', 'text_body': 'The solution should provide detailed context-sensitive help material for all the possible actions and scenarios on all user interfaces in the application.'}]}, {'@id': '', 'title': None, 'req': [{'@id': '1', 'text_body': 'The solution should provide an interface for the user to log any defects or enhancement requests on the application and track thereafter.'}, {'@id': '2', 'text_body': 'The solution should send alerts (e.g., email, SMS) to the user if the user chooses to whenever any action has been taken on the alert.'}, {'@id': '3', 'text_body': 'The solution should enable the user to track the submitted defect or enhancement request.'}, {'@id': '4', 'text_body': 'The solution should enable the help-desk user to view the reports on the submitted defects or enhancement requests category-wise, status-wise, and age- wise.'}, {'@id': '5', 'text_body': 'The support solution should be accessible to the users both from within the application and also outside the application through a browser interface.'}]}, {'@id': '', 'title': 'Audit Module', 'req': [{'@id': '1', 'text_body': {'itemize': {'item': ['All the actions (create/read/update/delete) that are taken upon the critical entities (case, suspect, property,...) in the system', 'The user initiating and or carrying out the action;', 'The date and time of the event.', 'Administrative parameters']}, '#text': 'An audit trail is a record of actions taken by either the user or the system triggers. This includes actions taken by users or Administrators, or actions initiated automatically by the system as a result of system parameters. The System must keep an unalterable audit trail capable of automatically capturing and storing information about:\\n                \\n                The word “unalterable” is to mean that the audit trail data cannot be modified in any way or deleted by any user; it may be subject to re-department and copying to removable media if required, so long as its contents remain unchanged.'}}, {'@id': '2', 'text_body': 'Once the audit trail functionality has been activated, the System must track events without manual intervention, and store in the audit trail information about them.'}, {'@id': '3', 'text_body': 'The System must maintain the audit trail for as long as required, which will be at least for the life of the case to which it refers.'}, {'@id': '4', 'text_body': 'The System must ensure that audit trail data is available for inspection on request, so that a specific event can be identified and all related data made accessible, and that this can be achieved by authorised external personnel who have little or no familiarity with the system.'}, {'@id': '5', 'text_body': 'The System must be able to export audit trails for specified cases (without affecting the audit trail stored by the System). This functionality can be used by external auditors who wish to examine or analyse system activity.'}, {'@id': '6', 'text_body': 'The System must be able to capture and store violations (i.e. A user’s attempts to access a case to which he is denied access), and (where violations can validly be attempted) attempted violations, of access control mechanisms.'}, {'@id': '7', 'text_body': {'itemize': {'item': ['By case;', 'By user;', 'In chronological sequence.']}, '#text': 'The System must at a minimum be able to provide reports for actions on cases organised:'}}, {'@id': '8', 'text_body': 'The System should be able to provide reports for actions on cases organised by workstation and (where technically appropriate) by network address.'}]}, {'@id': '', 'title': 'Access Module', 'p': {'@id': '', 'text_body': 'The requirements specify the requirements to control the user access to correspondences, files, and records and various functionalities provided within the system.'}, 'req': [{'@id': '1', 'text_body': 'The System must allow the user to limit access to cases to specified users or user groups.'}, {'@id': '2', 'text_body': 'The system should provide for role-based control for the functionality within the system'}, {'@id': '3', 'text_body': 'The System must allow a user to be a member of more than one group.'}, {'@id': '4', 'text_body': 'The System must allow only admin-users to set up user profiles and allocate users to groups.'}, {'@id': '5', 'text_body': 'The System should allow a user to stipulate which other users or groups can access cases.'}, {'@id': '6', 'text_body': 'The System must allow changes to security attributes for groups or users (such as access rights, security level, privileges, password allocation and management) to be made only by super-user.'}, {'@id': '7', 'text_body': {'itemize': {'item': ['display title and metadata;', 'display the existence of a case but not its title or other metadata;', 'do not display any case information or indicate its existence in any way.']}, '#text': 'If a user requests access to, or searches for, a case which he does not have the right to access, the System must provide one of the following responses (selectable at configuration time):\\n            \\n            These options are presented in order of increasing security. Note that the requirement in the third option (i.e. the most stringent) implies that the System must not include such cases in any count of search results; this level of security is normally appropriate for cases dealing with matters such as national security.'}}, {'@id': '8', 'text_body': 'If a user performs a quick or advanced search, the System must never include in the search result list any record which the user does not have the right to access.'}, {'@id': '9', 'text_body': 'If the System allows users to make unauthorised attempts to access cases, it must log these in the audit trail.'}, {'@id': '10', 'text_body': 'Any access to cases, and all other activities involving the cases and related documents or data should also need to be stored in the audit trail to ensure legal admissibility and to assist in data recovery.'}]}, {'@id': '', 'title': 'Ease of Use', 'req': [{'@id': '1', 'text_body': 'All error messages produced by the System must be meaningful, so that they can be appropriately acted upon by the users who are likely to see them. Ideally, each error message will be accompanied by explanatory text and an indication of the action(s) which the user can take in response to the error.'}, {'@id': '2', 'text_body': 'The System must employ a single set of user interface rules, or a small number of sets to provide a familiar and common look and feel for the application.'}, {'@id': '3', 'text_body': 'The System must be able to display several entities (cases, suspects) simultaneously.'}, {'@id': '4', 'text_body': 'The interfaces must be made customizable or user-configurable to the extent possible. (e.g., the displayed columns in the table, move, resize, modify the appearance). Such configurations must be saved in the user profile.'}, {'@id': '5', 'text_body': 'The System user interface must be suitable for users with special needs; that is, compatible with specialist software that may be used and with appropriate interface guidelines'}, {'@id': '6', 'text_body': 'The System must provide End User and Administrator functions which are easy to use and intuitive throughout.'}, {'@id': '7', 'text_body': {'itemize': {'item': ['user-definable values;', 'values same as previous item;', 'values derived from context, e.g. date, file reference, user identifier;']}, '#text': 'The System must allow persistent defaults for data entry where desirable. These defaults should include:'}}, {'@id': '8', 'text_body': 'Frequently-executed System transactions must be designed so that they can be completed with a small number of interactions (e.g. mouse clicks).'}, {'@id': '9', 'text_body': {'itemize': {'item': ['menu contents;', 'layout of screens;', 'use of function keys;', 'on-screen colours, fonts and font sizes;']}, '#text': 'Where the System employs a graphical user interface, it must allow users to customise it. Customisation should include, but need not be limited to the following changes:'}}]}, {'@id': '', 'title': 'Usability', 'req': [{'@id': '1', 'text_body': 'The user interfaces should be designed to make them user-intuitive.'}, {'@id': '2', 'text_body': 'The user interfaces of the system should comply with Standard ISO 9241.'}, {'@id': '3', 'text_body': 'ICT accessibility: ISO 9241-20 shall be the standard for guidance on ICT accessibility. Application user interfaces to meet its requirements and recommendations. Software accessibility ISO 9241-171 shall be the standard for guidance on software accessibility. User interfaces should meet its requirements and recommendations. Content accessibility WCAG 1.0 shall be the standard used for guidance on content accessibility. The application logo to be available on all pages as a link to the home page.'}, {'@id': '4', 'text_body': 'Providing text equivalents for non-text media objects: All non-text media objects, such as graphical images or video, should be provided with alternative equivalent textual descriptions and/or with equivalent text-based functionality.'}, {'@id': '5', 'text_body': 'Making navigation self-descriptive: Navigation should be designed to help users understand where they are, where they have been and where they can go next. General guidance on achieving self-descriptiveness is given in ISO 9241-110.'}, {'@id': '6', 'text_body': 'Showing users where they are: Each presentation segment (page or window) should provide the user with a clear and sufficient indication of where he or she is in the navigation structure and of the current segment position with respect to the overall structure.'}, {'@id': '7', 'text_body': 'Offering alternative access paths: Alternative access paths for navigating to a specific unit of content should be offered to support different navigation strategies.'}, {'@id': '8', 'text_body': 'Minimizing navigation effort: The number of navigation steps needed to reach a certain piece of content should be minimized as long as different mental models, navigation strategies and tasks of the user are taken into account.'}, {'@id': '9', 'text_body': 'Splash screens should be avoided unless they provide useful content or feedback about the application state to the user. If a splash screen is used, a navigation option to skip it should be offered.'}, {'@id': '10', 'text_body': 'Avoiding opening unnecessary windows: Additional windows such as new browser windows or pop-up windows should only be opened if this supports the user’s task. Opening new windows can distract, confuse or impede users for a variety of reasons. They can superimpose the primary window, hiding relevant information. They could make it cognitively more difficult to understand the navigation structure with negative effects on both usability and accessibility. They also require additional user actions for closing unwanted windows.'}, {'@id': '11', 'text_body': 'Vertical scrolling should be minimized. This may be done by placing important information at the top and providing links to information that is further down the page. Horizontal scrolling should be avoided wherever possible.'}, {'@id': '12', 'text_body': 'Designing for input device independence: User interfaces should be designed to allow activation of controls by a variety of input devices. The ability to choose between different input devices for activating controls such as links, fields and buttons is important both for users who prefer a certain input mode, mobile users and users with disabilities. In general, device independence can be achieved if the functionality is operable via a keyboard.'}, {'@id': '13', 'text_body': 'Making user interfaces robust: User interfaces should be designed to be as robust as possible in the face of changing technology. This encompasses being able to present content containing newer technologies by older user agents as well as designing content to be usable with future technologies.'}, {'@id': '14', 'text_body': 'Acceptable opening / download times: Application pages should be designed and implemented so that there are acceptable opening times and download times for the expected range of technical contexts of use (e.g. bandwidth between the application and the user). This is particularly important for frequently accessed pages or pages that are important for user navigation and exploration, such as the home page.'}, {'@id': '15', 'text_body': 'Minimizing user errors: Potential user errors as well as the effort needed to recover from errors should be minimized.'}, {'@id': '16', 'text_body': 'Providing clear error messages: The content of error messages shown on the pages or special error pages should clearly state the reason why the error occurred and, if possible, actions the user can take to resolve the error. Users expect error messages to be in the same language as the user interface.'}, {'@id': '17', 'text_body': 'Using appropriate formats, units of measurement or currency: When designing user interfaces for use by diverse groups, input and output of information elements such as currency, units of measurement, temperatures, date and time, phone numbers, address or postal codes should be designed so that they are usable.'}, {'@id': '18', 'text_body': 'Making text resizable by the user: Text should be able to be resized by the user, using functions provided by the user agent or other appropriate means i.e. see ISO 9241-171.'}, {'@id': '19', 'text_body': 'Text quality: The quality of textual content with respect to spelling and grammar should be sufficient so as not to impede readability.'}, {'@id': '20', 'text_body': 'Writing style: The reading and understanding of the textual content on the screen should be supported by suitable means, including the use of short sentences, the division of the text into shorter chunks or the presentation of content items in the form of bullet points.'}, {'@id': '21', 'text_body': 'Supporting text skimming: Fast skimming of text should be supported by the provision of clear links, bulleted lists, highlighted keywords, logical headings, and short phrases and sentences.'}, {'@id': '22', 'text_body': 'Readability of text: Text presented on the pages should be readable taking into account the expected display characteristics and spatial arrangement. ISO 9241-303 shall be consulted for screen text legibility requirements.'}, {'@id': '23', 'text_body': 'Distinguishable within-page links: Within-page links should be clearly distinguishable from other links that lead to a different page. EX. Within-page links are shown with dashed rather than solid underlines'}, {'@id': '24', 'text_body': 'Avoiding link overload: Text pages containing large proportions of links should be formatted so that the presence of links does not impede the readability of the text.'}, {'@id': '25', 'text_body': 'Using familiar terminology for navigation links: Navigation links — particularly links representing the main navigation structure — should be labelled with terms that are familiar to the user, based on his/her general knowledge, prior experience in the application domain or experience of using other systems.'}, {'@id': '26', 'text_body': 'Using descriptive link labels: The target or purpose of a link should be directly indicated by its label, avoiding generic labels such as “go” or “click here” except where the purpose of the link is clear from its context on the page or the labels have commonly understood semantics in the particular application domain. Using appropriate terminology specific to the user’s tasks and information needs is important for making the content easy to understand.'}, {'@id': '27', 'text_body': 'Marking links opening new windows: Links that open new browser windows or pop-up windows should be clearly marked.'}, {'@id': '28', 'text_body': 'Distinguishing navigation links from controls: Navigation links should be clearly distinguishable from controls activating some action. Typical action types in user interfaces include manipulating application data, performing searches, communication actions, such as opening a new e-mail window or starting a chat function, and presentation-related actions, such as sorting a list of search results.'}, {'@id': '29', 'text_body': 'Providing printable document versions: If a document is either too long, dispersed over several pages or in a specific layout that is not suitable for online reading, a printer-friendly version of the document should be provided that prints the content in a form acceptable to the user (e.g. in the expected layout, paper format, or orientation).'}, {'@id': '30', 'text_body': 'Use of “white space”: “White space” on a page i.e. space filled only with the background color should be used in such a way that it does not impair the visual skimming of the page. While white space is an important means of visually organizing the different content elements on a page, if the distance between the blocks of information displayed becomes too large, rapid skimming of the page can be impeded.'}, {'@id': '31', 'text_body': 'Selecting appropriate page lengths The length of a page should be selected so as to support the primary purpose and use of the page. Short pages are generally more appropriate for homepages, navigation pages, or overview pages that need to be read quickly. Longer pages can be more appropriate when users want to read the content without interruptions or when the page needs to match a paper counterpart.'}, {'@id': '32', 'text_body': 'Using colour: Colour should be used with care, taking into account human capabilities and restrictions in perceiving colour, and not as the only means of conveying information. Color should never be the only means of coding. Some users may have difficulties in perceiving certain colors or color combinations (color-blindness).'}, {'@id': '33', 'text_body': 'Using frames with care: If frames are used, care should be taken to avoid possible problems, for example, those involving the use of the back button, bookmarking of pages, or scrolling of information. When frames are used, it is important to title each frame, and to describe its purpose and how frames relate to one another other.'}, {'@id': '34', 'text_body': 'Providing alternatives to frame-based presentation: If frames are used, an alternative way of presenting relevant information without frames should be provided. Providing alternative text-only pages: When style sheets and/or frames are turned off it should be possible for the user to read and understand the page; alternatively, the user should be provided with an equivalent alternative text-only page.'}, {'@id': '35', 'text_body': 'Consistent page layout: Pages should be designed using consistent layout schemes, supporting the user in finding similar information at the same position on different pages. Overall layout schemes apply to all pages and are preferable when all pages have a similar structure. Frequently, however, different pages have different purposes and types of content. In such cases, pages can usually be grouped in different categories, using one layout scheme for each category consistently.'}, {'@id': '36', 'text_body': 'Placing title information consistently: Page titles should be placed in a consistent location on the different pages.'}, {'@id': '37', 'text_body': 'Observing principles of human perception When designing application pages, the general principles of human perception should be taken into account. The International Standards mentioned below shall be consulted for guidance. Practical guidelines for presenting information to the user are to be found in ISO 9241-12. Guidance on selecting and using different forms of interaction techniques is to be found in ISO 9241-14 to ISO 9241-17. ISO 9241-14 gives guidance about menus, ISO 9241-15 about command dialogues, ISO 9241-16 about direct manipulation and ISO 9241-17 about forms. In addition, when designing multimedia information presentations, the design principles and recommendations described in ISO 14915-1 to ISO 14915-3 should be taken into account. Appropriate content presentation also plays a key role in accessibility.'}, {'@id': '38', 'text_body': 'Linking back to the home page or landmark pages: Each page should contain a link leading to the home page of the application or to a landmark page that is easy to recognize for the user.'}, {'@id': '39', 'text_body': 'Providing a site map: A separate navigation overview such as a site map should be provided for application showing the structure of the site in an overview form.'}, {'@id': '40', 'text_body': 'Consistency between navigation components and content: If navigation components (or overviews) are shown in conjunction with associated content, consistency between the navigation component and the content shown should be maintained by indicating in the navigation component (e.g. highlighting) the topic currently visible in the content area.'}, {'@id': '41', 'text_body': 'Placing navigation components consistently: Navigation components should be placed consistently on the pages or in the framesets in the pages of the application.'}, {'@id': '42', 'text_body': 'Individualization and user adaptation : Adapting the content and the navigation of a user interface to individual users or user groups can be a useful mechanism for providing information that is of interest to the users and for making access to relevant information more efficient. User adaptation can also be important for making the user interface more accessible. Different approaches can be used for achieving these goals, like providing users with means for customizing the user interface to their personal needs i.e. individualization designing content and navigation differently for varying user groups or roles i.e. such as employees of different levels, citizens etc, monitoring the user’s behaviour and adapting to the user’s goals that are inferred from the behaviour observed, recommending information that is potentially more relevant or interesting to the specific user, based on the behaviour of all users or a user group.'}, {'@id': '43', 'text_body': 'Taking account of the users’ tasks and information needs: When providing different access paths or navigation structures for different user groups, the tasks and information needs of these user groups should be taken into consideration.'}, {'@id': '44', 'text_body': 'Making individualization and adaptation evident: It should be made evident to the user when individualization and/or adaptation are used.'}, {'@id': '45', 'text_body': 'Making user profiles evident: If predefined user profiles or user-specified profiles are used for individualizing or adapting content, the profile currently used should be made evident. If profiles are used, it is important to provide users with information about this concept and its implications.'}, {'@id': '46', 'text_body': 'Allowing users to see and change profiles: If user-specified profiles are used, users should be able to see, modify and delete that profile on demand.'}, {'@id': '47', 'text_body': 'The user interfaces of the system should follow the guidelines specified under www.usability.gov'}]}, {'@id': '', 'title': 'System Availability', 'req': [{'@id': '1', 'text_body': {'itemize': {'item': ['from <xx:00> to <xx:00>;', 'on <all weekdays/xxx days per year>.']}, '#text': 'The System must be available to users:'}}, {'@id': '2', 'text_body': 'The planned downtime for the System must not exceed <xx> hours per <rolling three month period>.\\n           The System is considered to be down if any user is unable to perform any normal System function and if this failure is attributed to any component of the System other than the workstation.'}, {'@id': '3', 'text_body': 'Unplanned downtime for the System must not exceed <xx hours/minutes> per <rolling three month period>.'}, {'@id': '4', 'text_body': 'The number of incidents of unplanned downtime for the System must not exceed <x> per <rolling three month period>.'}, {'@id': '5', 'text_body': 'In the event of any software or hardware failure, it must be possible to restore the System (with inline synchronization) within no more than <xx> hours.'}]}, {'@id': '', 'title': 'Performance and Scalability', 'req': [{'@id': '1', 'text_body': 'The System must provide adequate response times for commonly performed functions under both standard and peak conditions'}, {'@id': '2', 'text_body': 'The System must be able to perform a simple search within 5-8 seconds and a advanced search (multiple search criteria) within 10-15 seconds regardless of the storage capacity or number of cases in the system. In this context, performing a search means returning a result list. It does not include retrieving the records themselves.'}, {'@id': '3', 'text_body': 'The System must be able to retrieve and display within 5-8 seconds the case which has been accessed within the previous 2 months, regardless of storage capacity or number of cases in the system. This requirement is intended to allow for rapid retrieval of frequently-used cases, on the understanding that frequency of use is typically correlated with recent use.'}, {'@id': '4', 'text_body': 'The System must be able to retrieve and display within 20 seconds the case which has not been accessed within the previous 2 months, regardless of storage capacity or number of cases in the system. This requirement is intended to allow for cases where cases used infrequently are stored on slower media than more active records.'}, {'@id': '5', 'text_body': 'The System be scaleable and must not have any features which would preclude use in small or large police stations, with varying numbers of cases handled.'}]}]}, {'@id': '5', 'title': 'FUNCTIONAL ARCHITECTURE RECOMMENDATIONS', 'text_body': 'The proposed functional architecture is modeled around centralized deployment to facilitate ease of maintenance and leverage advancement in open standards and web technologies.\\n        The 3 C’s (Core-Configuration-Customization) forms the guiding principle for the architecture. The functional architecture of the CCTNS solution is given in the figure below. The functional architecture is composed of 4 major components based on SOA principles. Each of the components contains multiple services as defined by Service Definition. The core services, support layer and security and access control components can be deployed as standard components with necessary configuration changes. The customization layer can override and add to the core services based on the specific state requirements and can be plugged with the core services.\\n        The deployment of the application will be at state level and will be configured and customized as per the state specific extensions.\\n        The systems should be designed with the following broad guidelines:', 'p': {'@id': '', 'title': 'System Functionality', 'req': [{'@id': '1', 'text_body': 'The system should support multilingual interface'}, {'@id': '2', 'text_body': 'The system should be designed in manner that operational data is not lost in case of any\\n                failure of equipment or communication network.'}, {'@id': '3', 'text_body': 'The system should work even in an offline mode with the critical functionality'}, {'@id': '4', 'text_body': 'The system should be designed to have satisfactory performance even in Police Stations\\n                connected on low-bandwidth'}, {'@id': '5', 'text_body': 'The system should be implemented using Service Oriented Architecture (SOA) and have a\\n                modular design'}, {'@id': '6', 'text_body': 'The system should be developed on Open Standards'}, {'@id': '7', 'text_body': 'The system should be built on a common User Access and Authentication Service to\\n                ensure Single-Sign on for the end-user'}, {'@id': '8', 'text_body': 'The system should be developed for a centralized deployment and maintenance'}, {'@id': '9', 'text_body': 'The system should be developed to be deployed in a 3-tier datacenter architecture'}, {'@id': '10', 'text_body': 'The system should be designed to have a n-tier architecture with the presentation logic\\n                separated from the business logic that is again separated from the data-access logic'}, {'@id': '11', 'text_body': 'The system should be extensible to provide access to the interfaces through PDA’s and\\n                mobile data terminals'}, {'@id': '12', 'text_body': 'The system should adopt standardized formats and common metadata elements'}, {'@id': '13', 'text_body': 'The system should be designed for access through browser-based systems and must\\n                impose minimal requirements on the client device'}, {'@id': '14', 'text_body': 'The system must support multiple types of communication services for remote access'}, {'@id': '15', 'text_body': 'The system should have capability to support public access to a subset of data and\\n                functionality'}, {'@id': '16', 'text_body': 'The system should support multi-tier authentication where required'}, {'@id': '17', 'text_body': 'The system should support SSL encrypted connections'}, {'@id': '18', 'text_body': 'The system should support secure virtual private network connections'}, {'@id': '19', 'text_body': 'The system should use HTTPS as the communication protocol, i.e., HTTP over an encrypted secure socket layer (SSL)'}, {'@id': '20', 'text_body': 'The system should run on multiple browsers'}, {'@id': '21', 'text_body': 'The system should support selective encryption of the stored data'}, {'@id': '22', 'text_body': 'The system should ensure secure transmission of data over the network and utilize SSL and 2-way digital signatures'}, {'@id': '23', 'text_body': {'enum': {'item': ['Prevent cross-site scripting', 'Validate the incoming data / user request', 'Encode the incoming data / user request', 'Prevent SQL Injection', 'Utilize parameterized queries', 'Sanitize the user-inputs', 'Validate the data both at the client and server', 'Do not allow hard delete and perform only soft tagging the row for deletion']}, '#text': 'The system should ensure high standards of security and access control through:'}}, {'@id': '24', 'text_body': {'enum': {'item': ['Use of cache for storing frequent data', 'Use of AJAX based technology to improve user experience. Aggressive page loading to be considered based on the screen and estimate usage pattern', 'Leverage Asynchronous HTTP socket capabilities of web server for scalability and performance', 'Host all the static content (documents, images) on the web server', 'The search results should be fetched from the database in batches of 10 or 20 maximum\\n                    as configured within the application', 'Display of records on the screen in batches/paged manner', 'The search should fetch only the fields that need to be displayed to the user. Only when\\n                    the user clicks on a particular record to view its further details should a query be fired to\\n                    fetch the additional details for this particular record only', 'A hierarchical cache should be configured and used for caching of results of most frequently used searches', 'Database Indexes should be applied on the key columns used for searching']}, '#text': 'The system should ensure high scalability and performance through:'}}]}}]\n",
            "5\n"
          ]
        }
      ]
    },
    {
      "cell_type": "code",
      "source": [
        "for item in data_dict:\n",
        "  print(item.keys())"
      ],
      "metadata": {
        "colab": {
          "base_uri": "https://localhost:8080/"
        },
        "id": "gSkU5HilnjYO",
        "outputId": "d37ff1c7-d9de-483b-f7b4-e7928ba529f7"
      },
      "execution_count": null,
      "outputs": [
        {
          "output_type": "stream",
          "name": "stdout",
          "text": [
            "dict_keys(['@id', 'title', 'text_body'])\n",
            "dict_keys(['@id', 'title', 'text_body'])\n",
            "dict_keys(['@id', 'title', 'text_body', 'p'])\n",
            "dict_keys(['@id', 'title', 'text_body', 'p'])\n",
            "dict_keys(['@id', 'title', 'text_body', 'p'])\n"
          ]
        }
      ]
    },
    {
      "cell_type": "code",
      "source": [
        "sens = []\n",
        "data = []"
      ],
      "metadata": {
        "id": "mLvlQSGvn2hL"
      },
      "execution_count": null,
      "outputs": []
    },
    {
      "cell_type": "code",
      "source": [
        "for item in data_dict:\n",
        "  for value in item.keys():\n",
        "    if value == 'p':\n",
        "      data.append(item['p'])"
      ],
      "metadata": {
        "id": "MQnlI55JoAMF"
      },
      "execution_count": null,
      "outputs": []
    },
    {
      "cell_type": "code",
      "source": [
        "data = data[0]"
      ],
      "metadata": {
        "id": "BO0PVs3RoLWV"
      },
      "execution_count": null,
      "outputs": []
    },
    {
      "cell_type": "code",
      "source": [
        "data"
      ],
      "metadata": {
        "colab": {
          "base_uri": "https://localhost:8080/"
        },
        "id": "3KmrfsZRoWZC",
        "outputId": "6f5136bb-f5e1-4db3-d517-a9844e915307"
      },
      "execution_count": null,
      "outputs": [
        {
          "output_type": "execute_result",
          "data": {
            "text/plain": [
              "[{'@id': '',\n",
              "  'title': 'Registration',\n",
              "  'text_body': 'Citizens can register their complaints with police and then based on the evidence, facts and following investigation, police shall take the complaint forward. The Registration module acts as an interface between the police and citizens and it eases the approach, interaction and information exchange between police and complainants.'},\n",
              " {'@id': '',\n",
              "  'title': 'Investigation',\n",
              "  'text_body': 'After a complaint is initiated, police initiates the investigation process. The Investigation module of the CCTNS facilitates the investigation process and introduces operational efficiencies by automating most of the tasks that take place after initial entries are made during Registration.'},\n",
              " {'@id': '',\n",
              "  'title': 'Prosecution',\n",
              "  'text_body': 'Interfacing with the courts during the prosecution of cases is an integral part of the responsibilities of police personnel. A designated constable from each police station constantly interfaces with the courts. The Prosecution module of the CCTNS aids this interfacing by providing a platform to record entries of the court interactions.'},\n",
              " {'@id': '',\n",
              "  'title': 'Search',\n",
              "  'text_body': 'The Search module of the CCTNS gives police personnel the ability to execute a basic or advanced search on cases. Using the search functionality, police personnel can search for a particular person, type of crime, modus operandi, property etc. It also gives the user the ability to customize the results view by criminal/accused or by cases. It makes reporting easy for police by enabling them to execute different types of queries such as monthly reporting, RTI related etc.'},\n",
              " {'@id': '',\n",
              "  'title': 'Citizen Interface',\n",
              "  'text_body': 'The Citizen Interface module of the CCTNS acts as a conduit for the information exchange between citizens and police units/personnel. Citizens can use it as a tool to get information or acknowledgements from police. The police in turn can use it to respond to citizens with very little turnaround time. It improves overall productivity by helping citizens and police to cut short the drudgery of large amounts of paperwork.'},\n",
              " {'@id': '',\n",
              "  'title': 'Navigation',\n",
              "  'text_body': 'The Navigation module of the CCTNS provides role based landing pages which help in navigating through the CCTNS application. It shows information such as cases assigned, alerts, pending tasks etc hence helping police personnel to plan better and execute with greater efficiency.'},\n",
              " {'@id': '',\n",
              "  'title': 'Application Configuration',\n",
              "  'text_body': 'The Configuration module of the CCTNS helps keep the application configured according to the states’ requirements in addition to keeping data elements/rules up to date. With a proper configuration, information such as act and sections, state specific data, castes, tribes, property information etc. can be created updated and deleted.\\n        The functional requirements for each of the modules are provided as A1 to A7 in separate enclosures.'}]"
            ]
          },
          "metadata": {},
          "execution_count": 19
        }
      ]
    },
    {
      "cell_type": "code",
      "source": [
        "for item in data:\n",
        "  for value in item.keys():\n",
        "    if value == 'text_body':\n",
        "      sens.append(item['text_body'])"
      ],
      "metadata": {
        "id": "Xe-J9xZkoVqs"
      },
      "execution_count": null,
      "outputs": []
    },
    {
      "cell_type": "code",
      "source": [
        "sens"
      ],
      "metadata": {
        "colab": {
          "base_uri": "https://localhost:8080/"
        },
        "id": "DMX8B0Ppo52c",
        "outputId": "c59e2ddf-5d28-4b3f-c976-30d3fc2a3a5f"
      },
      "execution_count": null,
      "outputs": [
        {
          "output_type": "execute_result",
          "data": {
            "text/plain": [
              "['Citizens can register their complaints with police and then based on the evidence, facts and following investigation, police shall take the complaint forward. The Registration module acts as an interface between the police and citizens and it eases the approach, interaction and information exchange between police and complainants.',\n",
              " 'After a complaint is initiated, police initiates the investigation process. The Investigation module of the CCTNS facilitates the investigation process and introduces operational efficiencies by automating most of the tasks that take place after initial entries are made during Registration.',\n",
              " 'Interfacing with the courts during the prosecution of cases is an integral part of the responsibilities of police personnel. A designated constable from each police station constantly interfaces with the courts. The Prosecution module of the CCTNS aids this interfacing by providing a platform to record entries of the court interactions.',\n",
              " 'The Search module of the CCTNS gives police personnel the ability to execute a basic or advanced search on cases. Using the search functionality, police personnel can search for a particular person, type of crime, modus operandi, property etc. It also gives the user the ability to customize the results view by criminal/accused or by cases. It makes reporting easy for police by enabling them to execute different types of queries such as monthly reporting, RTI related etc.',\n",
              " 'The Citizen Interface module of the CCTNS acts as a conduit for the information exchange between citizens and police units/personnel. Citizens can use it as a tool to get information or acknowledgements from police. The police in turn can use it to respond to citizens with very little turnaround time. It improves overall productivity by helping citizens and police to cut short the drudgery of large amounts of paperwork.',\n",
              " 'The Navigation module of the CCTNS provides role based landing pages which help in navigating through the CCTNS application. It shows information such as cases assigned, alerts, pending tasks etc hence helping police personnel to plan better and execute with greater efficiency.',\n",
              " 'The Configuration module of the CCTNS helps keep the application configured according to the states’ requirements in addition to keeping data elements/rules up to date. With a proper configuration, information such as act and sections, state specific data, castes, tribes, property information etc. can be created updated and deleted.\\n        The functional requirements for each of the modules are provided as A1 to A7 in separate enclosures.']"
            ]
          },
          "metadata": {},
          "execution_count": 21
        }
      ]
    },
    {
      "cell_type": "code",
      "source": [
        "hasil = []\n",
        "for sub in sens:\n",
        "  hasil.append(sub.replace(\"\\n\", \"\"))"
      ],
      "metadata": {
        "id": "UkJeidHgo50E"
      },
      "execution_count": null,
      "outputs": []
    },
    {
      "cell_type": "code",
      "source": [
        "temp = []\n",
        "for value in hasil:\n",
        "  temp.append(value.split('. '))"
      ],
      "metadata": {
        "id": "j6_JgwUwpKhG"
      },
      "execution_count": null,
      "outputs": []
    },
    {
      "cell_type": "code",
      "source": [
        "sentences = []\n",
        "for value in temp:\n",
        "  for item in value:\n",
        "    sentences.append(item)\n"
      ],
      "metadata": {
        "id": "Vewv1maZpePB"
      },
      "execution_count": null,
      "outputs": []
    },
    {
      "cell_type": "code",
      "source": [
        "print(np.array(sentences))"
      ],
      "metadata": {
        "colab": {
          "base_uri": "https://localhost:8080/"
        },
        "id": "NC48CyivpzRU",
        "outputId": "154fbc13-e90d-490c-d5bc-33265c48009a"
      },
      "execution_count": null,
      "outputs": [
        {
          "output_type": "stream",
          "name": "stdout",
          "text": [
            "['Citizens can register their complaints with police and then based on the evidence, facts and following investigation, police shall take the complaint forward'\n",
            " 'The Registration module acts as an interface between the police and citizens and it eases the approach, interaction and information exchange between police and complainants.'\n",
            " 'After a complaint is initiated, police initiates the investigation process'\n",
            " 'The Investigation module of the CCTNS facilitates the investigation process and introduces operational efficiencies by automating most of the tasks that take place after initial entries are made during Registration.'\n",
            " 'Interfacing with the courts during the prosecution of cases is an integral part of the responsibilities of police personnel'\n",
            " 'A designated constable from each police station constantly interfaces with the courts'\n",
            " 'The Prosecution module of the CCTNS aids this interfacing by providing a platform to record entries of the court interactions.'\n",
            " 'The Search module of the CCTNS gives police personnel the ability to execute a basic or advanced search on cases'\n",
            " 'Using the search functionality, police personnel can search for a particular person, type of crime, modus operandi, property etc'\n",
            " 'It also gives the user the ability to customize the results view by criminal/accused or by cases'\n",
            " 'It makes reporting easy for police by enabling them to execute different types of queries such as monthly reporting, RTI related etc.'\n",
            " 'The Citizen Interface module of the CCTNS acts as a conduit for the information exchange between citizens and police units/personnel'\n",
            " 'Citizens can use it as a tool to get information or acknowledgements from police'\n",
            " 'The police in turn can use it to respond to citizens with very little turnaround time'\n",
            " 'It improves overall productivity by helping citizens and police to cut short the drudgery of large amounts of paperwork.'\n",
            " 'The Navigation module of the CCTNS provides role based landing pages which help in navigating through the CCTNS application'\n",
            " 'It shows information such as cases assigned, alerts, pending tasks etc hence helping police personnel to plan better and execute with greater efficiency.'\n",
            " 'The Configuration module of the CCTNS helps keep the application configured according to the states’ requirements in addition to keeping data elements/rules up to date'\n",
            " 'With a proper configuration, information such as act and sections, state specific data, castes, tribes, property information etc'\n",
            " 'can be created updated and deleted'\n",
            " '       The functional requirements for each of the modules are provided as A1 to A7 in separate enclosures.']\n"
          ]
        }
      ]
    },
    {
      "cell_type": "code",
      "source": [
        "import string\n",
        "for x in range(len(sentences)):\n",
        "  sentences[x] = sentences[x].translate(str.maketrans('', '', string.punctuation))"
      ],
      "metadata": {
        "id": "fgl57DpdekWo"
      },
      "execution_count": null,
      "outputs": []
    },
    {
      "cell_type": "code",
      "source": [
        "sentences"
      ],
      "metadata": {
        "colab": {
          "base_uri": "https://localhost:8080/"
        },
        "id": "0Df-tbPin3xa",
        "outputId": "feabb043-337f-46b9-c39e-0bce8e8fdabd"
      },
      "execution_count": null,
      "outputs": [
        {
          "output_type": "execute_result",
          "data": {
            "text/plain": [
              "['Citizens can register their complaints with police and then based on the evidence facts and following investigation police shall take the complaint forward',\n",
              " 'The Registration module acts as an interface between the police and citizens and it eases the approach interaction and information exchange between police and complainants',\n",
              " 'After a complaint is initiated police initiates the investigation process',\n",
              " 'The Investigation module of the CCTNS facilitates the investigation process and introduces operational efficiencies by automating most of the tasks that take place after initial entries are made during Registration',\n",
              " 'Interfacing with the courts during the prosecution of cases is an integral part of the responsibilities of police personnel',\n",
              " 'A designated constable from each police station constantly interfaces with the courts',\n",
              " 'The Prosecution module of the CCTNS aids this interfacing by providing a platform to record entries of the court interactions',\n",
              " 'The Search module of the CCTNS gives police personnel the ability to execute a basic or advanced search on cases',\n",
              " 'Using the search functionality police personnel can search for a particular person type of crime modus operandi property etc',\n",
              " 'It also gives the user the ability to customize the results view by criminalaccused or by cases',\n",
              " 'It makes reporting easy for police by enabling them to execute different types of queries such as monthly reporting RTI related etc',\n",
              " 'The Citizen Interface module of the CCTNS acts as a conduit for the information exchange between citizens and police unitspersonnel',\n",
              " 'Citizens can use it as a tool to get information or acknowledgements from police',\n",
              " 'The police in turn can use it to respond to citizens with very little turnaround time',\n",
              " 'It improves overall productivity by helping citizens and police to cut short the drudgery of large amounts of paperwork',\n",
              " 'The Navigation module of the CCTNS provides role based landing pages which help in navigating through the CCTNS application',\n",
              " 'It shows information such as cases assigned alerts pending tasks etc hence helping police personnel to plan better and execute with greater efficiency',\n",
              " 'The Configuration module of the CCTNS helps keep the application configured according to the states’ requirements in addition to keeping data elementsrules up to date',\n",
              " 'With a proper configuration information such as act and sections state specific data castes tribes property information etc',\n",
              " 'can be created updated and deleted',\n",
              " '       The functional requirements for each of the modules are provided as A1 to A7 in separate enclosures']"
            ]
          },
          "metadata": {},
          "execution_count": 27
        }
      ]
    },
    {
      "cell_type": "code",
      "source": [
        "type(sentences[0])"
      ],
      "metadata": {
        "colab": {
          "base_uri": "https://localhost:8080/"
        },
        "id": "dsp4Eyb05vEv",
        "outputId": "574c138f-6ec3-4dd3-eb54-0188edb88292"
      },
      "execution_count": null,
      "outputs": [
        {
          "output_type": "execute_result",
          "data": {
            "text/plain": [
              "str"
            ]
          },
          "metadata": {},
          "execution_count": 28
        }
      ]
    },
    {
      "cell_type": "markdown",
      "source": [
        "## tokenizing dan pos tagging sentence"
      ],
      "metadata": {
        "id": "nDJi8pX79kK8"
      }
    },
    {
      "cell_type": "code",
      "source": [
        "doc = []\n",
        "for x in range(len(sentences)):\n",
        "  doc__ = nlp(sentences[x])\n",
        "  doc.append(doc__)"
      ],
      "metadata": {
        "colab": {
          "base_uri": "https://localhost:8080/"
        },
        "id": "KAPWuL-V6C6D",
        "outputId": "df3014b3-7894-41da-d96a-f40af1c7b72f"
      },
      "execution_count": null,
      "outputs": [
        {
          "output_type": "stream",
          "name": "stderr",
          "text": [
            "You're using a T5TokenizerFast tokenizer. Please note that with a fast tokenizer, using the `__call__` method is faster than using a method to encode the text followed by a call to the `pad` method to get a padded encoding.\n",
            "/usr/local/lib/python3.8/dist-packages/torch/distributions/distribution.py:45: UserWarning: <class 'torch_struct.distributions.TreeCRF'> does not define `arg_constraints`. Please set `arg_constraints = {}` or initialize the distribution with `validate_args=False` to turn off validation.\n",
            "  warnings.warn(f'{self.__class__} does not define `arg_constraints`. ' +\n"
          ]
        }
      ]
    },
    {
      "cell_type": "code",
      "source": [
        "type(doc[1])"
      ],
      "metadata": {
        "colab": {
          "base_uri": "https://localhost:8080/"
        },
        "id": "jLzywrwp72Mf",
        "outputId": "99097067-52f4-4a35-a60a-76f4080430f5"
      },
      "execution_count": null,
      "outputs": [
        {
          "output_type": "execute_result",
          "data": {
            "text/plain": [
              "spacy.tokens.doc.Doc"
            ]
          },
          "metadata": {},
          "execution_count": 30
        }
      ]
    },
    {
      "cell_type": "code",
      "source": [
        "sent_list = []\n",
        "\n",
        "for i in range(len(doc)):\n",
        "  sent = list(doc[i].sents)[0]\n",
        "  sent_list.append(sent)"
      ],
      "metadata": {
        "id": "ip_VhDFH72uM"
      },
      "execution_count": null,
      "outputs": []
    },
    {
      "cell_type": "code",
      "source": [
        "sent_list"
      ],
      "metadata": {
        "colab": {
          "base_uri": "https://localhost:8080/"
        },
        "id": "CRGzx4st8aTl",
        "outputId": "0de110d8-f327-48fc-e186-703ebe1864b6"
      },
      "execution_count": null,
      "outputs": [
        {
          "output_type": "execute_result",
          "data": {
            "text/plain": [
              "[Citizens can register their complaints with police and then based on the evidence facts and following investigation police shall take the complaint forward,\n",
              " The Registration module acts as an interface between the police and citizens and it eases the approach interaction and information exchange between police and complainants,\n",
              " After a complaint is initiated police initiates the investigation process,\n",
              " The Investigation module of the CCTNS facilitates the investigation process and introduces operational efficiencies by automating most of the tasks that take place after initial entries are made during Registration,\n",
              " Interfacing with the courts during the prosecution of cases is an integral part of the responsibilities of police personnel,\n",
              " A designated constable from each police station constantly interfaces with the courts,\n",
              " The Prosecution module of the CCTNS aids this interfacing by providing a platform to record entries of the court interactions,\n",
              " The Search module of the CCTNS gives police personnel the ability to execute a basic or advanced search on cases,\n",
              " Using the search functionality police personnel can search for a particular person type of crime modus operandi property etc,\n",
              " It also gives the user the ability to customize the results view by criminalaccused or by cases,\n",
              " It makes reporting easy for police by enabling them to execute different types of queries such as monthly reporting RTI related etc,\n",
              " The Citizen Interface module of the CCTNS acts as a conduit for the information exchange between citizens and police unitspersonnel,\n",
              " Citizens can use it as a tool to get information or acknowledgements from police,\n",
              " The police in turn can use it to respond to citizens with very little turnaround time,\n",
              " It improves overall productivity by helping citizens and police to cut short the drudgery of large amounts of paperwork,\n",
              " The Navigation module of the CCTNS provides role based landing pages which help in navigating through the CCTNS application,\n",
              " It shows information such as cases assigned alerts pending tasks etc hence helping police personnel to plan better and execute with greater efficiency,\n",
              " The Configuration module of the CCTNS helps keep the application configured according to the states’ requirements in addition to keeping data elementsrules up to date,\n",
              " With a proper configuration information such as act and sections state specific data castes tribes property information etc,\n",
              " can be created updated and deleted,\n",
              "        The functional requirements for each of the modules are provided as A1 to A7 in separate enclosures]"
            ]
          },
          "metadata": {},
          "execution_count": 32
        }
      ]
    },
    {
      "cell_type": "markdown",
      "source": [
        "## parsing sentences "
      ],
      "metadata": {
        "id": "Me-djcSG9p3W"
      }
    },
    {
      "cell_type": "code",
      "source": [
        "for j in range(len(sent_list)):\n",
        "  print(\"Parsing kalimat ke-{bango}\".format(bango = j+1))\n",
        "  print(sent_list[j]._.parse_string)\n",
        "  print(sent_list[j]._.labels)\n"
      ],
      "metadata": {
        "colab": {
          "base_uri": "https://localhost:8080/"
        },
        "id": "-245RV1j8NVW",
        "outputId": "b9589561-4ddc-432a-de40-259de160cfa5"
      },
      "execution_count": null,
      "outputs": [
        {
          "output_type": "stream",
          "name": "stdout",
          "text": [
            "Parsing kalimat ke-1\n",
            "(S (S (NP (NNS Citizens)) (VP (MD can) (VP (VB register) (NP (PRP$ their) (NNS complaints)) (PP (IN with) (NP (NNS police)))))) (CC and) (ADVP (RB then)) (VP (PP (VP (VBN based) (PP (IN on) (NP (DT the) (NN evidence) (NNS facts)))) (CC and) (PP (VBG following) (NP (NN investigation)))) (NP (NNS police)) (VP (MD shall) (VP (VB take) (NP (DT the) (NN complaint)) (ADVP (RB forward))))))\n",
            "('S',)\n",
            "Parsing kalimat ke-2\n",
            "(S (S (NP (DT The) (NNP Registration) (NN module)) (VP (VBZ acts) (PP (IN as) (NP (NP (DT an) (NN interface)) (PP (IN between) (NP (DT the) (NN police) (CC and) (NNS citizens))))))) (CC and) (S (NP (PRP it)) (VP (VBZ eases) (NP (NP (DT the) (NML (NML (NN approach) (NN interaction)) (CC and) (NML (NN information) (NN exchange)))) (PP (IN between) (NP (NNS police) (CC and) (NNS complainants)))))))\n",
            "('S',)\n",
            "Parsing kalimat ke-3\n",
            "(S (SBAR (IN After) (S (NP (DT a) (NN complaint)) (VP (VBZ is) (VP (VBN initiated))))) (NP (NNS police)) (VP (VBZ initiates) (NP (DT the) (NN investigation) (NN process))))\n",
            "('S',)\n",
            "Parsing kalimat ke-4\n",
            "(S (NP (NP (DT The) (NNP Investigation) (NN module)) (PP (IN of) (NP (DT the) (NNP CCTNS)))) (VP (VP (VBZ facilitates) (NP (DT the) (NN investigation) (NN process))) (CC and) (VP (VP (VBZ introduces) (NP (JJ operational) (NNS efficiencies))) (PP (IN by) (S (VP (VBG automating) (NP (NP (JJS most)) (PP (IN of) (NP (NP (DT the) (NNS tasks)) (SBAR (WHNP (WDT that)) (S (VP (VBP take) (NP (NN place)) (SBAR (IN after) (S (NP (JJ initial) (NNS entries)) (VP (VBP are) (VP (VBN made) (PP (IN during) (NP (NNP Registration)))))))))))))))))))\n",
            "('S',)\n",
            "Parsing kalimat ke-5\n",
            "(S (S (VP (VBG Interfacing) (PP (IN with) (NP (DT the) (NNS courts))) (PP (IN during) (NP (NP (DT the) (NN prosecution)) (PP (IN of) (NP (NNS cases))))))) (VP (VBZ is) (NP (NP (DT an) (JJ integral) (NN part)) (PP (IN of) (NP (NP (DT the) (NNS responsibilities)) (PP (IN of) (NP (NN police) (NNS personnel))))))))\n",
            "('S',)\n",
            "Parsing kalimat ke-6\n",
            "(S (NP (NP (DT A) (VBN designated) (NN constable)) (PP (IN from) (NP (DT each) (NN police) (NN station)))) (ADVP (RB constantly)) (VP (VBZ interfaces) (PP (IN with) (NP (DT the) (NNS courts)))))\n",
            "('S',)\n",
            "Parsing kalimat ke-7\n",
            "(S (NP (NP (DT The) (NNP Prosecution) (NN module)) (PP (IN of) (NP (DT the) (NNP CCTNS)))) (VP (VBZ aids) (NP (DT this) (NN interfacing)) (PP (IN by) (S (VP (VBG providing) (NP (NP (DT a) (NN platform)) (SBAR (S (VP (TO to) (VP (VB record) (NP (NP (NNS entries)) (PP (IN of) (NP (DT the) (NN court) (NNS interactions))))))))))))))\n",
            "('S',)\n",
            "Parsing kalimat ke-8\n",
            "(S (NP (NP (DT The) (NN Search) (NN module)) (PP (IN of) (NP (DT the) (NNP CCTNS)))) (VP (VBZ gives) (NP (NN police) (NNS personnel)) (NP (DT the) (NN ability) (S (VP (TO to) (VP (VB execute) (NP (NP (DT a) (ADJP (JJ basic) (CC or) (JJ advanced)) (NN search)) (PP (IN on) (NP (NNS cases))))))))))\n",
            "('S',)\n",
            "Parsing kalimat ke-9\n",
            "(S (S (VP (VBG Using) (NP (DT the) (NN search) (NN functionality)))) (NP (NNS police) (NNS personnel)) (VP (MD can) (VP (VB search) (PP (IN for) (NP (NP (DT a) (JJ particular) (NN person) (NN type)) (PP (IN of) (NP (NP (NN crime) (FW modus) (FW operandi) (NN property)) (RB etc))))))))\n",
            "('S',)\n",
            "Parsing kalimat ke-10\n",
            "(S (NP (PRP It)) (ADVP (RB also)) (VP (VBZ gives) (NP (DT the) (NN user)) (NP (DT the) (NN ability) (S (VP (TO to) (VP (VB customize) (NP (DT the) (NNS results) (NN view)) (PP (PP (IN by) (NP (NN criminalaccused))) (CC or) (PP (IN by) (NP (NNS cases))))))))))\n",
            "('S',)\n",
            "Parsing kalimat ke-11\n",
            "(S (NP (PRP It)) (VP (VBZ makes) (S (NP (NN reporting)) (ADJP (JJ easy) (PP (IN for) (NP (NNS police))))) (PP (IN by) (S (VP (VBG enabling) (NP (PRP them)) (S (VP (TO to) (VP (VB execute) (NP (NP (JJ different) (NNS types)) (PP (IN of) (NP (NNS queries))) (PP (JJ such) (IN as) (NP (JJ monthly) (NN reporting) (NP (ADJP (NNP RTI) (VBN related)) (ADVP (RB etc))))))))))))))\n",
            "('S',)\n",
            "Parsing kalimat ke-12\n",
            "(S (NP (NP (DT The) (NML (NNP Citizen) (NNP Interface)) (NN module)) (PP (IN of) (NP (DT the) (NNP CCTNS)))) (VP (VBZ acts) (PP (IN as) (NP (NP (DT a) (NN conduit)) (PP (IN for) (NP (NP (DT the) (NN information) (NN exchange)) (PP (IN between) (NP (NP (NNS citizens)) (CC and) (NP (NN police) (NN unitspersonnel))))))))))\n",
            "('S',)\n",
            "Parsing kalimat ke-13\n",
            "(S (NP (NNS Citizens)) (VP (MD can) (VP (VB use) (NP (PRP it)) (PP (IN as) (NP (NP (DT a) (NN tool)) (SBAR (S (VP (TO to) (VP (VB get) (NP (NN information) (CC or) (NNS acknowledgements)) (PP (IN from) (NP (NNS police))))))))))))\n",
            "('S',)\n",
            "Parsing kalimat ke-14\n",
            "(S (NP (DT The) (NN police)) (PP (IN in) (NP (NN turn))) (VP (MD can) (VP (VB use) (NP (PRP it)) (S (VP (TO to) (VP (VB respond) (PP (IN to) (NP (NNS citizens))) (PP (IN with) (NP (ADJP (RB very) (JJ little)) (NN turnaround) (NN time)))))))))\n",
            "('S',)\n",
            "Parsing kalimat ke-15\n",
            "(S (NP (PRP It)) (VP (VBZ improves) (NP (JJ overall) (NN productivity)) (PP (IN by) (S (VP (VBG helping) (NP (NNS citizens) (CC and) (NNS police)) (S (VP (TO to) (VP (VB cut) (ADVP (RB short)) (NP (NP (DT the) (NN drudgery)) (PP (IN of) (NP (NP (JJ large) (NNS amounts)) (PP (IN of) (NP (NNS paperwork))))))))))))))\n",
            "('S',)\n",
            "Parsing kalimat ke-16\n",
            "(S (NP (NP (DT The) (NNP Navigation) (NN module)) (PP (IN of) (NP (DT the) (NNP CCTNS)))) (VP (VBZ provides) (NP (NP (ADJP (NN role) (VBN based)) (NN landing) (NNS pages)) (SBAR (WHNP (WDT which)) (S (VP (VBP help) (PP (IN in) (S (VP (VBG navigating) (PP (IN through) (NP (DT the) (NNP CCTNS) (NN application))))))))))))\n",
            "('S',)\n",
            "Parsing kalimat ke-17\n",
            "(S (NP (PRP It)) (VP (VBZ shows) (NP (NP (NP (NN information)) (PP (JJ such) (IN as) (NP (NP (NNS cases)) (VP (VP (VBN assigned) (NP (NP (NNS alerts)) (PP (VBG pending) (NNS tasks)))) (RB etc))))) (ADVP (RB hence)) (VP (VBG helping) (S (NP (NN police) (NNS personnel)) (S (VP (TO to) (VP (VP (VB plan) (ADVP (RBR better))) (CC and) (VP (VB execute) (PP (IN with) (NP (JJR greater) (NN efficiency))))))))))))\n",
            "('S',)\n",
            "Parsing kalimat ke-18\n",
            "(S (NP (NP (DT The) (NN Configuration) (NN module)) (PP (IN of) (NP (DT the) (NNP CCTNS)))) (VP (VBZ helps) (S (VP (VB keep) (NP (DT the) (NN application)) (VP (VBN configured) (PP (VBG according) (PP (IN to) (NP (NP (DT the) (NNS states) (POS ’)) (NNS requirements))))) (PP (IN in) (NP (NP (NN addition)) (PP (IN to) (S (VP (VBG keeping) (NP (NNS data) (NNS elementsrules)) (PP (IN up) (PP (IN to) (NP (NN date)))))))))))))\n",
            "('S',)\n",
            "Parsing kalimat ke-19\n",
            "(S (PP (IN With) (NP (NP (DT a) (JJ proper) (NN configuration) (NN information)) (PP (JJ such) (IN as) (NP (NN act) (CC and) (NNS sections))))) (VP (VBP state) (NP (NP (JJ specific) (NNS data)) (NP (NNS castes) (NNS tribes) (NN property) (NN information) (RB etc)))))\n",
            "('S',)\n",
            "Parsing kalimat ke-20\n",
            "(VP (MD can) (VP (VB be) (VP (VBN created) (S (VP (VBN updated) (CC and) (VBN deleted))))))\n",
            "('VP',)\n",
            "Parsing kalimat ke-21\n",
            "(S (NP (NP (DT        ) (DT The) (JJ functional) (NNS requirements)) (PP (IN for) (NP (NP (DT each)) (PP (IN of) (NP (DT the) (NNS modules)))))) (VP (VBP are) (VP (VBN provided) (PP (IN as) (NP (CD A1) (IN to) (CD A7))) (PP (IN in) (NP (JJ separate) (NNS enclosures))))))\n",
            "('S',)\n"
          ]
        }
      ]
    },
    {
      "cell_type": "code",
      "source": [
        "print(sent_list[0]._.children)"
      ],
      "metadata": {
        "id": "zETYSLhC8WVL",
        "colab": {
          "base_uri": "https://localhost:8080/"
        },
        "outputId": "fcafd09c-e6a2-41f2-9366-210b2b02088d"
      },
      "execution_count": null,
      "outputs": [
        {
          "output_type": "stream",
          "name": "stdout",
          "text": [
            "<generator object get_child_spans at 0x7f92dcc87900>\n"
          ]
        }
      ]
    },
    {
      "cell_type": "code",
      "source": [
        "len(sentences)"
      ],
      "metadata": {
        "id": "n30ZcIei_P_S",
        "colab": {
          "base_uri": "https://localhost:8080/"
        },
        "outputId": "ac1296c1-f95f-4254-d83d-5e7213ff2bed"
      },
      "execution_count": null,
      "outputs": [
        {
          "output_type": "execute_result",
          "data": {
            "text/plain": [
              "21"
            ]
          },
          "metadata": {},
          "execution_count": 35
        }
      ]
    },
    {
      "cell_type": "code",
      "source": [],
      "metadata": {
        "id": "_wQsdQImArN2"
      },
      "execution_count": null,
      "outputs": []
    }
  ]
}