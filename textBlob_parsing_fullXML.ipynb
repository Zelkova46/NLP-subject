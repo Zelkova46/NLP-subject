{
  "nbformat": 4,
  "nbformat_minor": 0,
  "metadata": {
    "colab": {
      "provenance": [],
      "authorship_tag": "ABX9TyPxRsZac6GNCY3cqUlelgcp",
      "include_colab_link": true
    },
    "kernelspec": {
      "name": "python3",
      "display_name": "Python 3"
    },
    "language_info": {
      "name": "python"
    }
  },
  "cells": [
    {
      "cell_type": "markdown",
      "metadata": {
        "id": "view-in-github",
        "colab_type": "text"
      },
      "source": [
        "<a href=\"https://colab.research.google.com/github/Zelkova46/NLP-subject/blob/main/textBlob_parsing_fullXML.ipynb\" target=\"_parent\"><img src=\"https://colab.research.google.com/assets/colab-badge.svg\" alt=\"Open In Colab\"/></a>"
      ]
    },
    {
      "cell_type": "code",
      "source": [
        "!pip install xmltodict"
      ],
      "metadata": {
        "colab": {
          "base_uri": "https://localhost:8080/"
        },
        "id": "ZYF8W4go5vkr",
        "outputId": "c5494102-7ae7-4753-dd3d-ddb38131c511"
      },
      "execution_count": 1,
      "outputs": [
        {
          "output_type": "stream",
          "name": "stdout",
          "text": [
            "Looking in indexes: https://pypi.org/simple, https://us-python.pkg.dev/colab-wheels/public/simple/\n",
            "Collecting xmltodict\n",
            "  Downloading xmltodict-0.13.0-py2.py3-none-any.whl (10.0 kB)\n",
            "Installing collected packages: xmltodict\n",
            "Successfully installed xmltodict-0.13.0\n"
          ]
        }
      ]
    },
    {
      "cell_type": "code",
      "source": [
        "import csv\n",
        "import xmltodict\n",
        "import numpy as np\n",
        "import nltk\n",
        "nltk.download('punkt')\n",
        "nltk.download('averaged_perceptron_tagger')"
      ],
      "metadata": {
        "id": "ct5rU4OrmxiK",
        "colab": {
          "base_uri": "https://localhost:8080/"
        },
        "outputId": "b1d0b956-b149-4606-ee45-3c8616305627"
      },
      "execution_count": 2,
      "outputs": [
        {
          "output_type": "stream",
          "name": "stderr",
          "text": [
            "[nltk_data] Downloading package punkt to /root/nltk_data...\n",
            "[nltk_data]   Unzipping tokenizers/punkt.zip.\n",
            "[nltk_data] Downloading package averaged_perceptron_tagger to\n",
            "[nltk_data]     /root/nltk_data...\n",
            "[nltk_data]   Unzipping taggers/averaged_perceptron_tagger.zip.\n"
          ]
        },
        {
          "output_type": "execute_result",
          "data": {
            "text/plain": [
              "True"
            ]
          },
          "metadata": {},
          "execution_count": 2
        }
      ]
    },
    {
      "cell_type": "code",
      "source": [],
      "metadata": {
        "id": "wMTOTjoJcLPo"
      },
      "execution_count": 2,
      "outputs": []
    },
    {
      "cell_type": "code",
      "source": [
        "with open(\"/content/2010-blitdraft.xml\", \"r\") as file:\n",
        "  filedata = file.read()\n",
        "\n",
        "\n",
        "#convverting xml to python dictionary (ordered dict)\n",
        "data_dict = xmltodict.parse(filedata)"
      ],
      "metadata": {
        "id": "MOm-WG9em29p"
      },
      "execution_count": 3,
      "outputs": []
    },
    {
      "cell_type": "code",
      "source": [
        "data_dict.keys()"
      ],
      "metadata": {
        "colab": {
          "base_uri": "https://localhost:8080/"
        },
        "id": "9lye4FyinQDE",
        "outputId": "23af97d7-cfa2-4609-8477-ed426db3a79e"
      },
      "execution_count": 4,
      "outputs": [
        {
          "output_type": "execute_result",
          "data": {
            "text/plain": [
              "dict_keys(['req_document'])"
            ]
          },
          "metadata": {},
          "execution_count": 4
        }
      ]
    },
    {
      "cell_type": "code",
      "source": [
        "data_dict = data_dict['req_document']"
      ],
      "metadata": {
        "id": "j7ZHGpUEnSP_"
      },
      "execution_count": 5,
      "outputs": []
    },
    {
      "cell_type": "code",
      "source": [
        "data_dict.keys()"
      ],
      "metadata": {
        "colab": {
          "base_uri": "https://localhost:8080/"
        },
        "id": "hcSx-pFnnWmL",
        "outputId": "35433dd4-235c-4dde-e24b-30d04b96ca45"
      },
      "execution_count": 6,
      "outputs": [
        {
          "output_type": "execute_result",
          "data": {
            "text/plain": [
              "dict_keys(['@xmlns', '@xmlns:xsi', '@xsi:schemaLocation', 'title', 'version', 'p'])"
            ]
          },
          "metadata": {},
          "execution_count": 6
        }
      ]
    },
    {
      "cell_type": "code",
      "source": [
        "data_dict = data_dict['p']"
      ],
      "metadata": {
        "id": "acRwZEngnZee"
      },
      "execution_count": 7,
      "outputs": []
    },
    {
      "cell_type": "code",
      "source": [
        "print((data_dict))\n",
        "print(len(data_dict))"
      ],
      "metadata": {
        "colab": {
          "base_uri": "https://localhost:8080/"
        },
        "id": "dSEGfi1kng7v",
        "outputId": "b0bcd11a-dd39-4db0-8e20-42dfc980c18f"
      },
      "execution_count": 8,
      "outputs": [
        {
          "output_type": "stream",
          "name": "stdout",
          "text": [
            "[{'@id': '1', 'title': 'Introduction', 'text_body': 'The management of [company name]. has identified a potential need for re-writing its core\\nLaboratory Information System (LIS) to improve the performance. In general, this project\\nwill provide a stable environment, automate decisions, streamline workflows, and employ\\nindustry standard coding and documentation practices. This effort will ensure System\\nIntegrity/Reliability by developing a system that is reliable and low maintenance including\\nsecurity and confidentiality requirements as dictated by HIPAA and FDA regulatory\\nstandards.', 'p': [{'@id': '1.1', 'title': 'Purpose', 'text_body': 'This Functional Requirements Specification (FRS) is intended to capture the changes in\\nfunctionality that will occur during [system name] Re-Writing effort, which is part of the xxx\\nEnhancements project. All functionalities for the new [system name] system would be\\ndocumented in this FRS. Any undocumented requirements will be considered out of scope\\nand will not be implemented during this phase of Re-Writing.'}, {'@id': '1.2', 'title': 'Scope', 'text_body': 'The existing functionalities in the core [system name] will remain same. This project is\\nlimited in scope to the enhancements and defects that are critical in the severity level that is\\nthe issues that cause great burden to the system users and the enhancements in system\\narchitecture, which will facilitate efficient growth of [system name] and the [company name]\\nbusiness, will fall under the purview of this project scope.\\nThe functional issues and requirements that will be discussed and gathered respectively as\\nwell as validated in the Requirements Gathering and Validating Sessions started on\\nMM/DD/YYYYwould be documented in this FRS moving forward. The project team has\\ndecided that system development will occur on module by module basis.'}]}, {'@id': '2', 'title': 'Specific Requirements', 'p': [{'@id': '2.1', 'title': 'Functionality', 'p': {'@id': '2.1.1', 'title': 'Module: Admin', 'p': [{'@id': '2.1.1.1', 'title': 'Use Case: xxx Page, UC ID: UC_RR_xxx_xxx_000', 'p': [{'@id': '2.1.1.1.1', 'text_body': 'System shall display the hyperlinks and descriptions for the user to perform the desired\\nfunctions as specified in the related UIS.'}, {'@id': '2.1.1.1.2', 'text_body': 'The User shall be able to view the hyperlinks and descriptions listed.'}, {'@id': '2.1.1.1.3', 'text_body': 'The User shall be able to choose a function by clicking the hyperlink.'}, {'@id': '2.1.1.1.4', 'text_body': 'The system shall display the desired operational page for the user after clicking the\\nhyperlink.'}]}, {'@id': '2.1.1.2', 'title': 'Use Case: xxx Page, UC ID: UC_RR_xxx_xxx_000', 'p': {'@id': '2.1.1.2.1', 'title': 'Action: Create/Add User', 'p': [{'@id': '2.1.1.2.1.1', 'text_body': 'A user with admin privileges shall be able to Add/Create a new user and associate the\\nuser with specified role(s) in the system.'}, {'@id': '2.1.1.2.1.2', 'text_body': 'The system shall display an error message if the new user is found in the [system name]\\nsystem.'}, {'@id': '2.1.1.2.1.3', 'text_body': 'The system shall display an error message if the new user is not active in the Active\\nDirectory.'}, {'@id': '2.1.1.2.1.4', 'text_body': 'The system shall display the xxx tab as the default tab.'}, {'@id': '2.1.1.2.1.5', 'text_body': 'The user shall be able to create/add a new user manually or from a template.'}, {'@id': '2.1.1.2.1.6', 'text_body': 'The user record shall inherit all specified role(s) settings in the template when the user\\nrecord is created from the user template'}, {'@id': '2.1.1.2.1.7', 'text_body': 'The user shall be able to add additional roles manually while creating/adding a new user\\nfrom a user template.'}, {'@id': '2.1.1.2.1.8', 'text_body': 'The system shall save the user info to the database with specified roles associated with\\ndivisions for the newly created/added user.'}, {'@id': '2.1.1.2.1.9', 'text_body': 'The system shall perform a search on the [system name] user display name and user\\nname columns in the user tables to find the user and verify the user’s existence.'}, {'@id': '2.1.1.2.1.10', 'text_body': 'The system shall perform a search in the Active Directory to verify the status of the user\\n— Active/Inactive within the company—when the user attempts to create/add a new user\\nin the [system name] system.'}, {'@id': '2.1.1.2.1.11', 'text_body': 'The system shall generate a standard confirmation message after saving data and\\nwarning/caution messages after the cancel or close button is clicked.'}, {'@id': '2.1.1.2.1.12', 'text_body': 'The user must have the flexibility to click any tab to commence the adding process,\\nalthough the xxx Tab shall display as the default tab.'}, {'@id': '2.1.1.2.1.13', 'text_body': 'All required fields as specified in the UIS must be marked with a red asterisk alerting the\\nuser to fill the required fields in.'}, {'@id': '2.1.1.2.1.14', 'text_body': 'The user shall be able to save data after creating/adding a new user or cancel data to\\nabort the process.'}, {'@id': '2.1.1.2.1.15', 'text_body': 'The system shall clear up data if the user chooses to click the Cancel button in the midst\\nof creating/adding a new user.'}, {'@id': '2.1.1.2.1.16', 'text_body': 'The system shall direct the user to the xxx Page if the user chooses to click the close\\nbutton without entering any data.'}, {'@id': '2.1.1.2.1.17', 'text_body': 'The user must associate at least one role, division, designator code, and lab location at\\nthe time of creating/adding a new user.'}, {'@id': '2.1.1.2.1.18', 'text_body': 'The user must fill in the required fields—User Name and Display Name—in the User\\nInformation section at the time of creating/adding a new user.'}, {'@id': '2.1.1.2.1.19', 'text_body': 'The system shall generate a standard error/warning message after the user attempts to\\nsave data without associating one of each of the following criteria—xxx—and/or without\\nfilling in the required fields in the User Information section.'}]}}]}}, {'@id': '2.2', 'title': 'Usability', 'p': {'@id': '2.2.1', 'title': 'User Interface Guidelines', 'p': [{'@id': '2.2.1.1', 'text_body': 'The Project Team must demonstrate mockups of UI changes to project stakeholders early\\nin the development process.'}, {'@id': '2.2.1.2', 'text_body': 'The Project Team must permit reasonable adjustment to the user interfaces of new\\nfunctionality by project stakeholders when project schedule permits those adjustments.'}]}}, {'@id': '2.3', 'title': 'Reliability', 'p': {'@id': '2.3.1', 'title': 'System Downtime', 'p': {'@id': '2.3.1.1', 'text_body': 'The Project Team shall schedule updates to the production environment only on Tuesdays\\nbetween 7pm and 7am. (Example)'}}}, {'@id': '2.4', 'title': 'Performance', 'p': {'@id': '2.4.1', 'title': 'Quality Assurance', 'p': [{'@id': '2.4.1.1', 'text_body': 'The Project Team must perform applicable and appropriate testing against new functionality\\nprior to releasing that functionality/build to the production environment.'}, {'@id': '2.4.1.2', 'text_body': 'The project Team must allow a reasonable time to conduct User Acceptance Testing (UAT)\\nagainst the built functionalities prior to deploying the product to the production environment.'}]}}, {'@id': '2.5', 'title': 'Supportability', 'p': [{'@id': '2.5.1', 'title': 'Coding Standards', 'p': [{'@id': '2.5.1.1', 'text_body': 'The Development Team shall define coding standards for the application and follow those\\nstandards consistently.'}, {'@id': '2.5.1.2', 'text_body': 'The Development Team shall be required to adjust existing source code to follow accepted\\ncoding standards only if that source code must be modified.'}]}, {'@id': '2.5.2', 'title': 'Maintainability Standards', 'p': [{'@id': '2.5.2.1', 'text_body': 'The system shall log errors, warnings, and informational messages to an external log file on\\nthe application server.'}, {'@id': '2.5.2.2', 'text_body': 'The Development Team shall be required to adjust existing source code to use the external\\nlog file only if that source code must be modified to implement another requirement.'}, {'@id': '2.5.2.3', 'text_body': 'The system shall log an error message to the external data file when the user is directed to\\nthe [SYSTEM NAME] error page.'}, {'@id': '2.5.2.4', 'text_body': 'The system shall send a notification email to a Client Services email distribution list if the\\nuser is directed to the xxx error page.'}]}]}, {'@id': '2.6', 'title': 'Design Constraints', 'p': [{'@id': '2.6.1', 'title': 'Development Platform', 'p': [{'@id': '2.6.1.1', 'text_body': 'The Development Team shall develop functionalities using the xx language and on the\\nsupported .NET 3.5 Platform.'}, {'@id': '2.6.1.2', 'text_body': 'The Development Team shall utilize established open source frameworks instead of\\nproprietary custom components wherever appropriate.'}, {'@id': '2.6.1.3', 'text_body': 'The system shall continue to depend upon and use a single SQL Server 2008 database.'}]}, {'@id': '2.6.2', 'title': 'Production Releases', 'p': {'@id': '2.6.2.1', 'text_body': 'The Technical Owner/Lead shall provide signoff before any [SYSTEM NAME] build can be\\ndeployed to the production environment.'}}, {'@id': '2.6.3', 'title': 'Development Process', 'p': [{'@id': '2.6.3.1', 'text_body': 'The Development Team shall perform weekly integrations of the [SYSTEM NAME] system\\nand deploy these system updates to the Staging environment.'}, {'@id': '2.6.3.2', 'text_body': 'The Development Team shall label every scheduled [SYSTEM NAME] build in the source\\ncontrol system.'}, {'@id': '2.6.3.3', 'text_body': 'The Development Team shall perform scheduled [SYSTEM NAME] builds using code\\nchecked out of source control using the label as defined and specified.'}, {'@id': '2.6.3.4', 'text_body': 'The Development Team shall develop and then send out release notes via e-mail to all\\nProject Team after each [SYSTEM NAME] build deployed to the Staging environment.'}, {'@id': '2.6.3.5', 'text_body': 'The Technical Lead shall perform code reviews of every system change before those\\nchanges may be committed to source control.'}, {'@id': '2.6.3.6', 'text_body': 'The QA/QC Team must perform regression testing against all scheduled builds.'}]}]}, {'@id': '2.7', 'title': 'Online User Documentation and Help System Requirements', 'p': {'@id': '2.7.1', 'title': 'Robohelp Tool:', 'text_body': 'RoboHelp version 8 will be used to create the online [system name]\\nHelp hypertext links. The [system name] system will display a hypertext link labeled\\n“Help” at the top right corner on each of the user screens to provide assistance to the\\nuser. Each of the Help topic pop-up windows will contain that same content that is\\navailable within the [system name] user’s manuals.', 'p': [{'@id': '2.7.1.1', 'text_body': 'The system shall provide the capability to open a pop-up window displaying information\\nabout the specific page along with links to supporting help topics upon selecting each Help\\nlink.'}, {'@id': '2.7.1.2', 'text_body': 'The system shall display “[system name] Overview” page located under the Getting Started\\nsection of Help as default help topic page that will load upon selecting Help hypertext link.'}, {'@id': '2.7.1.3', 'text_body': 'The system must allow users to easily navigate through each of the help topics by selecting\\na corresponding hypertext link provided in the left frame of the pop-up Help window.'}, {'@id': '2.7.1.4', 'text_body': 'The system shall display the [company name] logo in the top, right side of the screen on\\neach of the help pages.'}, {'@id': '2.7.1.5', 'text_body': 'The system must exhibit each of the help pages using the same color scheme and\\nbackground as specified.'}, {'@id': '2.7.1.6', 'text_body': 'The system shall provide searching ability to the users to quickly find specific topic material\\nthrough the online help tool.'}, {'@id': '2.7.1.7', 'text_body': 'The system shall provide an index to the users for a more in-depth search of topic contents\\nthrough the online help tool.'}, {'@id': '2.7.1.8', 'text_body': 'The system shall provide a Glossary for industry-related terms associated with [company\\nname] and the [system name] system to the users through the online help tool.'}]}}, {'@id': '2.8', 'title': 'Interfaces'}, {'@id': '2.9', 'title': 'Applicable Standards', 'p': {'@id': '2.9.1', 'p': [{'@id': '2.9.1.1', 'text_body': 'The system shall retain existing HIPAA compliance capabilities.'}, {'@id': '2.9.1.2', 'text_body': 'The system shall follow HIPAA compliance capabilities in new functionality introduced to the\\nsystem.'}]}}]}, {'@id': '3', 'p': {'@id': 'Glossary 30209'}}]\n",
            "3\n"
          ]
        }
      ]
    },
    {
      "cell_type": "code",
      "source": [
        "for item in data_dict:\n",
        "  print(item.keys())"
      ],
      "metadata": {
        "colab": {
          "base_uri": "https://localhost:8080/"
        },
        "id": "gSkU5HilnjYO",
        "outputId": "76b5b024-d678-4e27-e536-b8dd1580e6d0"
      },
      "execution_count": 9,
      "outputs": [
        {
          "output_type": "stream",
          "name": "stdout",
          "text": [
            "dict_keys(['@id', 'title', 'text_body', 'p'])\n",
            "dict_keys(['@id', 'title', 'p'])\n",
            "dict_keys(['@id', 'p'])\n"
          ]
        }
      ]
    },
    {
      "cell_type": "code",
      "source": [
        "sens = []\n",
        "data = []"
      ],
      "metadata": {
        "id": "mLvlQSGvn2hL"
      },
      "execution_count": 10,
      "outputs": []
    },
    {
      "cell_type": "code",
      "source": [
        "for item in data_dict:\n",
        "  for value in item.keys():\n",
        "    if value == 'p':\n",
        "      data.append(item['p'])"
      ],
      "metadata": {
        "id": "MQnlI55JoAMF"
      },
      "execution_count": 11,
      "outputs": []
    },
    {
      "cell_type": "code",
      "source": [
        "data = data[0]"
      ],
      "metadata": {
        "id": "BO0PVs3RoLWV"
      },
      "execution_count": 12,
      "outputs": []
    },
    {
      "cell_type": "code",
      "source": [
        "data"
      ],
      "metadata": {
        "colab": {
          "base_uri": "https://localhost:8080/"
        },
        "id": "3KmrfsZRoWZC",
        "outputId": "69a4f70e-e536-4681-bf13-63b506366f08"
      },
      "execution_count": 13,
      "outputs": [
        {
          "output_type": "execute_result",
          "data": {
            "text/plain": [
              "[{'@id': '1.1',\n",
              "  'title': 'Purpose',\n",
              "  'text_body': 'This Functional Requirements Specification (FRS) is intended to capture the changes in\\nfunctionality that will occur during [system name] Re-Writing effort, which is part of the xxx\\nEnhancements project. All functionalities for the new [system name] system would be\\ndocumented in this FRS. Any undocumented requirements will be considered out of scope\\nand will not be implemented during this phase of Re-Writing.'},\n",
              " {'@id': '1.2',\n",
              "  'title': 'Scope',\n",
              "  'text_body': 'The existing functionalities in the core [system name] will remain same. This project is\\nlimited in scope to the enhancements and defects that are critical in the severity level that is\\nthe issues that cause great burden to the system users and the enhancements in system\\narchitecture, which will facilitate efficient growth of [system name] and the [company name]\\nbusiness, will fall under the purview of this project scope.\\nThe functional issues and requirements that will be discussed and gathered respectively as\\nwell as validated in the Requirements Gathering and Validating Sessions started on\\nMM/DD/YYYYwould be documented in this FRS moving forward. The project team has\\ndecided that system development will occur on module by module basis.'}]"
            ]
          },
          "metadata": {},
          "execution_count": 13
        }
      ]
    },
    {
      "cell_type": "code",
      "source": [
        "for item in data:\n",
        "  for value in item.keys():\n",
        "    if value == 'text_body':\n",
        "      sens.append(item['text_body'])"
      ],
      "metadata": {
        "id": "Xe-J9xZkoVqs"
      },
      "execution_count": 14,
      "outputs": []
    },
    {
      "cell_type": "code",
      "source": [
        "sens"
      ],
      "metadata": {
        "colab": {
          "base_uri": "https://localhost:8080/"
        },
        "id": "DMX8B0Ppo52c",
        "outputId": "da118e20-0b69-4fad-9a3d-45064d322f3e"
      },
      "execution_count": 15,
      "outputs": [
        {
          "output_type": "execute_result",
          "data": {
            "text/plain": [
              "['This Functional Requirements Specification (FRS) is intended to capture the changes in\\nfunctionality that will occur during [system name] Re-Writing effort, which is part of the xxx\\nEnhancements project. All functionalities for the new [system name] system would be\\ndocumented in this FRS. Any undocumented requirements will be considered out of scope\\nand will not be implemented during this phase of Re-Writing.',\n",
              " 'The existing functionalities in the core [system name] will remain same. This project is\\nlimited in scope to the enhancements and defects that are critical in the severity level that is\\nthe issues that cause great burden to the system users and the enhancements in system\\narchitecture, which will facilitate efficient growth of [system name] and the [company name]\\nbusiness, will fall under the purview of this project scope.\\nThe functional issues and requirements that will be discussed and gathered respectively as\\nwell as validated in the Requirements Gathering and Validating Sessions started on\\nMM/DD/YYYYwould be documented in this FRS moving forward. The project team has\\ndecided that system development will occur on module by module basis.']"
            ]
          },
          "metadata": {},
          "execution_count": 15
        }
      ]
    },
    {
      "cell_type": "code",
      "source": [
        "hasil = []\n",
        "for sub in sens:\n",
        "  hasil.append(sub.replace(\"\\n\", \"\"))"
      ],
      "metadata": {
        "id": "UkJeidHgo50E"
      },
      "execution_count": 16,
      "outputs": []
    },
    {
      "cell_type": "code",
      "source": [
        "temp = []\n",
        "for value in hasil:\n",
        "  temp.append(value.split('. '))"
      ],
      "metadata": {
        "id": "j6_JgwUwpKhG"
      },
      "execution_count": 17,
      "outputs": []
    },
    {
      "cell_type": "code",
      "source": [
        "sentences = []\n",
        "for value in temp:\n",
        "  for item in value:\n",
        "    sentences.append(item)\n"
      ],
      "metadata": {
        "id": "Vewv1maZpePB"
      },
      "execution_count": 18,
      "outputs": []
    },
    {
      "cell_type": "code",
      "source": [
        "print(np.array(sentences))"
      ],
      "metadata": {
        "colab": {
          "base_uri": "https://localhost:8080/"
        },
        "id": "NC48CyivpzRU",
        "outputId": "e4731c41-5119-45f3-bf0a-0a6ff54e6a12"
      },
      "execution_count": 19,
      "outputs": [
        {
          "output_type": "stream",
          "name": "stdout",
          "text": [
            "['This Functional Requirements Specification (FRS) is intended to capture the changes infunctionality that will occur during [system name] Re-Writing effort, which is part of the xxxEnhancements project'\n",
            " 'All functionalities for the new [system name] system would bedocumented in this FRS'\n",
            " 'Any undocumented requirements will be considered out of scopeand will not be implemented during this phase of Re-Writing.'\n",
            " 'The existing functionalities in the core [system name] will remain same'\n",
            " 'This project islimited in scope to the enhancements and defects that are critical in the severity level that isthe issues that cause great burden to the system users and the enhancements in systemarchitecture, which will facilitate efficient growth of [system name] and the [company name]business, will fall under the purview of this project scope.The functional issues and requirements that will be discussed and gathered respectively aswell as validated in the Requirements Gathering and Validating Sessions started onMM/DD/YYYYwould be documented in this FRS moving forward'\n",
            " 'The project team hasdecided that system development will occur on module by module basis.']\n"
          ]
        }
      ]
    },
    {
      "cell_type": "markdown",
      "source": [
        "menghilangkan pounctuation"
      ],
      "metadata": {
        "id": "z_5Fp76eeII_"
      }
    },
    {
      "cell_type": "code",
      "source": [
        "import string\n",
        "for x in range(len(sentences)):\n",
        "  sentences[x] = sentences[x].translate(str.maketrans('', '', string.punctuation))"
      ],
      "metadata": {
        "id": "fgl57DpdekWo"
      },
      "execution_count": 20,
      "outputs": []
    },
    {
      "cell_type": "code",
      "source": [
        "sentences"
      ],
      "metadata": {
        "colab": {
          "base_uri": "https://localhost:8080/"
        },
        "id": "0Df-tbPin3xa",
        "outputId": "af33d324-ecf9-4d44-8e7c-705095cbeaf7"
      },
      "execution_count": 21,
      "outputs": [
        {
          "output_type": "execute_result",
          "data": {
            "text/plain": [
              "['This Functional Requirements Specification FRS is intended to capture the changes infunctionality that will occur during system name ReWriting effort which is part of the xxxEnhancements project',\n",
              " 'All functionalities for the new system name system would bedocumented in this FRS',\n",
              " 'Any undocumented requirements will be considered out of scopeand will not be implemented during this phase of ReWriting',\n",
              " 'The existing functionalities in the core system name will remain same',\n",
              " 'This project islimited in scope to the enhancements and defects that are critical in the severity level that isthe issues that cause great burden to the system users and the enhancements in systemarchitecture which will facilitate efficient growth of system name and the company namebusiness will fall under the purview of this project scopeThe functional issues and requirements that will be discussed and gathered respectively aswell as validated in the Requirements Gathering and Validating Sessions started onMMDDYYYYwould be documented in this FRS moving forward',\n",
              " 'The project team hasdecided that system development will occur on module by module basis']"
            ]
          },
          "metadata": {},
          "execution_count": 21
        }
      ]
    },
    {
      "cell_type": "markdown",
      "source": [
        "## Melakukan POS tagging"
      ],
      "metadata": {
        "id": "nHE8bmuAMtOm"
      }
    },
    {
      "cell_type": "code",
      "source": [
        "from textblob import TextBlob"
      ],
      "metadata": {
        "id": "mA3BCbloppVL"
      },
      "execution_count": 22,
      "outputs": []
    },
    {
      "cell_type": "code",
      "source": [],
      "metadata": {
        "id": "m7hdjy5Bqwxs"
      },
      "execution_count": 22,
      "outputs": []
    },
    {
      "cell_type": "code",
      "source": [
        "sentences[1]"
      ],
      "metadata": {
        "colab": {
          "base_uri": "https://localhost:8080/",
          "height": 36
        },
        "id": "KCgvSsZFq6yP",
        "outputId": "61ffd741-c834-4f83-b3ae-2a409971240c"
      },
      "execution_count": 23,
      "outputs": [
        {
          "output_type": "execute_result",
          "data": {
            "text/plain": [
              "'All functionalities for the new system name system would bedocumented in this FRS'"
            ],
            "application/vnd.google.colaboratory.intrinsic+json": {
              "type": "string"
            }
          },
          "metadata": {},
          "execution_count": 23
        }
      ]
    },
    {
      "cell_type": "code",
      "source": [
        "type(sentences[0])"
      ],
      "metadata": {
        "id": "QyIbWGIV7Moo",
        "outputId": "93571add-6339-41a0-c370-67eb3ed56bc8",
        "colab": {
          "base_uri": "https://localhost:8080/"
        }
      },
      "execution_count": 24,
      "outputs": [
        {
          "output_type": "execute_result",
          "data": {
            "text/plain": [
              "str"
            ]
          },
          "metadata": {},
          "execution_count": 24
        }
      ]
    },
    {
      "cell_type": "code",
      "source": [
        "sens = []\n",
        "for x in range(len(sentences)):\n",
        "  sens__ = TextBlob(sentences[x])\n",
        "  sens.append(sens__)"
      ],
      "metadata": {
        "id": "a7rEEkoFqwsd"
      },
      "execution_count": 25,
      "outputs": []
    },
    {
      "cell_type": "code",
      "source": [
        "sens"
      ],
      "metadata": {
        "id": "tC7BneywrMSG",
        "colab": {
          "base_uri": "https://localhost:8080/"
        },
        "outputId": "4b090ff4-4704-4789-825c-23d9d5ee942b"
      },
      "execution_count": 26,
      "outputs": [
        {
          "output_type": "execute_result",
          "data": {
            "text/plain": [
              "[TextBlob(\"This Functional Requirements Specification FRS is intended to capture the changes infunctionality that will occur during system name ReWriting effort which is part of the xxxEnhancements project\"),\n",
              " TextBlob(\"All functionalities for the new system name system would bedocumented in this FRS\"),\n",
              " TextBlob(\"Any undocumented requirements will be considered out of scopeand will not be implemented during this phase of ReWriting\"),\n",
              " TextBlob(\"The existing functionalities in the core system name will remain same\"),\n",
              " TextBlob(\"This project islimited in scope to the enhancements and defects that are critical in the severity level that isthe issues that cause great burden to the system users and the enhancements in systemarchitecture which will facilitate efficient growth of system name and the company namebusiness will fall under the purview of this project scopeThe functional issues and requirements that will be discussed and gathered respectively aswell as validated in the Requirements Gathering and Validating Sessions started onMMDDYYYYwould be documented in this FRS moving forward\"),\n",
              " TextBlob(\"The project team hasdecided that system development will occur on module by module basis\")]"
            ]
          },
          "metadata": {},
          "execution_count": 26
        }
      ]
    },
    {
      "cell_type": "code",
      "source": [
        "sentence_tag = []\n",
        "\n",
        "for x in range(len(sentences)):\n",
        "  sentence_tag.append(sens[x].tags)"
      ],
      "metadata": {
        "id": "yrxA9-CEqHa1"
      },
      "execution_count": 27,
      "outputs": []
    },
    {
      "cell_type": "code",
      "source": [
        "sentence_tag"
      ],
      "metadata": {
        "colab": {
          "base_uri": "https://localhost:8080/"
        },
        "id": "JUC9_UEeqKBO",
        "outputId": "7afb6d39-fbe0-4bbb-9b2f-18e73f7ee8c3"
      },
      "execution_count": 28,
      "outputs": [
        {
          "output_type": "execute_result",
          "data": {
            "text/plain": [
              "[[('This', 'DT'),\n",
              "  ('Functional', 'JJ'),\n",
              "  ('Requirements', 'NNPS'),\n",
              "  ('Specification', 'NNP'),\n",
              "  ('FRS', 'NNP'),\n",
              "  ('is', 'VBZ'),\n",
              "  ('intended', 'VBN'),\n",
              "  ('to', 'TO'),\n",
              "  ('capture', 'VB'),\n",
              "  ('the', 'DT'),\n",
              "  ('changes', 'NNS'),\n",
              "  ('infunctionality', 'NN'),\n",
              "  ('that', 'WDT'),\n",
              "  ('will', 'MD'),\n",
              "  ('occur', 'VB'),\n",
              "  ('during', 'IN'),\n",
              "  ('system', 'NN'),\n",
              "  ('name', 'JJ'),\n",
              "  ('ReWriting', 'NNP'),\n",
              "  ('effort', 'NN'),\n",
              "  ('which', 'WDT'),\n",
              "  ('is', 'VBZ'),\n",
              "  ('part', 'NN'),\n",
              "  ('of', 'IN'),\n",
              "  ('the', 'DT'),\n",
              "  ('xxxEnhancements', 'NNS'),\n",
              "  ('project', 'NN')],\n",
              " [('All', 'DT'),\n",
              "  ('functionalities', 'NNS'),\n",
              "  ('for', 'IN'),\n",
              "  ('the', 'DT'),\n",
              "  ('new', 'JJ'),\n",
              "  ('system', 'NN'),\n",
              "  ('name', 'NN'),\n",
              "  ('system', 'NN'),\n",
              "  ('would', 'MD'),\n",
              "  ('bedocumented', 'VB'),\n",
              "  ('in', 'IN'),\n",
              "  ('this', 'DT'),\n",
              "  ('FRS', 'NNP')],\n",
              " [('Any', 'DT'),\n",
              "  ('undocumented', 'JJ'),\n",
              "  ('requirements', 'NNS'),\n",
              "  ('will', 'MD'),\n",
              "  ('be', 'VB'),\n",
              "  ('considered', 'VBN'),\n",
              "  ('out', 'IN'),\n",
              "  ('of', 'IN'),\n",
              "  ('scopeand', 'NN'),\n",
              "  ('will', 'MD'),\n",
              "  ('not', 'RB'),\n",
              "  ('be', 'VB'),\n",
              "  ('implemented', 'VBN'),\n",
              "  ('during', 'IN'),\n",
              "  ('this', 'DT'),\n",
              "  ('phase', 'NN'),\n",
              "  ('of', 'IN'),\n",
              "  ('ReWriting', 'VBG')],\n",
              " [('The', 'DT'),\n",
              "  ('existing', 'VBG'),\n",
              "  ('functionalities', 'NNS'),\n",
              "  ('in', 'IN'),\n",
              "  ('the', 'DT'),\n",
              "  ('core', 'NN'),\n",
              "  ('system', 'NN'),\n",
              "  ('name', 'NN'),\n",
              "  ('will', 'MD'),\n",
              "  ('remain', 'VB'),\n",
              "  ('same', 'JJ')],\n",
              " [('This', 'DT'),\n",
              "  ('project', 'NN'),\n",
              "  ('islimited', 'VBN'),\n",
              "  ('in', 'IN'),\n",
              "  ('scope', 'NN'),\n",
              "  ('to', 'TO'),\n",
              "  ('the', 'DT'),\n",
              "  ('enhancements', 'NNS'),\n",
              "  ('and', 'CC'),\n",
              "  ('defects', 'NNS'),\n",
              "  ('that', 'WDT'),\n",
              "  ('are', 'VBP'),\n",
              "  ('critical', 'JJ'),\n",
              "  ('in', 'IN'),\n",
              "  ('the', 'DT'),\n",
              "  ('severity', 'NN'),\n",
              "  ('level', 'NN'),\n",
              "  ('that', 'IN'),\n",
              "  ('isthe', 'JJ'),\n",
              "  ('issues', 'NNS'),\n",
              "  ('that', 'WDT'),\n",
              "  ('cause', 'VBP'),\n",
              "  ('great', 'JJ'),\n",
              "  ('burden', 'NN'),\n",
              "  ('to', 'TO'),\n",
              "  ('the', 'DT'),\n",
              "  ('system', 'NN'),\n",
              "  ('users', 'NNS'),\n",
              "  ('and', 'CC'),\n",
              "  ('the', 'DT'),\n",
              "  ('enhancements', 'NNS'),\n",
              "  ('in', 'IN'),\n",
              "  ('systemarchitecture', 'NN'),\n",
              "  ('which', 'WDT'),\n",
              "  ('will', 'MD'),\n",
              "  ('facilitate', 'VB'),\n",
              "  ('efficient', 'JJ'),\n",
              "  ('growth', 'NN'),\n",
              "  ('of', 'IN'),\n",
              "  ('system', 'NN'),\n",
              "  ('name', 'NN'),\n",
              "  ('and', 'CC'),\n",
              "  ('the', 'DT'),\n",
              "  ('company', 'NN'),\n",
              "  ('namebusiness', 'NN'),\n",
              "  ('will', 'MD'),\n",
              "  ('fall', 'VB'),\n",
              "  ('under', 'IN'),\n",
              "  ('the', 'DT'),\n",
              "  ('purview', 'NN'),\n",
              "  ('of', 'IN'),\n",
              "  ('this', 'DT'),\n",
              "  ('project', 'NN'),\n",
              "  ('scopeThe', 'VBZ'),\n",
              "  ('functional', 'JJ'),\n",
              "  ('issues', 'NNS'),\n",
              "  ('and', 'CC'),\n",
              "  ('requirements', 'NNS'),\n",
              "  ('that', 'WDT'),\n",
              "  ('will', 'MD'),\n",
              "  ('be', 'VB'),\n",
              "  ('discussed', 'VBN'),\n",
              "  ('and', 'CC'),\n",
              "  ('gathered', 'VBN'),\n",
              "  ('respectively', 'RB'),\n",
              "  ('aswell', 'VBP'),\n",
              "  ('as', 'RB'),\n",
              "  ('validated', 'VBN'),\n",
              "  ('in', 'IN'),\n",
              "  ('the', 'DT'),\n",
              "  ('Requirements', 'NNPS'),\n",
              "  ('Gathering', 'NNP'),\n",
              "  ('and', 'CC'),\n",
              "  ('Validating', 'NNP'),\n",
              "  ('Sessions', 'NNP'),\n",
              "  ('started', 'VBD'),\n",
              "  ('onMMDDYYYYwould', 'MD'),\n",
              "  ('be', 'VB'),\n",
              "  ('documented', 'VBN'),\n",
              "  ('in', 'IN'),\n",
              "  ('this', 'DT'),\n",
              "  ('FRS', 'NNP'),\n",
              "  ('moving', 'VBG'),\n",
              "  ('forward', 'RB')],\n",
              " [('The', 'DT'),\n",
              "  ('project', 'NN'),\n",
              "  ('team', 'NN'),\n",
              "  ('hasdecided', 'VBD'),\n",
              "  ('that', 'IN'),\n",
              "  ('system', 'NN'),\n",
              "  ('development', 'NN'),\n",
              "  ('will', 'MD'),\n",
              "  ('occur', 'VB'),\n",
              "  ('on', 'IN'),\n",
              "  ('module', 'NN'),\n",
              "  ('by', 'IN'),\n",
              "  ('module', 'JJ'),\n",
              "  ('basis', 'NN')]]"
            ]
          },
          "metadata": {},
          "execution_count": 28
        }
      ]
    },
    {
      "cell_type": "markdown",
      "source": [
        "## melakukan parsing blob\n"
      ],
      "metadata": {
        "id": "NBPvXiRfsmQO"
      }
    },
    {
      "cell_type": "code",
      "source": [
        "sens"
      ],
      "metadata": {
        "colab": {
          "base_uri": "https://localhost:8080/"
        },
        "id": "KW8YUZWksrrv",
        "outputId": "a52b6699-d72c-4760-c96c-6ecd30cdd112"
      },
      "execution_count": 29,
      "outputs": [
        {
          "output_type": "execute_result",
          "data": {
            "text/plain": [
              "[TextBlob(\"This Functional Requirements Specification FRS is intended to capture the changes infunctionality that will occur during system name ReWriting effort which is part of the xxxEnhancements project\"),\n",
              " TextBlob(\"All functionalities for the new system name system would bedocumented in this FRS\"),\n",
              " TextBlob(\"Any undocumented requirements will be considered out of scopeand will not be implemented during this phase of ReWriting\"),\n",
              " TextBlob(\"The existing functionalities in the core system name will remain same\"),\n",
              " TextBlob(\"This project islimited in scope to the enhancements and defects that are critical in the severity level that isthe issues that cause great burden to the system users and the enhancements in systemarchitecture which will facilitate efficient growth of system name and the company namebusiness will fall under the purview of this project scopeThe functional issues and requirements that will be discussed and gathered respectively aswell as validated in the Requirements Gathering and Validating Sessions started onMMDDYYYYwould be documented in this FRS moving forward\"),\n",
              " TextBlob(\"The project team hasdecided that system development will occur on module by module basis\")]"
            ]
          },
          "metadata": {},
          "execution_count": 29
        }
      ]
    },
    {
      "cell_type": "code",
      "source": [
        "sens[0]"
      ],
      "metadata": {
        "colab": {
          "base_uri": "https://localhost:8080/"
        },
        "id": "iZj1rSeHsvgO",
        "outputId": "afe870af-43f4-448f-ab37-7b09d5ced6e1"
      },
      "execution_count": 30,
      "outputs": [
        {
          "output_type": "execute_result",
          "data": {
            "text/plain": [
              "TextBlob(\"This Functional Requirements Specification FRS is intended to capture the changes infunctionality that will occur during system name ReWriting effort which is part of the xxxEnhancements project\")"
            ]
          },
          "metadata": {},
          "execution_count": 30
        }
      ]
    },
    {
      "cell_type": "code",
      "source": [
        "for blob in (sens):\n",
        "  print(blob.parse())\n",
        "  print(\"\\n\")"
      ],
      "metadata": {
        "colab": {
          "base_uri": "https://localhost:8080/"
        },
        "id": "h4WzBCu7r-R4",
        "outputId": "4398e3af-f301-45e5-c8d0-52b5d5e706d2"
      },
      "execution_count": 31,
      "outputs": [
        {
          "output_type": "stream",
          "name": "stdout",
          "text": [
            "This/DT/B-NP/O Functional/NNP/I-NP/O Requirements/NNS/I-NP/O Specification/NNP/I-NP/O FRS/NN/I-NP/O is/VBZ/B-VP/O intended/VBN/I-VP/O to/TO/B-PP/O capture/VB/B-VP/O the/DT/B-NP/O changes/NNS/I-NP/O infunctionality/NN/I-NP/O that/IN/B-PP/O will/MD/B-VP/O occur/VB/I-VP/O during/IN/B-PP/B-PNP system/NN/B-NP/I-PNP name/NN/I-NP/I-PNP ReWriting/VBG/B-VP/I-PNP effort/NN/B-NP/I-PNP which/WDT/O/O is/VBZ/B-VP/O part/NN/B-NP/O of/IN/B-PP/B-PNP the/DT/B-NP/I-PNP xxxEnhancements/NNS/I-NP/I-PNP project/NN/I-NP/I-PNP\n",
            "\n",
            "\n",
            "All/DT/B-NP/O functionalities/NNS/I-NP/O for/IN/B-PP/B-PNP the/DT/B-NP/I-PNP new/JJ/I-NP/I-PNP system/NN/I-NP/I-PNP name/NN/I-NP/I-PNP system/NN/I-NP/I-PNP would/MD/B-VP/O bedocumented/VBN/I-VP/O in/IN/B-PP/B-PNP this/DT/B-NP/I-PNP FRS/NN/I-NP/I-PNP\n",
            "\n",
            "\n",
            "Any/DT/O/O undocumented/VBN/B-VP/O requirements/NNS/B-NP/O will/MD/B-VP/O be/VB/I-VP/O considered/VBN/I-VP/O out/IN/B-PP/B-PNP of/IN/I-PP/I-PNP scopeand/NN/B-NP/I-PNP will/MD/B-VP/O not/RB/I-VP/O be/VB/I-VP/O implemented/VBN/I-VP/O during/IN/B-PP/B-PNP this/DT/B-NP/I-PNP phase/NN/I-NP/I-PNP of/IN/B-PP/B-PNP ReWriting/VBG/B-VP/I-PNP\n",
            "\n",
            "\n",
            "The/DT/O/O existing/VBG/B-VP/O functionalities/NNS/B-NP/O in/IN/B-PP/B-PNP the/DT/B-NP/I-PNP core/NN/I-NP/I-PNP system/NN/I-NP/I-PNP name/NN/I-NP/I-PNP will/MD/B-VP/O remain/VB/I-VP/O same/JJ/B-ADJP/O\n",
            "\n",
            "\n",
            "This/DT/B-NP/O project/NN/I-NP/O islimited/VBN/B-VP/O in/IN/B-PP/B-PNP scope/NN/B-NP/I-PNP to/TO/B-PP/B-PNP the/DT/B-NP/I-PNP enhancements/NNS/I-NP/I-PNP and/CC/O/O defects/NNS/B-NP/O that/IN/B-PP/O are/VBP/B-VP/O critical/JJ/B-ADJP/O in/IN/B-PP/B-PNP the/DT/B-NP/I-PNP severity/NN/I-NP/I-PNP level/NN/I-NP/I-PNP that/IN/B-PP/B-PNP isthe/NN/B-NP/I-PNP issues/NNS/I-NP/I-PNP that/IN/B-PP/B-PNP cause/NN/B-NP/I-PNP great/JJ/I-NP/I-PNP burden/NN/I-NP/I-PNP to/TO/B-PP/B-PNP the/DT/B-NP/I-PNP system/NN/I-NP/I-PNP users/NNS/I-NP/I-PNP and/CC/O/O the/DT/B-NP/O enhancements/NNS/I-NP/O in/IN/B-PP/B-PNP systemarchitecture/NN/B-NP/I-PNP which/WDT/O/O will/MD/B-VP/O facilitate/VB/I-VP/O efficient/JJ/B-NP/O growth/NN/I-NP/O of/IN/B-PP/B-PNP system/NN/B-NP/I-PNP name/NN/I-NP/I-PNP and/CC/I-NP/I-PNP the/DT/I-NP/I-PNP company/NN/I-NP/I-PNP namebusiness/NN/I-NP/I-PNP will/MD/B-VP/O fall/NN/B-NP/O under/IN/B-PP/B-PNP the/DT/B-NP/I-PNP purview/NN/I-NP/I-PNP of/IN/B-PP/B-PNP this/DT/B-NP/I-PNP project/NN/I-NP/I-PNP scopeThe/NN/I-NP/I-PNP functional/JJ/B-NP/I-PNP issues/NNS/I-NP/I-PNP and/CC/O/O requirements/NNS/B-NP/O that/IN/B-PP/O will/MD/B-VP/O be/VB/I-VP/O discussed/VBN/I-VP/O and/CC/O/O gathered/VBD/B-VP/O respectively/RB/B-ADVP/O aswell/NN/B-NP/O as/IN/B-PP/B-PNP validated/VBN/B-VP/I-PNP in/IN/B-PP/B-PNP the/DT/B-NP/I-PNP Requirements/NNS/I-NP/I-PNP Gathering/NN/I-NP/I-PNP and/CC/O/O Validating/NNP/B-NP/O Sessions/NNP/I-NP/O started/VBD/B-VP/O onMMDDYYYYwould/NN/B-NP/O be/VB/B-VP/O documented/VBN/I-VP/O in/IN/B-PP/B-PNP this/DT/B-NP/I-PNP FRS/NN/I-NP/I-PNP moving/VBG/B-VP/I-PNP forward/RB/B-ADVP/O\n",
            "\n",
            "\n",
            "The/DT/B-NP/O project/NN/I-NP/O team/NN/I-NP/O hasdecided/VBN/B-VP/O that/IN/B-PP/B-PNP system/NN/B-NP/I-PNP development/NN/I-NP/I-PNP will/MD/B-VP/O occur/VB/I-VP/O on/IN/B-PP/B-PNP module/NN/B-NP/I-PNP by/IN/B-PP/B-PNP module/NN/B-NP/I-PNP basis/NN/I-NP/I-PNP\n",
            "\n",
            "\n"
          ]
        }
      ]
    },
    {
      "cell_type": "code",
      "source": [],
      "metadata": {
        "id": "LA8UhU_ntgiy"
      },
      "execution_count": 31,
      "outputs": []
    }
  ]
}