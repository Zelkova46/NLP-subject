{
  "nbformat": 4,
  "nbformat_minor": 0,
  "metadata": {
    "colab": {
      "provenance": [],
      "authorship_tag": "ABX9TyNVlij2vAkPiIplhmg19hdh",
      "include_colab_link": true
    },
    "kernelspec": {
      "name": "python3",
      "display_name": "Python 3"
    },
    "language_info": {
      "name": "python"
    },
    "widgets": {
      "application/vnd.jupyter.widget-state+json": {
        "f6a4163a5151498c98e2fce2af74052f": {
          "model_module": "@jupyter-widgets/controls",
          "model_name": "HBoxModel",
          "model_module_version": "1.5.0",
          "state": {
            "_dom_classes": [],
            "_model_module": "@jupyter-widgets/controls",
            "_model_module_version": "1.5.0",
            "_model_name": "HBoxModel",
            "_view_count": null,
            "_view_module": "@jupyter-widgets/controls",
            "_view_module_version": "1.5.0",
            "_view_name": "HBoxView",
            "box_style": "",
            "children": [
              "IPY_MODEL_aa938d63bdad4167a06560ff527d85e8",
              "IPY_MODEL_d19567952cf448649fb0914fa4f167bd",
              "IPY_MODEL_a4ab7bfc063240088a60e1e836982436"
            ],
            "layout": "IPY_MODEL_619a7a0e42434a03b2928e16e050ac69"
          }
        },
        "aa938d63bdad4167a06560ff527d85e8": {
          "model_module": "@jupyter-widgets/controls",
          "model_name": "HTMLModel",
          "model_module_version": "1.5.0",
          "state": {
            "_dom_classes": [],
            "_model_module": "@jupyter-widgets/controls",
            "_model_module_version": "1.5.0",
            "_model_name": "HTMLModel",
            "_view_count": null,
            "_view_module": "@jupyter-widgets/controls",
            "_view_module_version": "1.5.0",
            "_view_name": "HTMLView",
            "description": "",
            "description_tooltip": null,
            "layout": "IPY_MODEL_0d640c4707154b8e9dd1e4add7fb001d",
            "placeholder": "​",
            "style": "IPY_MODEL_5e3e3f481ebb434cbf22023357b85d53",
            "value": "100%"
          }
        },
        "d19567952cf448649fb0914fa4f167bd": {
          "model_module": "@jupyter-widgets/controls",
          "model_name": "FloatProgressModel",
          "model_module_version": "1.5.0",
          "state": {
            "_dom_classes": [],
            "_model_module": "@jupyter-widgets/controls",
            "_model_module_version": "1.5.0",
            "_model_name": "FloatProgressModel",
            "_view_count": null,
            "_view_module": "@jupyter-widgets/controls",
            "_view_module_version": "1.5.0",
            "_view_name": "ProgressView",
            "bar_style": "success",
            "description": "",
            "description_tooltip": null,
            "layout": "IPY_MODEL_928504ee61354dfda03abf3c2e23e59a",
            "max": 346807035,
            "min": 0,
            "orientation": "horizontal",
            "style": "IPY_MODEL_0278cd445890471298175705235ef508",
            "value": 346807035
          }
        },
        "a4ab7bfc063240088a60e1e836982436": {
          "model_module": "@jupyter-widgets/controls",
          "model_name": "HTMLModel",
          "model_module_version": "1.5.0",
          "state": {
            "_dom_classes": [],
            "_model_module": "@jupyter-widgets/controls",
            "_model_module_version": "1.5.0",
            "_model_name": "HTMLModel",
            "_view_count": null,
            "_view_module": "@jupyter-widgets/controls",
            "_view_module_version": "1.5.0",
            "_view_name": "HTMLView",
            "description": "",
            "description_tooltip": null,
            "layout": "IPY_MODEL_46b7da02876e4ef6af730b935d331c27",
            "placeholder": "​",
            "style": "IPY_MODEL_108f954d7e05412480e2310ec290a641",
            "value": " 331M/331M [00:04&lt;00:00, 70.5MB/s]"
          }
        },
        "619a7a0e42434a03b2928e16e050ac69": {
          "model_module": "@jupyter-widgets/base",
          "model_name": "LayoutModel",
          "model_module_version": "1.2.0",
          "state": {
            "_model_module": "@jupyter-widgets/base",
            "_model_module_version": "1.2.0",
            "_model_name": "LayoutModel",
            "_view_count": null,
            "_view_module": "@jupyter-widgets/base",
            "_view_module_version": "1.2.0",
            "_view_name": "LayoutView",
            "align_content": null,
            "align_items": null,
            "align_self": null,
            "border": null,
            "bottom": null,
            "display": null,
            "flex": null,
            "flex_flow": null,
            "grid_area": null,
            "grid_auto_columns": null,
            "grid_auto_flow": null,
            "grid_auto_rows": null,
            "grid_column": null,
            "grid_gap": null,
            "grid_row": null,
            "grid_template_areas": null,
            "grid_template_columns": null,
            "grid_template_rows": null,
            "height": null,
            "justify_content": null,
            "justify_items": null,
            "left": null,
            "margin": null,
            "max_height": null,
            "max_width": null,
            "min_height": null,
            "min_width": null,
            "object_fit": null,
            "object_position": null,
            "order": null,
            "overflow": null,
            "overflow_x": null,
            "overflow_y": null,
            "padding": null,
            "right": null,
            "top": null,
            "visibility": null,
            "width": null
          }
        },
        "0d640c4707154b8e9dd1e4add7fb001d": {
          "model_module": "@jupyter-widgets/base",
          "model_name": "LayoutModel",
          "model_module_version": "1.2.0",
          "state": {
            "_model_module": "@jupyter-widgets/base",
            "_model_module_version": "1.2.0",
            "_model_name": "LayoutModel",
            "_view_count": null,
            "_view_module": "@jupyter-widgets/base",
            "_view_module_version": "1.2.0",
            "_view_name": "LayoutView",
            "align_content": null,
            "align_items": null,
            "align_self": null,
            "border": null,
            "bottom": null,
            "display": null,
            "flex": null,
            "flex_flow": null,
            "grid_area": null,
            "grid_auto_columns": null,
            "grid_auto_flow": null,
            "grid_auto_rows": null,
            "grid_column": null,
            "grid_gap": null,
            "grid_row": null,
            "grid_template_areas": null,
            "grid_template_columns": null,
            "grid_template_rows": null,
            "height": null,
            "justify_content": null,
            "justify_items": null,
            "left": null,
            "margin": null,
            "max_height": null,
            "max_width": null,
            "min_height": null,
            "min_width": null,
            "object_fit": null,
            "object_position": null,
            "order": null,
            "overflow": null,
            "overflow_x": null,
            "overflow_y": null,
            "padding": null,
            "right": null,
            "top": null,
            "visibility": null,
            "width": null
          }
        },
        "5e3e3f481ebb434cbf22023357b85d53": {
          "model_module": "@jupyter-widgets/controls",
          "model_name": "DescriptionStyleModel",
          "model_module_version": "1.5.0",
          "state": {
            "_model_module": "@jupyter-widgets/controls",
            "_model_module_version": "1.5.0",
            "_model_name": "DescriptionStyleModel",
            "_view_count": null,
            "_view_module": "@jupyter-widgets/base",
            "_view_module_version": "1.2.0",
            "_view_name": "StyleView",
            "description_width": ""
          }
        },
        "928504ee61354dfda03abf3c2e23e59a": {
          "model_module": "@jupyter-widgets/base",
          "model_name": "LayoutModel",
          "model_module_version": "1.2.0",
          "state": {
            "_model_module": "@jupyter-widgets/base",
            "_model_module_version": "1.2.0",
            "_model_name": "LayoutModel",
            "_view_count": null,
            "_view_module": "@jupyter-widgets/base",
            "_view_module_version": "1.2.0",
            "_view_name": "LayoutView",
            "align_content": null,
            "align_items": null,
            "align_self": null,
            "border": null,
            "bottom": null,
            "display": null,
            "flex": null,
            "flex_flow": null,
            "grid_area": null,
            "grid_auto_columns": null,
            "grid_auto_flow": null,
            "grid_auto_rows": null,
            "grid_column": null,
            "grid_gap": null,
            "grid_row": null,
            "grid_template_areas": null,
            "grid_template_columns": null,
            "grid_template_rows": null,
            "height": null,
            "justify_content": null,
            "justify_items": null,
            "left": null,
            "margin": null,
            "max_height": null,
            "max_width": null,
            "min_height": null,
            "min_width": null,
            "object_fit": null,
            "object_position": null,
            "order": null,
            "overflow": null,
            "overflow_x": null,
            "overflow_y": null,
            "padding": null,
            "right": null,
            "top": null,
            "visibility": null,
            "width": null
          }
        },
        "0278cd445890471298175705235ef508": {
          "model_module": "@jupyter-widgets/controls",
          "model_name": "ProgressStyleModel",
          "model_module_version": "1.5.0",
          "state": {
            "_model_module": "@jupyter-widgets/controls",
            "_model_module_version": "1.5.0",
            "_model_name": "ProgressStyleModel",
            "_view_count": null,
            "_view_module": "@jupyter-widgets/base",
            "_view_module_version": "1.2.0",
            "_view_name": "StyleView",
            "bar_color": null,
            "description_width": ""
          }
        },
        "46b7da02876e4ef6af730b935d331c27": {
          "model_module": "@jupyter-widgets/base",
          "model_name": "LayoutModel",
          "model_module_version": "1.2.0",
          "state": {
            "_model_module": "@jupyter-widgets/base",
            "_model_module_version": "1.2.0",
            "_model_name": "LayoutModel",
            "_view_count": null,
            "_view_module": "@jupyter-widgets/base",
            "_view_module_version": "1.2.0",
            "_view_name": "LayoutView",
            "align_content": null,
            "align_items": null,
            "align_self": null,
            "border": null,
            "bottom": null,
            "display": null,
            "flex": null,
            "flex_flow": null,
            "grid_area": null,
            "grid_auto_columns": null,
            "grid_auto_flow": null,
            "grid_auto_rows": null,
            "grid_column": null,
            "grid_gap": null,
            "grid_row": null,
            "grid_template_areas": null,
            "grid_template_columns": null,
            "grid_template_rows": null,
            "height": null,
            "justify_content": null,
            "justify_items": null,
            "left": null,
            "margin": null,
            "max_height": null,
            "max_width": null,
            "min_height": null,
            "min_width": null,
            "object_fit": null,
            "object_position": null,
            "order": null,
            "overflow": null,
            "overflow_x": null,
            "overflow_y": null,
            "padding": null,
            "right": null,
            "top": null,
            "visibility": null,
            "width": null
          }
        },
        "108f954d7e05412480e2310ec290a641": {
          "model_module": "@jupyter-widgets/controls",
          "model_name": "DescriptionStyleModel",
          "model_module_version": "1.5.0",
          "state": {
            "_model_module": "@jupyter-widgets/controls",
            "_model_module_version": "1.5.0",
            "_model_name": "DescriptionStyleModel",
            "_view_count": null,
            "_view_module": "@jupyter-widgets/base",
            "_view_module_version": "1.2.0",
            "_view_name": "StyleView",
            "description_width": ""
          }
        },
        "bf85bc3eab4643069f099d81e790e6fb": {
          "model_module": "@jupyter-widgets/controls",
          "model_name": "HBoxModel",
          "model_module_version": "1.5.0",
          "state": {
            "_dom_classes": [],
            "_model_module": "@jupyter-widgets/controls",
            "_model_module_version": "1.5.0",
            "_model_name": "HBoxModel",
            "_view_count": null,
            "_view_module": "@jupyter-widgets/controls",
            "_view_module_version": "1.5.0",
            "_view_name": "HBoxView",
            "box_style": "",
            "children": [
              "IPY_MODEL_f2fab40d1a974c2eb53b54348e5e66e8",
              "IPY_MODEL_acf036020eab49e6b4d71a283e950c74",
              "IPY_MODEL_c698428b9d7a4d5fb29f3a7ee95b98e1"
            ],
            "layout": "IPY_MODEL_1f42d4aa05444c3eb842e0f146c12e26"
          }
        },
        "f2fab40d1a974c2eb53b54348e5e66e8": {
          "model_module": "@jupyter-widgets/controls",
          "model_name": "HTMLModel",
          "model_module_version": "1.5.0",
          "state": {
            "_dom_classes": [],
            "_model_module": "@jupyter-widgets/controls",
            "_model_module_version": "1.5.0",
            "_model_name": "HTMLModel",
            "_view_count": null,
            "_view_module": "@jupyter-widgets/controls",
            "_view_module_version": "1.5.0",
            "_view_name": "HTMLView",
            "description": "",
            "description_tooltip": null,
            "layout": "IPY_MODEL_c8748a62a3584fb8972b0e9c670156af",
            "placeholder": "​",
            "style": "IPY_MODEL_10dc5e4d31f74f72a137df34c01b19e7",
            "value": "100%"
          }
        },
        "acf036020eab49e6b4d71a283e950c74": {
          "model_module": "@jupyter-widgets/controls",
          "model_name": "FloatProgressModel",
          "model_module_version": "1.5.0",
          "state": {
            "_dom_classes": [],
            "_model_module": "@jupyter-widgets/controls",
            "_model_module_version": "1.5.0",
            "_model_name": "FloatProgressModel",
            "_view_count": null,
            "_view_module": "@jupyter-widgets/controls",
            "_view_module_version": "1.5.0",
            "_view_name": "ProgressView",
            "bar_style": "success",
            "description": "",
            "description_tooltip": null,
            "layout": "IPY_MODEL_56313255b04247fb96590d2cb20016fc",
            "max": 350282127,
            "min": 0,
            "orientation": "horizontal",
            "style": "IPY_MODEL_a566e5d842f04669b27900e3350eef37",
            "value": 350282127
          }
        },
        "c698428b9d7a4d5fb29f3a7ee95b98e1": {
          "model_module": "@jupyter-widgets/controls",
          "model_name": "HTMLModel",
          "model_module_version": "1.5.0",
          "state": {
            "_dom_classes": [],
            "_model_module": "@jupyter-widgets/controls",
            "_model_module_version": "1.5.0",
            "_model_name": "HTMLModel",
            "_view_count": null,
            "_view_module": "@jupyter-widgets/controls",
            "_view_module_version": "1.5.0",
            "_view_name": "HTMLView",
            "description": "",
            "description_tooltip": null,
            "layout": "IPY_MODEL_b34aae3a29784f679ff2a0ba342fbd15",
            "placeholder": "​",
            "style": "IPY_MODEL_ba331fe737194882b4b94108a77d789c",
            "value": " 334M/334M [00:06&lt;00:00, 33.0MB/s]"
          }
        },
        "1f42d4aa05444c3eb842e0f146c12e26": {
          "model_module": "@jupyter-widgets/base",
          "model_name": "LayoutModel",
          "model_module_version": "1.2.0",
          "state": {
            "_model_module": "@jupyter-widgets/base",
            "_model_module_version": "1.2.0",
            "_model_name": "LayoutModel",
            "_view_count": null,
            "_view_module": "@jupyter-widgets/base",
            "_view_module_version": "1.2.0",
            "_view_name": "LayoutView",
            "align_content": null,
            "align_items": null,
            "align_self": null,
            "border": null,
            "bottom": null,
            "display": null,
            "flex": null,
            "flex_flow": null,
            "grid_area": null,
            "grid_auto_columns": null,
            "grid_auto_flow": null,
            "grid_auto_rows": null,
            "grid_column": null,
            "grid_gap": null,
            "grid_row": null,
            "grid_template_areas": null,
            "grid_template_columns": null,
            "grid_template_rows": null,
            "height": null,
            "justify_content": null,
            "justify_items": null,
            "left": null,
            "margin": null,
            "max_height": null,
            "max_width": null,
            "min_height": null,
            "min_width": null,
            "object_fit": null,
            "object_position": null,
            "order": null,
            "overflow": null,
            "overflow_x": null,
            "overflow_y": null,
            "padding": null,
            "right": null,
            "top": null,
            "visibility": null,
            "width": null
          }
        },
        "c8748a62a3584fb8972b0e9c670156af": {
          "model_module": "@jupyter-widgets/base",
          "model_name": "LayoutModel",
          "model_module_version": "1.2.0",
          "state": {
            "_model_module": "@jupyter-widgets/base",
            "_model_module_version": "1.2.0",
            "_model_name": "LayoutModel",
            "_view_count": null,
            "_view_module": "@jupyter-widgets/base",
            "_view_module_version": "1.2.0",
            "_view_name": "LayoutView",
            "align_content": null,
            "align_items": null,
            "align_self": null,
            "border": null,
            "bottom": null,
            "display": null,
            "flex": null,
            "flex_flow": null,
            "grid_area": null,
            "grid_auto_columns": null,
            "grid_auto_flow": null,
            "grid_auto_rows": null,
            "grid_column": null,
            "grid_gap": null,
            "grid_row": null,
            "grid_template_areas": null,
            "grid_template_columns": null,
            "grid_template_rows": null,
            "height": null,
            "justify_content": null,
            "justify_items": null,
            "left": null,
            "margin": null,
            "max_height": null,
            "max_width": null,
            "min_height": null,
            "min_width": null,
            "object_fit": null,
            "object_position": null,
            "order": null,
            "overflow": null,
            "overflow_x": null,
            "overflow_y": null,
            "padding": null,
            "right": null,
            "top": null,
            "visibility": null,
            "width": null
          }
        },
        "10dc5e4d31f74f72a137df34c01b19e7": {
          "model_module": "@jupyter-widgets/controls",
          "model_name": "DescriptionStyleModel",
          "model_module_version": "1.5.0",
          "state": {
            "_model_module": "@jupyter-widgets/controls",
            "_model_module_version": "1.5.0",
            "_model_name": "DescriptionStyleModel",
            "_view_count": null,
            "_view_module": "@jupyter-widgets/base",
            "_view_module_version": "1.2.0",
            "_view_name": "StyleView",
            "description_width": ""
          }
        },
        "56313255b04247fb96590d2cb20016fc": {
          "model_module": "@jupyter-widgets/base",
          "model_name": "LayoutModel",
          "model_module_version": "1.2.0",
          "state": {
            "_model_module": "@jupyter-widgets/base",
            "_model_module_version": "1.2.0",
            "_model_name": "LayoutModel",
            "_view_count": null,
            "_view_module": "@jupyter-widgets/base",
            "_view_module_version": "1.2.0",
            "_view_name": "LayoutView",
            "align_content": null,
            "align_items": null,
            "align_self": null,
            "border": null,
            "bottom": null,
            "display": null,
            "flex": null,
            "flex_flow": null,
            "grid_area": null,
            "grid_auto_columns": null,
            "grid_auto_flow": null,
            "grid_auto_rows": null,
            "grid_column": null,
            "grid_gap": null,
            "grid_row": null,
            "grid_template_areas": null,
            "grid_template_columns": null,
            "grid_template_rows": null,
            "height": null,
            "justify_content": null,
            "justify_items": null,
            "left": null,
            "margin": null,
            "max_height": null,
            "max_width": null,
            "min_height": null,
            "min_width": null,
            "object_fit": null,
            "object_position": null,
            "order": null,
            "overflow": null,
            "overflow_x": null,
            "overflow_y": null,
            "padding": null,
            "right": null,
            "top": null,
            "visibility": null,
            "width": null
          }
        },
        "a566e5d842f04669b27900e3350eef37": {
          "model_module": "@jupyter-widgets/controls",
          "model_name": "ProgressStyleModel",
          "model_module_version": "1.5.0",
          "state": {
            "_model_module": "@jupyter-widgets/controls",
            "_model_module_version": "1.5.0",
            "_model_name": "ProgressStyleModel",
            "_view_count": null,
            "_view_module": "@jupyter-widgets/base",
            "_view_module_version": "1.2.0",
            "_view_name": "StyleView",
            "bar_color": null,
            "description_width": ""
          }
        },
        "b34aae3a29784f679ff2a0ba342fbd15": {
          "model_module": "@jupyter-widgets/base",
          "model_name": "LayoutModel",
          "model_module_version": "1.2.0",
          "state": {
            "_model_module": "@jupyter-widgets/base",
            "_model_module_version": "1.2.0",
            "_model_name": "LayoutModel",
            "_view_count": null,
            "_view_module": "@jupyter-widgets/base",
            "_view_module_version": "1.2.0",
            "_view_name": "LayoutView",
            "align_content": null,
            "align_items": null,
            "align_self": null,
            "border": null,
            "bottom": null,
            "display": null,
            "flex": null,
            "flex_flow": null,
            "grid_area": null,
            "grid_auto_columns": null,
            "grid_auto_flow": null,
            "grid_auto_rows": null,
            "grid_column": null,
            "grid_gap": null,
            "grid_row": null,
            "grid_template_areas": null,
            "grid_template_columns": null,
            "grid_template_rows": null,
            "height": null,
            "justify_content": null,
            "justify_items": null,
            "left": null,
            "margin": null,
            "max_height": null,
            "max_width": null,
            "min_height": null,
            "min_width": null,
            "object_fit": null,
            "object_position": null,
            "order": null,
            "overflow": null,
            "overflow_x": null,
            "overflow_y": null,
            "padding": null,
            "right": null,
            "top": null,
            "visibility": null,
            "width": null
          }
        },
        "ba331fe737194882b4b94108a77d789c": {
          "model_module": "@jupyter-widgets/controls",
          "model_name": "DescriptionStyleModel",
          "model_module_version": "1.5.0",
          "state": {
            "_model_module": "@jupyter-widgets/controls",
            "_model_module_version": "1.5.0",
            "_model_name": "DescriptionStyleModel",
            "_view_count": null,
            "_view_module": "@jupyter-widgets/base",
            "_view_module_version": "1.2.0",
            "_view_name": "StyleView",
            "description_width": ""
          }
        }
      }
    }
  },
  "cells": [
    {
      "cell_type": "markdown",
      "metadata": {
        "id": "view-in-github",
        "colab_type": "text"
      },
      "source": [
        "<a href=\"https://colab.research.google.com/github/Zelkova46/NLP-subject/blob/main/supar.ipynb\" target=\"_parent\"><img src=\"https://colab.research.google.com/assets/colab-badge.svg\" alt=\"Open In Colab\"/></a>"
      ]
    },
    {
      "cell_type": "markdown",
      "source": [
        "parsing supar\n",
        "\n"
      ],
      "metadata": {
        "id": "vUSJlusxkJ3l"
      }
    },
    {
      "cell_type": "code",
      "source": [],
      "metadata": {
        "id": "IYxZFSUmtGyp"
      },
      "execution_count": 3,
      "outputs": []
    },
    {
      "cell_type": "markdown",
      "source": [
        "## import dataset"
      ],
      "metadata": {
        "id": "KHtURl1n40dW"
      }
    },
    {
      "cell_type": "code",
      "source": [
        "!pip install xmltodict"
      ],
      "metadata": {
        "colab": {
          "base_uri": "https://localhost:8080/"
        },
        "id": "oABRUIE940K-",
        "outputId": "640f9ec5-4b4a-4693-d64c-c5d5213927d7"
      },
      "execution_count": 4,
      "outputs": [
        {
          "output_type": "stream",
          "name": "stdout",
          "text": [
            "Looking in indexes: https://pypi.org/simple, https://us-python.pkg.dev/colab-wheels/public/simple/\n",
            "Requirement already satisfied: xmltodict in /usr/local/lib/python3.8/dist-packages (0.13.0)\n"
          ]
        }
      ]
    },
    {
      "cell_type": "code",
      "source": [
        "import csv\n",
        "import xmltodict\n",
        "import numpy as np\n",
        "import nltk\n",
        "nltk.download('punkt')\n",
        "nltk.download('averaged_perceptron_tagger')"
      ],
      "metadata": {
        "colab": {
          "base_uri": "https://localhost:8080/"
        },
        "id": "hGzSwLR845ph",
        "outputId": "eda7bb03-0e2d-4807-9fbe-d7a3dcb85e1e"
      },
      "execution_count": 5,
      "outputs": [
        {
          "output_type": "stream",
          "name": "stderr",
          "text": [
            "[nltk_data] Downloading package punkt to /root/nltk_data...\n",
            "[nltk_data]   Package punkt is already up-to-date!\n",
            "[nltk_data] Downloading package averaged_perceptron_tagger to\n",
            "[nltk_data]     /root/nltk_data...\n",
            "[nltk_data]   Package averaged_perceptron_tagger is already up-to-\n",
            "[nltk_data]       date!\n"
          ]
        },
        {
          "output_type": "execute_result",
          "data": {
            "text/plain": [
              "True"
            ]
          },
          "metadata": {},
          "execution_count": 5
        }
      ]
    },
    {
      "cell_type": "code",
      "source": [],
      "metadata": {
        "id": "mZMhIQW25GTf"
      },
      "execution_count": 5,
      "outputs": []
    },
    {
      "cell_type": "code",
      "source": [
        "with open(\"/content/2010-blitdraft.xml\", \"r\") as file:\n",
        "  filedata = file.read()\n",
        "\n",
        "\n",
        "#convverting xml to python dictionary (ordered dict)\n",
        "data_dict = xmltodict.parse(filedata)"
      ],
      "metadata": {
        "id": "MOm-WG9em29p"
      },
      "execution_count": 6,
      "outputs": []
    },
    {
      "cell_type": "code",
      "source": [
        "data_dict.keys()"
      ],
      "metadata": {
        "colab": {
          "base_uri": "https://localhost:8080/"
        },
        "id": "9lye4FyinQDE",
        "outputId": "76ce4927-cc11-4751-a644-863c0af67824"
      },
      "execution_count": 7,
      "outputs": [
        {
          "output_type": "execute_result",
          "data": {
            "text/plain": [
              "dict_keys(['req_document'])"
            ]
          },
          "metadata": {},
          "execution_count": 7
        }
      ]
    },
    {
      "cell_type": "code",
      "source": [
        "data_dict = data_dict['req_document']"
      ],
      "metadata": {
        "id": "j7ZHGpUEnSP_"
      },
      "execution_count": 8,
      "outputs": []
    },
    {
      "cell_type": "code",
      "source": [
        "data_dict.keys()"
      ],
      "metadata": {
        "colab": {
          "base_uri": "https://localhost:8080/"
        },
        "id": "hcSx-pFnnWmL",
        "outputId": "319fbe65-4bdd-47f7-cfe8-c8f71da12d91"
      },
      "execution_count": 9,
      "outputs": [
        {
          "output_type": "execute_result",
          "data": {
            "text/plain": [
              "dict_keys(['@xmlns', '@xmlns:xsi', '@xsi:schemaLocation', 'title', 'version', 'p'])"
            ]
          },
          "metadata": {},
          "execution_count": 9
        }
      ]
    },
    {
      "cell_type": "code",
      "source": [
        "data_dict = data_dict['p']"
      ],
      "metadata": {
        "id": "acRwZEngnZee"
      },
      "execution_count": 10,
      "outputs": []
    },
    {
      "cell_type": "code",
      "source": [
        "print((data_dict))\n",
        "print(len(data_dict))"
      ],
      "metadata": {
        "colab": {
          "base_uri": "https://localhost:8080/"
        },
        "id": "dSEGfi1kng7v",
        "outputId": "32941a9d-13ef-4b85-953f-23fc0b64914c"
      },
      "execution_count": 11,
      "outputs": [
        {
          "output_type": "stream",
          "name": "stdout",
          "text": [
            "[{'@id': '1', 'title': 'Introduction', 'text_body': 'The management of [company name]. has identified a potential need for re-writing its core\\nLaboratory Information System (LIS) to improve the performance. In general, this project\\nwill provide a stable environment, automate decisions, streamline workflows, and employ\\nindustry standard coding and documentation practices. This effort will ensure System\\nIntegrity/Reliability by developing a system that is reliable and low maintenance including\\nsecurity and confidentiality requirements as dictated by HIPAA and FDA regulatory\\nstandards.', 'p': [{'@id': '1.1', 'title': 'Purpose', 'text_body': 'This Functional Requirements Specification (FRS) is intended to capture the changes in\\nfunctionality that will occur during [system name] Re-Writing effort, which is part of the xxx\\nEnhancements project. All functionalities for the new [system name] system would be\\ndocumented in this FRS. Any undocumented requirements will be considered out of scope\\nand will not be implemented during this phase of Re-Writing.'}, {'@id': '1.2', 'title': 'Scope', 'text_body': 'The existing functionalities in the core [system name] will remain same. This project is\\nlimited in scope to the enhancements and defects that are critical in the severity level that is\\nthe issues that cause great burden to the system users and the enhancements in system\\narchitecture, which will facilitate efficient growth of [system name] and the [company name]\\nbusiness, will fall under the purview of this project scope.\\nThe functional issues and requirements that will be discussed and gathered respectively as\\nwell as validated in the Requirements Gathering and Validating Sessions started on\\nMM/DD/YYYYwould be documented in this FRS moving forward. The project team has\\ndecided that system development will occur on module by module basis.'}]}, {'@id': '2', 'title': 'Specific Requirements', 'p': [{'@id': '2.1', 'title': 'Functionality', 'p': {'@id': '2.1.1', 'title': 'Module: Admin', 'p': [{'@id': '2.1.1.1', 'title': 'Use Case: xxx Page, UC ID: UC_RR_xxx_xxx_000', 'p': [{'@id': '2.1.1.1.1', 'text_body': 'System shall display the hyperlinks and descriptions for the user to perform the desired\\nfunctions as specified in the related UIS.'}, {'@id': '2.1.1.1.2', 'text_body': 'The User shall be able to view the hyperlinks and descriptions listed.'}, {'@id': '2.1.1.1.3', 'text_body': 'The User shall be able to choose a function by clicking the hyperlink.'}, {'@id': '2.1.1.1.4', 'text_body': 'The system shall display the desired operational page for the user after clicking the\\nhyperlink.'}]}, {'@id': '2.1.1.2', 'title': 'Use Case: xxx Page, UC ID: UC_RR_xxx_xxx_000', 'p': {'@id': '2.1.1.2.1', 'title': 'Action: Create/Add User', 'p': [{'@id': '2.1.1.2.1.1', 'text_body': 'A user with admin privileges shall be able to Add/Create a new user and associate the\\nuser with specified role(s) in the system.'}, {'@id': '2.1.1.2.1.2', 'text_body': 'The system shall display an error message if the new user is found in the [system name]\\nsystem.'}, {'@id': '2.1.1.2.1.3', 'text_body': 'The system shall display an error message if the new user is not active in the Active\\nDirectory.'}, {'@id': '2.1.1.2.1.4', 'text_body': 'The system shall display the xxx tab as the default tab.'}, {'@id': '2.1.1.2.1.5', 'text_body': 'The user shall be able to create/add a new user manually or from a template.'}, {'@id': '2.1.1.2.1.6', 'text_body': 'The user record shall inherit all specified role(s) settings in the template when the user\\nrecord is created from the user template'}, {'@id': '2.1.1.2.1.7', 'text_body': 'The user shall be able to add additional roles manually while creating/adding a new user\\nfrom a user template.'}, {'@id': '2.1.1.2.1.8', 'text_body': 'The system shall save the user info to the database with specified roles associated with\\ndivisions for the newly created/added user.'}, {'@id': '2.1.1.2.1.9', 'text_body': 'The system shall perform a search on the [system name] user display name and user\\nname columns in the user tables to find the user and verify the user’s existence.'}, {'@id': '2.1.1.2.1.10', 'text_body': 'The system shall perform a search in the Active Directory to verify the status of the user\\n— Active/Inactive within the company—when the user attempts to create/add a new user\\nin the [system name] system.'}, {'@id': '2.1.1.2.1.11', 'text_body': 'The system shall generate a standard confirmation message after saving data and\\nwarning/caution messages after the cancel or close button is clicked.'}, {'@id': '2.1.1.2.1.12', 'text_body': 'The user must have the flexibility to click any tab to commence the adding process,\\nalthough the xxx Tab shall display as the default tab.'}, {'@id': '2.1.1.2.1.13', 'text_body': 'All required fields as specified in the UIS must be marked with a red asterisk alerting the\\nuser to fill the required fields in.'}, {'@id': '2.1.1.2.1.14', 'text_body': 'The user shall be able to save data after creating/adding a new user or cancel data to\\nabort the process.'}, {'@id': '2.1.1.2.1.15', 'text_body': 'The system shall clear up data if the user chooses to click the Cancel button in the midst\\nof creating/adding a new user.'}, {'@id': '2.1.1.2.1.16', 'text_body': 'The system shall direct the user to the xxx Page if the user chooses to click the close\\nbutton without entering any data.'}, {'@id': '2.1.1.2.1.17', 'text_body': 'The user must associate at least one role, division, designator code, and lab location at\\nthe time of creating/adding a new user.'}, {'@id': '2.1.1.2.1.18', 'text_body': 'The user must fill in the required fields—User Name and Display Name—in the User\\nInformation section at the time of creating/adding a new user.'}, {'@id': '2.1.1.2.1.19', 'text_body': 'The system shall generate a standard error/warning message after the user attempts to\\nsave data without associating one of each of the following criteria—xxx—and/or without\\nfilling in the required fields in the User Information section.'}]}}]}}, {'@id': '2.2', 'title': 'Usability', 'p': {'@id': '2.2.1', 'title': 'User Interface Guidelines', 'p': [{'@id': '2.2.1.1', 'text_body': 'The Project Team must demonstrate mockups of UI changes to project stakeholders early\\nin the development process.'}, {'@id': '2.2.1.2', 'text_body': 'The Project Team must permit reasonable adjustment to the user interfaces of new\\nfunctionality by project stakeholders when project schedule permits those adjustments.'}]}}, {'@id': '2.3', 'title': 'Reliability', 'p': {'@id': '2.3.1', 'title': 'System Downtime', 'p': {'@id': '2.3.1.1', 'text_body': 'The Project Team shall schedule updates to the production environment only on Tuesdays\\nbetween 7pm and 7am. (Example)'}}}, {'@id': '2.4', 'title': 'Performance', 'p': {'@id': '2.4.1', 'title': 'Quality Assurance', 'p': [{'@id': '2.4.1.1', 'text_body': 'The Project Team must perform applicable and appropriate testing against new functionality\\nprior to releasing that functionality/build to the production environment.'}, {'@id': '2.4.1.2', 'text_body': 'The project Team must allow a reasonable time to conduct User Acceptance Testing (UAT)\\nagainst the built functionalities prior to deploying the product to the production environment.'}]}}, {'@id': '2.5', 'title': 'Supportability', 'p': [{'@id': '2.5.1', 'title': 'Coding Standards', 'p': [{'@id': '2.5.1.1', 'text_body': 'The Development Team shall define coding standards for the application and follow those\\nstandards consistently.'}, {'@id': '2.5.1.2', 'text_body': 'The Development Team shall be required to adjust existing source code to follow accepted\\ncoding standards only if that source code must be modified.'}]}, {'@id': '2.5.2', 'title': 'Maintainability Standards', 'p': [{'@id': '2.5.2.1', 'text_body': 'The system shall log errors, warnings, and informational messages to an external log file on\\nthe application server.'}, {'@id': '2.5.2.2', 'text_body': 'The Development Team shall be required to adjust existing source code to use the external\\nlog file only if that source code must be modified to implement another requirement.'}, {'@id': '2.5.2.3', 'text_body': 'The system shall log an error message to the external data file when the user is directed to\\nthe [SYSTEM NAME] error page.'}, {'@id': '2.5.2.4', 'text_body': 'The system shall send a notification email to a Client Services email distribution list if the\\nuser is directed to the xxx error page.'}]}]}, {'@id': '2.6', 'title': 'Design Constraints', 'p': [{'@id': '2.6.1', 'title': 'Development Platform', 'p': [{'@id': '2.6.1.1', 'text_body': 'The Development Team shall develop functionalities using the xx language and on the\\nsupported .NET 3.5 Platform.'}, {'@id': '2.6.1.2', 'text_body': 'The Development Team shall utilize established open source frameworks instead of\\nproprietary custom components wherever appropriate.'}, {'@id': '2.6.1.3', 'text_body': 'The system shall continue to depend upon and use a single SQL Server 2008 database.'}]}, {'@id': '2.6.2', 'title': 'Production Releases', 'p': {'@id': '2.6.2.1', 'text_body': 'The Technical Owner/Lead shall provide signoff before any [SYSTEM NAME] build can be\\ndeployed to the production environment.'}}, {'@id': '2.6.3', 'title': 'Development Process', 'p': [{'@id': '2.6.3.1', 'text_body': 'The Development Team shall perform weekly integrations of the [SYSTEM NAME] system\\nand deploy these system updates to the Staging environment.'}, {'@id': '2.6.3.2', 'text_body': 'The Development Team shall label every scheduled [SYSTEM NAME] build in the source\\ncontrol system.'}, {'@id': '2.6.3.3', 'text_body': 'The Development Team shall perform scheduled [SYSTEM NAME] builds using code\\nchecked out of source control using the label as defined and specified.'}, {'@id': '2.6.3.4', 'text_body': 'The Development Team shall develop and then send out release notes via e-mail to all\\nProject Team after each [SYSTEM NAME] build deployed to the Staging environment.'}, {'@id': '2.6.3.5', 'text_body': 'The Technical Lead shall perform code reviews of every system change before those\\nchanges may be committed to source control.'}, {'@id': '2.6.3.6', 'text_body': 'The QA/QC Team must perform regression testing against all scheduled builds.'}]}]}, {'@id': '2.7', 'title': 'Online User Documentation and Help System Requirements', 'p': {'@id': '2.7.1', 'title': 'Robohelp Tool:', 'text_body': 'RoboHelp version 8 will be used to create the online [system name]\\nHelp hypertext links. The [system name] system will display a hypertext link labeled\\n“Help” at the top right corner on each of the user screens to provide assistance to the\\nuser. Each of the Help topic pop-up windows will contain that same content that is\\navailable within the [system name] user’s manuals.', 'p': [{'@id': '2.7.1.1', 'text_body': 'The system shall provide the capability to open a pop-up window displaying information\\nabout the specific page along with links to supporting help topics upon selecting each Help\\nlink.'}, {'@id': '2.7.1.2', 'text_body': 'The system shall display “[system name] Overview” page located under the Getting Started\\nsection of Help as default help topic page that will load upon selecting Help hypertext link.'}, {'@id': '2.7.1.3', 'text_body': 'The system must allow users to easily navigate through each of the help topics by selecting\\na corresponding hypertext link provided in the left frame of the pop-up Help window.'}, {'@id': '2.7.1.4', 'text_body': 'The system shall display the [company name] logo in the top, right side of the screen on\\neach of the help pages.'}, {'@id': '2.7.1.5', 'text_body': 'The system must exhibit each of the help pages using the same color scheme and\\nbackground as specified.'}, {'@id': '2.7.1.6', 'text_body': 'The system shall provide searching ability to the users to quickly find specific topic material\\nthrough the online help tool.'}, {'@id': '2.7.1.7', 'text_body': 'The system shall provide an index to the users for a more in-depth search of topic contents\\nthrough the online help tool.'}, {'@id': '2.7.1.8', 'text_body': 'The system shall provide a Glossary for industry-related terms associated with [company\\nname] and the [system name] system to the users through the online help tool.'}]}}, {'@id': '2.8', 'title': 'Interfaces'}, {'@id': '2.9', 'title': 'Applicable Standards', 'p': {'@id': '2.9.1', 'p': [{'@id': '2.9.1.1', 'text_body': 'The system shall retain existing HIPAA compliance capabilities.'}, {'@id': '2.9.1.2', 'text_body': 'The system shall follow HIPAA compliance capabilities in new functionality introduced to the\\nsystem.'}]}}]}, {'@id': '3', 'p': {'@id': 'Glossary 30209'}}]\n",
            "3\n"
          ]
        }
      ]
    },
    {
      "cell_type": "code",
      "source": [
        "for item in data_dict:\n",
        "  print(item.keys())"
      ],
      "metadata": {
        "colab": {
          "base_uri": "https://localhost:8080/"
        },
        "id": "gSkU5HilnjYO",
        "outputId": "1fd032cd-01b8-4a67-b91f-2ca57db04936"
      },
      "execution_count": 12,
      "outputs": [
        {
          "output_type": "stream",
          "name": "stdout",
          "text": [
            "dict_keys(['@id', 'title', 'text_body', 'p'])\n",
            "dict_keys(['@id', 'title', 'p'])\n",
            "dict_keys(['@id', 'p'])\n"
          ]
        }
      ]
    },
    {
      "cell_type": "code",
      "source": [
        "sens = []\n",
        "data = []"
      ],
      "metadata": {
        "id": "mLvlQSGvn2hL"
      },
      "execution_count": 13,
      "outputs": []
    },
    {
      "cell_type": "code",
      "source": [
        "for item in data_dict:\n",
        "  for value in item.keys():\n",
        "    if value == 'p':\n",
        "      data.append(item['p'])"
      ],
      "metadata": {
        "id": "MQnlI55JoAMF"
      },
      "execution_count": 14,
      "outputs": []
    },
    {
      "cell_type": "code",
      "source": [
        "data = data[0]"
      ],
      "metadata": {
        "id": "BO0PVs3RoLWV"
      },
      "execution_count": 15,
      "outputs": []
    },
    {
      "cell_type": "code",
      "source": [
        "data"
      ],
      "metadata": {
        "colab": {
          "base_uri": "https://localhost:8080/"
        },
        "id": "3KmrfsZRoWZC",
        "outputId": "256fa2c9-1808-43e0-9ed9-f504fc2eb162"
      },
      "execution_count": 16,
      "outputs": [
        {
          "output_type": "execute_result",
          "data": {
            "text/plain": [
              "[{'@id': '1.1',\n",
              "  'title': 'Purpose',\n",
              "  'text_body': 'This Functional Requirements Specification (FRS) is intended to capture the changes in\\nfunctionality that will occur during [system name] Re-Writing effort, which is part of the xxx\\nEnhancements project. All functionalities for the new [system name] system would be\\ndocumented in this FRS. Any undocumented requirements will be considered out of scope\\nand will not be implemented during this phase of Re-Writing.'},\n",
              " {'@id': '1.2',\n",
              "  'title': 'Scope',\n",
              "  'text_body': 'The existing functionalities in the core [system name] will remain same. This project is\\nlimited in scope to the enhancements and defects that are critical in the severity level that is\\nthe issues that cause great burden to the system users and the enhancements in system\\narchitecture, which will facilitate efficient growth of [system name] and the [company name]\\nbusiness, will fall under the purview of this project scope.\\nThe functional issues and requirements that will be discussed and gathered respectively as\\nwell as validated in the Requirements Gathering and Validating Sessions started on\\nMM/DD/YYYYwould be documented in this FRS moving forward. The project team has\\ndecided that system development will occur on module by module basis.'}]"
            ]
          },
          "metadata": {},
          "execution_count": 16
        }
      ]
    },
    {
      "cell_type": "code",
      "source": [
        "for item in data:\n",
        "  for value in item.keys():\n",
        "    if value == 'text_body':\n",
        "      sens.append(item['text_body'])"
      ],
      "metadata": {
        "id": "Xe-J9xZkoVqs"
      },
      "execution_count": 17,
      "outputs": []
    },
    {
      "cell_type": "code",
      "source": [
        "sens"
      ],
      "metadata": {
        "colab": {
          "base_uri": "https://localhost:8080/"
        },
        "id": "DMX8B0Ppo52c",
        "outputId": "ffd53feb-18a4-43a8-f339-eedd9634917f"
      },
      "execution_count": 18,
      "outputs": [
        {
          "output_type": "execute_result",
          "data": {
            "text/plain": [
              "['This Functional Requirements Specification (FRS) is intended to capture the changes in\\nfunctionality that will occur during [system name] Re-Writing effort, which is part of the xxx\\nEnhancements project. All functionalities for the new [system name] system would be\\ndocumented in this FRS. Any undocumented requirements will be considered out of scope\\nand will not be implemented during this phase of Re-Writing.',\n",
              " 'The existing functionalities in the core [system name] will remain same. This project is\\nlimited in scope to the enhancements and defects that are critical in the severity level that is\\nthe issues that cause great burden to the system users and the enhancements in system\\narchitecture, which will facilitate efficient growth of [system name] and the [company name]\\nbusiness, will fall under the purview of this project scope.\\nThe functional issues and requirements that will be discussed and gathered respectively as\\nwell as validated in the Requirements Gathering and Validating Sessions started on\\nMM/DD/YYYYwould be documented in this FRS moving forward. The project team has\\ndecided that system development will occur on module by module basis.']"
            ]
          },
          "metadata": {},
          "execution_count": 18
        }
      ]
    },
    {
      "cell_type": "code",
      "source": [
        "hasil = []\n",
        "for sub in sens:\n",
        "  hasil.append(sub.replace(\"\\n\", \"\"))"
      ],
      "metadata": {
        "id": "UkJeidHgo50E"
      },
      "execution_count": 19,
      "outputs": []
    },
    {
      "cell_type": "code",
      "source": [
        "temp = []\n",
        "for value in hasil:\n",
        "  temp.append(value.split('. '))"
      ],
      "metadata": {
        "id": "j6_JgwUwpKhG"
      },
      "execution_count": 20,
      "outputs": []
    },
    {
      "cell_type": "code",
      "source": [
        "sentences = []\n",
        "for value in temp:\n",
        "  for item in value:\n",
        "    sentences.append(item)\n"
      ],
      "metadata": {
        "id": "Vewv1maZpePB"
      },
      "execution_count": 21,
      "outputs": []
    },
    {
      "cell_type": "code",
      "source": [
        "print(np.array(sentences))"
      ],
      "metadata": {
        "colab": {
          "base_uri": "https://localhost:8080/"
        },
        "id": "NC48CyivpzRU",
        "outputId": "afe8837f-49ed-4132-c00f-80a3e7034994"
      },
      "execution_count": 22,
      "outputs": [
        {
          "output_type": "stream",
          "name": "stdout",
          "text": [
            "['This Functional Requirements Specification (FRS) is intended to capture the changes infunctionality that will occur during [system name] Re-Writing effort, which is part of the xxxEnhancements project'\n",
            " 'All functionalities for the new [system name] system would bedocumented in this FRS'\n",
            " 'Any undocumented requirements will be considered out of scopeand will not be implemented during this phase of Re-Writing.'\n",
            " 'The existing functionalities in the core [system name] will remain same'\n",
            " 'This project islimited in scope to the enhancements and defects that are critical in the severity level that isthe issues that cause great burden to the system users and the enhancements in systemarchitecture, which will facilitate efficient growth of [system name] and the [company name]business, will fall under the purview of this project scope.The functional issues and requirements that will be discussed and gathered respectively aswell as validated in the Requirements Gathering and Validating Sessions started onMM/DD/YYYYwould be documented in this FRS moving forward'\n",
            " 'The project team hasdecided that system development will occur on module by module basis.']\n"
          ]
        }
      ]
    },
    {
      "cell_type": "code",
      "source": [
        "import string\n",
        "for x in range(len(sentences)):\n",
        "  sentences[x] = sentences[x].translate(str.maketrans('', '', string.punctuation))"
      ],
      "metadata": {
        "id": "fgl57DpdekWo"
      },
      "execution_count": 23,
      "outputs": []
    },
    {
      "cell_type": "code",
      "source": [
        "sentences"
      ],
      "metadata": {
        "colab": {
          "base_uri": "https://localhost:8080/"
        },
        "id": "0Df-tbPin3xa",
        "outputId": "db7ef12c-023d-4583-8f4f-385f0655def3"
      },
      "execution_count": 24,
      "outputs": [
        {
          "output_type": "execute_result",
          "data": {
            "text/plain": [
              "['This Functional Requirements Specification FRS is intended to capture the changes infunctionality that will occur during system name ReWriting effort which is part of the xxxEnhancements project',\n",
              " 'All functionalities for the new system name system would bedocumented in this FRS',\n",
              " 'Any undocumented requirements will be considered out of scopeand will not be implemented during this phase of ReWriting',\n",
              " 'The existing functionalities in the core system name will remain same',\n",
              " 'This project islimited in scope to the enhancements and defects that are critical in the severity level that isthe issues that cause great burden to the system users and the enhancements in systemarchitecture which will facilitate efficient growth of system name and the company namebusiness will fall under the purview of this project scopeThe functional issues and requirements that will be discussed and gathered respectively aswell as validated in the Requirements Gathering and Validating Sessions started onMMDDYYYYwould be documented in this FRS moving forward',\n",
              " 'The project team hasdecided that system development will occur on module by module basis']"
            ]
          },
          "metadata": {},
          "execution_count": 24
        }
      ]
    },
    {
      "cell_type": "code",
      "source": [
        "type(sentences[0])"
      ],
      "metadata": {
        "colab": {
          "base_uri": "https://localhost:8080/"
        },
        "id": "dsp4Eyb05vEv",
        "outputId": "4b0ea34f-64d8-4fb0-8eeb-f71c3fc7695a"
      },
      "execution_count": 25,
      "outputs": [
        {
          "output_type": "execute_result",
          "data": {
            "text/plain": [
              "str"
            ]
          },
          "metadata": {},
          "execution_count": 25
        }
      ]
    },
    {
      "cell_type": "code",
      "source": [
        "!pip install -U supar"
      ],
      "metadata": {
        "colab": {
          "base_uri": "https://localhost:8080/"
        },
        "id": "q15SARLC5dBI",
        "outputId": "9c18859c-9eea-401e-b952-0e869cc39cb6"
      },
      "execution_count": 26,
      "outputs": [
        {
          "output_type": "stream",
          "name": "stdout",
          "text": [
            "Looking in indexes: https://pypi.org/simple, https://us-python.pkg.dev/colab-wheels/public/simple/\n",
            "Collecting supar\n",
            "  Downloading supar-1.1.4-py3-none-any.whl (93 kB)\n",
            "\u001b[2K     \u001b[90m━━━━━━━━━━━━━━━━━━━━━━━━━━━━━━━━━━━━━━━━\u001b[0m \u001b[32m93.1/93.1 KB\u001b[0m \u001b[31m3.7 MB/s\u001b[0m eta \u001b[36m0:00:00\u001b[0m\n",
            "\u001b[?25hCollecting transformers>=4.0.0\n",
            "  Downloading transformers-4.26.1-py3-none-any.whl (6.3 MB)\n",
            "\u001b[2K     \u001b[90m━━━━━━━━━━━━━━━━━━━━━━━━━━━━━━━━━━━━━━━━\u001b[0m \u001b[32m6.3/6.3 MB\u001b[0m \u001b[31m51.5 MB/s\u001b[0m eta \u001b[36m0:00:00\u001b[0m\n",
            "\u001b[?25hCollecting stanza\n",
            "  Downloading stanza-1.4.2-py3-none-any.whl (691 kB)\n",
            "\u001b[2K     \u001b[90m━━━━━━━━━━━━━━━━━━━━━━━━━━━━━━━━━━━━━━\u001b[0m \u001b[32m691.3/691.3 KB\u001b[0m \u001b[31m47.1 MB/s\u001b[0m eta \u001b[36m0:00:00\u001b[0m\n",
            "\u001b[?25hRequirement already satisfied: nltk in /usr/local/lib/python3.8/dist-packages (from supar) (3.7)\n",
            "Requirement already satisfied: dill in /usr/local/lib/python3.8/dist-packages (from supar) (0.3.6)\n",
            "Requirement already satisfied: torch>=1.7.1 in /usr/local/lib/python3.8/dist-packages (from supar) (1.13.1+cu116)\n",
            "Requirement already satisfied: typing-extensions in /usr/local/lib/python3.8/dist-packages (from torch>=1.7.1->supar) (4.5.0)\n",
            "Requirement already satisfied: tqdm>=4.27 in /usr/local/lib/python3.8/dist-packages (from transformers>=4.0.0->supar) (4.64.1)\n",
            "Requirement already satisfied: numpy>=1.17 in /usr/local/lib/python3.8/dist-packages (from transformers>=4.0.0->supar) (1.22.4)\n",
            "Requirement already satisfied: pyyaml>=5.1 in /usr/local/lib/python3.8/dist-packages (from transformers>=4.0.0->supar) (6.0)\n",
            "Requirement already satisfied: filelock in /usr/local/lib/python3.8/dist-packages (from transformers>=4.0.0->supar) (3.9.0)\n",
            "Requirement already satisfied: requests in /usr/local/lib/python3.8/dist-packages (from transformers>=4.0.0->supar) (2.25.1)\n",
            "Requirement already satisfied: regex!=2019.12.17 in /usr/local/lib/python3.8/dist-packages (from transformers>=4.0.0->supar) (2022.6.2)\n",
            "Requirement already satisfied: packaging>=20.0 in /usr/local/lib/python3.8/dist-packages (from transformers>=4.0.0->supar) (23.0)\n",
            "Collecting tokenizers!=0.11.3,<0.14,>=0.11.1\n",
            "  Downloading tokenizers-0.13.2-cp38-cp38-manylinux_2_17_x86_64.manylinux2014_x86_64.whl (7.6 MB)\n",
            "\u001b[2K     \u001b[90m━━━━━━━━━━━━━━━━━━━━━━━━━━━━━━━━━━━━━━━━\u001b[0m \u001b[32m7.6/7.6 MB\u001b[0m \u001b[31m82.5 MB/s\u001b[0m eta \u001b[36m0:00:00\u001b[0m\n",
            "\u001b[?25hCollecting huggingface-hub<1.0,>=0.11.0\n",
            "  Downloading huggingface_hub-0.12.1-py3-none-any.whl (190 kB)\n",
            "\u001b[2K     \u001b[90m━━━━━━━━━━━━━━━━━━━━━━━━━━━━━━━━━━━━━━\u001b[0m \u001b[32m190.3/190.3 KB\u001b[0m \u001b[31m20.6 MB/s\u001b[0m eta \u001b[36m0:00:00\u001b[0m\n",
            "\u001b[?25hRequirement already satisfied: joblib in /usr/local/lib/python3.8/dist-packages (from nltk->supar) (1.2.0)\n",
            "Requirement already satisfied: click in /usr/local/lib/python3.8/dist-packages (from nltk->supar) (7.1.2)\n",
            "Requirement already satisfied: protobuf in /usr/local/lib/python3.8/dist-packages (from stanza->supar) (3.19.6)\n",
            "Requirement already satisfied: six in /usr/local/lib/python3.8/dist-packages (from stanza->supar) (1.15.0)\n",
            "Collecting emoji\n",
            "  Downloading emoji-2.2.0.tar.gz (240 kB)\n",
            "\u001b[2K     \u001b[90m━━━━━━━━━━━━━━━━━━━━━━━━━━━━━━━━━━━━━━\u001b[0m \u001b[32m240.9/240.9 KB\u001b[0m \u001b[31m22.8 MB/s\u001b[0m eta \u001b[36m0:00:00\u001b[0m\n",
            "\u001b[?25h  Preparing metadata (setup.py) ... \u001b[?25l\u001b[?25hdone\n",
            "Requirement already satisfied: idna<3,>=2.5 in /usr/local/lib/python3.8/dist-packages (from requests->transformers>=4.0.0->supar) (2.10)\n",
            "Requirement already satisfied: chardet<5,>=3.0.2 in /usr/local/lib/python3.8/dist-packages (from requests->transformers>=4.0.0->supar) (4.0.0)\n",
            "Requirement already satisfied: certifi>=2017.4.17 in /usr/local/lib/python3.8/dist-packages (from requests->transformers>=4.0.0->supar) (2022.12.7)\n",
            "Requirement already satisfied: urllib3<1.27,>=1.21.1 in /usr/local/lib/python3.8/dist-packages (from requests->transformers>=4.0.0->supar) (1.24.3)\n",
            "Building wheels for collected packages: emoji\n",
            "  Building wheel for emoji (setup.py) ... \u001b[?25l\u001b[?25hdone\n",
            "  Created wheel for emoji: filename=emoji-2.2.0-py3-none-any.whl size=234926 sha256=fbbfaadb17ff67c78e875c050aeaa14ac67931c55d2c5ae0deaf910eab5d3e6b\n",
            "  Stored in directory: /root/.cache/pip/wheels/86/62/9e/a6b27a681abcde69970dbc0326ff51955f3beac72f15696984\n",
            "Successfully built emoji\n",
            "Installing collected packages: tokenizers, emoji, stanza, huggingface-hub, transformers, supar\n",
            "Successfully installed emoji-2.2.0 huggingface-hub-0.12.1 stanza-1.4.2 supar-1.1.4 tokenizers-0.13.2 transformers-4.26.1\n"
          ]
        }
      ]
    },
    {
      "cell_type": "code",
      "source": [
        "!pip install -U git+https://github.com/yzhangcs/parser"
      ],
      "metadata": {
        "colab": {
          "base_uri": "https://localhost:8080/",
          "height": 1000
        },
        "id": "18ERB_tdfxOf",
        "outputId": "f41a9ae5-8fcf-48bf-84ed-7d0f9b22f92c"
      },
      "execution_count": 27,
      "outputs": [
        {
          "output_type": "stream",
          "name": "stdout",
          "text": [
            "Looking in indexes: https://pypi.org/simple, https://us-python.pkg.dev/colab-wheels/public/simple/\n",
            "Collecting git+https://github.com/yzhangcs/parser\n",
            "  Cloning https://github.com/yzhangcs/parser to /tmp/pip-req-build-s0hcdxi9\n",
            "  Running command git clone --filter=blob:none --quiet https://github.com/yzhangcs/parser /tmp/pip-req-build-s0hcdxi9\n",
            "  Resolved https://github.com/yzhangcs/parser to commit e9002ec134b669804cac80980af2cf8815083569\n",
            "  Preparing metadata (setup.py) ... \u001b[?25l\u001b[?25hdone\n",
            "Requirement already satisfied: numpy>1.21.6 in /usr/local/lib/python3.8/dist-packages (from supar==1.1.4) (1.22.4)\n",
            "Requirement already satisfied: torch>=1.13.1 in /usr/local/lib/python3.8/dist-packages (from supar==1.1.4) (1.13.1+cu116)\n",
            "Requirement already satisfied: transformers>=4.0.0 in /usr/local/lib/python3.8/dist-packages (from supar==1.1.4) (4.26.1)\n",
            "Collecting hydra-core>=1.2\n",
            "  Downloading hydra_core-1.3.1-py3-none-any.whl (154 kB)\n",
            "\u001b[2K     \u001b[90m━━━━━━━━━━━━━━━━━━━━━━━━━━━━━━━━━━━━━━━\u001b[0m \u001b[32m154.1/154.1 KB\u001b[0m \u001b[31m4.7 MB/s\u001b[0m eta \u001b[36m0:00:00\u001b[0m\n",
            "\u001b[?25hRequirement already satisfied: nltk in /usr/local/lib/python3.8/dist-packages (from supar==1.1.4) (3.7)\n",
            "Requirement already satisfied: stanza in /usr/local/lib/python3.8/dist-packages (from supar==1.1.4) (1.4.2)\n",
            "Collecting omegaconf\n",
            "  Downloading omegaconf-2.3.0-py3-none-any.whl (79 kB)\n",
            "\u001b[2K     \u001b[90m━━━━━━━━━━━━━━━━━━━━━━━━━━━━━━━━━━━━━━━━\u001b[0m \u001b[32m79.5/79.5 KB\u001b[0m \u001b[31m8.9 MB/s\u001b[0m eta \u001b[36m0:00:00\u001b[0m\n",
            "\u001b[?25hRequirement already satisfied: dill in /usr/local/lib/python3.8/dist-packages (from supar==1.1.4) (0.3.6)\n",
            "Collecting pathos\n",
            "  Downloading pathos-0.3.0-py3-none-any.whl (79 kB)\n",
            "\u001b[2K     \u001b[90m━━━━━━━━━━━━━━━━━━━━━━━━━━━━━━━━━━━━━━━━\u001b[0m \u001b[32m79.8/79.8 KB\u001b[0m \u001b[31m4.2 MB/s\u001b[0m eta \u001b[36m0:00:00\u001b[0m\n",
            "\u001b[?25hRequirement already satisfied: importlib-resources in /usr/local/lib/python3.8/dist-packages (from hydra-core>=1.2->supar==1.1.4) (5.10.2)\n",
            "Requirement already satisfied: packaging in /usr/local/lib/python3.8/dist-packages (from hydra-core>=1.2->supar==1.1.4) (23.0)\n",
            "Collecting antlr4-python3-runtime==4.9.*\n",
            "  Downloading antlr4-python3-runtime-4.9.3.tar.gz (117 kB)\n",
            "\u001b[2K     \u001b[90m━━━━━━━━━━━━━━━━━━━━━━━━━━━━━━━━━━━━━━\u001b[0m \u001b[32m117.0/117.0 KB\u001b[0m \u001b[31m10.0 MB/s\u001b[0m eta \u001b[36m0:00:00\u001b[0m\n",
            "\u001b[?25h  Preparing metadata (setup.py) ... \u001b[?25l\u001b[?25hdone\n",
            "Requirement already satisfied: PyYAML>=5.1.0 in /usr/local/lib/python3.8/dist-packages (from omegaconf->supar==1.1.4) (6.0)\n",
            "Requirement already satisfied: typing-extensions in /usr/local/lib/python3.8/dist-packages (from torch>=1.13.1->supar==1.1.4) (4.5.0)\n",
            "Requirement already satisfied: regex!=2019.12.17 in /usr/local/lib/python3.8/dist-packages (from transformers>=4.0.0->supar==1.1.4) (2022.6.2)\n",
            "Requirement already satisfied: huggingface-hub<1.0,>=0.11.0 in /usr/local/lib/python3.8/dist-packages (from transformers>=4.0.0->supar==1.1.4) (0.12.1)\n",
            "Requirement already satisfied: requests in /usr/local/lib/python3.8/dist-packages (from transformers>=4.0.0->supar==1.1.4) (2.25.1)\n",
            "Requirement already satisfied: tqdm>=4.27 in /usr/local/lib/python3.8/dist-packages (from transformers>=4.0.0->supar==1.1.4) (4.64.1)\n",
            "Requirement already satisfied: filelock in /usr/local/lib/python3.8/dist-packages (from transformers>=4.0.0->supar==1.1.4) (3.9.0)\n",
            "Requirement already satisfied: tokenizers!=0.11.3,<0.14,>=0.11.1 in /usr/local/lib/python3.8/dist-packages (from transformers>=4.0.0->supar==1.1.4) (0.13.2)\n",
            "Requirement already satisfied: joblib in /usr/local/lib/python3.8/dist-packages (from nltk->supar==1.1.4) (1.2.0)\n",
            "Requirement already satisfied: click in /usr/local/lib/python3.8/dist-packages (from nltk->supar==1.1.4) (7.1.2)\n",
            "Collecting ppft>=1.7.6.6\n",
            "  Downloading ppft-1.7.6.6-py3-none-any.whl (52 kB)\n",
            "\u001b[2K     \u001b[90m━━━━━━━━━━━━━━━━━━━━━━━━━━━━━━━━━━━━━━━━\u001b[0m \u001b[32m52.8/52.8 KB\u001b[0m \u001b[31m6.4 MB/s\u001b[0m eta \u001b[36m0:00:00\u001b[0m\n",
            "\u001b[?25hCollecting pox>=0.3.2\n",
            "  Downloading pox-0.3.2-py3-none-any.whl (29 kB)\n",
            "Collecting multiprocess>=0.70.14\n",
            "  Downloading multiprocess-0.70.14-py38-none-any.whl (132 kB)\n",
            "\u001b[2K     \u001b[90m━━━━━━━━━━━━━━━━━━━━━━━━━━━━━━━━━━━━━━\u001b[0m \u001b[32m132.0/132.0 KB\u001b[0m \u001b[31m15.6 MB/s\u001b[0m eta \u001b[36m0:00:00\u001b[0m\n",
            "\u001b[?25hRequirement already satisfied: emoji in /usr/local/lib/python3.8/dist-packages (from stanza->supar==1.1.4) (2.2.0)\n",
            "Requirement already satisfied: protobuf in /usr/local/lib/python3.8/dist-packages (from stanza->supar==1.1.4) (3.19.6)\n",
            "Requirement already satisfied: six in /usr/local/lib/python3.8/dist-packages (from stanza->supar==1.1.4) (1.15.0)\n",
            "Requirement already satisfied: zipp>=3.1.0 in /usr/local/lib/python3.8/dist-packages (from importlib-resources->hydra-core>=1.2->supar==1.1.4) (3.13.0)\n",
            "Requirement already satisfied: chardet<5,>=3.0.2 in /usr/local/lib/python3.8/dist-packages (from requests->transformers>=4.0.0->supar==1.1.4) (4.0.0)\n",
            "Requirement already satisfied: urllib3<1.27,>=1.21.1 in /usr/local/lib/python3.8/dist-packages (from requests->transformers>=4.0.0->supar==1.1.4) (1.24.3)\n",
            "Requirement already satisfied: idna<3,>=2.5 in /usr/local/lib/python3.8/dist-packages (from requests->transformers>=4.0.0->supar==1.1.4) (2.10)\n",
            "Requirement already satisfied: certifi>=2017.4.17 in /usr/local/lib/python3.8/dist-packages (from requests->transformers>=4.0.0->supar==1.1.4) (2022.12.7)\n",
            "Building wheels for collected packages: antlr4-python3-runtime\n",
            "  Building wheel for antlr4-python3-runtime (setup.py) ... \u001b[?25l\u001b[?25hdone\n",
            "  Created wheel for antlr4-python3-runtime: filename=antlr4_python3_runtime-4.9.3-py3-none-any.whl size=144575 sha256=e62d666931169c4a4a9e545fc7fb6a07d0b458f30011b7a6069fde990b4c8cef\n",
            "  Stored in directory: /root/.cache/pip/wheels/b1/a3/c2/6df046c09459b73cc9bb6c4401b0be6c47048baf9a1617c485\n",
            "Successfully built antlr4-python3-runtime\n",
            "Installing collected packages: antlr4-python3-runtime, ppft, pox, omegaconf, multiprocess, pathos, hydra-core\n",
            "Successfully installed antlr4-python3-runtime-4.9.3 hydra-core-1.3.1 multiprocess-0.70.14 omegaconf-2.3.0 pathos-0.3.0 pox-0.3.2 ppft-1.7.6.6\n"
          ]
        },
        {
          "output_type": "display_data",
          "data": {
            "application/vnd.colab-display-data+json": {
              "pip_warning": {
                "packages": [
                  "pydevd_plugins"
                ]
              }
            }
          },
          "metadata": {}
        }
      ]
    },
    {
      "cell_type": "code",
      "source": [
        "from supar import Parser\n",
        "parser = Parser.load('biaffine-dep-en')\n",
        "print(parser)"
      ],
      "metadata": {
        "id": "SfOi4bV0mB1P",
        "colab": {
          "base_uri": "https://localhost:8080/",
          "height": 104,
          "referenced_widgets": [
            "f6a4163a5151498c98e2fce2af74052f",
            "aa938d63bdad4167a06560ff527d85e8",
            "d19567952cf448649fb0914fa4f167bd",
            "a4ab7bfc063240088a60e1e836982436",
            "619a7a0e42434a03b2928e16e050ac69",
            "0d640c4707154b8e9dd1e4add7fb001d",
            "5e3e3f481ebb434cbf22023357b85d53",
            "928504ee61354dfda03abf3c2e23e59a",
            "0278cd445890471298175705235ef508",
            "46b7da02876e4ef6af730b935d331c27",
            "108f954d7e05412480e2310ec290a641"
          ]
        },
        "outputId": "e938c92e-ec7b-4a69-b321-ffe7e4df47be"
      },
      "execution_count": 28,
      "outputs": [
        {
          "output_type": "stream",
          "name": "stderr",
          "text": [
            "Downloading: https://github.com/yzhangcs/parser/releases/download/v1.1.0/ptb.biaffine.dep.lstm.char.zip to /root/.cache/supar/ptb.biaffine.dep.lstm.char.zip\n"
          ]
        },
        {
          "output_type": "display_data",
          "data": {
            "text/plain": [
              "  0%|          | 0.00/331M [00:00<?, ?B/s]"
            ],
            "application/vnd.jupyter.widget-view+json": {
              "version_major": 2,
              "version_minor": 0,
              "model_id": "f6a4163a5151498c98e2fce2af74052f"
            }
          },
          "metadata": {}
        },
        {
          "output_type": "stream",
          "name": "stdout",
          "text": [
            "<supar.parsers.dep.BiaffineDependencyParser object at 0x7f3b592a1dc0>\n"
          ]
        }
      ]
    },
    {
      "cell_type": "code",
      "source": [
        "sentences_tes = ['I ate the spaghetti with meatballs.','I ate the spaghetti with chopsticks.','Book that Flight','book the flight through houston','John saw the saw and decided to take it to the table.']\n",
        "for i, sentence in enumerate(sentences_tes):\n",
        "    print(f\"PARSER FOR SENTENCE {i+1}:\")\n",
        "    dataset = parser.predict(sentence, lang='en', prob=True, verbose=False)\n",
        "    print(dataset[0])"
      ],
      "metadata": {
        "colab": {
          "base_uri": "https://localhost:8080/"
        },
        "id": "Hb9UfTkUtbHD",
        "outputId": "44eca21d-6917-4dcc-8826-38e9eff65d36"
      },
      "execution_count": 29,
      "outputs": [
        {
          "output_type": "stream",
          "name": "stdout",
          "text": [
            "PARSER FOR SENTENCE 1:\n"
          ]
        },
        {
          "output_type": "stream",
          "name": "stderr",
          "text": [
            "/usr/local/lib/python3.8/dist-packages/torch/nn/modules/rnn.py:26: UserWarning: apply_permutation is deprecated, please use tensor.index_select(dim, permutation) instead\n",
            "  warnings.warn(\"apply_permutation is deprecated, please use tensor.index_select(dim, permutation) instead\")\n"
          ]
        },
        {
          "output_type": "stream",
          "name": "stdout",
          "text": [
            "1\tI\t_\t_\t_\t_\t2\tnsubj\t_\t_\n",
            "2\tate\t_\t_\t_\t_\t0\troot\t_\t_\n",
            "3\tthe\t_\t_\t_\t_\t4\tdet\t_\t_\n",
            "4\tspaghetti\t_\t_\t_\t_\t2\tdobj\t_\t_\n",
            "5\twith\t_\t_\t_\t_\t2\tprep\t_\t_\n",
            "6\tmeatballs\t_\t_\t_\t_\t5\tpobj\t_\t_\n",
            "7\t.\t_\t_\t_\t_\t2\tpunct\t_\t_\n",
            "\n",
            "PARSER FOR SENTENCE 2:\n",
            "1\tI\t_\t_\t_\t_\t2\tnsubj\t_\t_\n",
            "2\tate\t_\t_\t_\t_\t0\troot\t_\t_\n",
            "3\tthe\t_\t_\t_\t_\t4\tdet\t_\t_\n",
            "4\tspaghetti\t_\t_\t_\t_\t2\tdobj\t_\t_\n",
            "5\twith\t_\t_\t_\t_\t2\tprep\t_\t_\n",
            "6\tchopsticks\t_\t_\t_\t_\t5\tpobj\t_\t_\n",
            "7\t.\t_\t_\t_\t_\t2\tpunct\t_\t_\n",
            "\n",
            "PARSER FOR SENTENCE 3:\n",
            "1\tBook\t_\t_\t_\t_\t0\troot\t_\t_\n",
            "2\tthat\t_\t_\t_\t_\t3\tdet\t_\t_\n",
            "3\tFlight\t_\t_\t_\t_\t1\tdobj\t_\t_\n",
            "\n",
            "PARSER FOR SENTENCE 4:\n",
            "1\tbook\t_\t_\t_\t_\t0\troot\t_\t_\n",
            "2\tthe\t_\t_\t_\t_\t3\tdet\t_\t_\n",
            "3\tflight\t_\t_\t_\t_\t1\tdobj\t_\t_\n",
            "4\tthrough\t_\t_\t_\t_\t1\tprep\t_\t_\n",
            "5\thouston\t_\t_\t_\t_\t4\tpobj\t_\t_\n",
            "\n",
            "PARSER FOR SENTENCE 5:\n",
            "1\tJohn\t_\t_\t_\t_\t2\tnsubj\t_\t_\n",
            "2\tsaw\t_\t_\t_\t_\t0\troot\t_\t_\n",
            "3\tthe\t_\t_\t_\t_\t4\tdet\t_\t_\n",
            "4\tsaw\t_\t_\t_\t_\t2\tdobj\t_\t_\n",
            "5\tand\t_\t_\t_\t_\t2\tcc\t_\t_\n",
            "6\tdecided\t_\t_\t_\t_\t2\tconj\t_\t_\n",
            "7\tto\t_\t_\t_\t_\t8\taux\t_\t_\n",
            "8\ttake\t_\t_\t_\t_\t6\txcomp\t_\t_\n",
            "9\tit\t_\t_\t_\t_\t8\tdobj\t_\t_\n",
            "10\tto\t_\t_\t_\t_\t8\tprep\t_\t_\n",
            "11\tthe\t_\t_\t_\t_\t12\tdet\t_\t_\n",
            "12\ttable\t_\t_\t_\t_\t10\tpobj\t_\t_\n",
            "13\t.\t_\t_\t_\t_\t2\tpunct\t_\t_\n",
            "\n"
          ]
        }
      ]
    },
    {
      "cell_type": "code",
      "source": [
        "import os\n",
        "import tempfile"
      ],
      "metadata": {
        "id": "LBMNt6rwhmc_"
      },
      "execution_count": 30,
      "outputs": []
    },
    {
      "cell_type": "code",
      "source": [
        "con = Parser.load('crf-con-en')"
      ],
      "metadata": {
        "id": "6ObQCdo851RO",
        "colab": {
          "base_uri": "https://localhost:8080/",
          "height": 86,
          "referenced_widgets": [
            "bf85bc3eab4643069f099d81e790e6fb",
            "f2fab40d1a974c2eb53b54348e5e66e8",
            "acf036020eab49e6b4d71a283e950c74",
            "c698428b9d7a4d5fb29f3a7ee95b98e1",
            "1f42d4aa05444c3eb842e0f146c12e26",
            "c8748a62a3584fb8972b0e9c670156af",
            "10dc5e4d31f74f72a137df34c01b19e7",
            "56313255b04247fb96590d2cb20016fc",
            "a566e5d842f04669b27900e3350eef37",
            "b34aae3a29784f679ff2a0ba342fbd15",
            "ba331fe737194882b4b94108a77d789c"
          ]
        },
        "outputId": "e0d3bc09-c7f9-4656-ac81-6a9f7e7bc541"
      },
      "execution_count": 31,
      "outputs": [
        {
          "output_type": "stream",
          "name": "stderr",
          "text": [
            "Downloading: https://github.com/yzhangcs/parser/releases/download/v1.1.0/ptb.crf.con.lstm.char.zip to /root/.cache/supar/ptb.crf.con.lstm.char.zip\n"
          ]
        },
        {
          "output_type": "display_data",
          "data": {
            "text/plain": [
              "  0%|          | 0.00/334M [00:00<?, ?B/s]"
            ],
            "application/vnd.jupyter.widget-view+json": {
              "version_major": 2,
              "version_minor": 0,
              "model_id": "bf85bc3eab4643069f099d81e790e6fb"
            }
          },
          "metadata": {}
        }
      ]
    },
    {
      "cell_type": "code",
      "source": [
        "sentences_tes = ['I ate the spaghetti with meatballs.','I ate the spaghetti with chopsticks.','Book that Flight','book the flight through houston','John saw the saw and decided to take it to the table.']\n",
        "for i, sentence in enumerate(sentences_tes):\n",
        "    print(f\"PARSER FOR SENTENCE {i+1}:\")\n",
        "    tokens = nltk.word_tokenize(sentence)\n",
        "    con.predict(tokens, verbose=False)[0].pretty_print()"
      ],
      "metadata": {
        "colab": {
          "base_uri": "https://localhost:8080/"
        },
        "id": "y4wgCNc2560_",
        "outputId": "d291e30c-038c-48a5-bf8d-29cd29da8a61"
      },
      "execution_count": 32,
      "outputs": [
        {
          "output_type": "stream",
          "name": "stdout",
          "text": [
            "PARSER FOR SENTENCE 1:\n",
            "                   TOP                          \n",
            "                    |                            \n",
            "                    S                           \n",
            "  __________________|_________________________   \n",
            " |                  VP                        | \n",
            " |    ______________|___________              |  \n",
            " |   |       |                  PP            | \n",
            " |   |       |              ____|______       |  \n",
            " NP  |       NP            |           NP     | \n",
            " |   |    ___|______       |           |      |  \n",
            " _   _   _          _      _           _      _ \n",
            " |   |   |          |      |           |      |  \n",
            " I  ate the     spaghetti with     meatballs  . \n",
            "\n",
            "PARSER FOR SENTENCE 2:\n",
            "                   TOP                           \n",
            "                    |                             \n",
            "                    S                            \n",
            "  __________________|__________________________   \n",
            " |                  VP                         | \n",
            " |    ______________|___________               |  \n",
            " |   |       |                  PP             | \n",
            " |   |       |              ____|______        |  \n",
            " NP  |       NP            |           NP      | \n",
            " |   |    ___|______       |           |       |  \n",
            " _   _   _          _      _           _       _ \n",
            " |   |   |          |      |           |       |  \n",
            " I  ate the     spaghetti with     chopsticks  . \n",
            "\n",
            "PARSER FOR SENTENCE 3:\n",
            "     TOP             \n",
            "      |               \n",
            "      NP             \n",
            "  ____|____           \n",
            " |        SBAR       \n",
            " |     ____|_____     \n",
            " |    |          NP  \n",
            " |    |          |    \n",
            " _    _          _   \n",
            " |    |          |    \n",
            "Book that      Flight\n",
            "\n",
            "PARSER FOR SENTENCE 4:\n",
            "              TOP                      \n",
            "               |                        \n",
            "               S                       \n",
            "               |                        \n",
            "               VP                      \n",
            "  _____________|_____________           \n",
            " |        |                  PP        \n",
            " |        |             _____|_____     \n",
            " |        NP           |           NP  \n",
            " |     ___|____        |           |    \n",
            " _    _        _       _           _   \n",
            " |    |        |       |           |    \n",
            "book the     flight through     houston\n",
            "\n",
            "PARSER FOR SENTENCE 5:\n",
            "                                 TOP                               \n",
            "                                  |                                 \n",
            "                                  S                                \n",
            "  ________________________________|______________________________   \n",
            " |                    VP                                         | \n",
            " |         ___________|___________                               |  \n",
            " |        |           |           VP                             | \n",
            " |        |           |      _____|________                      |  \n",
            " |        |           |     |              S                     | \n",
            " |        |           |     |              |                     |  \n",
            " |        |           |     |              VP                    | \n",
            " |        |           |     |      ________|___                  |  \n",
            " |        |           |     |     |            VP                | \n",
            " |        |           |     |     |    ________|___              |  \n",
            " |        VP          |     |     |   |    |       PP            | \n",
            " |     ___|___        |     |     |   |    |    ___|___          |  \n",
            " NP   |       NP      |     |     |   |    NP  |       NP        | \n",
            " |    |    ___|___    |     |     |   |    |   |    ___|____     |  \n",
            " _    _   _       _   _     _     _   _    _   _   _        _    _ \n",
            " |    |   |       |   |     |     |   |    |   |   |        |    |  \n",
            "John saw the     saw and decided  to take  it  to the     table  . \n",
            "\n"
          ]
        }
      ]
    },
    {
      "cell_type": "code",
      "source": [
        "import nltk\n",
        "\n",
        "for x in range(len(sentences)):\n",
        "  \n",
        "  sentences_list = nltk.sent_tokenize(sentences[x])\n",
        "  for i, sentence in enumerate(sentences_list):\n",
        "      print(f\"PARSER FOR SENTENCE {i+1}:\")\n",
        "      tokens = nltk.word_tokenize(sentence)\n",
        "      con.predict(tokens, verbose=False)[0].pretty_print()"
      ],
      "metadata": {
        "colab": {
          "base_uri": "https://localhost:8080/"
        },
        "id": "tDHKbtPN6PgM",
        "outputId": "6ef8a119-ffd5-4fe3-c2c7-e90c8cfeeac8"
      },
      "execution_count": 33,
      "outputs": [
        {
          "output_type": "stream",
          "name": "stdout",
          "text": [
            "PARSER FOR SENTENCE 1:\n",
            "                                           TOP                                                                                                                                                                 \n",
            "                                            |                                                                                                                                                                   \n",
            "                                            S                                                                                                                                                                  \n",
            "                      ______________________|_________                                                                                                                                                          \n",
            "                     |                                VP                                                                                                                                                       \n",
            "                     |                           _____|______                                                                                                                                                   \n",
            "                     |                          |            VP                                                                                                                                                \n",
            "                     |                          |      ______|_____                                                                                                                                             \n",
            "                     |                          |     |            S                                                                                                                                           \n",
            "                     |                          |     |            |                                                                                                                                            \n",
            "                     |                          |     |            VP                                                                                                                                          \n",
            "                     |                          |     |       _____|_____                                                                                                                                       \n",
            "                     |                          |     |      |           VP                                                                                                                                    \n",
            "                     |                          |     |      |      _____|_________                                                                                                                             \n",
            "                     |                          |     |      |     |               NP                                                                                                                          \n",
            "                     |                          |     |      |     |          _____|_____________________                                                                                                       \n",
            "                     |                          |     |      |     |         |                          SBAR                                                                                                   \n",
            "                     |                          |     |      |     |         |                           |                                                                                                      \n",
            "                     |                          |     |      |     |         |                           S                                                                                                     \n",
            "                     |                          |     |      |     |         |                  _________|____                                                                                                  \n",
            "                     |                          |     |      |     |         |                 |             SBAR                                                                                              \n",
            "                     |                          |     |      |     |         |                 |          ____|_____                                                                                            \n",
            "                     |                          |     |      |     |         |                 |         |          S                                                                                          \n",
            "                     |                          |     |      |     |         |                 |         |          |                                                                                           \n",
            "                     |                          |     |      |     |         |                 |         |          VP                                                                                         \n",
            "                     |                          |     |      |     |         |                 |         |     _____|_____                                                                                      \n",
            "                     |                          |     |      |     |         |                 |         |    |           VP                                                                                   \n",
            "                     |                          |     |      |     |         |                 |         |    |      _____|____________                                                                         \n",
            "                     |                          |     |      |     |         |                 |         |    |     |                  PP                                                                      \n",
            "                     |                          |     |      |     |         |                 |         |    |     |      ____________|_______________                                                         \n",
            "                     |                          |     |      |     |         |                 |         |    |     |     |                            NP                                                      \n",
            "                     |                          |     |      |     |         |                 |         |    |     |     |             _______________|___________                                             \n",
            "                     |                          |     |      |     |         |                 |         |    |     |     |            |                          SBAR                                         \n",
            "                     |                          |     |      |     |         |                 |         |    |     |     |            |                       ____|_________                                   \n",
            "                     |                          |     |      |     |         |                 |         |    |     |     |            |                      |              S                                 \n",
            "                     |                          |     |      |     |         |                 |         |    |     |     |            |                      |              |                                  \n",
            "                     |                          |     |      |     |         |                 |         |    |     |     |            |                      |              VP                                \n",
            "                     |                          |     |      |     |         |                 |         |    |     |     |            |                      |     _________|___                               \n",
            "                     |                          |     |      |     |         |                 |         |    |     |     |            |                      |    |             NP                            \n",
            "                     |                          |     |      |     |         |                 |         |    |     |     |            |                      |    |     ________|___                           \n",
            "                     |                          |     |      |     |         |                 |         |    |     |     |            |                      |    |    |            PP                        \n",
            "                     |                          |     |      |     |         |                 |         |    |     |     |            |                      |    |    |     _______|_________                 \n",
            "                     NP                         |     |      |     |         NP                NP       WHNP  |     |     |            NP                    WHNP  |    NP   |                 NP              \n",
            "  ___________________|______________________    |     |      |     |      ___|_____            |         |    |     |     |       _____|_______________       |    |    |    |    _____________|___________     \n",
            " _       _           _             _        _   _     _      _     _     _         _           _         _    _     _     _      _     _       _       _      _    _    _    _   _             _           _   \n",
            " |       |           |             |        |   |     |      |     |     |         |           |         |    |     |     |      |     |       |       |      |    |    |    |   |             |           |    \n",
            "This Functional Requirements Specification FRS  is intended  to capture the     changes infunctionality that will occur during system name ReWriting effort which  is  part  of the     xxxEnhancements project\n",
            "\n",
            "PARSER FOR SENTENCE 1:\n",
            "                                           TOP                                                \n",
            "                                            |                                                  \n",
            "                                            S                                                 \n",
            "                              ______________|______________________________                    \n",
            "                             |                                             VP                 \n",
            "                             |                            _________________|___                \n",
            "                             NP                          |                     VP             \n",
            "      _______________________|___                        |         ____________|___            \n",
            "     |                           PP                      |        |                PP         \n",
            "     |                    _______|____                   |        |         _______|____       \n",
            "     NP                  |            NP                 |        |        |            NP    \n",
            "  ___|_________          |    ________|___________       |        |        |        ____|___   \n",
            " _             _         _   _   _    _     _     _      _        _        _       _        _ \n",
            " |             |         |   |   |    |     |     |      |        |        |       |        |  \n",
            "All     functionalities for the new system name system would bedocumented  in     this     FRS\n",
            "\n",
            "PARSER FOR SENTENCE 1:\n",
            "                     TOP                                                                                                               \n",
            "                      |                                                                                                                 \n",
            "                      S                                                                                                                \n",
            "          ____________|_____________                                                                                                    \n",
            "         |                          VP                                                                                                 \n",
            "         |                      ____|______                                                                                             \n",
            "         |                     |           VP                                                                                          \n",
            "         |                     |     ______|_______                                                                                     \n",
            "         |                     |    |              VP                                                                                  \n",
            "         |                     |    |       _______|___                                                                                 \n",
            "         |                     |    |      |           PP                                                                              \n",
            "         |                     |    |      |        ___|_____                                                                           \n",
            "         |                     |    |      |       |         PP                                                                        \n",
            "         |                     |    |      |       |    _____|______                                                                    \n",
            "         |                     |    |      |       |   |            NP                                                                 \n",
            "         |                     |    |      |       |   |      ______|____                                                               \n",
            "         |                     |    |      |       |   |     |           VP                                                            \n",
            "         |                     |    |      |       |   |     |       ____|___________                                                   \n",
            "         |                     |    |      |       |   |     |      |    |           VP                                                \n",
            "         |                     |    |      |       |   |     |      |    |    _______|______________                                    \n",
            "         |                     |    |      |       |   |     |      |    |   |                      VP                                 \n",
            "         |                     |    |      |       |   |     |      |    |   |        ______________|_________                          \n",
            "         |                     |    |      |       |   |     |      |    |   |       |                        PP                       \n",
            "         |                     |    |      |       |   |     |      |    |   |       |         _______________|____                     \n",
            "         |                     |    |      |       |   |     |      |    |   |       |        |                    NP                  \n",
            "         |                     |    |      |       |   |     |      |    |   |       |        |           _________|_______             \n",
            "         |                     |    |      |       |   |     |      |    |   |       |        |          |                 PP          \n",
            "         |                     |    |      |       |   |     |      |    |   |       |        |          |              ___|______      \n",
            "         NP                    |    |      |       |   |     NP     |    |   |       |        |          NP            |          NP   \n",
            "  _______|____________         |    |      |       |   |     |      |    |   |       |        |      ____|____         |          |     \n",
            " _       _            _        _    _      _       _   _     _      _    _   _       _        _     _         _        _          _    \n",
            " |       |            |        |    |      |       |   |     |      |    |   |       |        |     |         |        |          |     \n",
            "Any undocumented requirements will  be considered out  of scopeand will not  be implemented during this     phase      of     ReWriting\n",
            "\n",
            "PARSER FOR SENTENCE 1:\n",
            "                                     TOP                                  \n",
            "                                      |                                    \n",
            "                                      S                                   \n",
            "                               _______|______________________              \n",
            "                              NP                             VP           \n",
            "        ______________________|___                      _____|_____        \n",
            "       |                          PP                   |           VP     \n",
            "       |                       ___|___                 |      _____|___    \n",
            "       NP                     |       NP               |     |        ADJP\n",
            "  _____|____________          |    ___|___________     |     |         |   \n",
            " _     _            _         _   _   _     _     _    _     _         _  \n",
            " |     |            |         |   |   |     |     |    |     |         |   \n",
            "The existing functionalities  in the core system name will remain     same\n",
            "\n",
            "PARSER FOR SENTENCE 1:\n",
            "           TOP                                                                                                                                                                                                                                                                                                                                                                                                                                                                                                                                                                                                                                                   \n",
            "            |                                                                                                                                                                                                                                                                                                                                                                                                                                                                                                                                                                                                                                                     \n",
            "            S                                                                                                                                                                                                                                                                                                                                                                                                                                                                                                                                                                                                                                                    \n",
            "       _____|_______________                                                                                                                                                                                                                                                                                                                                                                                                                                                                                                                                                                                                                                      \n",
            "      |                     VP                                                                                                                                                                                                                                                                                                                                                                                                                                                                                                                                                                                                                                   \n",
            "      |               ______|____                                                                                                                                                                                                                                                                                                                                                                                                                                                                                                                                                                                                                                 \n",
            "      |              |           PP                                                                                                                                                                                                                                                                                                                                                                                                                                                                                                                                                                                                                              \n",
            "      |              |       ____|____                                                                                                                                                                                                                                                                                                                                                                                                                                                                                                                                                                                                                            \n",
            "      |              |      |         NP                                                                                                                                                                                                                                                                                                                                                                                                                                                                                                                                                                                                                         \n",
            "      |              |      |     ____|___________                                                                                                                                                                                                                                                                                                                                                                                                                                                                                                                                                                                                                \n",
            "      |              |      |    |                PP                                                                                                                                                                                                                                                                                                                                                                                                                                                                                                                                                                                                             \n",
            "      |              |      |    |     ___________|______________                                                                                                                                                                                                                                                                                                                                                                                                                                                                                                                                                                                                 \n",
            "      |              |      |    |    |                          NP                                                                                                                                                                                                                                                                                                                                                                                                                                                                                                                                                                                              \n",
            "      |              |      |    |    |            ______________|__________                                                                                                                                                                                                                                                                                                                                                                                                                                                                                                                                                                                      \n",
            "      |              |      |    |    |           |                        SBAR                                                                                                                                                                                                                                                                                                                                                                                                                                                                                                                                                                                  \n",
            "      |              |      |    |    |           |                     ____|______                                                                                                                                                                                                                                                                                                                                                                                                                                                                                                                                                                               \n",
            "      |              |      |    |    |           |                    |           S                                                                                                                                                                                                                                                                                                                                                                                                                                                                                                                                                                             \n",
            "      |              |      |    |    |           |                    |           |                                                                                                                                                                                                                                                                                                                                                                                                                                                                                                                                                                              \n",
            "      |              |      |    |    |           |                    |           VP                                                                                                                                                                                                                                                                                                                                                                                                                                                                                                                                                                            \n",
            "      |              |      |    |    |           |                    |     ______|__________                                                                                                                                                                                                                                                                                                                                                                                                                                                                                                                                                                    \n",
            "      |              |      |    |    |           |                    |    |                ADJP                                                                                                                                                                                                                                                                                                                                                                                                                                                                                                                                                                \n",
            "      |              |      |    |    |           |                    |    |       __________|______________                                                                                                                                                                                                                                                                                                                                                                                                                                                                                                                                                     \n",
            "      |              |      |    |    |           |                    |    |      |                         PP                                                                                                                                                                                                                                                                                                                                                                                                                                                                                                                                                  \n",
            "      |              |      |    |    |           |                    |    |      |       __________________|__________________________                                                                                                                                                                                                                                                                                                                                                                                                                                                                                                                          \n",
            "      |              |      |    |    |           |                    |    |      |      |                                             NP                                                                                                                                                                                                                                                                                                                                                                                                                                                                                                                       \n",
            "      |              |      |    |    |           |                    |    |      |      |           __________________________________|_______________________________                                                                                                                                                                                                                                                                                                                                                                                                                                                                                          \n",
            "      |              |      |    |    |           |                    |    |      |      |          |                                                                 SBAR                                                                                                                                                                                                                                                                                                                                                                                                                                                                                      \n",
            "      |              |      |    |    |           |                    |    |      |      |          |             _____________________________________________________|____________________________________________________________________                                                                                                                                                                                                                                                                                                                                                                                                                     \n",
            "      |              |      |    |    |           |                    |    |      |      |          |            |                                                                                                                          S                                                                                                                                                                                                                                                                                                                                                                                                                   \n",
            "      |              |      |    |    |           |                    |    |      |      |          |            |                __________________________________________________________________________________________________________|_____________________________________________________________________________________________________                                                                                                                                                                                                                                                                                                               \n",
            "      |              |      |    |    |           |                    |    |      |      |          |            |               |                                                                                                                                                                                                                VP                                                                                                                                                                                                                                                                                                            \n",
            "      |              |      |    |    |           |                    |    |      |      |          |            |               |                                                                                                                                                                                                      __________|______________                                                                                                                                                                                                                                                                                                \n",
            "      |              |      |    |    |           |                    |    |      |      |          |            |               |                                                                                                                                                                                                     |                         VP                                                                                                                                                                                                                                                                                             \n",
            "      |              |      |    |    |           |                    |    |      |      |          |            |               |                                                                                                                                                                                                     |     ____________________|______________________________________                                                                                                                                                                                                                                                         \n",
            "      |              |      |    |    |           |                    |    |      |      |          |            |               |                                                                                                                                                                                                     |    |                    |                                      NP                                                                                                                                                                                                                                                      \n",
            "      |              |      |    |    |           |                    |    |      |      |          |            |               |                                                                                                                                                                                                     |    |                    |                             _________|__________________                                                                                                                                                                                                                                      \n",
            "      |              |      |    |    |           |                    |    |      |      |          |            |               |                                                                                                                                                                                                     |    |                    |                            |                            NP                                                                                                                                                                                                                                   \n",
            "      |              |      |    |    |           |                    |    |      |      |          |            |               |                                                                                                                                                                                                     |    |                    |                            |                  __________|________________                                                                                                                                                                                                                     \n",
            "      |              |      |    |    |           |                    |    |      |      |          |            |               |                                                                                                                                                                                                     |    |                    |                            |                 |          |                NP                                                                                                                                                                                                                  \n",
            "      |              |      |    |    |           |                    |    |      |      |          |            |               |                                                                                                                                                                                                     |    |                    |                            |                 |          |        ________|____                                                                                                                                                                                                                \n",
            "      |              |      |    |    |           |                    |    |      |      |          |            |               |                                                                                                                                                                                                     |    |                    |                            |                 |          |       |            SBAR                                                                                                                                                                                                            \n",
            "      |              |      |    |    |           |                    |    |      |      |          |            |               |                                                                                                                                                                                                     |    |                    |                            |                 |          |       |         ____|____                                                                                                                                                                                                           \n",
            "      |              |      |    |    |           |                    |    |      |      |          |            |               |                                                                                                                                                                                                     |    |                    |                            |                 |          |       |        |         S                                                                                                                                                                                                         \n",
            "      |              |      |    |    |           |                    |    |      |      |          |            |               |                                                                                                                                                                                                     |    |                    |                            |                 |          |       |        |         |                                                                                                                                                                                                          \n",
            "      |              |      |    |    |           |                    |    |      |      |          |            |               |                                                                                                                                                                                                     |    |                    |                            |                 |          |       |        |         VP                                                                                                                                                                                                        \n",
            "      |              |      |    |    |           |                    |    |      |      |          |            |               |                                                                                                                                                                                                     |    |                    |                            |                 |          |       |        |     ____|______                                                                                                                                                                                                    \n",
            "      |              |      |    |    |           |                    |    |      |      |          |            |               |                                                                                                                                                                                                     |    |                    |                            |                 |          |       |        |    |           VP                                                                                                                                                                                                 \n",
            "      |              |      |    |    |           |                    |    |      |      |          |            |               |                                                                                                                                                                                                     |    |                    |                            |                 |          |       |        |    |     ______|____________                                                                                                                                                                                       \n",
            "      |              |      |    |    |           |                    |    |      |      |          |            |               NP                                                                                                                                                                                                    |    |                    |                            |                 |          |       |        |    |    |                   VP                                                                                                                                                                                    \n",
            "      |              |      |    |    |           |                    |    |      |      |          |            |           ____|___________                                                                                                                                                                                          |    |                    |                            |                 |          |       |        |    |    |       ____________|______________________________________                                                                                                                                                \n",
            "      |              |      |    |    |           |                    |    |      |      |          |            |          |               SBAR                                                                                                                                                                                       |    |                    |                            |                 |          |       |        |    |    |      |      |     |                   |                 SBAR                                                                                                                                            \n",
            "      |              |      |    |    |           |                    |    |      |      |          |            |          |           _____|_______________                                                                                                                                                                          |    |                    |                            |                 |          |       |        |    |    |      |      |     |                   |            ______|______                                                                                                                                         \n",
            "      |              |      |    |    |           |                    |    |      |      |          |            |          |          |                     S                                                                                                                                                                         |    |                    |                            |                 |          |       |        |    |    |      |      |     |                   |           |             S                                                                                                                                       \n",
            "      |              |      |    |    |           |                    |    |      |      |          |            |          |          |                     |                                                                                                                                                                         |    |                    |                            |                 |          |       |        |    |    |      |      |     |                   |           |             |                                                                                                                                        \n",
            "      |              |      |    |    |           |                    |    |      |      |          |            |          |          |                     VP                                                                                                                                                                        |    |                    |                            |                 |          |       |        |    |    |      |      |     |                   |           |             VP                                                                                                                                      \n",
            "      |              |      |    |    |           |                    |    |      |      |          |            |          |          |      _______________|_______________                                                                                                                                                          |    |                    |                            |                 |          |       |        |    |    |      |      |     |                   |           |       ______|___________                                                                                                                             \n",
            "      |              |      |    |    |           |                    |    |      |      |          |            |          |          |     |          |                    PP                                                                                                                                                        |    |                    |                            |                 |          |       |        |    |    |      |      |     |                   |           |      |                  PP                                                                                                                          \n",
            "      |              |      |    |    |           |                    |    |      |      |          |            |          |          |     |          |           _________|___________                                                                                                                                              |    |                    |                            |                 |          |       |        |    |    |      |      |     |                   |           |      |       ___________|_________________________                                                                                                   \n",
            "      |              |      |    |    |           |                    |    |      |      |          |            |          |          |     |          |          |                     NP                                                                                                                                            |    |                    |                            |                 |          |       |        |    |    |      |      |     |                   |           |      |      |                                     NP                                                                                                \n",
            "      |              |      |    |    |           |                    |    |      |      |          |            |          |          |     |          |          |          ___________|________________________                                                                                                                     |    |                    |                            |                 |          |       |        |    |    |      |      |     |                   |           |      |      |                        _____________|__________________________________                                                                \n",
            "      |              |      |    |    |           |                    |    |      |      |          |            |          |          |     |          |          |         |           |                        NP                                                                                                                   |    |                    |                            |                 |          |       |        |    |    |      |      |     |                   |           |      |      |                       |                                                VP                                                             \n",
            "      |              |      |    |    |           |                    |    |      |      |          |            |          |          |     |          |          |         |           |        ________________|______________________________                                                                                      |    |                    |                            |                 |          |       |        |    |    |      |      |     |                   |           |      |      |                       |                                     ___________|_________                                                      \n",
            "      |              |      |    |    |           |                    |    |      |      |          |            |          |          |     |          |          |         |           |       |                    |                         SBAR                                                                                   |    |                    |                            |                 |          |       |        |    |    |      |      |     |                   |           |      |      |                       |                                    |                     S                                                    \n",
            "      |              |      |    |    |           |                    |    |      |      |          |            |          |          |     |          |          |         |           |       |                    |                      ____|__________________                                                                   |    |                    |                            |                 |          |       |        |    |    |      |      |     |                   |           |      |      |                       |                                    |                     |                                                     \n",
            "      |              |      |    |    |           |                    |    |      |      |          |            |          |          |     |          |          |         |           |       |                    |                     |                       S                                                                  |    |                    |                            |                 |          |       |        |    |    |      |      |     |                   |           |      |      |                       |                                    |                     VP                                                   \n",
            "      |              |      |    |    |           |                    |    |      |      |          |            |          |          |     |          |          |         |           |       |                    |                     |                       |                                                                  |    |                    |                            |                 |          |       |        |    |    |      |      |     |                   |           |      |      |                       |                                    |            _________|______                                               \n",
            "      |              |      |    |    |           |                    |    |      |      |          |            |          |          |     |          |          |         |           |       |                    |                     |                       VP                                                                 |    |                    |                            |                 |          |       |        |    |    |      |      |     |                   |           |      |      |                       |                                    |           |                VP                                            \n",
            "      |              |      |    |    |           |                    |    |      |      |          |            |          |          |     |          |          |         |           |       |                    |                     |     __________________|______________________                                            |    |                    |                            |                 |          |       |        |    |    |      |      |     |                   |           |      |      |                       |                                    |           |          ______|___________                                   \n",
            "      |              |      |    |    |           |                    |    |      |      |          |            |          |          |     |          |          |         |           |       |                    |                     |    |                                         VP                                          |    |                    |                            |                 |          |       |        |    |    |      |      |     |                   |           |      |      |                       |                                    |           |         |                  VP                                \n",
            "      |              |      |    |    |           |                    |    |      |      |          |            |          |          |     |          |          |         |           |       |                    |                     |    |        _________________________________|_________                                  |    |                    |                            |                 |          |       |        |    |    |      |      |     |                   |           |      |      |                       |                                    |           |         |       ___________|________                          \n",
            "      |              |      |    |    |           |                    |    |      |      |          |            |          |          |     |          |          |         |           |       |                    |                     |    |       |                                           NP                                |    |                    PP                           |                 |          |       |        |    |    |      |      |     |                   |           |      |      |                       |                                    |           |         |      |                    PP                       \n",
            "      |              |      |    |    |           |                    |    |      |      |          |            |          |          |     |          |          |         |           |       |                    |                     |    |       |                             ______________|______________                   |    |      ______________|_____                       |                 |          |       |        |    |    |      |      |     |                   |           |      |      |                       |                                    |           |         |      |        ____________|___                      \n",
            "      |              |      |    |    |           |                    |    |      |      |          |            |          |          |     |          |          |         |           |       |                    |                     |    |       |                            NP                  |         |                  |    |     |                    NP                     |                 |          |       |        |    |    |      |      |     |                   |           |      |      |                       |                                    |           |         |      |       |                S                    \n",
            "      |              |      |    |    |           |                    |    |      |      |          |            |          |          |     |          |          |         |           |       |                    |                     |    |       |                  __________|____               |         |                  |    |     |         ___________|___                   |                 |          |       |        |    |    |      |      |     |                   |           |      |      |                       |                                    |           |         |      |       |         _______|__________           \n",
            "      |              |      |    |    |           |                    |    |      |      |          |            |          |          |     |          |          |         |           |       |                    PP                    |    |       |                 |               PP             |         |                  |    |     |        |               PP                 |                 |          |       |        |    |    |      |      |     |                   |           |      |      |                       NP                                   |           |         |      |       |        |                  VP        \n",
            "      |              |      |    |    |           |                    |    |      |      |          |            |          |          |     |          |          |         |           |       |                 ___|_________            |    |       |                 |           ____|_____         |         |                  |    |     |        |            ___|____              |                 |          |       |        |    |    |      |      |     |                   |           |      |      |            ___________|_____________________               |           |         |      |       |        |             _____|_____     \n",
            "      NP             |      |    NP   |           NP                  WHNP  |      |      |          NP           |          NP        WHNP   |          NP         |         NP          |       NP               |             NP         WHNP  |       |                 NP         |          NP       |         NP                 |    |     |        NP          |        NP            |                 NX         |       |       WHNP  |    |      VP     |     |                  ADVP         |      |      |           NP                 |              NP             |           |         |      |       |        NP           |          ADVP \n",
            "  ____|_____         |      |    |    |    _______|______________      |    |      |      |    ______|_______     |      ____|____      |     |      ____|____      |    _____|______     |    ___|_______         |             |           |    |       |           ______|____      |     _____|___     |    _____|_________         |    |     |     ___|_____      |    ____|_____        |          _______|____      |       |        |    |    |      |      |     |           ________|_____      |      |      |    _______|___________       |       _______|_____         |           |         |      |       |    ____|___         |           |    \n",
            " _          _        _      _    _    _   _       _        _     _     _    _      _      _   _      _       _    _     _         _     _     _     _         _     _   _     _      _    _   _           _        _             _           _    _       _          _           _     _    _         _    _   _     _         _        _    _     _    _         _     _   _          _       _         _            _     _       _        _    _    _      _      _     _          _              _     _      _      _   _       _           _      _      _             _        _           _         _      _       _   _        _        _           _   \n",
            " |          |        |      |    |    |   |       |        |     |     |    |      |      |   |      |       |    |     |         |     |     |     |         |     |   |     |      |    |   |           |        |             |           |    |       |          |           |     |    |         |    |   |     |         |        |    |     |    |         |     |   |          |       |         |            |     |       |        |    |    |      |      |     |          |              |     |      |      |   |       |           |      |      |             |        |           |         |      |       |   |        |        |           |    \n",
            "This     project islimited  in scope  to the enhancements and defects that are  critical  in the  severity level that isthe     issues that cause great     burden  to the  system users and the     enhancements  in     systemarchitectu which will facilitate efficient     growth  of system     name and the company namebusiness will fall under the     purview  of this     project scopeThe functional     issues and requirements that will  be discussed and gathered respectively      aswell  as validated  in the Requirements Gathering and Validating     Sessions started onMMDDYYYYwould  be documented  in this     FRS     moving     forward\n",
            "                                                                                                                                                                                                                                 re                                                                                                                                                                                                                                                                                                                                                                                                                              \n",
            "\n",
            "PARSER FOR SENTENCE 1:\n",
            "            TOP                                                                                       \n",
            "             |                                                                                         \n",
            "             S                                                                                        \n",
            "        _____|_______________                                                                          \n",
            "       |                     VP                                                                       \n",
            "       |              _______|_____                                                                    \n",
            "       |             |            SBAR                                                                \n",
            "       |             |        _____|_____________                                                      \n",
            "       |             |       |                   S                                                    \n",
            "       |             |       |            _______|_____________                                        \n",
            "       |             |       |           |                     VP                                     \n",
            "       |             |       |           |                _____|_____________                          \n",
            "       |             |       |           |               |                   VP                       \n",
            "       |             |       |           |               |      _____________|__________               \n",
            "       |             |       |           |               |     |        PP              PP            \n",
            "       |             |       |           |               |     |     ___|____       ____|_____         \n",
            "       NP            |       |           NP              |     |    |        NP    |          NP      \n",
            "  _____|_____        |       |      _____|_______        |     |    |        |     |     _____|____    \n",
            " _     _     _       _       _     _             _       _     _    _        _     _    _          _  \n",
            " |     |     |       |       |     |             |       |     |    |        |     |    |          |   \n",
            "The project team hasdecided that system     development will occur  on     module  by module     basis\n",
            "\n"
          ]
        }
      ]
    }
  ]
}