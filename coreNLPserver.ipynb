{
 "cells": [
  {
   "cell_type": "code",
   "execution_count": null,
   "metadata": {
    "id": "_4MdqJI8NPA3"
   },
   "outputs": [],
   "source": []
  },
  {
   "cell_type": "markdown",
   "metadata": {
    "id": "KHtURl1n40dW"
   },
   "source": [
    "## import dataset"
   ]
  },
  {
   "cell_type": "code",
   "execution_count": 1,
   "metadata": {
    "colab": {
     "base_uri": "https://localhost:8080/"
    },
    "id": "oABRUIE940K-",
    "outputId": "b9e59a43-fd4a-45fd-84fd-4c30fb8e65d5"
   },
   "outputs": [
    {
     "name": "stdout",
     "output_type": "stream",
     "text": [
      "Requirement already satisfied: xmltodict in c:\\users\\asus\\anaconda3\\lib\\site-packages (0.12.0)\n"
     ]
    }
   ],
   "source": [
    "!pip install xmltodict"
   ]
  },
  {
   "cell_type": "code",
   "execution_count": 2,
   "metadata": {
    "colab": {
     "base_uri": "https://localhost:8080/"
    },
    "id": "hGzSwLR845ph",
    "outputId": "a2d5eed8-2fcc-4db7-fd4a-7e0ee475a3d6"
   },
   "outputs": [
    {
     "name": "stderr",
     "output_type": "stream",
     "text": [
      "[nltk_data] Downloading package punkt to\n",
      "[nltk_data]     C:\\Users\\ASUS\\AppData\\Roaming\\nltk_data...\n",
      "[nltk_data]   Package punkt is already up-to-date!\n",
      "[nltk_data] Downloading package averaged_perceptron_tagger to\n",
      "[nltk_data]     C:\\Users\\ASUS\\AppData\\Roaming\\nltk_data...\n",
      "[nltk_data]   Package averaged_perceptron_tagger is already up-to-\n",
      "[nltk_data]       date!\n"
     ]
    },
    {
     "data": {
      "text/plain": [
       "True"
      ]
     },
     "execution_count": 2,
     "metadata": {},
     "output_type": "execute_result"
    }
   ],
   "source": [
    "import csv\n",
    "import xmltodict\n",
    "import numpy as np\n",
    "import nltk\n",
    "nltk.download('punkt')\n",
    "nltk.download('averaged_perceptron_tagger')"
   ]
  },
  {
   "cell_type": "code",
   "execution_count": null,
   "metadata": {
    "id": "mZMhIQW25GTf"
   },
   "outputs": [],
   "source": []
  },
  {
   "cell_type": "code",
   "execution_count": 3,
   "metadata": {
    "id": "MOm-WG9em29p"
   },
   "outputs": [],
   "source": [
    "with open(\"C:/codepy/2010-blitdraft.xml\", \"rb\") as file: #perbedaan di jupiter\n",
    "  filedata = file.read()\n",
    "\n",
    "\n",
    "#convverting xml to python dictionary (ordered dict)\n",
    "data_dict = xmltodict.parse(filedata)"
   ]
  },
  {
   "cell_type": "code",
   "execution_count": 4,
   "metadata": {
    "colab": {
     "base_uri": "https://localhost:8080/"
    },
    "id": "9lye4FyinQDE",
    "outputId": "b163ea57-380e-4709-e262-0aa107a19959"
   },
   "outputs": [
    {
     "data": {
      "text/plain": [
       "odict_keys(['req_document'])"
      ]
     },
     "execution_count": 4,
     "metadata": {},
     "output_type": "execute_result"
    }
   ],
   "source": [
    "data_dict.keys()"
   ]
  },
  {
   "cell_type": "code",
   "execution_count": 5,
   "metadata": {
    "id": "j7ZHGpUEnSP_"
   },
   "outputs": [],
   "source": [
    "data_dict = data_dict['req_document']"
   ]
  },
  {
   "cell_type": "code",
   "execution_count": 6,
   "metadata": {
    "colab": {
     "base_uri": "https://localhost:8080/"
    },
    "id": "hcSx-pFnnWmL",
    "outputId": "1dde22db-8dcc-4af5-f8a2-4535a1ee8c86"
   },
   "outputs": [
    {
     "data": {
      "text/plain": [
       "odict_keys(['@xmlns', '@xmlns:xsi', '@xsi:schemaLocation', 'title', 'version', 'p'])"
      ]
     },
     "execution_count": 6,
     "metadata": {},
     "output_type": "execute_result"
    }
   ],
   "source": [
    "data_dict.keys()"
   ]
  },
  {
   "cell_type": "code",
   "execution_count": 7,
   "metadata": {
    "id": "acRwZEngnZee"
   },
   "outputs": [],
   "source": [
    "data_dict = data_dict['p']"
   ]
  },
  {
   "cell_type": "code",
   "execution_count": 8,
   "metadata": {
    "colab": {
     "base_uri": "https://localhost:8080/"
    },
    "id": "dSEGfi1kng7v",
    "outputId": "ae7d0ae4-ae56-4b00-a650-1916f3d13dd2"
   },
   "outputs": [
    {
     "name": "stdout",
     "output_type": "stream",
     "text": [
      "[OrderedDict([('@id', '1'), ('title', 'Introduction'), ('text_body', 'The management of [company name]. has identified a potential need for re-writing its core\\nLaboratory Information System (LIS) to improve the performance. In general, this project\\nwill provide a stable environment, automate decisions, streamline workflows, and employ\\nindustry standard coding and documentation practices. This effort will ensure System\\nIntegrity/Reliability by developing a system that is reliable and low maintenance including\\nsecurity and confidentiality requirements as dictated by HIPAA and FDA regulatory\\nstandards.'), ('p', [OrderedDict([('@id', '1.1'), ('title', 'Purpose'), ('text_body', 'This Functional Requirements Specification (FRS) is intended to capture the changes in\\nfunctionality that will occur during [system name] Re-Writing effort, which is part of the xxx\\nEnhancements project. All functionalities for the new [system name] system would be\\ndocumented in this FRS. Any undocumented requirements will be considered out of scope\\nand will not be implemented during this phase of Re-Writing.')]), OrderedDict([('@id', '1.2'), ('title', 'Scope'), ('text_body', 'The existing functionalities in the core [system name] will remain same. This project is\\nlimited in scope to the enhancements and defects that are critical in the severity level that is\\nthe issues that cause great burden to the system users and the enhancements in system\\narchitecture, which will facilitate efficient growth of [system name] and the [company name]\\nbusiness, will fall under the purview of this project scope.\\nThe functional issues and requirements that will be discussed and gathered respectively as\\nwell as validated in the Requirements Gathering and Validating Sessions started on\\nMM/DD/YYYYwould be documented in this FRS moving forward. The project team has\\ndecided that system development will occur on module by module basis.')])])]), OrderedDict([('@id', '2'), ('title', 'Specific Requirements'), ('p', [OrderedDict([('@id', '2.1'), ('title', 'Functionality'), ('p', OrderedDict([('@id', '2.1.1'), ('title', 'Module: Admin'), ('p', [OrderedDict([('@id', '2.1.1.1'), ('title', 'Use Case: xxx Page, UC ID: UC_RR_xxx_xxx_000'), ('p', [OrderedDict([('@id', '2.1.1.1.1'), ('text_body', 'System shall display the hyperlinks and descriptions for the user to perform the desired\\nfunctions as specified in the related UIS.')]), OrderedDict([('@id', '2.1.1.1.2'), ('text_body', 'The User shall be able to view the hyperlinks and descriptions listed.')]), OrderedDict([('@id', '2.1.1.1.3'), ('text_body', 'The User shall be able to choose a function by clicking the hyperlink.')]), OrderedDict([('@id', '2.1.1.1.4'), ('text_body', 'The system shall display the desired operational page for the user after clicking the\\nhyperlink.')])])]), OrderedDict([('@id', '2.1.1.2'), ('title', 'Use Case: xxx Page, UC ID: UC_RR_xxx_xxx_000'), ('p', OrderedDict([('@id', '2.1.1.2.1'), ('title', 'Action: Create/Add User'), ('p', [OrderedDict([('@id', '2.1.1.2.1.1'), ('text_body', 'A user with admin privileges shall be able to Add/Create a new user and associate the\\nuser with specified role(s) in the system.')]), OrderedDict([('@id', '2.1.1.2.1.2'), ('text_body', 'The system shall display an error message if the new user is found in the [system name]\\nsystem.')]), OrderedDict([('@id', '2.1.1.2.1.3'), ('text_body', 'The system shall display an error message if the new user is not active in the Active\\nDirectory.')]), OrderedDict([('@id', '2.1.1.2.1.4'), ('text_body', 'The system shall display the xxx tab as the default tab.')]), OrderedDict([('@id', '2.1.1.2.1.5'), ('text_body', 'The user shall be able to create/add a new user manually or from a template.')]), OrderedDict([('@id', '2.1.1.2.1.6'), ('text_body', 'The user record shall inherit all specified role(s) settings in the template when the user\\nrecord is created from the user template')]), OrderedDict([('@id', '2.1.1.2.1.7'), ('text_body', 'The user shall be able to add additional roles manually while creating/adding a new user\\nfrom a user template.')]), OrderedDict([('@id', '2.1.1.2.1.8'), ('text_body', 'The system shall save the user info to the database with specified roles associated with\\ndivisions for the newly created/added user.')]), OrderedDict([('@id', '2.1.1.2.1.9'), ('text_body', 'The system shall perform a search on the [system name] user display name and user\\nname columns in the user tables to find the user and verify the user’s existence.')]), OrderedDict([('@id', '2.1.1.2.1.10'), ('text_body', 'The system shall perform a search in the Active Directory to verify the status of the user\\n— Active/Inactive within the company—when the user attempts to create/add a new user\\nin the [system name] system.')]), OrderedDict([('@id', '2.1.1.2.1.11'), ('text_body', 'The system shall generate a standard confirmation message after saving data and\\nwarning/caution messages after the cancel or close button is clicked.')]), OrderedDict([('@id', '2.1.1.2.1.12'), ('text_body', 'The user must have the flexibility to click any tab to commence the adding process,\\nalthough the xxx Tab shall display as the default tab.')]), OrderedDict([('@id', '2.1.1.2.1.13'), ('text_body', 'All required fields as specified in the UIS must be marked with a red asterisk alerting the\\nuser to fill the required fields in.')]), OrderedDict([('@id', '2.1.1.2.1.14'), ('text_body', 'The user shall be able to save data after creating/adding a new user or cancel data to\\nabort the process.')]), OrderedDict([('@id', '2.1.1.2.1.15'), ('text_body', 'The system shall clear up data if the user chooses to click the Cancel button in the midst\\nof creating/adding a new user.')]), OrderedDict([('@id', '2.1.1.2.1.16'), ('text_body', 'The system shall direct the user to the xxx Page if the user chooses to click the close\\nbutton without entering any data.')]), OrderedDict([('@id', '2.1.1.2.1.17'), ('text_body', 'The user must associate at least one role, division, designator code, and lab location at\\nthe time of creating/adding a new user.')]), OrderedDict([('@id', '2.1.1.2.1.18'), ('text_body', 'The user must fill in the required fields—User Name and Display Name—in the User\\nInformation section at the time of creating/adding a new user.')]), OrderedDict([('@id', '2.1.1.2.1.19'), ('text_body', 'The system shall generate a standard error/warning message after the user attempts to\\nsave data without associating one of each of the following criteria—xxx—and/or without\\nfilling in the required fields in the User Information section.')])])]))])])]))]), OrderedDict([('@id', '2.2'), ('title', 'Usability'), ('p', OrderedDict([('@id', '2.2.1'), ('title', 'User Interface Guidelines'), ('p', [OrderedDict([('@id', '2.2.1.1'), ('text_body', 'The Project Team must demonstrate mockups of UI changes to project stakeholders early\\nin the development process.')]), OrderedDict([('@id', '2.2.1.2'), ('text_body', 'The Project Team must permit reasonable adjustment to the user interfaces of new\\nfunctionality by project stakeholders when project schedule permits those adjustments.')])])]))]), OrderedDict([('@id', '2.3'), ('title', 'Reliability'), ('p', OrderedDict([('@id', '2.3.1'), ('title', 'System Downtime'), ('p', OrderedDict([('@id', '2.3.1.1'), ('text_body', 'The Project Team shall schedule updates to the production environment only on Tuesdays\\nbetween 7pm and 7am. (Example)')]))]))]), OrderedDict([('@id', '2.4'), ('title', 'Performance'), ('p', OrderedDict([('@id', '2.4.1'), ('title', 'Quality Assurance'), ('p', [OrderedDict([('@id', '2.4.1.1'), ('text_body', 'The Project Team must perform applicable and appropriate testing against new functionality\\nprior to releasing that functionality/build to the production environment.')]), OrderedDict([('@id', '2.4.1.2'), ('text_body', 'The project Team must allow a reasonable time to conduct User Acceptance Testing (UAT)\\nagainst the built functionalities prior to deploying the product to the production environment.')])])]))]), OrderedDict([('@id', '2.5'), ('title', 'Supportability'), ('p', [OrderedDict([('@id', '2.5.1'), ('title', 'Coding Standards'), ('p', [OrderedDict([('@id', '2.5.1.1'), ('text_body', 'The Development Team shall define coding standards for the application and follow those\\nstandards consistently.')]), OrderedDict([('@id', '2.5.1.2'), ('text_body', 'The Development Team shall be required to adjust existing source code to follow accepted\\ncoding standards only if that source code must be modified.')])])]), OrderedDict([('@id', '2.5.2'), ('title', 'Maintainability Standards'), ('p', [OrderedDict([('@id', '2.5.2.1'), ('text_body', 'The system shall log errors, warnings, and informational messages to an external log file on\\nthe application server.')]), OrderedDict([('@id', '2.5.2.2'), ('text_body', 'The Development Team shall be required to adjust existing source code to use the external\\nlog file only if that source code must be modified to implement another requirement.')]), OrderedDict([('@id', '2.5.2.3'), ('text_body', 'The system shall log an error message to the external data file when the user is directed to\\nthe [SYSTEM NAME] error page.')]), OrderedDict([('@id', '2.5.2.4'), ('text_body', 'The system shall send a notification email to a Client Services email distribution list if the\\nuser is directed to the xxx error page.')])])])])]), OrderedDict([('@id', '2.6'), ('title', 'Design Constraints'), ('p', [OrderedDict([('@id', '2.6.1'), ('title', 'Development Platform'), ('p', [OrderedDict([('@id', '2.6.1.1'), ('text_body', 'The Development Team shall develop functionalities using the xx language and on the\\nsupported .NET 3.5 Platform.')]), OrderedDict([('@id', '2.6.1.2'), ('text_body', 'The Development Team shall utilize established open source frameworks instead of\\nproprietary custom components wherever appropriate.')]), OrderedDict([('@id', '2.6.1.3'), ('text_body', 'The system shall continue to depend upon and use a single SQL Server 2008 database.')])])]), OrderedDict([('@id', '2.6.2'), ('title', 'Production Releases'), ('p', OrderedDict([('@id', '2.6.2.1'), ('text_body', 'The Technical Owner/Lead shall provide signoff before any [SYSTEM NAME] build can be\\ndeployed to the production environment.')]))]), OrderedDict([('@id', '2.6.3'), ('title', 'Development Process'), ('p', [OrderedDict([('@id', '2.6.3.1'), ('text_body', 'The Development Team shall perform weekly integrations of the [SYSTEM NAME] system\\nand deploy these system updates to the Staging environment.')]), OrderedDict([('@id', '2.6.3.2'), ('text_body', 'The Development Team shall label every scheduled [SYSTEM NAME] build in the source\\ncontrol system.')]), OrderedDict([('@id', '2.6.3.3'), ('text_body', 'The Development Team shall perform scheduled [SYSTEM NAME] builds using code\\nchecked out of source control using the label as defined and specified.')]), OrderedDict([('@id', '2.6.3.4'), ('text_body', 'The Development Team shall develop and then send out release notes via e-mail to all\\nProject Team after each [SYSTEM NAME] build deployed to the Staging environment.')]), OrderedDict([('@id', '2.6.3.5'), ('text_body', 'The Technical Lead shall perform code reviews of every system change before those\\nchanges may be committed to source control.')]), OrderedDict([('@id', '2.6.3.6'), ('text_body', 'The QA/QC Team must perform regression testing against all scheduled builds.')])])])])]), OrderedDict([('@id', '2.7'), ('title', 'Online User Documentation and Help System Requirements'), ('p', OrderedDict([('@id', '2.7.1'), ('title', 'Robohelp Tool:'), ('text_body', 'RoboHelp version 8 will be used to create the online [system name]\\nHelp hypertext links. The [system name] system will display a hypertext link labeled\\n“Help” at the top right corner on each of the user screens to provide assistance to the\\nuser. Each of the Help topic pop-up windows will contain that same content that is\\navailable within the [system name] user’s manuals.'), ('p', [OrderedDict([('@id', '2.7.1.1'), ('text_body', 'The system shall provide the capability to open a pop-up window displaying information\\nabout the specific page along with links to supporting help topics upon selecting each Help\\nlink.')]), OrderedDict([('@id', '2.7.1.2'), ('text_body', 'The system shall display “[system name] Overview” page located under the Getting Started\\nsection of Help as default help topic page that will load upon selecting Help hypertext link.')]), OrderedDict([('@id', '2.7.1.3'), ('text_body', 'The system must allow users to easily navigate through each of the help topics by selecting\\na corresponding hypertext link provided in the left frame of the pop-up Help window.')]), OrderedDict([('@id', '2.7.1.4'), ('text_body', 'The system shall display the [company name] logo in the top, right side of the screen on\\neach of the help pages.')]), OrderedDict([('@id', '2.7.1.5'), ('text_body', 'The system must exhibit each of the help pages using the same color scheme and\\nbackground as specified.')]), OrderedDict([('@id', '2.7.1.6'), ('text_body', 'The system shall provide searching ability to the users to quickly find specific topic material\\nthrough the online help tool.')]), OrderedDict([('@id', '2.7.1.7'), ('text_body', 'The system shall provide an index to the users for a more in-depth search of topic contents\\nthrough the online help tool.')]), OrderedDict([('@id', '2.7.1.8'), ('text_body', 'The system shall provide a Glossary for industry-related terms associated with [company\\nname] and the [system name] system to the users through the online help tool.')])])]))]), OrderedDict([('@id', '2.8'), ('title', 'Interfaces')]), OrderedDict([('@id', '2.9'), ('title', 'Applicable Standards'), ('p', OrderedDict([('@id', '2.9.1'), ('p', [OrderedDict([('@id', '2.9.1.1'), ('text_body', 'The system shall retain existing HIPAA compliance capabilities.')]), OrderedDict([('@id', '2.9.1.2'), ('text_body', 'The system shall follow HIPAA compliance capabilities in new functionality introduced to the\\nsystem.')])])]))])])]), OrderedDict([('@id', '3'), ('p', OrderedDict([('@id', 'Glossary 30209')]))])]\n",
      "3\n"
     ]
    }
   ],
   "source": [
    "print((data_dict))\n",
    "print(len(data_dict))"
   ]
  },
  {
   "cell_type": "code",
   "execution_count": 9,
   "metadata": {
    "colab": {
     "base_uri": "https://localhost:8080/"
    },
    "id": "gSkU5HilnjYO",
    "outputId": "cbf58afd-f174-4672-d1d5-1877be1e1f0e"
   },
   "outputs": [
    {
     "name": "stdout",
     "output_type": "stream",
     "text": [
      "odict_keys(['@id', 'title', 'text_body', 'p'])\n",
      "odict_keys(['@id', 'title', 'p'])\n",
      "odict_keys(['@id', 'p'])\n"
     ]
    }
   ],
   "source": [
    "for item in data_dict:\n",
    "  print(item.keys())"
   ]
  },
  {
   "cell_type": "code",
   "execution_count": 10,
   "metadata": {
    "id": "mLvlQSGvn2hL"
   },
   "outputs": [],
   "source": [
    "sens = []\n",
    "data = []"
   ]
  },
  {
   "cell_type": "code",
   "execution_count": 11,
   "metadata": {
    "id": "MQnlI55JoAMF"
   },
   "outputs": [],
   "source": [
    "for item in data_dict:\n",
    "  for value in item.keys():\n",
    "    if value == 'p':\n",
    "      data.append(item['p'])"
   ]
  },
  {
   "cell_type": "code",
   "execution_count": 12,
   "metadata": {
    "id": "BO0PVs3RoLWV"
   },
   "outputs": [],
   "source": [
    "data = data[0]"
   ]
  },
  {
   "cell_type": "code",
   "execution_count": 13,
   "metadata": {
    "colab": {
     "base_uri": "https://localhost:8080/"
    },
    "id": "3KmrfsZRoWZC",
    "outputId": "f50d4139-92be-41f9-fda8-d30d2adadc8a"
   },
   "outputs": [
    {
     "data": {
      "text/plain": [
       "[OrderedDict([('@id', '1.1'),\n",
       "              ('title', 'Purpose'),\n",
       "              ('text_body',\n",
       "               'This Functional Requirements Specification (FRS) is intended to capture the changes in\\nfunctionality that will occur during [system name] Re-Writing effort, which is part of the xxx\\nEnhancements project. All functionalities for the new [system name] system would be\\ndocumented in this FRS. Any undocumented requirements will be considered out of scope\\nand will not be implemented during this phase of Re-Writing.')]),\n",
       " OrderedDict([('@id', '1.2'),\n",
       "              ('title', 'Scope'),\n",
       "              ('text_body',\n",
       "               'The existing functionalities in the core [system name] will remain same. This project is\\nlimited in scope to the enhancements and defects that are critical in the severity level that is\\nthe issues that cause great burden to the system users and the enhancements in system\\narchitecture, which will facilitate efficient growth of [system name] and the [company name]\\nbusiness, will fall under the purview of this project scope.\\nThe functional issues and requirements that will be discussed and gathered respectively as\\nwell as validated in the Requirements Gathering and Validating Sessions started on\\nMM/DD/YYYYwould be documented in this FRS moving forward. The project team has\\ndecided that system development will occur on module by module basis.')])]"
      ]
     },
     "execution_count": 13,
     "metadata": {},
     "output_type": "execute_result"
    }
   ],
   "source": [
    "data"
   ]
  },
  {
   "cell_type": "code",
   "execution_count": 14,
   "metadata": {
    "id": "Xe-J9xZkoVqs"
   },
   "outputs": [],
   "source": [
    "for item in data:\n",
    "  for value in item.keys():\n",
    "    if value == 'text_body':\n",
    "      sens.append(item['text_body'])"
   ]
  },
  {
   "cell_type": "code",
   "execution_count": 15,
   "metadata": {
    "colab": {
     "base_uri": "https://localhost:8080/"
    },
    "id": "DMX8B0Ppo52c",
    "outputId": "ceaf3142-9ff8-4c63-b6f3-b3caa54fe68d"
   },
   "outputs": [
    {
     "data": {
      "text/plain": [
       "['This Functional Requirements Specification (FRS) is intended to capture the changes in\\nfunctionality that will occur during [system name] Re-Writing effort, which is part of the xxx\\nEnhancements project. All functionalities for the new [system name] system would be\\ndocumented in this FRS. Any undocumented requirements will be considered out of scope\\nand will not be implemented during this phase of Re-Writing.',\n",
       " 'The existing functionalities in the core [system name] will remain same. This project is\\nlimited in scope to the enhancements and defects that are critical in the severity level that is\\nthe issues that cause great burden to the system users and the enhancements in system\\narchitecture, which will facilitate efficient growth of [system name] and the [company name]\\nbusiness, will fall under the purview of this project scope.\\nThe functional issues and requirements that will be discussed and gathered respectively as\\nwell as validated in the Requirements Gathering and Validating Sessions started on\\nMM/DD/YYYYwould be documented in this FRS moving forward. The project team has\\ndecided that system development will occur on module by module basis.']"
      ]
     },
     "execution_count": 15,
     "metadata": {},
     "output_type": "execute_result"
    }
   ],
   "source": [
    "sens"
   ]
  },
  {
   "cell_type": "code",
   "execution_count": 16,
   "metadata": {
    "id": "UkJeidHgo50E"
   },
   "outputs": [],
   "source": [
    "hasil = []\n",
    "for sub in sens:\n",
    "  hasil.append(sub.replace(\"\\n\", \"\"))"
   ]
  },
  {
   "cell_type": "code",
   "execution_count": 17,
   "metadata": {
    "id": "j6_JgwUwpKhG"
   },
   "outputs": [],
   "source": [
    "temp = []\n",
    "for value in hasil:\n",
    "  temp.append(value.split('. '))"
   ]
  },
  {
   "cell_type": "code",
   "execution_count": 18,
   "metadata": {
    "id": "Vewv1maZpePB"
   },
   "outputs": [],
   "source": [
    "sentences = []\n",
    "for value in temp:\n",
    "  for item in value:\n",
    "    sentences.append(item)\n"
   ]
  },
  {
   "cell_type": "code",
   "execution_count": 19,
   "metadata": {
    "colab": {
     "base_uri": "https://localhost:8080/"
    },
    "id": "NC48CyivpzRU",
    "outputId": "e7ec1777-075b-498e-8cbf-67769f4a5804"
   },
   "outputs": [
    {
     "name": "stdout",
     "output_type": "stream",
     "text": [
      "['This Functional Requirements Specification (FRS) is intended to capture the changes infunctionality that will occur during [system name] Re-Writing effort, which is part of the xxxEnhancements project'\n",
      " 'All functionalities for the new [system name] system would bedocumented in this FRS'\n",
      " 'Any undocumented requirements will be considered out of scopeand will not be implemented during this phase of Re-Writing.'\n",
      " 'The existing functionalities in the core [system name] will remain same'\n",
      " 'This project islimited in scope to the enhancements and defects that are critical in the severity level that isthe issues that cause great burden to the system users and the enhancements in systemarchitecture, which will facilitate efficient growth of [system name] and the [company name]business, will fall under the purview of this project scope.The functional issues and requirements that will be discussed and gathered respectively aswell as validated in the Requirements Gathering and Validating Sessions started onMM/DD/YYYYwould be documented in this FRS moving forward'\n",
      " 'The project team hasdecided that system development will occur on module by module basis.']\n"
     ]
    }
   ],
   "source": [
    "print(np.array(sentences))"
   ]
  },
  {
   "cell_type": "code",
   "execution_count": 20,
   "metadata": {
    "id": "fgl57DpdekWo"
   },
   "outputs": [],
   "source": [
    "import string\n",
    "for x in range(len(sentences)):\n",
    "  sentences[x] = sentences[x].translate(str.maketrans('', '', string.punctuation))"
   ]
  },
  {
   "cell_type": "code",
   "execution_count": 21,
   "metadata": {
    "colab": {
     "base_uri": "https://localhost:8080/"
    },
    "id": "0Df-tbPin3xa",
    "outputId": "31169546-04b0-496a-e0f5-ce821a9a71fb"
   },
   "outputs": [
    {
     "data": {
      "text/plain": [
       "['This Functional Requirements Specification FRS is intended to capture the changes infunctionality that will occur during system name ReWriting effort which is part of the xxxEnhancements project',\n",
       " 'All functionalities for the new system name system would bedocumented in this FRS',\n",
       " 'Any undocumented requirements will be considered out of scopeand will not be implemented during this phase of ReWriting',\n",
       " 'The existing functionalities in the core system name will remain same',\n",
       " 'This project islimited in scope to the enhancements and defects that are critical in the severity level that isthe issues that cause great burden to the system users and the enhancements in systemarchitecture which will facilitate efficient growth of system name and the company namebusiness will fall under the purview of this project scopeThe functional issues and requirements that will be discussed and gathered respectively aswell as validated in the Requirements Gathering and Validating Sessions started onMMDDYYYYwould be documented in this FRS moving forward',\n",
       " 'The project team hasdecided that system development will occur on module by module basis']"
      ]
     },
     "execution_count": 21,
     "metadata": {},
     "output_type": "execute_result"
    }
   ],
   "source": [
    "sentences"
   ]
  },
  {
   "cell_type": "code",
   "execution_count": 22,
   "metadata": {
    "colab": {
     "base_uri": "https://localhost:8080/"
    },
    "id": "dsp4Eyb05vEv",
    "outputId": "5ade9c5e-5430-4a85-befd-d616c2a20a70"
   },
   "outputs": [
    {
     "data": {
      "text/plain": [
       "str"
      ]
     },
     "execution_count": 22,
     "metadata": {},
     "output_type": "execute_result"
    }
   ],
   "source": [
    "type(sentences[0])"
   ]
  },
  {
   "cell_type": "markdown",
   "metadata": {
    "id": "yOwYT_JHRj7t"
   },
   "source": [
    "CORE NLP PARSER"
   ]
  },
  {
   "cell_type": "markdown",
   "metadata": {
    "id": "1JXe6qcXVv5Y"
   },
   "source": [
    "\n",
    "java -mx4g -cp \"*\" edu.stanford.nlp.pipeline.StanfordCoreNLPServer -port 9000 -timeout 15000"
   ]
  },
  {
   "cell_type": "code",
   "execution_count": 23,
   "metadata": {},
   "outputs": [],
   "source": [
    "import nltk\n"
   ]
  },
  {
   "cell_type": "code",
   "execution_count": 24,
   "metadata": {
    "id": "y8W6cOBhRlSL"
   },
   "outputs": [],
   "source": [
    "\n",
    "from nltk.parse.corenlp import CoreNLPParser, CoreNLPServer\n",
    "\n",
    "parser = CoreNLPParser(url='http://localhost:9000')"
   ]
  },
  {
   "cell_type": "code",
   "execution_count": 25,
   "metadata": {},
   "outputs": [],
   "source": [
    "# MENCOBA DENGAN MENGGUNAKAN KALIMAT CONTOH"
   ]
  },
  {
   "cell_type": "code",
   "execution_count": 26,
   "metadata": {
    "colab": {
     "base_uri": "https://localhost:8080/",
     "height": 834
    },
    "id": "QyDIQOfrRqxD",
    "outputId": "89e16901-a89d-4baf-fcfc-6657831d0cee"
   },
   "outputs": [
    {
     "name": "stdout",
     "output_type": "stream",
     "text": [
      "(ROOT\n",
      "  (S\n",
      "    (NP (NNP John))\n",
      "    (VP\n",
      "      (VP (VBD saw) (NP (DT the) (NN saw)))\n",
      "      (CC and)\n",
      "      (VP\n",
      "        (VBD decided)\n",
      "        (S\n",
      "          (VP\n",
      "            (TO to)\n",
      "            (VP\n",
      "              (VB take)\n",
      "              (NP (PRP it))\n",
      "              (PP (IN to) (NP (DT the) (NN table))))))))\n",
      "    (. .)))\n",
      "(ROOT\n",
      "  (S\n",
      "    (NP (PRP I))\n",
      "    (VP\n",
      "      (VBD shot)\n",
      "      (NP (DT an) (NN elephant))\n",
      "      (PP (IN in) (NP (PRP$ my) (NNS pajamas))))))\n"
     ]
    }
   ],
   "source": [
    "sentences_exmple = ['John saw the saw and decided to take it to the table.','I shot an elephant in my pajamas']\n",
    "for sentence in sentences_exmple:\n",
    "    # parse a sentence\n",
    "    parsed_sentence = next(parser.raw_parse(sentence))\n",
    "    # print the parse tree\n",
    "    print(parsed_sentence)"
   ]
  },
  {
   "cell_type": "code",
   "execution_count": 27,
   "metadata": {},
   "outputs": [
    {
     "name": "stdout",
     "output_type": "stream",
     "text": [
      "                                 ROOT                               \n",
      "                                  |                                  \n",
      "                                  S                                 \n",
      "  ________________________________|_______________________________   \n",
      " |                    VP                                          | \n",
      " |         ___________|___________                                |  \n",
      " |        |           |           VP                              | \n",
      " |        |           |      _____|_________                      |  \n",
      " |        |           |     |               S                     | \n",
      " |        |           |     |               |                     |  \n",
      " |        |           |     |               VP                    | \n",
      " |        |           |     |      _________|___                  |  \n",
      " |        |           |     |     |             VP                | \n",
      " |        |           |     |     |     ________|___              |  \n",
      " |        VP          |     |     |    |    |       PP            | \n",
      " |     ___|___        |     |     |    |    |    ___|___          |  \n",
      " NP   |       NP      |     |     |    |    NP  |       NP        | \n",
      " |    |    ___|___    |     |     |    |    |   |    ___|____     |  \n",
      "NNP  VBD  DT      NN  CC   VBD    TO   VB  PRP  IN  DT       NN   . \n",
      " |    |   |       |   |     |     |    |    |   |   |        |    |  \n",
      "John saw the     saw and decided  to  take  it  to the     table  . \n",
      "\n",
      "    ROOT                                      \n",
      "     |                                         \n",
      "     S                                        \n",
      "  ___|______________                           \n",
      " |                  VP                        \n",
      " |    ______________|__________                \n",
      " |   |        |                PP             \n",
      " |   |        |             ___|____           \n",
      " NP  |        NP           |        NP        \n",
      " |   |     ___|_____       |    ____|_____     \n",
      "PRP VBD   DT        NN     IN PRP$       NNS  \n",
      " |   |    |         |      |   |          |    \n",
      " I  shot  an     elephant  in  my      pajamas\n",
      "\n"
     ]
    }
   ],
   "source": [
    "for sentence in sentences_exmple:\n",
    "    next(\n",
    "        parser.raw_parse(sentence)\n",
    "    ).pretty_print()"
   ]
  },
  {
   "cell_type": "code",
   "execution_count": 28,
   "metadata": {},
   "outputs": [
    {
     "data": {
      "text/plain": [
       "['John saw the saw and decided to take it to the table.',\n",
       " 'I shot an elephant in my pajamas']"
      ]
     },
     "execution_count": 28,
     "metadata": {},
     "output_type": "execute_result"
    }
   ],
   "source": [
    "sentences_exmple[:]"
   ]
  },
  {
   "cell_type": "code",
   "execution_count": 29,
   "metadata": {},
   "outputs": [],
   "source": [
    "## MENCOBA DENGAN MENGGUNAKAN SUMBER ZENODO"
   ]
  },
  {
   "cell_type": "code",
   "execution_count": 30,
   "metadata": {
    "id": "7NV4p0a-V_BX"
   },
   "outputs": [
    {
     "name": "stdout",
     "output_type": "stream",
     "text": [
      "(ROOT\n",
      "  (S\n",
      "    (NP\n",
      "      (NP (DT This) (JJ Functional) (NNS Requirements))\n",
      "      (NP (NN Specification) (NN FRS)))\n",
      "    (VP\n",
      "      (VBZ is)\n",
      "      (VP\n",
      "        (VBN intended)\n",
      "        (S\n",
      "          (VP\n",
      "            (TO to)\n",
      "            (VP\n",
      "              (VB capture)\n",
      "              (NP\n",
      "                (NP (DT the) (NNS changes) (NN infunctionality))\n",
      "                (SBAR\n",
      "                  (WHNP (WDT that))\n",
      "                  (S\n",
      "                    (VP\n",
      "                      (MD will)\n",
      "                      (VP\n",
      "                        (VB occur)\n",
      "                        (PP (IN during) (NP (NN system) (NN name)))\n",
      "                        (S\n",
      "                          (VP\n",
      "                            (VBG ReWriting)\n",
      "                            (NP\n",
      "                              (NP (NN effort))\n",
      "                              (SBAR\n",
      "                                (WHNP (WDT which))\n",
      "                                (S\n",
      "                                  (VP\n",
      "                                    (VBZ is)\n",
      "                                    (NP\n",
      "                                      (NP (NN part))\n",
      "                                      (PP\n",
      "                                        (IN of)\n",
      "                                        (NP\n",
      "                                          (DT the)\n",
      "                                          (NNPS xxxEnhancements)\n",
      "                                          (NN project))))))))))))))))))))))\n",
      "\n",
      "\n",
      "\n",
      "\n",
      "\n",
      "(ROOT\n",
      "  (S\n",
      "    (NP\n",
      "      (NP (DT All) (NNS functionalities))\n",
      "      (PP\n",
      "        (IN for)\n",
      "        (NP (DT the) (JJ new) (NN system) (NN name) (NN system))))\n",
      "    (VP\n",
      "      (MD would)\n",
      "      (VP (VBN bedocumented) (PP (IN in) (NP (DT this) (NNP FRS)))))))\n",
      "\n",
      "\n",
      "\n",
      "\n",
      "\n",
      "(ROOT\n",
      "  (S\n",
      "    (NP (DT Any) (JJ undocumented) (NNS requirements))\n",
      "    (VP\n",
      "      (MD will)\n",
      "      (VP\n",
      "        (VB be)\n",
      "        (VP\n",
      "          (VBN considered)\n",
      "          (PP\n",
      "            (IN out)\n",
      "            (IN of)\n",
      "            (NP\n",
      "              (NP (NN scopeand))\n",
      "              (SBAR\n",
      "                (S\n",
      "                  (VP\n",
      "                    (MD will)\n",
      "                    (RB not)\n",
      "                    (VP\n",
      "                      (VB be)\n",
      "                      (VP\n",
      "                        (VBN implemented)\n",
      "                        (PP\n",
      "                          (IN during)\n",
      "                          (NP\n",
      "                            (NP (DT this) (NN phase))\n",
      "                            (PP (IN of) (S (VP (VBG ReWriting))))))))))))))))))\n",
      "\n",
      "\n",
      "\n",
      "\n",
      "\n",
      "(ROOT\n",
      "  (S\n",
      "    (NP\n",
      "      (NP (DT The) (VBG existing) (NNS functionalities))\n",
      "      (PP (IN in) (NP (DT the) (NN core) (NN system) (NN name))))\n",
      "    (VP (MD will) (VP (VB remain) (NP (JJ same))))))\n",
      "\n",
      "\n",
      "\n",
      "\n",
      "\n",
      "(ROOT\n",
      "  (S\n",
      "    (NP\n",
      "      (NP (DT This) (NN project))\n",
      "      (VP\n",
      "        (VBN islimited)\n",
      "        (PP (IN in) (NP (NN scope)))\n",
      "        (PP\n",
      "          (IN to)\n",
      "          (NP\n",
      "            (NP (DT the) (NNS enhancements) (CC and) (NNS defects))\n",
      "            (SBAR\n",
      "              (WHNP (WDT that))\n",
      "              (S\n",
      "                (VP\n",
      "                  (VBP are)\n",
      "                  (ADJP\n",
      "                    (JJ critical)\n",
      "                    (PP\n",
      "                      (IN in)\n",
      "                      (NP\n",
      "                        (NP (DT the) (NN severity) (NN level))\n",
      "                        (SBAR\n",
      "                          (WHNP (WDT that))\n",
      "                          (S\n",
      "                            (VP\n",
      "                              (VBP isthe)\n",
      "                              (NP\n",
      "                                (NP (NNS issues))\n",
      "                                (SBAR\n",
      "                                  (WHNP (WDT that))\n",
      "                                  (S\n",
      "                                    (VP\n",
      "                                      (VBP cause)\n",
      "                                      (NP (JJ great) (NN burden))\n",
      "                                      (PP\n",
      "                                        (IN to)\n",
      "                                        (NP\n",
      "                                          (NP\n",
      "                                            (DT the)\n",
      "                                            (NN system)\n",
      "                                            (NNS users))\n",
      "                                          (CC and)\n",
      "                                          (NP\n",
      "                                            (DT the)\n",
      "                                            (NNS enhancements))))\n",
      "                                      (PP\n",
      "                                        (IN in)\n",
      "                                        (NP\n",
      "                                          (NP\n",
      "                                            (NN systemarchitecture))\n",
      "                                          (SBAR\n",
      "                                            (WHNP (WDT which))\n",
      "                                            (S\n",
      "                                              (VP\n",
      "                                                (MD will)\n",
      "                                                (VP\n",
      "                                                  (VB facilitate)\n",
      "                                                  (NP\n",
      "                                                    (NP\n",
      "                                                      (JJ efficient)\n",
      "                                                      (NN growth))\n",
      "                                                    (PP\n",
      "                                                      (IN of)\n",
      "                                                      (NP\n",
      "                                                        (NP\n",
      "                                                          (NN system)\n",
      "                                                          (NN name))\n",
      "                                                        (CC and)\n",
      "                                                        (NP\n",
      "                                                          (DT the)\n",
      "                                                          (NN\n",
      "                                                            company)\n",
      "                                                          (NN\n",
      "                                                            namebusiness))))))))))))))))))))))))))))\n",
      "    (VP\n",
      "      (MD will)\n",
      "      (VP\n",
      "        (VB fall)\n",
      "        (PP\n",
      "          (IN under)\n",
      "          (NP\n",
      "            (NP (DT the) (NN purview))\n",
      "            (PP (IN of) (NP (DT this) (NN project) (NN scopeThe)))))\n",
      "        (NP\n",
      "          (NP\n",
      "            (JJ functional)\n",
      "            (NNS issues)\n",
      "            (CC and)\n",
      "            (NNS requirements))\n",
      "          (SBAR\n",
      "            (WHNP (WDT that))\n",
      "            (S\n",
      "              (VP\n",
      "                (MD will)\n",
      "                (VP\n",
      "                  (VB be)\n",
      "                  (VP\n",
      "                    (VBN discussed)\n",
      "                    (CC and)\n",
      "                    (VBN gathered)\n",
      "                    (ADVP (RB respectively))\n",
      "                    (SBAR\n",
      "                      (ADVP (RB aswell))\n",
      "                      (IN as)\n",
      "                      (S\n",
      "                        (S\n",
      "                          (VP\n",
      "                            (VBN validated)\n",
      "                            (PP\n",
      "                              (IN in)\n",
      "                              (S\n",
      "                                (NP (DT the) (NNS Requirements))\n",
      "                                (VP\n",
      "                                  (VBG Gathering)\n",
      "                                  (CC and)\n",
      "                                  (VBG Validating)\n",
      "                                  (NP (NNP Sessions)))))))\n",
      "                        (VP\n",
      "                          (VBD started)\n",
      "                          (ADVP (RB onMMDDYYYYwould))\n",
      "                          (VP\n",
      "                            (VB be)\n",
      "                            (VP\n",
      "                              (VBN documented)\n",
      "                              (PP\n",
      "                                (IN in)\n",
      "                                (NP\n",
      "                                  (NP (DT this) (NNP FRS))\n",
      "                                  (VP\n",
      "                                    (VBG moving)\n",
      "                                    (ADVP (RB forward))))))))))))))))))))\n",
      "\n",
      "\n",
      "\n",
      "\n",
      "\n",
      "(ROOT\n",
      "  (S\n",
      "    (NP (DT The) (NN project) (NN team))\n",
      "    (VP\n",
      "      (VBD hasdecided)\n",
      "      (SBAR\n",
      "        (IN that)\n",
      "        (S\n",
      "          (NP (NN system) (NN development))\n",
      "          (VP\n",
      "            (MD will)\n",
      "            (VP\n",
      "              (VB occur)\n",
      "              (PP (IN on) (NP (NN module)))\n",
      "              (PP (IN by) (NP (NN module) (NN basis))))))))))\n",
      "\n",
      "\n",
      "\n",
      "\n",
      "\n"
     ]
    }
   ],
   "source": [
    "for x in range(len(sentences)):\n",
    "    # split text into sentences\n",
    "    sentences_list = nltk.sent_tokenize(sentences[x])\n",
    "\n",
    "    # parse each sentence\n",
    "    for sentence in sentences_list:\n",
    "        # parse a sentence\n",
    "        parsed_sentence = next(parser.raw_parse(sentence))\n",
    "        # print the parse tree\n",
    "        \n",
    "        print(parsed_sentence)\n",
    "        \n",
    "        print(\"\\n\\n\\n\\n\")"
   ]
  },
  {
   "cell_type": "code",
   "execution_count": 31,
   "metadata": {},
   "outputs": [
    {
     "name": "stdout",
     "output_type": "stream",
     "text": [
      "                                               ROOT                                                                                                                                                                 \n",
      "                                                |                                                                                                                                                                    \n",
      "                                                S                                                                                                                                                                   \n",
      "                      __________________________|__________                                                                                                                                                          \n",
      "                     |                                     VP                                                                                                                                                       \n",
      "                     |                                _____|______                                                                                                                                                   \n",
      "                     |                               |            VP                                                                                                                                                \n",
      "                     |                               |      ______|_____                                                                                                                                             \n",
      "                     |                               |     |            S                                                                                                                                           \n",
      "                     |                               |     |            |                                                                                                                                            \n",
      "                     |                               |     |            VP                                                                                                                                          \n",
      "                     |                               |     |       _____|_____                                                                                                                                       \n",
      "                     |                               |     |      |           VP                                                                                                                                    \n",
      "                     |                               |     |      |      _____|_________________                                                                                                                     \n",
      "                     |                               |     |      |     |                       NP                                                                                                                  \n",
      "                     |                               |     |      |     |            ___________|______________                                                                                                      \n",
      "                     |                               |     |      |     |           |                         SBAR                                                                                                  \n",
      "                     |                               |     |      |     |           |                      ____|_____                                                                                                \n",
      "                     |                               |     |      |     |           |                     |          S                                                                                              \n",
      "                     |                               |     |      |     |           |                     |          |                                                                                               \n",
      "                     |                               |     |      |     |           |                     |          VP                                                                                             \n",
      "                     |                               |     |      |     |           |                     |     _____|____________                                                                                   \n",
      "                     |                               |     |      |     |           |                     |    |                  VP                                                                                \n",
      "                     |                               |     |      |     |           |                     |    |      ____________|_________________________                                                         \n",
      "                     |                               |     |      |     |           |                     |    |     |            |                         S                                                       \n",
      "                     |                               |     |      |     |           |                     |    |     |            |                         |                                                        \n",
      "                     |                               |     |      |     |           |                     |    |     |            |                         VP                                                      \n",
      "                     |                               |     |      |     |           |                     |    |     |            |                  _______|______                                                  \n",
      "                     |                               |     |      |     |           |                     |    |     |            |                 |              NP                                               \n",
      "                     |                               |     |      |     |           |                     |    |     |            |                 |        ______|____                                             \n",
      "                     |                               |     |      |     |           |                     |    |     |            |                 |       |          SBAR                                         \n",
      "                     |                               |     |      |     |           |                     |    |     |            |                 |       |       ____|_________                                   \n",
      "                     |                               |     |      |     |           |                     |    |     |            |                 |       |      |              S                                 \n",
      "                     |                               |     |      |     |           |                     |    |     |            |                 |       |      |              |                                  \n",
      "                     |                               |     |      |     |           |                     |    |     |            |                 |       |      |              VP                                \n",
      "                     |                               |     |      |     |           |                     |    |     |            |                 |       |      |     _________|___                               \n",
      "                     |                               |     |      |     |           |                     |    |     |            |                 |       |      |    |             NP                            \n",
      "                     |                               |     |      |     |           |                     |    |     |            |                 |       |      |    |     ________|___                           \n",
      "                     NP                              |     |      |     |           |                     |    |     |            PP                |       |      |    |    |            PP                        \n",
      "          ___________|______________________         |     |      |     |           |                     |    |     |      ______|_____            |       |      |    |    |     _______|_________                 \n",
      "         NP                                 NP       |     |      |     |           NP                   WHNP  |     |     |            NP          |       NP    WHNP  |    NP   |                 NP              \n",
      "  _______|___________               ________|___     |     |      |     |      _____|___________          |    |     |     |       _____|___        |       |      |    |    |    |    _____________|___________     \n",
      " DT      JJ         NNS            NN           NN  VBZ   VBN     TO    VB    DT   NNS          NN       WDT   MD    VB    IN     NN        NN     VBG      NN    WDT  VBZ   NN   IN  DT           NNPS         NN  \n",
      " |       |           |             |            |    |     |      |     |     |     |           |         |    |     |     |      |         |       |       |      |    |    |    |   |             |           |    \n",
      "This Functional Requirements Specification     FRS   is intended  to capture the changes infunctionality that will occur during system     name ReWriting effort which  is  part  of the     xxxEnhancements project\n",
      "\n",
      "                                           ROOT                                               \n",
      "                                            |                                                  \n",
      "                                            S                                                 \n",
      "                              ______________|______________________________                    \n",
      "                             |                                             VP                 \n",
      "                             |                            _________________|___                \n",
      "                             NP                          |                     VP             \n",
      "      _______________________|___                        |         ____________|___            \n",
      "     |                           PP                      |        |                PP         \n",
      "     |                    _______|____                   |        |         _______|____       \n",
      "     NP                  |            NP                 |        |        |            NP    \n",
      "  ___|_________          |    ________|___________       |        |        |        ____|___   \n",
      " DT           NNS        IN  DT  JJ   NN    NN    NN     MD      VBN       IN      DT      NNP\n",
      " |             |         |   |   |    |     |     |      |        |        |       |        |  \n",
      "All     functionalities for the new system name system would bedocumented  in     this     FRS\n",
      "\n"
     ]
    },
    {
     "name": "stdout",
     "output_type": "stream",
     "text": [
      "                     ROOT                                                                                                               \n",
      "                      |                                                                                                                  \n",
      "                      S                                                                                                                 \n",
      "          ____________|_____________                                                                                                     \n",
      "         |                          VP                                                                                                  \n",
      "         |                      ____|______                                                                                              \n",
      "         |                     |           VP                                                                                           \n",
      "         |                     |     ______|_______                                                                                      \n",
      "         |                     |    |              VP                                                                                   \n",
      "         |                     |    |       _______|___                                                                                  \n",
      "         |                     |    |      |           PP                                                                               \n",
      "         |                     |    |      |        ___|____________                                                                     \n",
      "         |                     |    |      |       |   |            NP                                                                  \n",
      "         |                     |    |      |       |   |      ______|____                                                                \n",
      "         |                     |    |      |       |   |     |          SBAR                                                            \n",
      "         |                     |    |      |       |   |     |           |                                                               \n",
      "         |                     |    |      |       |   |     |           S                                                              \n",
      "         |                     |    |      |       |   |     |           |                                                               \n",
      "         |                     |    |      |       |   |     |           VP                                                             \n",
      "         |                     |    |      |       |   |     |       ____|____________                                                   \n",
      "         |                     |    |      |       |   |     |      |    |            VP                                                \n",
      "         |                     |    |      |       |   |     |      |    |     _______|______________                                    \n",
      "         |                     |    |      |       |   |     |      |    |    |                      VP                                 \n",
      "         |                     |    |      |       |   |     |      |    |    |        ______________|_________                          \n",
      "         |                     |    |      |       |   |     |      |    |    |       |                        PP                       \n",
      "         |                     |    |      |       |   |     |      |    |    |       |         _______________|____                     \n",
      "         |                     |    |      |       |   |     |      |    |    |       |        |                    NP                  \n",
      "         |                     |    |      |       |   |     |      |    |    |       |        |           _________|_______             \n",
      "         |                     |    |      |       |   |     |      |    |    |       |        |          |                 PP          \n",
      "         |                     |    |      |       |   |     |      |    |    |       |        |          |              ___|______      \n",
      "         |                     |    |      |       |   |     |      |    |    |       |        |          |             |          S    \n",
      "         |                     |    |      |       |   |     |      |    |    |       |        |          |             |          |     \n",
      "         NP                    |    |      |       |   |     NP     |    |    |       |        |          NP            |          VP   \n",
      "  _______|____________         |    |      |       |   |     |      |    |    |       |        |      ____|____         |          |     \n",
      " DT      JJ          NNS       MD   VB    VBN      IN  IN    NN     MD   RB   VB     VBN       IN    DT        NN       IN        VBG   \n",
      " |       |            |        |    |      |       |   |     |      |    |    |       |        |     |         |        |          |     \n",
      "Any undocumented requirements will  be considered out  of scopeand will not   be implemented during this     phase      of     ReWriting\n",
      "\n",
      "                                     ROOT                                 \n",
      "                                      |                                    \n",
      "                                      S                                   \n",
      "                               _______|______________________              \n",
      "                              NP                             VP           \n",
      "        ______________________|___                      _____|_____        \n",
      "       |                          PP                   |           VP     \n",
      "       |                       ___|___                 |      _____|___    \n",
      "       NP                     |       NP               |     |         NP \n",
      "  _____|____________          |    ___|___________     |     |         |   \n",
      " DT   VBG          NNS        IN  DT  NN    NN    NN   MD    VB        JJ \n",
      " |     |            |         |   |   |     |     |    |     |         |   \n",
      "The existing functionalities  in the core system name will remain     same\n",
      "\n",
      "                                                                                                                                                                                                                                                                                                     ROOT                                                                                                                                                                                                                                                                                                                                           \n",
      "                                                                                                                                                                                                                                                                                                      |                                                                                                                                                                                                                                                                                                                                              \n",
      "                                                                                                                                                                                                                                                                                                      S                                                                                                                                                                                                                                                                                                                                             \n",
      "                      ________________________________________________________________________________________________________________________________________________________________________________________________________________________________________________________________________________|________________________________________                                                                                                                                                                                                                                                                                                      \n",
      "                     NP                                                                                                                                                                                                                                                                                                                        |                                                                                                                                                                                                                                                                                                    \n",
      "       ______________|_______________                                                                                                                                                                                                                                                                                                          |                                                                                                                                                                                                                                                                                                     \n",
      "      |                              VP                                                                                                                                                                                                                                                                                                        |                                                                                                                                                                                                                                                                                                    \n",
      "      |               _______________|________________                                                                                                                                                                                                                                                                                         |                                                                                                                                                                                                                                                                                                     \n",
      "      |              |          |                     PP                                                                                                                                                                                                                                                                                       |                                                                                                                                                                                                                                                                                                    \n",
      "      |              |          |          ___________|______________                                                                                                                                                                                                                                                                          |                                                                                                                                                                                                                                                                                                     \n",
      "      |              |          |         |                          NP                                                                                                                                                                                                                                                                        |                                                                                                                                                                                                                                                                                                    \n",
      "      |              |          |         |            ______________|__________                                                                                                                                                                                                                                                               |                                                                                                                                                                                                                                                                                                     \n",
      "      |              |          |         |           |                        SBAR                                                                                                                                                                                                                                                            |                                                                                                                                                                                                                                                                                                    \n",
      "      |              |          |         |           |                     ____|______                                                                                                                                                                                                                                                        |                                                                                                                                                                                                                                                                                                     \n",
      "      |              |          |         |           |                    |           S                                                                                                                                                                                                                                                       |                                                                                                                                                                                                                                                                                                    \n",
      "      |              |          |         |           |                    |           |                                                                                                                                                                                                                                                       |                                                                                                                                                                                                                                                                                                     \n",
      "      |              |          |         |           |                    |           VP                                                                                                                                                                                                                                                      |                                                                                                                                                                                                                                                                                                    \n",
      "      |              |          |         |           |                    |     ______|______                                                                                                                                                                                                                                                 |                                                                                                                                                                                                                                                                                                     \n",
      "      |              |          |         |           |                    |    |            ADJP                                                                                                                                                                                                                                              |                                                                                                                                                                                                                                                                                                    \n",
      "      |              |          |         |           |                    |    |       ______|____                                                                                                                                                                                                                                            |                                                                                                                                                                                                                                                                                                     \n",
      "      |              |          |         |           |                    |    |      |           PP                                                                                                                                                                                                                                          |                                                                                                                                                                                                                                                                                                    \n",
      "      |              |          |         |           |                    |    |      |       ____|_____________                                                                                                                                                                                                                              |                                                                                                                                                                                                                                                                                                     \n",
      "      |              |          |         |           |                    |    |      |      |                  NP                                                                                                                                                                                                                            |                                                                                                                                                                                                                                                                                                    \n",
      "      |              |          |         |           |                    |    |      |      |           _______|__________                                                                                                                                                                                                                   |                                                                                                                                                                                                                                                                                                     \n",
      "      |              |          |         |           |                    |    |      |      |          |                 SBAR                                                                                                                                                                                                                VP                                                                                                                                                                                                                                                                                                   \n",
      "      |              |          |         |           |                    |    |      |      |          |             _____|_____                                                                                                                                                                                                   __________|____________________                                                                                                                                                                                                                                                                                 \n",
      "      |              |          |         |           |                    |    |      |      |          |            |           S                                                                                                                                                                                                 |                               VP                                                                                                                                                                                                                                                                              \n",
      "      |              |          |         |           |                    |    |      |      |          |            |           |                                                                                                                                                                                                 |     __________________________|________________________________________________________________                                                                                                                                                                                                                \n",
      "      |              |          |         |           |                    |    |      |      |          |            |           VP                                                                                                                                                                                                |    |          |                                                                                NP                                                                                                                                                                                                             \n",
      "      |              |          |         |           |                    |    |      |      |          |            |      _____|_____                                                                                                                                                                                            |    |          |                                                          ______________________|________________                                                                                                                                                                                               \n",
      "      |              |          |         |           |                    |    |      |      |          |            |     |           NP                                                                                                                                                                                          |    |          |                                                         |                                      SBAR                                                                                                                                                                                           \n",
      "      |              |          |         |           |                    |    |      |      |          |            |     |      _____|___________                                                                                                                                                                                |    |          |                                                         |                       ________________|_________________________________                                                                                                                                                             \n",
      "      |              |          |         |           |                    |    |      |      |          |            |     |     |                SBAR                                                                                                                                                                             |    |          |                                                         |                      |                                                  S                                                                                                                                                           \n",
      "      |              |          |         |           |                    |    |      |      |          |            |     |     |      ___________|___________________                                                                                                                                                            |    |          |                                                         |                      |                                                  |                                                                                                                                                            \n",
      "      |              |          |         |           |                    |    |      |      |          |            |     |     |     |                               S                                                                                                                                                           |    |          |                                                         |                      |                                                  VP                                                                                                                                                          \n",
      "      |              |          |         |           |                    |    |      |      |          |            |     |     |     |                               |                                                                                                                                                           |    |          |                                                         |                      |     _____________________________________________|_______________________________________________                                                                                                             \n",
      "      |              |          |         |           |                    |    |      |      |          |            |     |     |     |                               VP                                                                                                                                                          |    |          |                                                         |                      |    |                                                                                             VP                                                                                                          \n",
      "      |              |          |         |           |                    |    |      |      |          |            |     |     |     |      _________________________|___________________________________________________                                                                                                        |    |          |                                                         |                      |    |     ________________________________________________________________________________________|______                                                                                                      \n",
      "      |              |          |         |           |                    |    |      |      |          |            |     |     |     |     |          |              |                                                   PP                                                                                                      |    |          |                                                         |                      |    |    |                                                                                               VP                                                                                                   \n",
      "      |              |          |         |           |                    |    |      |      |          |            |     |     |     |     |          |              |                                          _________|___________                                                                                            |    |          |                                                         |                      |    |    |       ________________________________________________________________________________________|________________                                                                                     \n",
      "      |              |          |         |           |                    |    |      |      |          |            |     |     |     |     |          |              |                                         |                     NP                                                                                          |    |          |                                                         |                      |    |    |      |      |     |          |                                                                                SBAR                                                                                 \n",
      "      |              |          |         |           |                    |    |      |      |          |            |     |     |     |     |          |              |                                         |          ___________|____                                                                                       |    |          |                                                         |                      |    |    |      |      |     |          |          _______________________________________________________________________|________                                                                            \n",
      "      |              |          |         |           |                    |    |      |      |          |            |     |     |     |     |          |              |                                         |         |               SBAR                                                                                    |    |          |                                                         |                      |    |    |      |      |     |          |         |     |                                                                          S                                                                          \n",
      "      |              |          |         |           |                    |    |      |      |          |            |     |     |     |     |          |              |                                         |         |            ____|_______                                                                               |    |          |                                                         |                      |    |    |      |      |     |          |         |     |              ____________________________________________________________|___________                                                                \n",
      "      |              |          |         |           |                    |    |      |      |          |            |     |     |     |     |          |              |                                         |         |           |            S                                                                              |    |          |                                                         |                      |    |    |      |      |     |          |         |     |             |                                                                        VP                                                             \n",
      "      |              |          |         |           |                    |    |      |      |          |            |     |     |     |     |          |              |                                         |         |           |            |                                                                              |    |          |                                                         |                      |    |    |      |      |     |          |         |     |             |                                                             ___________|________________                                               \n",
      "      |              |          |         |           |                    |    |      |      |          |            |     |     |     |     |          |              |                                         |         |           |            VP                                                                             |    |          |                                                         |                      |    |    |      |      |     |          |         |     |             S                                                            |           |                VP                                            \n",
      "      |              |          |         |           |                    |    |      |      |          |            |     |     |     |     |          |              |                                         |         |           |     _______|__________                                                                    |    |          |                                                         |                      |    |    |      |      |     |          |         |     |             |                                                            |           |          ______|___________                                   \n",
      "      |              |          |         |           |                    |    |      |      |          |            |     |     |     |     |          |              |                                         |         |           |    |                  VP                                                                  |    |          |                                                         |                      |    |    |      |      |     |          |         |     |             VP                                                           |           |         |                  VP                                \n",
      "      |              |          |         |           |                    |    |      |      |          |            |     |     |     |     |          |              |                                         |         |           |    |        __________|___________                                                        |    |          |                                                         |                      |    |    |      |      |     |          |         |     |       ______|___                                                         |           |         |       ___________|________                          \n",
      "      |              |          |         |           |                    |    |      |      |          |            |     |     |     |     |          |              |                                         |         |           |    |       |                      NP                                                      |    |          PP                                                        |                      |    |    |      |      |     |          |         |     |      |          PP                                                       |           |         |      |                    PP                       \n",
      "      |              |          |         |           |                    |    |      |      |          |            |     |     |     |     |          |              |                                         |         |           |    |       |                  ____|__________                                             |    |      ____|_______________                                          |                      |    |    |      |      |     |          |         |     |      |       ___|_______________________                                 |           |         |      |        ____________|___                      \n",
      "      |              |          |         |           |                    |    |      |      |          |            |     |     |     |     |          |              PP                                        |         |           |    |       |                 |               PP                                           |    |     |                    NP                                        |                      |    |    |      |      |     |          |         |     |      |      |                           S                                |           |         |      |       |                NP                   \n",
      "      |              |          |         |           |                    |    |      |      |          |            |     |     |     |     |          |           ___|___________                              |         |           |    |       |                 |           ____|______________                              |    |     |         ___________|________                                 |                      |    |    |      |      |     |          |         |     |      |      |        ___________________|______                          |           |         |      |       |         _______|__________           \n",
      "      |              |          PP        |           |                    |    |      |      |          |            |     |     |     |     |          |          |               NP                            |         |           |    |       |                 |          |                   NP                            |    |     |        |                    PP                               |                      |    |    |      |      |     |          |         |     |      |      |       |                          VP                        |           |         |      |       |        |                  VP        \n",
      "      |              |       ___|____     |           |                    |    |      |      |          |            |     |     |     |     |          |          |         ______|____________                 |         |           |    |       |                 |          |           ________|__________                   |    |     |        |            ________|_____                           |                      |    |    |      |      |     |          |         |     |      |      |       |                    ______|________________         |           |         |      |       |        |             _____|_____     \n",
      "      NP             |      |        NP   |           NP                  WHNP  |      |      |          NP          WHNP   |     NP   WHNP   |          NP         |        NP          |       NP               |         NP         WHNP  |       |                 NP         |          NP       |          NP                 |    |     |        NP          |              NP                         NP                    WHNP  |    |      |      |     |         ADVP      ADVP   |      |      |       NP                  |      |      |         NP       |          ADVP       |      |       |        NP           |          ADVP \n",
      "  ____|_____         |      |        |    |    _______|______________      |    |      |      |     _____|_______     |     |     |     |     |      ____|____      |    ____|______     |    ___|_______         |         |           |    |       |           ______|____      |     _____|___     |     _____|_________         |    |     |     ___|_____      |    __________|_______           ________|_____________         |    |    |      |      |     |          |         |     |      |      |    ___|_______            |      |      |         |        |           |         |      |       |    ____|___         |           |    \n",
      " DT         NN      VBN     IN       NN   IN  DT     NNS       CC   NNS   WDT  VBP     JJ     IN   DT    NN      NN  WDT   VBP   NNS   WDT   VBP    JJ        NN    IN  DT   NN    NNS   CC  DT         NNS       IN        NN         WDT   MD      VB         JJ          NN    IN   NN        NN   CC   DT    NN        NN       MD   VB    IN   DT        NN    IN  DT         NN      NN        JJ      NNS    CC     NNS      WDT   MD   VB    VBN     CC   VBN         RB        RB    IN    VBN     IN  DT         NNS         VBG     CC    VBG       NNP      VBD          RB        VB    VBN      IN  DT      NNP      VBG          RB  \n",
      " |          |        |      |        |    |   |       |        |     |     |    |      |      |    |     |       |    |     |     |     |     |     |         |     |   |    |      |    |   |           |        |         |           |    |       |          |           |     |    |         |    |    |     |         |        |    |     |    |         |     |   |          |       |         |        |     |       |        |    |    |      |      |     |          |         |     |      |      |   |           |           |      |      |         |        |           |         |      |       |   |        |        |           |    \n",
      "This     project islimited  in     scope  to the enhancements and defects that are  critical  in  the severity level that isthe issues that cause great     burden  to the system users and the     enhancements  in systemarchitectu which will facilitate efficient     growth  of system     name and  the company namebusiness will fall under the     purview  of this     project scopeThe functional issues and requirements that will  be discussed and gathered respectively aswell  as validated  in the     Requirements Gathering and Validating Sessions started onMMDDYYYYwould  be documented  in this     FRS     moving     forward\n",
      "                                                                                                                                                                                                                            re                                                                                                                                                                                                                                                                                                                                                                                                                      \n",
      "\n",
      "            ROOT                                                                                      \n",
      "             |                                                                                         \n",
      "             S                                                                                        \n",
      "        _____|_______________                                                                          \n",
      "       |                     VP                                                                       \n",
      "       |              _______|_____                                                                    \n",
      "       |             |            SBAR                                                                \n",
      "       |             |        _____|_____________                                                      \n",
      "       |             |       |                   S                                                    \n",
      "       |             |       |            _______|_____________                                        \n",
      "       |             |       |           |                     VP                                     \n",
      "       |             |       |           |                _____|_____________                          \n",
      "       |             |       |           |               |                   VP                       \n",
      "       |             |       |           |               |      _____________|__________               \n",
      "       |             |       |           |               |     |        PP              PP            \n",
      "       |             |       |           |               |     |     ___|____       ____|_____         \n",
      "       NP            |       |           NP              |     |    |        NP    |          NP      \n",
      "  _____|_____        |       |      _____|_______        |     |    |        |     |     _____|____    \n",
      " DT    NN    NN     VBD      IN    NN            NN      MD    VB   IN       NN    IN   NN         NN \n",
      " |     |     |       |       |     |             |       |     |    |        |     |    |          |   \n",
      "The project team hasdecided that system     development will occur  on     module  by module     basis\n",
      "\n"
     ]
    }
   ],
   "source": [
    "for sentence in sentences:\n",
    "    next(\n",
    "        parser.raw_parse(sentence)\n",
    "    ).pretty_print()"
   ]
  },
  {
   "cell_type": "code",
   "execution_count": null,
   "metadata": {},
   "outputs": [],
   "source": []
  }
 ],
 "metadata": {
  "colab": {
   "provenance": []
  },
  "kernelspec": {
   "display_name": "Python 3",
   "language": "python",
   "name": "python3"
  },
  "language_info": {
   "codemirror_mode": {
    "name": "ipython",
    "version": 3
   },
   "file_extension": ".py",
   "mimetype": "text/x-python",
   "name": "python",
   "nbconvert_exporter": "python",
   "pygments_lexer": "ipython3",
   "version": "3.8.3"
  }
 },
 "nbformat": 4,
 "nbformat_minor": 1
}
