{
  "nbformat": 4,
  "nbformat_minor": 0,
  "metadata": {
    "colab": {
      "provenance": [],
      "authorship_tag": "ABX9TyPfSUeJWygOp27DQa3eG6W5",
      "include_colab_link": true
    },
    "kernelspec": {
      "name": "python3",
      "display_name": "Python 3"
    },
    "language_info": {
      "name": "python"
    },
    "widgets": {
      "application/vnd.jupyter.widget-state+json": {
        "5abaa093f14c4c31972d903a0aec0844": {
          "model_module": "@jupyter-widgets/controls",
          "model_name": "HBoxModel",
          "model_module_version": "1.5.0",
          "state": {
            "_dom_classes": [],
            "_model_module": "@jupyter-widgets/controls",
            "_model_module_version": "1.5.0",
            "_model_name": "HBoxModel",
            "_view_count": null,
            "_view_module": "@jupyter-widgets/controls",
            "_view_module_version": "1.5.0",
            "_view_name": "HBoxView",
            "box_style": "",
            "children": [
              "IPY_MODEL_a952f2c807ec4c6ba85756e3e5bed96e",
              "IPY_MODEL_40400c8d920c483d93bd2c0599eb1333",
              "IPY_MODEL_9e60f7ca442c423cbf07495e09f3f5f9"
            ],
            "layout": "IPY_MODEL_a92fa1fc157d4437b48c57ff46c2600a"
          }
        },
        "a952f2c807ec4c6ba85756e3e5bed96e": {
          "model_module": "@jupyter-widgets/controls",
          "model_name": "HTMLModel",
          "model_module_version": "1.5.0",
          "state": {
            "_dom_classes": [],
            "_model_module": "@jupyter-widgets/controls",
            "_model_module_version": "1.5.0",
            "_model_name": "HTMLModel",
            "_view_count": null,
            "_view_module": "@jupyter-widgets/controls",
            "_view_module_version": "1.5.0",
            "_view_name": "HTMLView",
            "description": "",
            "description_tooltip": null,
            "layout": "IPY_MODEL_81bab1209d674121a2ccaa671772a5b0",
            "placeholder": "​",
            "style": "IPY_MODEL_707fc71e732e4ba788ca466aa6108f11",
            "value": "Downloading https://raw.githubusercontent.com/stanfordnlp/stanza-resources/main/resources_1.4.1.json: "
          }
        },
        "40400c8d920c483d93bd2c0599eb1333": {
          "model_module": "@jupyter-widgets/controls",
          "model_name": "FloatProgressModel",
          "model_module_version": "1.5.0",
          "state": {
            "_dom_classes": [],
            "_model_module": "@jupyter-widgets/controls",
            "_model_module_version": "1.5.0",
            "_model_name": "FloatProgressModel",
            "_view_count": null,
            "_view_module": "@jupyter-widgets/controls",
            "_view_module_version": "1.5.0",
            "_view_name": "ProgressView",
            "bar_style": "success",
            "description": "",
            "description_tooltip": null,
            "layout": "IPY_MODEL_f53851b930a146809374713945832c27",
            "max": 28918,
            "min": 0,
            "orientation": "horizontal",
            "style": "IPY_MODEL_9dc0752be25a408e908e5618b1101b93",
            "value": 28918
          }
        },
        "9e60f7ca442c423cbf07495e09f3f5f9": {
          "model_module": "@jupyter-widgets/controls",
          "model_name": "HTMLModel",
          "model_module_version": "1.5.0",
          "state": {
            "_dom_classes": [],
            "_model_module": "@jupyter-widgets/controls",
            "_model_module_version": "1.5.0",
            "_model_name": "HTMLModel",
            "_view_count": null,
            "_view_module": "@jupyter-widgets/controls",
            "_view_module_version": "1.5.0",
            "_view_name": "HTMLView",
            "description": "",
            "description_tooltip": null,
            "layout": "IPY_MODEL_131189426ab347a3bb08e0f9452fc1f4",
            "placeholder": "​",
            "style": "IPY_MODEL_a1000515d97c41089f57fb36a7c1a2cf",
            "value": " 193k/? [00:00&lt;00:00, 5.68MB/s]"
          }
        },
        "a92fa1fc157d4437b48c57ff46c2600a": {
          "model_module": "@jupyter-widgets/base",
          "model_name": "LayoutModel",
          "model_module_version": "1.2.0",
          "state": {
            "_model_module": "@jupyter-widgets/base",
            "_model_module_version": "1.2.0",
            "_model_name": "LayoutModel",
            "_view_count": null,
            "_view_module": "@jupyter-widgets/base",
            "_view_module_version": "1.2.0",
            "_view_name": "LayoutView",
            "align_content": null,
            "align_items": null,
            "align_self": null,
            "border": null,
            "bottom": null,
            "display": null,
            "flex": null,
            "flex_flow": null,
            "grid_area": null,
            "grid_auto_columns": null,
            "grid_auto_flow": null,
            "grid_auto_rows": null,
            "grid_column": null,
            "grid_gap": null,
            "grid_row": null,
            "grid_template_areas": null,
            "grid_template_columns": null,
            "grid_template_rows": null,
            "height": null,
            "justify_content": null,
            "justify_items": null,
            "left": null,
            "margin": null,
            "max_height": null,
            "max_width": null,
            "min_height": null,
            "min_width": null,
            "object_fit": null,
            "object_position": null,
            "order": null,
            "overflow": null,
            "overflow_x": null,
            "overflow_y": null,
            "padding": null,
            "right": null,
            "top": null,
            "visibility": null,
            "width": null
          }
        },
        "81bab1209d674121a2ccaa671772a5b0": {
          "model_module": "@jupyter-widgets/base",
          "model_name": "LayoutModel",
          "model_module_version": "1.2.0",
          "state": {
            "_model_module": "@jupyter-widgets/base",
            "_model_module_version": "1.2.0",
            "_model_name": "LayoutModel",
            "_view_count": null,
            "_view_module": "@jupyter-widgets/base",
            "_view_module_version": "1.2.0",
            "_view_name": "LayoutView",
            "align_content": null,
            "align_items": null,
            "align_self": null,
            "border": null,
            "bottom": null,
            "display": null,
            "flex": null,
            "flex_flow": null,
            "grid_area": null,
            "grid_auto_columns": null,
            "grid_auto_flow": null,
            "grid_auto_rows": null,
            "grid_column": null,
            "grid_gap": null,
            "grid_row": null,
            "grid_template_areas": null,
            "grid_template_columns": null,
            "grid_template_rows": null,
            "height": null,
            "justify_content": null,
            "justify_items": null,
            "left": null,
            "margin": null,
            "max_height": null,
            "max_width": null,
            "min_height": null,
            "min_width": null,
            "object_fit": null,
            "object_position": null,
            "order": null,
            "overflow": null,
            "overflow_x": null,
            "overflow_y": null,
            "padding": null,
            "right": null,
            "top": null,
            "visibility": null,
            "width": null
          }
        },
        "707fc71e732e4ba788ca466aa6108f11": {
          "model_module": "@jupyter-widgets/controls",
          "model_name": "DescriptionStyleModel",
          "model_module_version": "1.5.0",
          "state": {
            "_model_module": "@jupyter-widgets/controls",
            "_model_module_version": "1.5.0",
            "_model_name": "DescriptionStyleModel",
            "_view_count": null,
            "_view_module": "@jupyter-widgets/base",
            "_view_module_version": "1.2.0",
            "_view_name": "StyleView",
            "description_width": ""
          }
        },
        "f53851b930a146809374713945832c27": {
          "model_module": "@jupyter-widgets/base",
          "model_name": "LayoutModel",
          "model_module_version": "1.2.0",
          "state": {
            "_model_module": "@jupyter-widgets/base",
            "_model_module_version": "1.2.0",
            "_model_name": "LayoutModel",
            "_view_count": null,
            "_view_module": "@jupyter-widgets/base",
            "_view_module_version": "1.2.0",
            "_view_name": "LayoutView",
            "align_content": null,
            "align_items": null,
            "align_self": null,
            "border": null,
            "bottom": null,
            "display": null,
            "flex": null,
            "flex_flow": null,
            "grid_area": null,
            "grid_auto_columns": null,
            "grid_auto_flow": null,
            "grid_auto_rows": null,
            "grid_column": null,
            "grid_gap": null,
            "grid_row": null,
            "grid_template_areas": null,
            "grid_template_columns": null,
            "grid_template_rows": null,
            "height": null,
            "justify_content": null,
            "justify_items": null,
            "left": null,
            "margin": null,
            "max_height": null,
            "max_width": null,
            "min_height": null,
            "min_width": null,
            "object_fit": null,
            "object_position": null,
            "order": null,
            "overflow": null,
            "overflow_x": null,
            "overflow_y": null,
            "padding": null,
            "right": null,
            "top": null,
            "visibility": null,
            "width": null
          }
        },
        "9dc0752be25a408e908e5618b1101b93": {
          "model_module": "@jupyter-widgets/controls",
          "model_name": "ProgressStyleModel",
          "model_module_version": "1.5.0",
          "state": {
            "_model_module": "@jupyter-widgets/controls",
            "_model_module_version": "1.5.0",
            "_model_name": "ProgressStyleModel",
            "_view_count": null,
            "_view_module": "@jupyter-widgets/base",
            "_view_module_version": "1.2.0",
            "_view_name": "StyleView",
            "bar_color": null,
            "description_width": ""
          }
        },
        "131189426ab347a3bb08e0f9452fc1f4": {
          "model_module": "@jupyter-widgets/base",
          "model_name": "LayoutModel",
          "model_module_version": "1.2.0",
          "state": {
            "_model_module": "@jupyter-widgets/base",
            "_model_module_version": "1.2.0",
            "_model_name": "LayoutModel",
            "_view_count": null,
            "_view_module": "@jupyter-widgets/base",
            "_view_module_version": "1.2.0",
            "_view_name": "LayoutView",
            "align_content": null,
            "align_items": null,
            "align_self": null,
            "border": null,
            "bottom": null,
            "display": null,
            "flex": null,
            "flex_flow": null,
            "grid_area": null,
            "grid_auto_columns": null,
            "grid_auto_flow": null,
            "grid_auto_rows": null,
            "grid_column": null,
            "grid_gap": null,
            "grid_row": null,
            "grid_template_areas": null,
            "grid_template_columns": null,
            "grid_template_rows": null,
            "height": null,
            "justify_content": null,
            "justify_items": null,
            "left": null,
            "margin": null,
            "max_height": null,
            "max_width": null,
            "min_height": null,
            "min_width": null,
            "object_fit": null,
            "object_position": null,
            "order": null,
            "overflow": null,
            "overflow_x": null,
            "overflow_y": null,
            "padding": null,
            "right": null,
            "top": null,
            "visibility": null,
            "width": null
          }
        },
        "a1000515d97c41089f57fb36a7c1a2cf": {
          "model_module": "@jupyter-widgets/controls",
          "model_name": "DescriptionStyleModel",
          "model_module_version": "1.5.0",
          "state": {
            "_model_module": "@jupyter-widgets/controls",
            "_model_module_version": "1.5.0",
            "_model_name": "DescriptionStyleModel",
            "_view_count": null,
            "_view_module": "@jupyter-widgets/base",
            "_view_module_version": "1.2.0",
            "_view_name": "StyleView",
            "description_width": ""
          }
        },
        "093e3834a4e44a4787e4bbb6625c8452": {
          "model_module": "@jupyter-widgets/controls",
          "model_name": "HBoxModel",
          "model_module_version": "1.5.0",
          "state": {
            "_dom_classes": [],
            "_model_module": "@jupyter-widgets/controls",
            "_model_module_version": "1.5.0",
            "_model_name": "HBoxModel",
            "_view_count": null,
            "_view_module": "@jupyter-widgets/controls",
            "_view_module_version": "1.5.0",
            "_view_name": "HBoxView",
            "box_style": "",
            "children": [
              "IPY_MODEL_cc19aeb2a047401b8571370372a96c76",
              "IPY_MODEL_300b649bcde64a6cb607fc1340434f71",
              "IPY_MODEL_abbae05f996646da8d20c9d6387c0995"
            ],
            "layout": "IPY_MODEL_7ee588c6defc43ec8e23bd3d068c910e"
          }
        },
        "cc19aeb2a047401b8571370372a96c76": {
          "model_module": "@jupyter-widgets/controls",
          "model_name": "HTMLModel",
          "model_module_version": "1.5.0",
          "state": {
            "_dom_classes": [],
            "_model_module": "@jupyter-widgets/controls",
            "_model_module_version": "1.5.0",
            "_model_name": "HTMLModel",
            "_view_count": null,
            "_view_module": "@jupyter-widgets/controls",
            "_view_module_version": "1.5.0",
            "_view_name": "HTMLView",
            "description": "",
            "description_tooltip": null,
            "layout": "IPY_MODEL_d999dd4623f04f93b954fa0cc3044fba",
            "placeholder": "​",
            "style": "IPY_MODEL_a166d4d628ee40589df33a820b42c1ea",
            "value": "Downloading https://huggingface.co/stanfordnlp/stanza-en/resolve/v1.4.1/models/default.zip: 100%"
          }
        },
        "300b649bcde64a6cb607fc1340434f71": {
          "model_module": "@jupyter-widgets/controls",
          "model_name": "FloatProgressModel",
          "model_module_version": "1.5.0",
          "state": {
            "_dom_classes": [],
            "_model_module": "@jupyter-widgets/controls",
            "_model_module_version": "1.5.0",
            "_model_name": "FloatProgressModel",
            "_view_count": null,
            "_view_module": "@jupyter-widgets/controls",
            "_view_module_version": "1.5.0",
            "_view_name": "ProgressView",
            "bar_style": "success",
            "description": "",
            "description_tooltip": null,
            "layout": "IPY_MODEL_142e17e93bfa44c38c749819e32dd2f9",
            "max": 561333907,
            "min": 0,
            "orientation": "horizontal",
            "style": "IPY_MODEL_532479df60264c87aea7f954eaa968c2",
            "value": 561333907
          }
        },
        "abbae05f996646da8d20c9d6387c0995": {
          "model_module": "@jupyter-widgets/controls",
          "model_name": "HTMLModel",
          "model_module_version": "1.5.0",
          "state": {
            "_dom_classes": [],
            "_model_module": "@jupyter-widgets/controls",
            "_model_module_version": "1.5.0",
            "_model_name": "HTMLModel",
            "_view_count": null,
            "_view_module": "@jupyter-widgets/controls",
            "_view_module_version": "1.5.0",
            "_view_name": "HTMLView",
            "description": "",
            "description_tooltip": null,
            "layout": "IPY_MODEL_74a80815d7a14115a3826db52d1c52fb",
            "placeholder": "​",
            "style": "IPY_MODEL_739fb0a83f7446f9a4337325db4a1cbd",
            "value": " 561M/561M [00:05&lt;00:00, 81.0MB/s]"
          }
        },
        "7ee588c6defc43ec8e23bd3d068c910e": {
          "model_module": "@jupyter-widgets/base",
          "model_name": "LayoutModel",
          "model_module_version": "1.2.0",
          "state": {
            "_model_module": "@jupyter-widgets/base",
            "_model_module_version": "1.2.0",
            "_model_name": "LayoutModel",
            "_view_count": null,
            "_view_module": "@jupyter-widgets/base",
            "_view_module_version": "1.2.0",
            "_view_name": "LayoutView",
            "align_content": null,
            "align_items": null,
            "align_self": null,
            "border": null,
            "bottom": null,
            "display": null,
            "flex": null,
            "flex_flow": null,
            "grid_area": null,
            "grid_auto_columns": null,
            "grid_auto_flow": null,
            "grid_auto_rows": null,
            "grid_column": null,
            "grid_gap": null,
            "grid_row": null,
            "grid_template_areas": null,
            "grid_template_columns": null,
            "grid_template_rows": null,
            "height": null,
            "justify_content": null,
            "justify_items": null,
            "left": null,
            "margin": null,
            "max_height": null,
            "max_width": null,
            "min_height": null,
            "min_width": null,
            "object_fit": null,
            "object_position": null,
            "order": null,
            "overflow": null,
            "overflow_x": null,
            "overflow_y": null,
            "padding": null,
            "right": null,
            "top": null,
            "visibility": null,
            "width": null
          }
        },
        "d999dd4623f04f93b954fa0cc3044fba": {
          "model_module": "@jupyter-widgets/base",
          "model_name": "LayoutModel",
          "model_module_version": "1.2.0",
          "state": {
            "_model_module": "@jupyter-widgets/base",
            "_model_module_version": "1.2.0",
            "_model_name": "LayoutModel",
            "_view_count": null,
            "_view_module": "@jupyter-widgets/base",
            "_view_module_version": "1.2.0",
            "_view_name": "LayoutView",
            "align_content": null,
            "align_items": null,
            "align_self": null,
            "border": null,
            "bottom": null,
            "display": null,
            "flex": null,
            "flex_flow": null,
            "grid_area": null,
            "grid_auto_columns": null,
            "grid_auto_flow": null,
            "grid_auto_rows": null,
            "grid_column": null,
            "grid_gap": null,
            "grid_row": null,
            "grid_template_areas": null,
            "grid_template_columns": null,
            "grid_template_rows": null,
            "height": null,
            "justify_content": null,
            "justify_items": null,
            "left": null,
            "margin": null,
            "max_height": null,
            "max_width": null,
            "min_height": null,
            "min_width": null,
            "object_fit": null,
            "object_position": null,
            "order": null,
            "overflow": null,
            "overflow_x": null,
            "overflow_y": null,
            "padding": null,
            "right": null,
            "top": null,
            "visibility": null,
            "width": null
          }
        },
        "a166d4d628ee40589df33a820b42c1ea": {
          "model_module": "@jupyter-widgets/controls",
          "model_name": "DescriptionStyleModel",
          "model_module_version": "1.5.0",
          "state": {
            "_model_module": "@jupyter-widgets/controls",
            "_model_module_version": "1.5.0",
            "_model_name": "DescriptionStyleModel",
            "_view_count": null,
            "_view_module": "@jupyter-widgets/base",
            "_view_module_version": "1.2.0",
            "_view_name": "StyleView",
            "description_width": ""
          }
        },
        "142e17e93bfa44c38c749819e32dd2f9": {
          "model_module": "@jupyter-widgets/base",
          "model_name": "LayoutModel",
          "model_module_version": "1.2.0",
          "state": {
            "_model_module": "@jupyter-widgets/base",
            "_model_module_version": "1.2.0",
            "_model_name": "LayoutModel",
            "_view_count": null,
            "_view_module": "@jupyter-widgets/base",
            "_view_module_version": "1.2.0",
            "_view_name": "LayoutView",
            "align_content": null,
            "align_items": null,
            "align_self": null,
            "border": null,
            "bottom": null,
            "display": null,
            "flex": null,
            "flex_flow": null,
            "grid_area": null,
            "grid_auto_columns": null,
            "grid_auto_flow": null,
            "grid_auto_rows": null,
            "grid_column": null,
            "grid_gap": null,
            "grid_row": null,
            "grid_template_areas": null,
            "grid_template_columns": null,
            "grid_template_rows": null,
            "height": null,
            "justify_content": null,
            "justify_items": null,
            "left": null,
            "margin": null,
            "max_height": null,
            "max_width": null,
            "min_height": null,
            "min_width": null,
            "object_fit": null,
            "object_position": null,
            "order": null,
            "overflow": null,
            "overflow_x": null,
            "overflow_y": null,
            "padding": null,
            "right": null,
            "top": null,
            "visibility": null,
            "width": null
          }
        },
        "532479df60264c87aea7f954eaa968c2": {
          "model_module": "@jupyter-widgets/controls",
          "model_name": "ProgressStyleModel",
          "model_module_version": "1.5.0",
          "state": {
            "_model_module": "@jupyter-widgets/controls",
            "_model_module_version": "1.5.0",
            "_model_name": "ProgressStyleModel",
            "_view_count": null,
            "_view_module": "@jupyter-widgets/base",
            "_view_module_version": "1.2.0",
            "_view_name": "StyleView",
            "bar_color": null,
            "description_width": ""
          }
        },
        "74a80815d7a14115a3826db52d1c52fb": {
          "model_module": "@jupyter-widgets/base",
          "model_name": "LayoutModel",
          "model_module_version": "1.2.0",
          "state": {
            "_model_module": "@jupyter-widgets/base",
            "_model_module_version": "1.2.0",
            "_model_name": "LayoutModel",
            "_view_count": null,
            "_view_module": "@jupyter-widgets/base",
            "_view_module_version": "1.2.0",
            "_view_name": "LayoutView",
            "align_content": null,
            "align_items": null,
            "align_self": null,
            "border": null,
            "bottom": null,
            "display": null,
            "flex": null,
            "flex_flow": null,
            "grid_area": null,
            "grid_auto_columns": null,
            "grid_auto_flow": null,
            "grid_auto_rows": null,
            "grid_column": null,
            "grid_gap": null,
            "grid_row": null,
            "grid_template_areas": null,
            "grid_template_columns": null,
            "grid_template_rows": null,
            "height": null,
            "justify_content": null,
            "justify_items": null,
            "left": null,
            "margin": null,
            "max_height": null,
            "max_width": null,
            "min_height": null,
            "min_width": null,
            "object_fit": null,
            "object_position": null,
            "order": null,
            "overflow": null,
            "overflow_x": null,
            "overflow_y": null,
            "padding": null,
            "right": null,
            "top": null,
            "visibility": null,
            "width": null
          }
        },
        "739fb0a83f7446f9a4337325db4a1cbd": {
          "model_module": "@jupyter-widgets/controls",
          "model_name": "DescriptionStyleModel",
          "model_module_version": "1.5.0",
          "state": {
            "_model_module": "@jupyter-widgets/controls",
            "_model_module_version": "1.5.0",
            "_model_name": "DescriptionStyleModel",
            "_view_count": null,
            "_view_module": "@jupyter-widgets/base",
            "_view_module_version": "1.2.0",
            "_view_name": "StyleView",
            "description_width": ""
          }
        },
        "48ae599f46d045b0ab2aa29facb61353": {
          "model_module": "@jupyter-widgets/controls",
          "model_name": "HBoxModel",
          "model_module_version": "1.5.0",
          "state": {
            "_dom_classes": [],
            "_model_module": "@jupyter-widgets/controls",
            "_model_module_version": "1.5.0",
            "_model_name": "HBoxModel",
            "_view_count": null,
            "_view_module": "@jupyter-widgets/controls",
            "_view_module_version": "1.5.0",
            "_view_name": "HBoxView",
            "box_style": "",
            "children": [
              "IPY_MODEL_789ceca3df1c46f88e94441e735bdbb8",
              "IPY_MODEL_d7cf4f8e6fc5446f8980f088ad3d7306",
              "IPY_MODEL_17cb150d68c545ff824df02c3109b7d9"
            ],
            "layout": "IPY_MODEL_4fa577b7a9da4aecaadf366fb39c1b9e"
          }
        },
        "789ceca3df1c46f88e94441e735bdbb8": {
          "model_module": "@jupyter-widgets/controls",
          "model_name": "HTMLModel",
          "model_module_version": "1.5.0",
          "state": {
            "_dom_classes": [],
            "_model_module": "@jupyter-widgets/controls",
            "_model_module_version": "1.5.0",
            "_model_name": "HTMLModel",
            "_view_count": null,
            "_view_module": "@jupyter-widgets/controls",
            "_view_module_version": "1.5.0",
            "_view_name": "HTMLView",
            "description": "",
            "description_tooltip": null,
            "layout": "IPY_MODEL_33242702e4604a92a62966f784630eaa",
            "placeholder": "​",
            "style": "IPY_MODEL_055d6085fe3a486ab19f66144512774f",
            "value": "Downloading https://raw.githubusercontent.com/stanfordnlp/stanza-resources/main/resources_1.4.1.json: "
          }
        },
        "d7cf4f8e6fc5446f8980f088ad3d7306": {
          "model_module": "@jupyter-widgets/controls",
          "model_name": "FloatProgressModel",
          "model_module_version": "1.5.0",
          "state": {
            "_dom_classes": [],
            "_model_module": "@jupyter-widgets/controls",
            "_model_module_version": "1.5.0",
            "_model_name": "FloatProgressModel",
            "_view_count": null,
            "_view_module": "@jupyter-widgets/controls",
            "_view_module_version": "1.5.0",
            "_view_name": "ProgressView",
            "bar_style": "success",
            "description": "",
            "description_tooltip": null,
            "layout": "IPY_MODEL_b101abffb744440881254e3e8258e32f",
            "max": 28918,
            "min": 0,
            "orientation": "horizontal",
            "style": "IPY_MODEL_0daf95e4d44e4a01967e1c563b981bd6",
            "value": 28918
          }
        },
        "17cb150d68c545ff824df02c3109b7d9": {
          "model_module": "@jupyter-widgets/controls",
          "model_name": "HTMLModel",
          "model_module_version": "1.5.0",
          "state": {
            "_dom_classes": [],
            "_model_module": "@jupyter-widgets/controls",
            "_model_module_version": "1.5.0",
            "_model_name": "HTMLModel",
            "_view_count": null,
            "_view_module": "@jupyter-widgets/controls",
            "_view_module_version": "1.5.0",
            "_view_name": "HTMLView",
            "description": "",
            "description_tooltip": null,
            "layout": "IPY_MODEL_0ce9d03821894a0aa3aa214700d5fe61",
            "placeholder": "​",
            "style": "IPY_MODEL_76b7735524b643ff9da888b26314690e",
            "value": " 193k/? [00:00&lt;00:00, 6.40MB/s]"
          }
        },
        "4fa577b7a9da4aecaadf366fb39c1b9e": {
          "model_module": "@jupyter-widgets/base",
          "model_name": "LayoutModel",
          "model_module_version": "1.2.0",
          "state": {
            "_model_module": "@jupyter-widgets/base",
            "_model_module_version": "1.2.0",
            "_model_name": "LayoutModel",
            "_view_count": null,
            "_view_module": "@jupyter-widgets/base",
            "_view_module_version": "1.2.0",
            "_view_name": "LayoutView",
            "align_content": null,
            "align_items": null,
            "align_self": null,
            "border": null,
            "bottom": null,
            "display": null,
            "flex": null,
            "flex_flow": null,
            "grid_area": null,
            "grid_auto_columns": null,
            "grid_auto_flow": null,
            "grid_auto_rows": null,
            "grid_column": null,
            "grid_gap": null,
            "grid_row": null,
            "grid_template_areas": null,
            "grid_template_columns": null,
            "grid_template_rows": null,
            "height": null,
            "justify_content": null,
            "justify_items": null,
            "left": null,
            "margin": null,
            "max_height": null,
            "max_width": null,
            "min_height": null,
            "min_width": null,
            "object_fit": null,
            "object_position": null,
            "order": null,
            "overflow": null,
            "overflow_x": null,
            "overflow_y": null,
            "padding": null,
            "right": null,
            "top": null,
            "visibility": null,
            "width": null
          }
        },
        "33242702e4604a92a62966f784630eaa": {
          "model_module": "@jupyter-widgets/base",
          "model_name": "LayoutModel",
          "model_module_version": "1.2.0",
          "state": {
            "_model_module": "@jupyter-widgets/base",
            "_model_module_version": "1.2.0",
            "_model_name": "LayoutModel",
            "_view_count": null,
            "_view_module": "@jupyter-widgets/base",
            "_view_module_version": "1.2.0",
            "_view_name": "LayoutView",
            "align_content": null,
            "align_items": null,
            "align_self": null,
            "border": null,
            "bottom": null,
            "display": null,
            "flex": null,
            "flex_flow": null,
            "grid_area": null,
            "grid_auto_columns": null,
            "grid_auto_flow": null,
            "grid_auto_rows": null,
            "grid_column": null,
            "grid_gap": null,
            "grid_row": null,
            "grid_template_areas": null,
            "grid_template_columns": null,
            "grid_template_rows": null,
            "height": null,
            "justify_content": null,
            "justify_items": null,
            "left": null,
            "margin": null,
            "max_height": null,
            "max_width": null,
            "min_height": null,
            "min_width": null,
            "object_fit": null,
            "object_position": null,
            "order": null,
            "overflow": null,
            "overflow_x": null,
            "overflow_y": null,
            "padding": null,
            "right": null,
            "top": null,
            "visibility": null,
            "width": null
          }
        },
        "055d6085fe3a486ab19f66144512774f": {
          "model_module": "@jupyter-widgets/controls",
          "model_name": "DescriptionStyleModel",
          "model_module_version": "1.5.0",
          "state": {
            "_model_module": "@jupyter-widgets/controls",
            "_model_module_version": "1.5.0",
            "_model_name": "DescriptionStyleModel",
            "_view_count": null,
            "_view_module": "@jupyter-widgets/base",
            "_view_module_version": "1.2.0",
            "_view_name": "StyleView",
            "description_width": ""
          }
        },
        "b101abffb744440881254e3e8258e32f": {
          "model_module": "@jupyter-widgets/base",
          "model_name": "LayoutModel",
          "model_module_version": "1.2.0",
          "state": {
            "_model_module": "@jupyter-widgets/base",
            "_model_module_version": "1.2.0",
            "_model_name": "LayoutModel",
            "_view_count": null,
            "_view_module": "@jupyter-widgets/base",
            "_view_module_version": "1.2.0",
            "_view_name": "LayoutView",
            "align_content": null,
            "align_items": null,
            "align_self": null,
            "border": null,
            "bottom": null,
            "display": null,
            "flex": null,
            "flex_flow": null,
            "grid_area": null,
            "grid_auto_columns": null,
            "grid_auto_flow": null,
            "grid_auto_rows": null,
            "grid_column": null,
            "grid_gap": null,
            "grid_row": null,
            "grid_template_areas": null,
            "grid_template_columns": null,
            "grid_template_rows": null,
            "height": null,
            "justify_content": null,
            "justify_items": null,
            "left": null,
            "margin": null,
            "max_height": null,
            "max_width": null,
            "min_height": null,
            "min_width": null,
            "object_fit": null,
            "object_position": null,
            "order": null,
            "overflow": null,
            "overflow_x": null,
            "overflow_y": null,
            "padding": null,
            "right": null,
            "top": null,
            "visibility": null,
            "width": null
          }
        },
        "0daf95e4d44e4a01967e1c563b981bd6": {
          "model_module": "@jupyter-widgets/controls",
          "model_name": "ProgressStyleModel",
          "model_module_version": "1.5.0",
          "state": {
            "_model_module": "@jupyter-widgets/controls",
            "_model_module_version": "1.5.0",
            "_model_name": "ProgressStyleModel",
            "_view_count": null,
            "_view_module": "@jupyter-widgets/base",
            "_view_module_version": "1.2.0",
            "_view_name": "StyleView",
            "bar_color": null,
            "description_width": ""
          }
        },
        "0ce9d03821894a0aa3aa214700d5fe61": {
          "model_module": "@jupyter-widgets/base",
          "model_name": "LayoutModel",
          "model_module_version": "1.2.0",
          "state": {
            "_model_module": "@jupyter-widgets/base",
            "_model_module_version": "1.2.0",
            "_model_name": "LayoutModel",
            "_view_count": null,
            "_view_module": "@jupyter-widgets/base",
            "_view_module_version": "1.2.0",
            "_view_name": "LayoutView",
            "align_content": null,
            "align_items": null,
            "align_self": null,
            "border": null,
            "bottom": null,
            "display": null,
            "flex": null,
            "flex_flow": null,
            "grid_area": null,
            "grid_auto_columns": null,
            "grid_auto_flow": null,
            "grid_auto_rows": null,
            "grid_column": null,
            "grid_gap": null,
            "grid_row": null,
            "grid_template_areas": null,
            "grid_template_columns": null,
            "grid_template_rows": null,
            "height": null,
            "justify_content": null,
            "justify_items": null,
            "left": null,
            "margin": null,
            "max_height": null,
            "max_width": null,
            "min_height": null,
            "min_width": null,
            "object_fit": null,
            "object_position": null,
            "order": null,
            "overflow": null,
            "overflow_x": null,
            "overflow_y": null,
            "padding": null,
            "right": null,
            "top": null,
            "visibility": null,
            "width": null
          }
        },
        "76b7735524b643ff9da888b26314690e": {
          "model_module": "@jupyter-widgets/controls",
          "model_name": "DescriptionStyleModel",
          "model_module_version": "1.5.0",
          "state": {
            "_model_module": "@jupyter-widgets/controls",
            "_model_module_version": "1.5.0",
            "_model_name": "DescriptionStyleModel",
            "_view_count": null,
            "_view_module": "@jupyter-widgets/base",
            "_view_module_version": "1.2.0",
            "_view_name": "StyleView",
            "description_width": ""
          }
        }
      }
    }
  },
  "cells": [
    {
      "cell_type": "markdown",
      "metadata": {
        "id": "view-in-github",
        "colab_type": "text"
      },
      "source": [
        "<a href=\"https://colab.research.google.com/github/Zelkova46/NLP-subject/blob/main/Stanza.ipynb\" target=\"_parent\"><img src=\"https://colab.research.google.com/assets/colab-badge.svg\" alt=\"Open In Colab\"/></a>"
      ]
    },
    {
      "cell_type": "markdown",
      "source": [
        "sumber : https://github.com/stanfordnlp/stanza"
      ],
      "metadata": {
        "id": "n1VKDQxI9llU"
      }
    },
    {
      "cell_type": "code",
      "execution_count": null,
      "metadata": {
        "id": "4GiSoqFR9YgF"
      },
      "outputs": [],
      "source": []
    },
    {
      "cell_type": "markdown",
      "source": [
        "## import dataset"
      ],
      "metadata": {
        "id": "KHtURl1n40dW"
      }
    },
    {
      "cell_type": "code",
      "source": [
        "!pip install xmltodict"
      ],
      "metadata": {
        "colab": {
          "base_uri": "https://localhost:8080/"
        },
        "id": "oABRUIE940K-",
        "outputId": "27c3c09e-02d8-4d25-921a-193f1eaf11c6"
      },
      "execution_count": null,
      "outputs": [
        {
          "output_type": "stream",
          "name": "stdout",
          "text": [
            "Looking in indexes: https://pypi.org/simple, https://us-python.pkg.dev/colab-wheels/public/simple/\n",
            "Collecting xmltodict\n",
            "  Downloading xmltodict-0.13.0-py2.py3-none-any.whl (10.0 kB)\n",
            "Installing collected packages: xmltodict\n",
            "Successfully installed xmltodict-0.13.0\n"
          ]
        }
      ]
    },
    {
      "cell_type": "code",
      "source": [
        "import csv\n",
        "import xmltodict\n",
        "import numpy as np\n",
        "import nltk\n",
        "nltk.download('punkt')\n",
        "nltk.download('averaged_perceptron_tagger')"
      ],
      "metadata": {
        "colab": {
          "base_uri": "https://localhost:8080/"
        },
        "id": "hGzSwLR845ph",
        "outputId": "450f36e6-1747-4720-ef95-f18bfa7558ef"
      },
      "execution_count": null,
      "outputs": [
        {
          "output_type": "stream",
          "name": "stderr",
          "text": [
            "[nltk_data] Downloading package punkt to /root/nltk_data...\n",
            "[nltk_data]   Unzipping tokenizers/punkt.zip.\n",
            "[nltk_data] Downloading package averaged_perceptron_tagger to\n",
            "[nltk_data]     /root/nltk_data...\n",
            "[nltk_data]   Unzipping taggers/averaged_perceptron_tagger.zip.\n"
          ]
        },
        {
          "output_type": "execute_result",
          "data": {
            "text/plain": [
              "True"
            ]
          },
          "metadata": {},
          "execution_count": 2
        }
      ]
    },
    {
      "cell_type": "code",
      "source": [],
      "metadata": {
        "id": "mZMhIQW25GTf"
      },
      "execution_count": null,
      "outputs": []
    },
    {
      "cell_type": "code",
      "source": [
        "with open(\"/content/2010-blitdraft.xml\", \"r\") as file:\n",
        "  filedata = file.read()\n",
        "\n",
        "\n",
        "#convverting xml to python dictionary (ordered dict)\n",
        "data_dict = xmltodict.parse(filedata)"
      ],
      "metadata": {
        "id": "MOm-WG9em29p"
      },
      "execution_count": null,
      "outputs": []
    },
    {
      "cell_type": "code",
      "source": [
        "data_dict.keys()"
      ],
      "metadata": {
        "colab": {
          "base_uri": "https://localhost:8080/"
        },
        "id": "9lye4FyinQDE",
        "outputId": "559c24c1-d317-44f3-9bec-5885c2a70789"
      },
      "execution_count": null,
      "outputs": [
        {
          "output_type": "execute_result",
          "data": {
            "text/plain": [
              "dict_keys(['req_document'])"
            ]
          },
          "metadata": {},
          "execution_count": 4
        }
      ]
    },
    {
      "cell_type": "code",
      "source": [
        "data_dict = data_dict['req_document']"
      ],
      "metadata": {
        "id": "j7ZHGpUEnSP_"
      },
      "execution_count": null,
      "outputs": []
    },
    {
      "cell_type": "code",
      "source": [
        "data_dict.keys()"
      ],
      "metadata": {
        "colab": {
          "base_uri": "https://localhost:8080/"
        },
        "id": "hcSx-pFnnWmL",
        "outputId": "12b34518-7e69-4f2f-edc7-8e50f2f584be"
      },
      "execution_count": null,
      "outputs": [
        {
          "output_type": "execute_result",
          "data": {
            "text/plain": [
              "dict_keys(['@xmlns', '@xmlns:xsi', '@xsi:schemaLocation', 'title', 'version', 'p'])"
            ]
          },
          "metadata": {},
          "execution_count": 6
        }
      ]
    },
    {
      "cell_type": "code",
      "source": [
        "data_dict = data_dict['p']"
      ],
      "metadata": {
        "id": "acRwZEngnZee"
      },
      "execution_count": null,
      "outputs": []
    },
    {
      "cell_type": "code",
      "source": [
        "print((data_dict))\n",
        "print(len(data_dict))"
      ],
      "metadata": {
        "colab": {
          "base_uri": "https://localhost:8080/"
        },
        "id": "dSEGfi1kng7v",
        "outputId": "45ae16e2-800e-4840-956d-3415f290219d"
      },
      "execution_count": null,
      "outputs": [
        {
          "output_type": "stream",
          "name": "stdout",
          "text": [
            "[{'@id': '1', 'title': 'Introduction', 'text_body': 'The management of [company name]. has identified a potential need for re-writing its core\\nLaboratory Information System (LIS) to improve the performance. In general, this project\\nwill provide a stable environment, automate decisions, streamline workflows, and employ\\nindustry standard coding and documentation practices. This effort will ensure System\\nIntegrity/Reliability by developing a system that is reliable and low maintenance including\\nsecurity and confidentiality requirements as dictated by HIPAA and FDA regulatory\\nstandards.', 'p': [{'@id': '1.1', 'title': 'Purpose', 'text_body': 'This Functional Requirements Specification (FRS) is intended to capture the changes in\\nfunctionality that will occur during [system name] Re-Writing effort, which is part of the xxx\\nEnhancements project. All functionalities for the new [system name] system would be\\ndocumented in this FRS. Any undocumented requirements will be considered out of scope\\nand will not be implemented during this phase of Re-Writing.'}, {'@id': '1.2', 'title': 'Scope', 'text_body': 'The existing functionalities in the core [system name] will remain same. This project is\\nlimited in scope to the enhancements and defects that are critical in the severity level that is\\nthe issues that cause great burden to the system users and the enhancements in system\\narchitecture, which will facilitate efficient growth of [system name] and the [company name]\\nbusiness, will fall under the purview of this project scope.\\nThe functional issues and requirements that will be discussed and gathered respectively as\\nwell as validated in the Requirements Gathering and Validating Sessions started on\\nMM/DD/YYYYwould be documented in this FRS moving forward. The project team has\\ndecided that system development will occur on module by module basis.'}]}, {'@id': '2', 'title': 'Specific Requirements', 'p': [{'@id': '2.1', 'title': 'Functionality', 'p': {'@id': '2.1.1', 'title': 'Module: Admin', 'p': [{'@id': '2.1.1.1', 'title': 'Use Case: xxx Page, UC ID: UC_RR_xxx_xxx_000', 'p': [{'@id': '2.1.1.1.1', 'text_body': 'System shall display the hyperlinks and descriptions for the user to perform the desired\\nfunctions as specified in the related UIS.'}, {'@id': '2.1.1.1.2', 'text_body': 'The User shall be able to view the hyperlinks and descriptions listed.'}, {'@id': '2.1.1.1.3', 'text_body': 'The User shall be able to choose a function by clicking the hyperlink.'}, {'@id': '2.1.1.1.4', 'text_body': 'The system shall display the desired operational page for the user after clicking the\\nhyperlink.'}]}, {'@id': '2.1.1.2', 'title': 'Use Case: xxx Page, UC ID: UC_RR_xxx_xxx_000', 'p': {'@id': '2.1.1.2.1', 'title': 'Action: Create/Add User', 'p': [{'@id': '2.1.1.2.1.1', 'text_body': 'A user with admin privileges shall be able to Add/Create a new user and associate the\\nuser with specified role(s) in the system.'}, {'@id': '2.1.1.2.1.2', 'text_body': 'The system shall display an error message if the new user is found in the [system name]\\nsystem.'}, {'@id': '2.1.1.2.1.3', 'text_body': 'The system shall display an error message if the new user is not active in the Active\\nDirectory.'}, {'@id': '2.1.1.2.1.4', 'text_body': 'The system shall display the xxx tab as the default tab.'}, {'@id': '2.1.1.2.1.5', 'text_body': 'The user shall be able to create/add a new user manually or from a template.'}, {'@id': '2.1.1.2.1.6', 'text_body': 'The user record shall inherit all specified role(s) settings in the template when the user\\nrecord is created from the user template'}, {'@id': '2.1.1.2.1.7', 'text_body': 'The user shall be able to add additional roles manually while creating/adding a new user\\nfrom a user template.'}, {'@id': '2.1.1.2.1.8', 'text_body': 'The system shall save the user info to the database with specified roles associated with\\ndivisions for the newly created/added user.'}, {'@id': '2.1.1.2.1.9', 'text_body': 'The system shall perform a search on the [system name] user display name and user\\nname columns in the user tables to find the user and verify the user’s existence.'}, {'@id': '2.1.1.2.1.10', 'text_body': 'The system shall perform a search in the Active Directory to verify the status of the user\\n— Active/Inactive within the company—when the user attempts to create/add a new user\\nin the [system name] system.'}, {'@id': '2.1.1.2.1.11', 'text_body': 'The system shall generate a standard confirmation message after saving data and\\nwarning/caution messages after the cancel or close button is clicked.'}, {'@id': '2.1.1.2.1.12', 'text_body': 'The user must have the flexibility to click any tab to commence the adding process,\\nalthough the xxx Tab shall display as the default tab.'}, {'@id': '2.1.1.2.1.13', 'text_body': 'All required fields as specified in the UIS must be marked with a red asterisk alerting the\\nuser to fill the required fields in.'}, {'@id': '2.1.1.2.1.14', 'text_body': 'The user shall be able to save data after creating/adding a new user or cancel data to\\nabort the process.'}, {'@id': '2.1.1.2.1.15', 'text_body': 'The system shall clear up data if the user chooses to click the Cancel button in the midst\\nof creating/adding a new user.'}, {'@id': '2.1.1.2.1.16', 'text_body': 'The system shall direct the user to the xxx Page if the user chooses to click the close\\nbutton without entering any data.'}, {'@id': '2.1.1.2.1.17', 'text_body': 'The user must associate at least one role, division, designator code, and lab location at\\nthe time of creating/adding a new user.'}, {'@id': '2.1.1.2.1.18', 'text_body': 'The user must fill in the required fields—User Name and Display Name—in the User\\nInformation section at the time of creating/adding a new user.'}, {'@id': '2.1.1.2.1.19', 'text_body': 'The system shall generate a standard error/warning message after the user attempts to\\nsave data without associating one of each of the following criteria—xxx—and/or without\\nfilling in the required fields in the User Information section.'}]}}]}}, {'@id': '2.2', 'title': 'Usability', 'p': {'@id': '2.2.1', 'title': 'User Interface Guidelines', 'p': [{'@id': '2.2.1.1', 'text_body': 'The Project Team must demonstrate mockups of UI changes to project stakeholders early\\nin the development process.'}, {'@id': '2.2.1.2', 'text_body': 'The Project Team must permit reasonable adjustment to the user interfaces of new\\nfunctionality by project stakeholders when project schedule permits those adjustments.'}]}}, {'@id': '2.3', 'title': 'Reliability', 'p': {'@id': '2.3.1', 'title': 'System Downtime', 'p': {'@id': '2.3.1.1', 'text_body': 'The Project Team shall schedule updates to the production environment only on Tuesdays\\nbetween 7pm and 7am. (Example)'}}}, {'@id': '2.4', 'title': 'Performance', 'p': {'@id': '2.4.1', 'title': 'Quality Assurance', 'p': [{'@id': '2.4.1.1', 'text_body': 'The Project Team must perform applicable and appropriate testing against new functionality\\nprior to releasing that functionality/build to the production environment.'}, {'@id': '2.4.1.2', 'text_body': 'The project Team must allow a reasonable time to conduct User Acceptance Testing (UAT)\\nagainst the built functionalities prior to deploying the product to the production environment.'}]}}, {'@id': '2.5', 'title': 'Supportability', 'p': [{'@id': '2.5.1', 'title': 'Coding Standards', 'p': [{'@id': '2.5.1.1', 'text_body': 'The Development Team shall define coding standards for the application and follow those\\nstandards consistently.'}, {'@id': '2.5.1.2', 'text_body': 'The Development Team shall be required to adjust existing source code to follow accepted\\ncoding standards only if that source code must be modified.'}]}, {'@id': '2.5.2', 'title': 'Maintainability Standards', 'p': [{'@id': '2.5.2.1', 'text_body': 'The system shall log errors, warnings, and informational messages to an external log file on\\nthe application server.'}, {'@id': '2.5.2.2', 'text_body': 'The Development Team shall be required to adjust existing source code to use the external\\nlog file only if that source code must be modified to implement another requirement.'}, {'@id': '2.5.2.3', 'text_body': 'The system shall log an error message to the external data file when the user is directed to\\nthe [SYSTEM NAME] error page.'}, {'@id': '2.5.2.4', 'text_body': 'The system shall send a notification email to a Client Services email distribution list if the\\nuser is directed to the xxx error page.'}]}]}, {'@id': '2.6', 'title': 'Design Constraints', 'p': [{'@id': '2.6.1', 'title': 'Development Platform', 'p': [{'@id': '2.6.1.1', 'text_body': 'The Development Team shall develop functionalities using the xx language and on the\\nsupported .NET 3.5 Platform.'}, {'@id': '2.6.1.2', 'text_body': 'The Development Team shall utilize established open source frameworks instead of\\nproprietary custom components wherever appropriate.'}, {'@id': '2.6.1.3', 'text_body': 'The system shall continue to depend upon and use a single SQL Server 2008 database.'}]}, {'@id': '2.6.2', 'title': 'Production Releases', 'p': {'@id': '2.6.2.1', 'text_body': 'The Technical Owner/Lead shall provide signoff before any [SYSTEM NAME] build can be\\ndeployed to the production environment.'}}, {'@id': '2.6.3', 'title': 'Development Process', 'p': [{'@id': '2.6.3.1', 'text_body': 'The Development Team shall perform weekly integrations of the [SYSTEM NAME] system\\nand deploy these system updates to the Staging environment.'}, {'@id': '2.6.3.2', 'text_body': 'The Development Team shall label every scheduled [SYSTEM NAME] build in the source\\ncontrol system.'}, {'@id': '2.6.3.3', 'text_body': 'The Development Team shall perform scheduled [SYSTEM NAME] builds using code\\nchecked out of source control using the label as defined and specified.'}, {'@id': '2.6.3.4', 'text_body': 'The Development Team shall develop and then send out release notes via e-mail to all\\nProject Team after each [SYSTEM NAME] build deployed to the Staging environment.'}, {'@id': '2.6.3.5', 'text_body': 'The Technical Lead shall perform code reviews of every system change before those\\nchanges may be committed to source control.'}, {'@id': '2.6.3.6', 'text_body': 'The QA/QC Team must perform regression testing against all scheduled builds.'}]}]}, {'@id': '2.7', 'title': 'Online User Documentation and Help System Requirements', 'p': {'@id': '2.7.1', 'title': 'Robohelp Tool:', 'text_body': 'RoboHelp version 8 will be used to create the online [system name]\\nHelp hypertext links. The [system name] system will display a hypertext link labeled\\n“Help” at the top right corner on each of the user screens to provide assistance to the\\nuser. Each of the Help topic pop-up windows will contain that same content that is\\navailable within the [system name] user’s manuals.', 'p': [{'@id': '2.7.1.1', 'text_body': 'The system shall provide the capability to open a pop-up window displaying information\\nabout the specific page along with links to supporting help topics upon selecting each Help\\nlink.'}, {'@id': '2.7.1.2', 'text_body': 'The system shall display “[system name] Overview” page located under the Getting Started\\nsection of Help as default help topic page that will load upon selecting Help hypertext link.'}, {'@id': '2.7.1.3', 'text_body': 'The system must allow users to easily navigate through each of the help topics by selecting\\na corresponding hypertext link provided in the left frame of the pop-up Help window.'}, {'@id': '2.7.1.4', 'text_body': 'The system shall display the [company name] logo in the top, right side of the screen on\\neach of the help pages.'}, {'@id': '2.7.1.5', 'text_body': 'The system must exhibit each of the help pages using the same color scheme and\\nbackground as specified.'}, {'@id': '2.7.1.6', 'text_body': 'The system shall provide searching ability to the users to quickly find specific topic material\\nthrough the online help tool.'}, {'@id': '2.7.1.7', 'text_body': 'The system shall provide an index to the users for a more in-depth search of topic contents\\nthrough the online help tool.'}, {'@id': '2.7.1.8', 'text_body': 'The system shall provide a Glossary for industry-related terms associated with [company\\nname] and the [system name] system to the users through the online help tool.'}]}}, {'@id': '2.8', 'title': 'Interfaces'}, {'@id': '2.9', 'title': 'Applicable Standards', 'p': {'@id': '2.9.1', 'p': [{'@id': '2.9.1.1', 'text_body': 'The system shall retain existing HIPAA compliance capabilities.'}, {'@id': '2.9.1.2', 'text_body': 'The system shall follow HIPAA compliance capabilities in new functionality introduced to the\\nsystem.'}]}}]}, {'@id': '3', 'p': {'@id': 'Glossary 30209'}}]\n",
            "3\n"
          ]
        }
      ]
    },
    {
      "cell_type": "code",
      "source": [
        "for item in data_dict:\n",
        "  print(item.keys())"
      ],
      "metadata": {
        "colab": {
          "base_uri": "https://localhost:8080/"
        },
        "id": "gSkU5HilnjYO",
        "outputId": "4c0c7ce7-8cdb-4cf8-d5f3-91796b1dac7b"
      },
      "execution_count": null,
      "outputs": [
        {
          "output_type": "stream",
          "name": "stdout",
          "text": [
            "dict_keys(['@id', 'title', 'text_body', 'p'])\n",
            "dict_keys(['@id', 'title', 'p'])\n",
            "dict_keys(['@id', 'p'])\n"
          ]
        }
      ]
    },
    {
      "cell_type": "code",
      "source": [
        "sens = []\n",
        "data = []"
      ],
      "metadata": {
        "id": "mLvlQSGvn2hL"
      },
      "execution_count": null,
      "outputs": []
    },
    {
      "cell_type": "code",
      "source": [
        "for item in data_dict:\n",
        "  for value in item.keys():\n",
        "    if value == 'p':\n",
        "      data.append(item['p'])"
      ],
      "metadata": {
        "id": "MQnlI55JoAMF"
      },
      "execution_count": null,
      "outputs": []
    },
    {
      "cell_type": "code",
      "source": [
        "data = data[0]"
      ],
      "metadata": {
        "id": "BO0PVs3RoLWV"
      },
      "execution_count": null,
      "outputs": []
    },
    {
      "cell_type": "code",
      "source": [
        "data"
      ],
      "metadata": {
        "colab": {
          "base_uri": "https://localhost:8080/"
        },
        "id": "3KmrfsZRoWZC",
        "outputId": "78a5503b-4169-49e6-c10c-419b88d7fd76"
      },
      "execution_count": null,
      "outputs": [
        {
          "output_type": "execute_result",
          "data": {
            "text/plain": [
              "[{'@id': '1.1',\n",
              "  'title': 'Purpose',\n",
              "  'text_body': 'This Functional Requirements Specification (FRS) is intended to capture the changes in\\nfunctionality that will occur during [system name] Re-Writing effort, which is part of the xxx\\nEnhancements project. All functionalities for the new [system name] system would be\\ndocumented in this FRS. Any undocumented requirements will be considered out of scope\\nand will not be implemented during this phase of Re-Writing.'},\n",
              " {'@id': '1.2',\n",
              "  'title': 'Scope',\n",
              "  'text_body': 'The existing functionalities in the core [system name] will remain same. This project is\\nlimited in scope to the enhancements and defects that are critical in the severity level that is\\nthe issues that cause great burden to the system users and the enhancements in system\\narchitecture, which will facilitate efficient growth of [system name] and the [company name]\\nbusiness, will fall under the purview of this project scope.\\nThe functional issues and requirements that will be discussed and gathered respectively as\\nwell as validated in the Requirements Gathering and Validating Sessions started on\\nMM/DD/YYYYwould be documented in this FRS moving forward. The project team has\\ndecided that system development will occur on module by module basis.'}]"
            ]
          },
          "metadata": {},
          "execution_count": 13
        }
      ]
    },
    {
      "cell_type": "code",
      "source": [
        "for item in data:\n",
        "  for value in item.keys():\n",
        "    if value == 'text_body':\n",
        "      sens.append(item['text_body'])"
      ],
      "metadata": {
        "id": "Xe-J9xZkoVqs"
      },
      "execution_count": null,
      "outputs": []
    },
    {
      "cell_type": "code",
      "source": [
        "sens"
      ],
      "metadata": {
        "colab": {
          "base_uri": "https://localhost:8080/"
        },
        "id": "DMX8B0Ppo52c",
        "outputId": "6cc451c5-5b53-46ad-827f-62de3cf94c4c"
      },
      "execution_count": null,
      "outputs": [
        {
          "output_type": "execute_result",
          "data": {
            "text/plain": [
              "['This Functional Requirements Specification (FRS) is intended to capture the changes in\\nfunctionality that will occur during [system name] Re-Writing effort, which is part of the xxx\\nEnhancements project. All functionalities for the new [system name] system would be\\ndocumented in this FRS. Any undocumented requirements will be considered out of scope\\nand will not be implemented during this phase of Re-Writing.',\n",
              " 'The existing functionalities in the core [system name] will remain same. This project is\\nlimited in scope to the enhancements and defects that are critical in the severity level that is\\nthe issues that cause great burden to the system users and the enhancements in system\\narchitecture, which will facilitate efficient growth of [system name] and the [company name]\\nbusiness, will fall under the purview of this project scope.\\nThe functional issues and requirements that will be discussed and gathered respectively as\\nwell as validated in the Requirements Gathering and Validating Sessions started on\\nMM/DD/YYYYwould be documented in this FRS moving forward. The project team has\\ndecided that system development will occur on module by module basis.']"
            ]
          },
          "metadata": {},
          "execution_count": 15
        }
      ]
    },
    {
      "cell_type": "code",
      "source": [
        "hasil = []\n",
        "for sub in sens:\n",
        "  hasil.append(sub.replace(\"\\n\", \"\"))"
      ],
      "metadata": {
        "id": "UkJeidHgo50E"
      },
      "execution_count": null,
      "outputs": []
    },
    {
      "cell_type": "code",
      "source": [
        "temp = []\n",
        "for value in hasil:\n",
        "  temp.append(value.split('. '))"
      ],
      "metadata": {
        "id": "j6_JgwUwpKhG"
      },
      "execution_count": null,
      "outputs": []
    },
    {
      "cell_type": "code",
      "source": [
        "sentences = []\n",
        "for value in temp:\n",
        "  for item in value:\n",
        "    sentences.append(item)\n"
      ],
      "metadata": {
        "id": "Vewv1maZpePB"
      },
      "execution_count": null,
      "outputs": []
    },
    {
      "cell_type": "code",
      "source": [
        "print(np.array(sentences))"
      ],
      "metadata": {
        "colab": {
          "base_uri": "https://localhost:8080/"
        },
        "id": "NC48CyivpzRU",
        "outputId": "382408a0-31ae-4894-fab6-480e99b2c90a"
      },
      "execution_count": null,
      "outputs": [
        {
          "output_type": "stream",
          "name": "stdout",
          "text": [
            "['This Functional Requirements Specification (FRS) is intended to capture the changes infunctionality that will occur during [system name] Re-Writing effort, which is part of the xxxEnhancements project'\n",
            " 'All functionalities for the new [system name] system would bedocumented in this FRS'\n",
            " 'Any undocumented requirements will be considered out of scopeand will not be implemented during this phase of Re-Writing.'\n",
            " 'The existing functionalities in the core [system name] will remain same'\n",
            " 'This project islimited in scope to the enhancements and defects that are critical in the severity level that isthe issues that cause great burden to the system users and the enhancements in systemarchitecture, which will facilitate efficient growth of [system name] and the [company name]business, will fall under the purview of this project scope.The functional issues and requirements that will be discussed and gathered respectively aswell as validated in the Requirements Gathering and Validating Sessions started onMM/DD/YYYYwould be documented in this FRS moving forward'\n",
            " 'The project team hasdecided that system development will occur on module by module basis.']\n"
          ]
        }
      ]
    },
    {
      "cell_type": "code",
      "source": [
        "import string\n",
        "for x in range(len(sentences)):\n",
        "  sentences[x] = sentences[x].translate(str.maketrans('', '', string.punctuation))"
      ],
      "metadata": {
        "id": "fgl57DpdekWo"
      },
      "execution_count": null,
      "outputs": []
    },
    {
      "cell_type": "code",
      "source": [
        "sentences"
      ],
      "metadata": {
        "colab": {
          "base_uri": "https://localhost:8080/"
        },
        "id": "0Df-tbPin3xa",
        "outputId": "928040da-ec3f-428d-f7c9-0ad839aa25ea"
      },
      "execution_count": null,
      "outputs": [
        {
          "output_type": "execute_result",
          "data": {
            "text/plain": [
              "['This Functional Requirements Specification FRS is intended to capture the changes infunctionality that will occur during system name ReWriting effort which is part of the xxxEnhancements project',\n",
              " 'All functionalities for the new system name system would bedocumented in this FRS',\n",
              " 'Any undocumented requirements will be considered out of scopeand will not be implemented during this phase of ReWriting',\n",
              " 'The existing functionalities in the core system name will remain same',\n",
              " 'This project islimited in scope to the enhancements and defects that are critical in the severity level that isthe issues that cause great burden to the system users and the enhancements in systemarchitecture which will facilitate efficient growth of system name and the company namebusiness will fall under the purview of this project scopeThe functional issues and requirements that will be discussed and gathered respectively aswell as validated in the Requirements Gathering and Validating Sessions started onMMDDYYYYwould be documented in this FRS moving forward',\n",
              " 'The project team hasdecided that system development will occur on module by module basis']"
            ]
          },
          "metadata": {},
          "execution_count": 21
        }
      ]
    },
    {
      "cell_type": "code",
      "source": [
        "type(sentences[0])"
      ],
      "metadata": {
        "colab": {
          "base_uri": "https://localhost:8080/"
        },
        "id": "dsp4Eyb05vEv",
        "outputId": "db85a490-078a-4419-d1cf-0a5078466bc2"
      },
      "execution_count": null,
      "outputs": [
        {
          "output_type": "execute_result",
          "data": {
            "text/plain": [
              "str"
            ]
          },
          "metadata": {},
          "execution_count": 22
        }
      ]
    },
    {
      "cell_type": "markdown",
      "source": [
        "## stanza parsing"
      ],
      "metadata": {
        "id": "Ok6D76Y69z3g"
      }
    },
    {
      "cell_type": "code",
      "source": [
        "!pip install stanza"
      ],
      "metadata": {
        "colab": {
          "base_uri": "https://localhost:8080/"
        },
        "id": "BakrWkq69zJd",
        "outputId": "bd6bb59b-a9ad-4410-8e31-cdcf91d0cbb1"
      },
      "execution_count": null,
      "outputs": [
        {
          "output_type": "stream",
          "name": "stdout",
          "text": [
            "Looking in indexes: https://pypi.org/simple, https://us-python.pkg.dev/colab-wheels/public/simple/\n",
            "Collecting stanza\n",
            "  Downloading stanza-1.4.2-py3-none-any.whl (691 kB)\n",
            "\u001b[2K     \u001b[90m━━━━━━━━━━━━━━━━━━━━━━━━━━━━━━━━━━━━━━\u001b[0m \u001b[32m691.3/691.3 KB\u001b[0m \u001b[31m10.2 MB/s\u001b[0m eta \u001b[36m0:00:00\u001b[0m\n",
            "\u001b[?25hRequirement already satisfied: requests in /usr/local/lib/python3.8/dist-packages (from stanza) (2.25.1)\n",
            "Collecting emoji\n",
            "  Downloading emoji-2.2.0.tar.gz (240 kB)\n",
            "\u001b[2K     \u001b[90m━━━━━━━━━━━━━━━━━━━━━━━━━━━━━━━━━━━━━━━\u001b[0m \u001b[32m240.9/240.9 KB\u001b[0m \u001b[31m9.6 MB/s\u001b[0m eta \u001b[36m0:00:00\u001b[0m\n",
            "\u001b[?25h  Preparing metadata (setup.py) ... \u001b[?25l\u001b[?25hdone\n",
            "Requirement already satisfied: torch>=1.3.0 in /usr/local/lib/python3.8/dist-packages (from stanza) (1.13.1+cu116)\n",
            "Requirement already satisfied: six in /usr/local/lib/python3.8/dist-packages (from stanza) (1.15.0)\n",
            "Requirement already satisfied: numpy in /usr/local/lib/python3.8/dist-packages (from stanza) (1.22.4)\n",
            "Requirement already satisfied: tqdm in /usr/local/lib/python3.8/dist-packages (from stanza) (4.64.1)\n",
            "Requirement already satisfied: protobuf in /usr/local/lib/python3.8/dist-packages (from stanza) (3.19.6)\n",
            "Requirement already satisfied: typing-extensions in /usr/local/lib/python3.8/dist-packages (from torch>=1.3.0->stanza) (4.5.0)\n",
            "Requirement already satisfied: urllib3<1.27,>=1.21.1 in /usr/local/lib/python3.8/dist-packages (from requests->stanza) (1.24.3)\n",
            "Requirement already satisfied: certifi>=2017.4.17 in /usr/local/lib/python3.8/dist-packages (from requests->stanza) (2022.12.7)\n",
            "Requirement already satisfied: idna<3,>=2.5 in /usr/local/lib/python3.8/dist-packages (from requests->stanza) (2.10)\n",
            "Requirement already satisfied: chardet<5,>=3.0.2 in /usr/local/lib/python3.8/dist-packages (from requests->stanza) (4.0.0)\n",
            "Building wheels for collected packages: emoji\n",
            "  Building wheel for emoji (setup.py) ... \u001b[?25l\u001b[?25hdone\n",
            "  Created wheel for emoji: filename=emoji-2.2.0-py3-none-any.whl size=234926 sha256=87148c5dc6ce8dad7a50abdc12ca5fc1a53f840420955f76bb241399aab99e7f\n",
            "  Stored in directory: /root/.cache/pip/wheels/86/62/9e/a6b27a681abcde69970dbc0326ff51955f3beac72f15696984\n",
            "Successfully built emoji\n",
            "Installing collected packages: emoji, stanza\n",
            "Successfully installed emoji-2.2.0 stanza-1.4.2\n"
          ]
        }
      ]
    },
    {
      "cell_type": "code",
      "source": [
        "import stanza\n",
        "stanza.download(\"en\")\n",
        "nlp = stanza.Pipeline('en')\n",
        "\n",
        "for x in range(len(sentences)):\n",
        "\n",
        "  doc = nlp(sentences[x])\n",
        "  doc.sentences[0].print_dependencies()\n",
        "  print(\"\\n\\n\")"
      ],
      "metadata": {
        "colab": {
          "base_uri": "https://localhost:8080/",
          "height": 1000,
          "referenced_widgets": [
            "5abaa093f14c4c31972d903a0aec0844",
            "a952f2c807ec4c6ba85756e3e5bed96e",
            "40400c8d920c483d93bd2c0599eb1333",
            "9e60f7ca442c423cbf07495e09f3f5f9",
            "a92fa1fc157d4437b48c57ff46c2600a",
            "81bab1209d674121a2ccaa671772a5b0",
            "707fc71e732e4ba788ca466aa6108f11",
            "f53851b930a146809374713945832c27",
            "9dc0752be25a408e908e5618b1101b93",
            "131189426ab347a3bb08e0f9452fc1f4",
            "a1000515d97c41089f57fb36a7c1a2cf",
            "093e3834a4e44a4787e4bbb6625c8452",
            "cc19aeb2a047401b8571370372a96c76",
            "300b649bcde64a6cb607fc1340434f71",
            "abbae05f996646da8d20c9d6387c0995",
            "7ee588c6defc43ec8e23bd3d068c910e",
            "d999dd4623f04f93b954fa0cc3044fba",
            "a166d4d628ee40589df33a820b42c1ea",
            "142e17e93bfa44c38c749819e32dd2f9",
            "532479df60264c87aea7f954eaa968c2",
            "74a80815d7a14115a3826db52d1c52fb",
            "739fb0a83f7446f9a4337325db4a1cbd",
            "48ae599f46d045b0ab2aa29facb61353",
            "789ceca3df1c46f88e94441e735bdbb8",
            "d7cf4f8e6fc5446f8980f088ad3d7306",
            "17cb150d68c545ff824df02c3109b7d9",
            "4fa577b7a9da4aecaadf366fb39c1b9e",
            "33242702e4604a92a62966f784630eaa",
            "055d6085fe3a486ab19f66144512774f",
            "b101abffb744440881254e3e8258e32f",
            "0daf95e4d44e4a01967e1c563b981bd6",
            "0ce9d03821894a0aa3aa214700d5fe61",
            "76b7735524b643ff9da888b26314690e"
          ]
        },
        "id": "IyvM7WxO93S3",
        "outputId": "7289e4e0-1786-4790-8efc-67f963855f65"
      },
      "execution_count": null,
      "outputs": [
        {
          "output_type": "display_data",
          "data": {
            "text/plain": [
              "Downloading https://raw.githubusercontent.com/stanfordnlp/stanza-resources/main/resources_1.4.1.json:   0%|   …"
            ],
            "application/vnd.jupyter.widget-view+json": {
              "version_major": 2,
              "version_minor": 0,
              "model_id": "5abaa093f14c4c31972d903a0aec0844"
            }
          },
          "metadata": {}
        },
        {
          "output_type": "stream",
          "name": "stderr",
          "text": [
            "INFO:stanza:Downloading default packages for language: en (English) ...\n"
          ]
        },
        {
          "output_type": "display_data",
          "data": {
            "text/plain": [
              "Downloading https://huggingface.co/stanfordnlp/stanza-en/resolve/v1.4.1/models/default.zip:   0%|          | 0…"
            ],
            "application/vnd.jupyter.widget-view+json": {
              "version_major": 2,
              "version_minor": 0,
              "model_id": "093e3834a4e44a4787e4bbb6625c8452"
            }
          },
          "metadata": {}
        },
        {
          "output_type": "stream",
          "name": "stderr",
          "text": [
            "INFO:stanza:Finished downloading models and saved to /root/stanza_resources.\n",
            "INFO:stanza:Checking for updates to resources.json in case models have been updated.  Note: this behavior can be turned off with download_method=None or download_method=DownloadMethod.REUSE_RESOURCES\n"
          ]
        },
        {
          "output_type": "display_data",
          "data": {
            "text/plain": [
              "Downloading https://raw.githubusercontent.com/stanfordnlp/stanza-resources/main/resources_1.4.1.json:   0%|   …"
            ],
            "application/vnd.jupyter.widget-view+json": {
              "version_major": 2,
              "version_minor": 0,
              "model_id": "48ae599f46d045b0ab2aa29facb61353"
            }
          },
          "metadata": {}
        },
        {
          "output_type": "stream",
          "name": "stderr",
          "text": [
            "INFO:stanza:Loading these models for language: en (English):\n",
            "============================\n",
            "| Processor    | Package   |\n",
            "----------------------------\n",
            "| tokenize     | combined  |\n",
            "| pos          | combined  |\n",
            "| lemma        | combined  |\n",
            "| depparse     | combined  |\n",
            "| sentiment    | sstplus   |\n",
            "| constituency | wsj       |\n",
            "| ner          | ontonotes |\n",
            "============================\n",
            "\n",
            "INFO:stanza:Use device: cpu\n",
            "INFO:stanza:Loading: tokenize\n",
            "INFO:stanza:Loading: pos\n",
            "INFO:stanza:Loading: lemma\n",
            "INFO:stanza:Loading: depparse\n",
            "INFO:stanza:Loading: sentiment\n",
            "INFO:stanza:Loading: constituency\n",
            "INFO:stanza:Loading: ner\n",
            "INFO:stanza:Done loading processors!\n"
          ]
        },
        {
          "output_type": "stream",
          "name": "stdout",
          "text": [
            "('This', 3, 'det')\n",
            "('Functional', 3, 'amod')\n",
            "('Requirements', 4, 'compound')\n",
            "('Specification', 5, 'compound')\n",
            "('FRS', 7, 'nsubj:pass')\n",
            "('is', 7, 'aux:pass')\n",
            "('intended', 0, 'root')\n",
            "('to', 9, 'mark')\n",
            "('capture', 7, 'xcomp')\n",
            "('the', 12, 'det')\n",
            "('changes', 12, 'compound')\n",
            "('infunctionality', 9, 'obj')\n",
            "('that', 15, 'nsubj')\n",
            "('will', 15, 'aux')\n",
            "('occur', 12, 'acl:relcl')\n",
            "('during', 20, 'case')\n",
            "('system', 18, 'compound')\n",
            "('name', 20, 'compound')\n",
            "('ReWriting', 20, 'compound')\n",
            "('effort', 15, 'obl')\n",
            "('which', 23, 'nsubj')\n",
            "('is', 23, 'cop')\n",
            "('part', 20, 'acl:relcl')\n",
            "('of', 27, 'case')\n",
            "('the', 27, 'det')\n",
            "('xxxEnhancements', 27, 'compound')\n",
            "('project', 23, 'nmod')\n",
            "\n",
            "\n",
            "\n",
            "('All', 2, 'det')\n",
            "('functionalities', 10, 'nsubj')\n",
            "('for', 8, 'case')\n",
            "('the', 8, 'det')\n",
            "('new', 8, 'amod')\n",
            "('system', 7, 'compound')\n",
            "('name', 8, 'compound')\n",
            "('system', 2, 'nmod')\n",
            "('would', 10, 'aux')\n",
            "('bedocumented', 0, 'root')\n",
            "('in', 13, 'case')\n",
            "('this', 13, 'det')\n",
            "('FRS', 10, 'obl')\n",
            "\n",
            "\n",
            "\n",
            "('Any', 3, 'det')\n",
            "('undocumented', 3, 'amod')\n",
            "('requirements', 6, 'nsubj:pass')\n",
            "('will', 6, 'aux')\n",
            "('be', 6, 'aux:pass')\n",
            "('considered', 0, 'root')\n",
            "('out', 9, 'case')\n",
            "('of', 9, 'case')\n",
            "('scopeand', 6, 'obl')\n",
            "('will', 13, 'aux')\n",
            "('not', 13, 'advmod')\n",
            "('be', 13, 'aux:pass')\n",
            "('implemented', 6, 'conj')\n",
            "('during', 16, 'case')\n",
            "('this', 16, 'det')\n",
            "('phase', 13, 'obl')\n",
            "('of', 18, 'case')\n",
            "('ReWriting', 16, 'nmod')\n",
            "\n",
            "\n",
            "\n",
            "('The', 3, 'det')\n",
            "('existing', 3, 'amod')\n",
            "('functionalities', 10, 'nsubj')\n",
            "('in', 8, 'case')\n",
            "('the', 8, 'det')\n",
            "('core', 7, 'compound')\n",
            "('system', 8, 'compound')\n",
            "('name', 3, 'nmod')\n",
            "('will', 10, 'aux')\n",
            "('remain', 0, 'root')\n",
            "('same', 10, 'xcomp')\n",
            "\n",
            "\n",
            "\n",
            "('This', 2, 'det')\n",
            "('project', 3, 'nsubj')\n",
            "('islimited', 0, 'root')\n",
            "('in', 5, 'case')\n",
            "('scope', 3, 'obl')\n",
            "('to', 8, 'case')\n",
            "('the', 8, 'det')\n",
            "('enhancements', 3, 'obl')\n",
            "('and', 10, 'cc')\n",
            "('defects', 8, 'conj')\n",
            "('that', 13, 'nsubj')\n",
            "('are', 13, 'cop')\n",
            "('critical', 8, 'acl:relcl')\n",
            "('in', 17, 'case')\n",
            "('the', 17, 'det')\n",
            "('severity', 17, 'compound')\n",
            "('level', 13, 'obl')\n",
            "('that', 19, 'nsubj')\n",
            "('isthe', 17, 'acl:relcl')\n",
            "('issues', 19, 'obj')\n",
            "('that', 22, 'nsubj')\n",
            "('cause', 20, 'acl:relcl')\n",
            "('great', 24, 'amod')\n",
            "('burden', 22, 'obj')\n",
            "('to', 28, 'case')\n",
            "('the', 28, 'det')\n",
            "('system', 28, 'compound')\n",
            "('users', 24, 'nmod')\n",
            "('and', 31, 'cc')\n",
            "('the', 31, 'det')\n",
            "('enhancements', 24, 'conj')\n",
            "('in', 33, 'case')\n",
            "('systemarchitecture', 31, 'nmod')\n",
            "('which', 36, 'nsubj')\n",
            "('will', 36, 'aux')\n",
            "('facilitate', 31, 'acl:relcl')\n",
            "('efficient', 38, 'amod')\n",
            "('growth', 36, 'obj')\n",
            "('of', 41, 'case')\n",
            "('system', 41, 'compound')\n",
            "('name', 38, 'nmod')\n",
            "('and', 47, 'cc')\n",
            "('the', 45, 'det')\n",
            "('company', 45, 'compound')\n",
            "('namebusiness', 47, 'nsubj')\n",
            "('will', 47, 'aux')\n",
            "('fall', 36, 'conj')\n",
            "('under', 50, 'case')\n",
            "('the', 50, 'det')\n",
            "('purview', 47, 'obl')\n",
            "('of', 56, 'case')\n",
            "('this', 56, 'det')\n",
            "('project', 54, 'compound')\n",
            "('scopeThe', 56, 'compound')\n",
            "('functional', 56, 'amod')\n",
            "('issues', 50, 'nmod')\n",
            "('and', 58, 'cc')\n",
            "('requirements', 56, 'conj')\n",
            "('that', 62, 'nsubj:pass')\n",
            "('will', 62, 'aux')\n",
            "('be', 62, 'aux:pass')\n",
            "('discussed', 56, 'acl:relcl')\n",
            "('and', 64, 'cc')\n",
            "('gathered', 62, 'conj')\n",
            "('respectively', 66, 'advmod')\n",
            "('aswell', 64, 'advmod')\n",
            "('as', 68, 'mark')\n",
            "('validated', 62, 'advcl')\n",
            "('in', 71, 'case')\n",
            "('the', 71, 'det')\n",
            "('Requirements', 68, 'obl')\n",
            "('Gathering', 68, 'obl')\n",
            "('and', 75, 'cc')\n",
            "('Validating', 72, 'conj')\n",
            "('Sessions', 72, 'conj')\n",
            "('started', 75, 'acl')\n",
            "('onMMDDYYY', 76, 'xcomp')\n",
            "('Ywould', 80, 'nsubj:pass')\n",
            "('be', 80, 'aux:pass')\n",
            "('documented', 76, 'xcomp')\n",
            "('in', 83, 'case')\n",
            "('this', 83, 'det')\n",
            "('FRS', 84, 'nsubj')\n",
            "('moving', 80, 'advcl')\n",
            "('forward', 84, 'advmod')\n",
            "\n",
            "\n",
            "\n",
            "('The', 3, 'det')\n",
            "('project', 3, 'compound')\n",
            "('team', 4, 'nsubj')\n",
            "('hasdecided', 0, 'root')\n",
            "('that', 7, 'det')\n",
            "('system', 7, 'compound')\n",
            "('development', 9, 'nsubj')\n",
            "('will', 9, 'aux')\n",
            "('occur', 4, 'ccomp')\n",
            "('on', 11, 'case')\n",
            "('module', 9, 'obl')\n",
            "('by', 14, 'case')\n",
            "('module', 14, 'compound')\n",
            "('basis', 9, 'obl')\n",
            "\n",
            "\n",
            "\n"
          ]
        }
      ]
    },
    {
      "cell_type": "code",
      "source": [],
      "metadata": {
        "id": "Ai-H0J0D-Mbp"
      },
      "execution_count": null,
      "outputs": []
    }
  ]
}