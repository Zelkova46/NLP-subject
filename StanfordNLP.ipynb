{
  "nbformat": 4,
  "nbformat_minor": 0,
  "metadata": {
    "colab": {
      "provenance": [],
      "authorship_tag": "ABX9TyMbvEm7ie6RlDZb2XVa8z87",
      "include_colab_link": true
    },
    "kernelspec": {
      "name": "python3",
      "display_name": "Python 3"
    },
    "language_info": {
      "name": "python"
    }
  },
  "cells": [
    {
      "cell_type": "markdown",
      "metadata": {
        "id": "view-in-github",
        "colab_type": "text"
      },
      "source": [
        "<a href=\"https://colab.research.google.com/github/Zelkova46/NLP-subject/blob/main/StanfordNLP.ipynb\" target=\"_parent\"><img src=\"https://colab.research.google.com/assets/colab-badge.svg\" alt=\"Open In Colab\"/></a>"
      ]
    },
    {
      "cell_type": "code",
      "execution_count": null,
      "metadata": {
        "id": "fhEuNQFpCoZe"
      },
      "outputs": [],
      "source": []
    },
    {
      "cell_type": "markdown",
      "source": [
        "sumber : https://stanfordnlp.github.io/stanfordnlp/depparse.html"
      ],
      "metadata": {
        "id": "uWaynIAxgXpW"
      }
    },
    {
      "cell_type": "markdown",
      "source": [
        "## import dataset"
      ],
      "metadata": {
        "id": "KHtURl1n40dW"
      }
    },
    {
      "cell_type": "code",
      "source": [
        "!pip install xmltodict"
      ],
      "metadata": {
        "colab": {
          "base_uri": "https://localhost:8080/"
        },
        "id": "oABRUIE940K-",
        "outputId": "18e08cc5-f8f7-458b-f328-f71a1c35e83f"
      },
      "execution_count": 1,
      "outputs": [
        {
          "output_type": "stream",
          "name": "stdout",
          "text": [
            "Looking in indexes: https://pypi.org/simple, https://us-python.pkg.dev/colab-wheels/public/simple/\n",
            "Collecting xmltodict\n",
            "  Downloading xmltodict-0.13.0-py2.py3-none-any.whl (10.0 kB)\n",
            "Installing collected packages: xmltodict\n",
            "Successfully installed xmltodict-0.13.0\n"
          ]
        }
      ]
    },
    {
      "cell_type": "code",
      "source": [
        "import csv\n",
        "import xmltodict\n",
        "import numpy as np\n",
        "import nltk\n",
        "nltk.download('punkt')\n",
        "nltk.download('averaged_perceptron_tagger')"
      ],
      "metadata": {
        "colab": {
          "base_uri": "https://localhost:8080/"
        },
        "id": "hGzSwLR845ph",
        "outputId": "361045f4-04d2-4bcf-923d-cac6c7b1e88b"
      },
      "execution_count": 2,
      "outputs": [
        {
          "output_type": "stream",
          "name": "stderr",
          "text": [
            "[nltk_data] Downloading package punkt to /root/nltk_data...\n",
            "[nltk_data]   Unzipping tokenizers/punkt.zip.\n",
            "[nltk_data] Downloading package averaged_perceptron_tagger to\n",
            "[nltk_data]     /root/nltk_data...\n",
            "[nltk_data]   Unzipping taggers/averaged_perceptron_tagger.zip.\n"
          ]
        },
        {
          "output_type": "execute_result",
          "data": {
            "text/plain": [
              "True"
            ]
          },
          "metadata": {},
          "execution_count": 2
        }
      ]
    },
    {
      "cell_type": "code",
      "source": [],
      "metadata": {
        "id": "mZMhIQW25GTf"
      },
      "execution_count": 2,
      "outputs": []
    },
    {
      "cell_type": "code",
      "source": [
        "with open(\"/content/2010-blitdraft.xml\", \"r\") as file:\n",
        "  filedata = file.read()\n",
        "\n",
        "\n",
        "#convverting xml to python dictionary (ordered dict)\n",
        "data_dict = xmltodict.parse(filedata)"
      ],
      "metadata": {
        "id": "MOm-WG9em29p"
      },
      "execution_count": 3,
      "outputs": []
    },
    {
      "cell_type": "code",
      "source": [
        "data_dict.keys()"
      ],
      "metadata": {
        "colab": {
          "base_uri": "https://localhost:8080/"
        },
        "id": "9lye4FyinQDE",
        "outputId": "123633b9-d613-4aa2-bb09-d2b92bd159a3"
      },
      "execution_count": 4,
      "outputs": [
        {
          "output_type": "execute_result",
          "data": {
            "text/plain": [
              "dict_keys(['req_document'])"
            ]
          },
          "metadata": {},
          "execution_count": 4
        }
      ]
    },
    {
      "cell_type": "code",
      "source": [
        "data_dict = data_dict['req_document']"
      ],
      "metadata": {
        "id": "j7ZHGpUEnSP_"
      },
      "execution_count": 5,
      "outputs": []
    },
    {
      "cell_type": "code",
      "source": [
        "data_dict.keys()"
      ],
      "metadata": {
        "colab": {
          "base_uri": "https://localhost:8080/"
        },
        "id": "hcSx-pFnnWmL",
        "outputId": "aa875f89-d7f4-4fb8-871c-fb5034718aa8"
      },
      "execution_count": 6,
      "outputs": [
        {
          "output_type": "execute_result",
          "data": {
            "text/plain": [
              "dict_keys(['@xmlns', '@xmlns:xsi', '@xsi:schemaLocation', 'title', 'version', 'p'])"
            ]
          },
          "metadata": {},
          "execution_count": 6
        }
      ]
    },
    {
      "cell_type": "code",
      "source": [
        "data_dict = data_dict['p']"
      ],
      "metadata": {
        "id": "acRwZEngnZee"
      },
      "execution_count": 7,
      "outputs": []
    },
    {
      "cell_type": "code",
      "source": [
        "print((data_dict))\n",
        "print(len(data_dict))"
      ],
      "metadata": {
        "colab": {
          "base_uri": "https://localhost:8080/"
        },
        "id": "dSEGfi1kng7v",
        "outputId": "d83000ce-2b84-4a26-fc73-240237e708be"
      },
      "execution_count": 8,
      "outputs": [
        {
          "output_type": "stream",
          "name": "stdout",
          "text": [
            "[{'@id': '1', 'title': 'Introduction', 'text_body': 'The management of [company name]. has identified a potential need for re-writing its core\\nLaboratory Information System (LIS) to improve the performance. In general, this project\\nwill provide a stable environment, automate decisions, streamline workflows, and employ\\nindustry standard coding and documentation practices. This effort will ensure System\\nIntegrity/Reliability by developing a system that is reliable and low maintenance including\\nsecurity and confidentiality requirements as dictated by HIPAA and FDA regulatory\\nstandards.', 'p': [{'@id': '1.1', 'title': 'Purpose', 'text_body': 'This Functional Requirements Specification (FRS) is intended to capture the changes in\\nfunctionality that will occur during [system name] Re-Writing effort, which is part of the xxx\\nEnhancements project. All functionalities for the new [system name] system would be\\ndocumented in this FRS. Any undocumented requirements will be considered out of scope\\nand will not be implemented during this phase of Re-Writing.'}, {'@id': '1.2', 'title': 'Scope', 'text_body': 'The existing functionalities in the core [system name] will remain same. This project is\\nlimited in scope to the enhancements and defects that are critical in the severity level that is\\nthe issues that cause great burden to the system users and the enhancements in system\\narchitecture, which will facilitate efficient growth of [system name] and the [company name]\\nbusiness, will fall under the purview of this project scope.\\nThe functional issues and requirements that will be discussed and gathered respectively as\\nwell as validated in the Requirements Gathering and Validating Sessions started on\\nMM/DD/YYYYwould be documented in this FRS moving forward. The project team has\\ndecided that system development will occur on module by module basis.'}]}, {'@id': '2', 'title': 'Specific Requirements', 'p': [{'@id': '2.1', 'title': 'Functionality', 'p': {'@id': '2.1.1', 'title': 'Module: Admin', 'p': [{'@id': '2.1.1.1', 'title': 'Use Case: xxx Page, UC ID: UC_RR_xxx_xxx_000', 'p': [{'@id': '2.1.1.1.1', 'text_body': 'System shall display the hyperlinks and descriptions for the user to perform the desired\\nfunctions as specified in the related UIS.'}, {'@id': '2.1.1.1.2', 'text_body': 'The User shall be able to view the hyperlinks and descriptions listed.'}, {'@id': '2.1.1.1.3', 'text_body': 'The User shall be able to choose a function by clicking the hyperlink.'}, {'@id': '2.1.1.1.4', 'text_body': 'The system shall display the desired operational page for the user after clicking the\\nhyperlink.'}]}, {'@id': '2.1.1.2', 'title': 'Use Case: xxx Page, UC ID: UC_RR_xxx_xxx_000', 'p': {'@id': '2.1.1.2.1', 'title': 'Action: Create/Add User', 'p': [{'@id': '2.1.1.2.1.1', 'text_body': 'A user with admin privileges shall be able to Add/Create a new user and associate the\\nuser with specified role(s) in the system.'}, {'@id': '2.1.1.2.1.2', 'text_body': 'The system shall display an error message if the new user is found in the [system name]\\nsystem.'}, {'@id': '2.1.1.2.1.3', 'text_body': 'The system shall display an error message if the new user is not active in the Active\\nDirectory.'}, {'@id': '2.1.1.2.1.4', 'text_body': 'The system shall display the xxx tab as the default tab.'}, {'@id': '2.1.1.2.1.5', 'text_body': 'The user shall be able to create/add a new user manually or from a template.'}, {'@id': '2.1.1.2.1.6', 'text_body': 'The user record shall inherit all specified role(s) settings in the template when the user\\nrecord is created from the user template'}, {'@id': '2.1.1.2.1.7', 'text_body': 'The user shall be able to add additional roles manually while creating/adding a new user\\nfrom a user template.'}, {'@id': '2.1.1.2.1.8', 'text_body': 'The system shall save the user info to the database with specified roles associated with\\ndivisions for the newly created/added user.'}, {'@id': '2.1.1.2.1.9', 'text_body': 'The system shall perform a search on the [system name] user display name and user\\nname columns in the user tables to find the user and verify the user’s existence.'}, {'@id': '2.1.1.2.1.10', 'text_body': 'The system shall perform a search in the Active Directory to verify the status of the user\\n— Active/Inactive within the company—when the user attempts to create/add a new user\\nin the [system name] system.'}, {'@id': '2.1.1.2.1.11', 'text_body': 'The system shall generate a standard confirmation message after saving data and\\nwarning/caution messages after the cancel or close button is clicked.'}, {'@id': '2.1.1.2.1.12', 'text_body': 'The user must have the flexibility to click any tab to commence the adding process,\\nalthough the xxx Tab shall display as the default tab.'}, {'@id': '2.1.1.2.1.13', 'text_body': 'All required fields as specified in the UIS must be marked with a red asterisk alerting the\\nuser to fill the required fields in.'}, {'@id': '2.1.1.2.1.14', 'text_body': 'The user shall be able to save data after creating/adding a new user or cancel data to\\nabort the process.'}, {'@id': '2.1.1.2.1.15', 'text_body': 'The system shall clear up data if the user chooses to click the Cancel button in the midst\\nof creating/adding a new user.'}, {'@id': '2.1.1.2.1.16', 'text_body': 'The system shall direct the user to the xxx Page if the user chooses to click the close\\nbutton without entering any data.'}, {'@id': '2.1.1.2.1.17', 'text_body': 'The user must associate at least one role, division, designator code, and lab location at\\nthe time of creating/adding a new user.'}, {'@id': '2.1.1.2.1.18', 'text_body': 'The user must fill in the required fields—User Name and Display Name—in the User\\nInformation section at the time of creating/adding a new user.'}, {'@id': '2.1.1.2.1.19', 'text_body': 'The system shall generate a standard error/warning message after the user attempts to\\nsave data without associating one of each of the following criteria—xxx—and/or without\\nfilling in the required fields in the User Information section.'}]}}]}}, {'@id': '2.2', 'title': 'Usability', 'p': {'@id': '2.2.1', 'title': 'User Interface Guidelines', 'p': [{'@id': '2.2.1.1', 'text_body': 'The Project Team must demonstrate mockups of UI changes to project stakeholders early\\nin the development process.'}, {'@id': '2.2.1.2', 'text_body': 'The Project Team must permit reasonable adjustment to the user interfaces of new\\nfunctionality by project stakeholders when project schedule permits those adjustments.'}]}}, {'@id': '2.3', 'title': 'Reliability', 'p': {'@id': '2.3.1', 'title': 'System Downtime', 'p': {'@id': '2.3.1.1', 'text_body': 'The Project Team shall schedule updates to the production environment only on Tuesdays\\nbetween 7pm and 7am. (Example)'}}}, {'@id': '2.4', 'title': 'Performance', 'p': {'@id': '2.4.1', 'title': 'Quality Assurance', 'p': [{'@id': '2.4.1.1', 'text_body': 'The Project Team must perform applicable and appropriate testing against new functionality\\nprior to releasing that functionality/build to the production environment.'}, {'@id': '2.4.1.2', 'text_body': 'The project Team must allow a reasonable time to conduct User Acceptance Testing (UAT)\\nagainst the built functionalities prior to deploying the product to the production environment.'}]}}, {'@id': '2.5', 'title': 'Supportability', 'p': [{'@id': '2.5.1', 'title': 'Coding Standards', 'p': [{'@id': '2.5.1.1', 'text_body': 'The Development Team shall define coding standards for the application and follow those\\nstandards consistently.'}, {'@id': '2.5.1.2', 'text_body': 'The Development Team shall be required to adjust existing source code to follow accepted\\ncoding standards only if that source code must be modified.'}]}, {'@id': '2.5.2', 'title': 'Maintainability Standards', 'p': [{'@id': '2.5.2.1', 'text_body': 'The system shall log errors, warnings, and informational messages to an external log file on\\nthe application server.'}, {'@id': '2.5.2.2', 'text_body': 'The Development Team shall be required to adjust existing source code to use the external\\nlog file only if that source code must be modified to implement another requirement.'}, {'@id': '2.5.2.3', 'text_body': 'The system shall log an error message to the external data file when the user is directed to\\nthe [SYSTEM NAME] error page.'}, {'@id': '2.5.2.4', 'text_body': 'The system shall send a notification email to a Client Services email distribution list if the\\nuser is directed to the xxx error page.'}]}]}, {'@id': '2.6', 'title': 'Design Constraints', 'p': [{'@id': '2.6.1', 'title': 'Development Platform', 'p': [{'@id': '2.6.1.1', 'text_body': 'The Development Team shall develop functionalities using the xx language and on the\\nsupported .NET 3.5 Platform.'}, {'@id': '2.6.1.2', 'text_body': 'The Development Team shall utilize established open source frameworks instead of\\nproprietary custom components wherever appropriate.'}, {'@id': '2.6.1.3', 'text_body': 'The system shall continue to depend upon and use a single SQL Server 2008 database.'}]}, {'@id': '2.6.2', 'title': 'Production Releases', 'p': {'@id': '2.6.2.1', 'text_body': 'The Technical Owner/Lead shall provide signoff before any [SYSTEM NAME] build can be\\ndeployed to the production environment.'}}, {'@id': '2.6.3', 'title': 'Development Process', 'p': [{'@id': '2.6.3.1', 'text_body': 'The Development Team shall perform weekly integrations of the [SYSTEM NAME] system\\nand deploy these system updates to the Staging environment.'}, {'@id': '2.6.3.2', 'text_body': 'The Development Team shall label every scheduled [SYSTEM NAME] build in the source\\ncontrol system.'}, {'@id': '2.6.3.3', 'text_body': 'The Development Team shall perform scheduled [SYSTEM NAME] builds using code\\nchecked out of source control using the label as defined and specified.'}, {'@id': '2.6.3.4', 'text_body': 'The Development Team shall develop and then send out release notes via e-mail to all\\nProject Team after each [SYSTEM NAME] build deployed to the Staging environment.'}, {'@id': '2.6.3.5', 'text_body': 'The Technical Lead shall perform code reviews of every system change before those\\nchanges may be committed to source control.'}, {'@id': '2.6.3.6', 'text_body': 'The QA/QC Team must perform regression testing against all scheduled builds.'}]}]}, {'@id': '2.7', 'title': 'Online User Documentation and Help System Requirements', 'p': {'@id': '2.7.1', 'title': 'Robohelp Tool:', 'text_body': 'RoboHelp version 8 will be used to create the online [system name]\\nHelp hypertext links. The [system name] system will display a hypertext link labeled\\n“Help” at the top right corner on each of the user screens to provide assistance to the\\nuser. Each of the Help topic pop-up windows will contain that same content that is\\navailable within the [system name] user’s manuals.', 'p': [{'@id': '2.7.1.1', 'text_body': 'The system shall provide the capability to open a pop-up window displaying information\\nabout the specific page along with links to supporting help topics upon selecting each Help\\nlink.'}, {'@id': '2.7.1.2', 'text_body': 'The system shall display “[system name] Overview” page located under the Getting Started\\nsection of Help as default help topic page that will load upon selecting Help hypertext link.'}, {'@id': '2.7.1.3', 'text_body': 'The system must allow users to easily navigate through each of the help topics by selecting\\na corresponding hypertext link provided in the left frame of the pop-up Help window.'}, {'@id': '2.7.1.4', 'text_body': 'The system shall display the [company name] logo in the top, right side of the screen on\\neach of the help pages.'}, {'@id': '2.7.1.5', 'text_body': 'The system must exhibit each of the help pages using the same color scheme and\\nbackground as specified.'}, {'@id': '2.7.1.6', 'text_body': 'The system shall provide searching ability to the users to quickly find specific topic material\\nthrough the online help tool.'}, {'@id': '2.7.1.7', 'text_body': 'The system shall provide an index to the users for a more in-depth search of topic contents\\nthrough the online help tool.'}, {'@id': '2.7.1.8', 'text_body': 'The system shall provide a Glossary for industry-related terms associated with [company\\nname] and the [system name] system to the users through the online help tool.'}]}}, {'@id': '2.8', 'title': 'Interfaces'}, {'@id': '2.9', 'title': 'Applicable Standards', 'p': {'@id': '2.9.1', 'p': [{'@id': '2.9.1.1', 'text_body': 'The system shall retain existing HIPAA compliance capabilities.'}, {'@id': '2.9.1.2', 'text_body': 'The system shall follow HIPAA compliance capabilities in new functionality introduced to the\\nsystem.'}]}}]}, {'@id': '3', 'p': {'@id': 'Glossary 30209'}}]\n",
            "3\n"
          ]
        }
      ]
    },
    {
      "cell_type": "code",
      "source": [
        "for item in data_dict:\n",
        "  print(item.keys())"
      ],
      "metadata": {
        "colab": {
          "base_uri": "https://localhost:8080/"
        },
        "id": "gSkU5HilnjYO",
        "outputId": "09b422fd-b7b0-42dd-a0f7-4834e5a700df"
      },
      "execution_count": 9,
      "outputs": [
        {
          "output_type": "stream",
          "name": "stdout",
          "text": [
            "dict_keys(['@id', 'title', 'text_body', 'p'])\n",
            "dict_keys(['@id', 'title', 'p'])\n",
            "dict_keys(['@id', 'p'])\n"
          ]
        }
      ]
    },
    {
      "cell_type": "code",
      "source": [
        "sens = []\n",
        "data = []"
      ],
      "metadata": {
        "id": "mLvlQSGvn2hL"
      },
      "execution_count": 10,
      "outputs": []
    },
    {
      "cell_type": "code",
      "source": [
        "for item in data_dict:\n",
        "  for value in item.keys():\n",
        "    if value == 'p':\n",
        "      data.append(item['p'])"
      ],
      "metadata": {
        "id": "MQnlI55JoAMF"
      },
      "execution_count": 11,
      "outputs": []
    },
    {
      "cell_type": "code",
      "source": [
        "data = data[0]"
      ],
      "metadata": {
        "id": "BO0PVs3RoLWV"
      },
      "execution_count": 12,
      "outputs": []
    },
    {
      "cell_type": "code",
      "source": [
        "data"
      ],
      "metadata": {
        "colab": {
          "base_uri": "https://localhost:8080/"
        },
        "id": "3KmrfsZRoWZC",
        "outputId": "32ed4054-d4a6-4ae0-cd1f-c78d7fa03e3e"
      },
      "execution_count": 13,
      "outputs": [
        {
          "output_type": "execute_result",
          "data": {
            "text/plain": [
              "[{'@id': '1.1',\n",
              "  'title': 'Purpose',\n",
              "  'text_body': 'This Functional Requirements Specification (FRS) is intended to capture the changes in\\nfunctionality that will occur during [system name] Re-Writing effort, which is part of the xxx\\nEnhancements project. All functionalities for the new [system name] system would be\\ndocumented in this FRS. Any undocumented requirements will be considered out of scope\\nand will not be implemented during this phase of Re-Writing.'},\n",
              " {'@id': '1.2',\n",
              "  'title': 'Scope',\n",
              "  'text_body': 'The existing functionalities in the core [system name] will remain same. This project is\\nlimited in scope to the enhancements and defects that are critical in the severity level that is\\nthe issues that cause great burden to the system users and the enhancements in system\\narchitecture, which will facilitate efficient growth of [system name] and the [company name]\\nbusiness, will fall under the purview of this project scope.\\nThe functional issues and requirements that will be discussed and gathered respectively as\\nwell as validated in the Requirements Gathering and Validating Sessions started on\\nMM/DD/YYYYwould be documented in this FRS moving forward. The project team has\\ndecided that system development will occur on module by module basis.'}]"
            ]
          },
          "metadata": {},
          "execution_count": 13
        }
      ]
    },
    {
      "cell_type": "code",
      "source": [
        "for item in data:\n",
        "  for value in item.keys():\n",
        "    if value == 'text_body':\n",
        "      sens.append(item['text_body'])"
      ],
      "metadata": {
        "id": "Xe-J9xZkoVqs"
      },
      "execution_count": 14,
      "outputs": []
    },
    {
      "cell_type": "code",
      "source": [
        "sens"
      ],
      "metadata": {
        "colab": {
          "base_uri": "https://localhost:8080/"
        },
        "id": "DMX8B0Ppo52c",
        "outputId": "9cae46fd-5f70-4ffc-b4a3-2c7d9161a8fb"
      },
      "execution_count": 15,
      "outputs": [
        {
          "output_type": "execute_result",
          "data": {
            "text/plain": [
              "['This Functional Requirements Specification (FRS) is intended to capture the changes in\\nfunctionality that will occur during [system name] Re-Writing effort, which is part of the xxx\\nEnhancements project. All functionalities for the new [system name] system would be\\ndocumented in this FRS. Any undocumented requirements will be considered out of scope\\nand will not be implemented during this phase of Re-Writing.',\n",
              " 'The existing functionalities in the core [system name] will remain same. This project is\\nlimited in scope to the enhancements and defects that are critical in the severity level that is\\nthe issues that cause great burden to the system users and the enhancements in system\\narchitecture, which will facilitate efficient growth of [system name] and the [company name]\\nbusiness, will fall under the purview of this project scope.\\nThe functional issues and requirements that will be discussed and gathered respectively as\\nwell as validated in the Requirements Gathering and Validating Sessions started on\\nMM/DD/YYYYwould be documented in this FRS moving forward. The project team has\\ndecided that system development will occur on module by module basis.']"
            ]
          },
          "metadata": {},
          "execution_count": 15
        }
      ]
    },
    {
      "cell_type": "code",
      "source": [
        "hasil = []\n",
        "for sub in sens:\n",
        "  hasil.append(sub.replace(\"\\n\", \"\"))"
      ],
      "metadata": {
        "id": "UkJeidHgo50E"
      },
      "execution_count": 16,
      "outputs": []
    },
    {
      "cell_type": "code",
      "source": [
        "temp = []\n",
        "for value in hasil:\n",
        "  temp.append(value.split('. '))"
      ],
      "metadata": {
        "id": "j6_JgwUwpKhG"
      },
      "execution_count": 17,
      "outputs": []
    },
    {
      "cell_type": "code",
      "source": [
        "sentences = []\n",
        "for value in temp:\n",
        "  for item in value:\n",
        "    sentences.append(item)\n"
      ],
      "metadata": {
        "id": "Vewv1maZpePB"
      },
      "execution_count": 18,
      "outputs": []
    },
    {
      "cell_type": "code",
      "source": [
        "print(np.array(sentences))"
      ],
      "metadata": {
        "colab": {
          "base_uri": "https://localhost:8080/"
        },
        "id": "NC48CyivpzRU",
        "outputId": "bc414fda-838c-4fad-e17b-354bfe8aac4f"
      },
      "execution_count": 19,
      "outputs": [
        {
          "output_type": "stream",
          "name": "stdout",
          "text": [
            "['This Functional Requirements Specification (FRS) is intended to capture the changes infunctionality that will occur during [system name] Re-Writing effort, which is part of the xxxEnhancements project'\n",
            " 'All functionalities for the new [system name] system would bedocumented in this FRS'\n",
            " 'Any undocumented requirements will be considered out of scopeand will not be implemented during this phase of Re-Writing.'\n",
            " 'The existing functionalities in the core [system name] will remain same'\n",
            " 'This project islimited in scope to the enhancements and defects that are critical in the severity level that isthe issues that cause great burden to the system users and the enhancements in systemarchitecture, which will facilitate efficient growth of [system name] and the [company name]business, will fall under the purview of this project scope.The functional issues and requirements that will be discussed and gathered respectively aswell as validated in the Requirements Gathering and Validating Sessions started onMM/DD/YYYYwould be documented in this FRS moving forward'\n",
            " 'The project team hasdecided that system development will occur on module by module basis.']\n"
          ]
        }
      ]
    },
    {
      "cell_type": "code",
      "source": [
        "import string\n",
        "for x in range(len(sentences)):\n",
        "  sentences[x] = sentences[x].translate(str.maketrans('', '', string.punctuation))"
      ],
      "metadata": {
        "id": "fgl57DpdekWo"
      },
      "execution_count": 20,
      "outputs": []
    },
    {
      "cell_type": "code",
      "source": [
        "sentences"
      ],
      "metadata": {
        "colab": {
          "base_uri": "https://localhost:8080/"
        },
        "id": "0Df-tbPin3xa",
        "outputId": "bd0fb622-6cc2-46ce-edb8-f3be83596260"
      },
      "execution_count": 21,
      "outputs": [
        {
          "output_type": "execute_result",
          "data": {
            "text/plain": [
              "['This Functional Requirements Specification FRS is intended to capture the changes infunctionality that will occur during system name ReWriting effort which is part of the xxxEnhancements project',\n",
              " 'All functionalities for the new system name system would bedocumented in this FRS',\n",
              " 'Any undocumented requirements will be considered out of scopeand will not be implemented during this phase of ReWriting',\n",
              " 'The existing functionalities in the core system name will remain same',\n",
              " 'This project islimited in scope to the enhancements and defects that are critical in the severity level that isthe issues that cause great burden to the system users and the enhancements in systemarchitecture which will facilitate efficient growth of system name and the company namebusiness will fall under the purview of this project scopeThe functional issues and requirements that will be discussed and gathered respectively aswell as validated in the Requirements Gathering and Validating Sessions started onMMDDYYYYwould be documented in this FRS moving forward',\n",
              " 'The project team hasdecided that system development will occur on module by module basis']"
            ]
          },
          "metadata": {},
          "execution_count": 21
        }
      ]
    },
    {
      "cell_type": "code",
      "source": [
        "type(sentences[0])"
      ],
      "metadata": {
        "colab": {
          "base_uri": "https://localhost:8080/"
        },
        "id": "dsp4Eyb05vEv",
        "outputId": "e1576a3b-3e8f-4547-d426-e47fc75065b9"
      },
      "execution_count": 22,
      "outputs": [
        {
          "output_type": "execute_result",
          "data": {
            "text/plain": [
              "str"
            ]
          },
          "metadata": {},
          "execution_count": 22
        }
      ]
    },
    {
      "cell_type": "code",
      "source": [
        "!pip install stanfordnlp"
      ],
      "metadata": {
        "colab": {
          "base_uri": "https://localhost:8080/"
        },
        "id": "JlYzaUVCXIBR",
        "outputId": "32ba2328-400a-4776-d635-f8d7b6e8f860"
      },
      "execution_count": 23,
      "outputs": [
        {
          "output_type": "stream",
          "name": "stdout",
          "text": [
            "Looking in indexes: https://pypi.org/simple, https://us-python.pkg.dev/colab-wheels/public/simple/\n",
            "Collecting stanfordnlp\n",
            "  Downloading stanfordnlp-0.2.0-py3-none-any.whl (158 kB)\n",
            "\u001b[?25l     \u001b[90m━━━━━━━━━━━━━━━━━━━━━━━━━━━━━━━━━━━━━━━━\u001b[0m \u001b[32m0.0/158.8 KB\u001b[0m \u001b[31m?\u001b[0m eta \u001b[36m-:--:--\u001b[0m\r\u001b[2K     \u001b[90m━━━━━━━━━━━━━━━━━━━━━━━━━━━━━━━━━━━━━━\u001b[0m \u001b[32m158.8/158.8 KB\u001b[0m \u001b[31m12.9 MB/s\u001b[0m eta \u001b[36m0:00:00\u001b[0m\n",
            "\u001b[?25hRequirement already satisfied: torch>=1.0.0 in /usr/local/lib/python3.8/dist-packages (from stanfordnlp) (1.13.1+cu116)\n",
            "Requirement already satisfied: numpy in /usr/local/lib/python3.8/dist-packages (from stanfordnlp) (1.22.4)\n",
            "Requirement already satisfied: requests in /usr/local/lib/python3.8/dist-packages (from stanfordnlp) (2.25.1)\n",
            "Requirement already satisfied: tqdm in /usr/local/lib/python3.8/dist-packages (from stanfordnlp) (4.64.1)\n",
            "Requirement already satisfied: protobuf in /usr/local/lib/python3.8/dist-packages (from stanfordnlp) (3.19.6)\n",
            "Requirement already satisfied: typing-extensions in /usr/local/lib/python3.8/dist-packages (from torch>=1.0.0->stanfordnlp) (4.5.0)\n",
            "Requirement already satisfied: urllib3<1.27,>=1.21.1 in /usr/local/lib/python3.8/dist-packages (from requests->stanfordnlp) (1.24.3)\n",
            "Requirement already satisfied: idna<3,>=2.5 in /usr/local/lib/python3.8/dist-packages (from requests->stanfordnlp) (2.10)\n",
            "Requirement already satisfied: chardet<5,>=3.0.2 in /usr/local/lib/python3.8/dist-packages (from requests->stanfordnlp) (4.0.0)\n",
            "Requirement already satisfied: certifi>=2017.4.17 in /usr/local/lib/python3.8/dist-packages (from requests->stanfordnlp) (2022.12.7)\n",
            "Installing collected packages: stanfordnlp\n",
            "Successfully installed stanfordnlp-0.2.0\n"
          ]
        }
      ]
    },
    {
      "cell_type": "code",
      "source": [
        "import stanfordnlp"
      ],
      "metadata": {
        "id": "4kpKc7MjYFdg"
      },
      "execution_count": 24,
      "outputs": []
    },
    {
      "cell_type": "code",
      "source": [
        "# This downloads the English models for the neural pipeline\n",
        "stanfordnlp.download('en')   "
      ],
      "metadata": {
        "colab": {
          "base_uri": "https://localhost:8080/"
        },
        "id": "HHJ---E6YJ9o",
        "outputId": "2cddbcf2-e05d-4f86-c327-d5732fe849b0"
      },
      "execution_count": 25,
      "outputs": [
        {
          "output_type": "stream",
          "name": "stdout",
          "text": [
            "Using the default treebank \"en_ewt\" for language \"en\".\n",
            "Would you like to download the models for: en_ewt now? (Y/n)\n",
            "Y\n",
            "\n",
            "Default download directory: /root/stanfordnlp_resources\n",
            "Hit enter to continue or type an alternate directory.\n",
            "\n",
            "\n",
            "Downloading models for: en_ewt\n",
            "Download location: /root/stanfordnlp_resources/en_ewt_models.zip\n"
          ]
        },
        {
          "output_type": "stream",
          "name": "stderr",
          "text": [
            "100%|██████████| 235M/235M [00:40<00:00, 5.78MB/s]\n"
          ]
        },
        {
          "output_type": "stream",
          "name": "stdout",
          "text": [
            "\n",
            "Download complete.  Models saved to: /root/stanfordnlp_resources/en_ewt_models.zip\n",
            "Extracting models file for: en_ewt\n",
            "Cleaning up...Done.\n"
          ]
        }
      ]
    },
    {
      "cell_type": "code",
      "source": [
        "# This sets up a default neural pipeline in English\n",
        "nlp = stanfordnlp.Pipeline() "
      ],
      "metadata": {
        "colab": {
          "base_uri": "https://localhost:8080/"
        },
        "id": "LjYsHU18aREH",
        "outputId": "708ce1ca-4835-41f4-8a54-b7a7aaf27c61"
      },
      "execution_count": 26,
      "outputs": [
        {
          "output_type": "stream",
          "name": "stdout",
          "text": [
            "Use device: cpu\n",
            "---\n",
            "Loading: tokenize\n",
            "With settings: \n",
            "{'model_path': '/root/stanfordnlp_resources/en_ewt_models/en_ewt_tokenizer.pt', 'lang': 'en', 'shorthand': 'en_ewt', 'mode': 'predict'}\n",
            "---\n",
            "Loading: pos\n",
            "With settings: \n",
            "{'model_path': '/root/stanfordnlp_resources/en_ewt_models/en_ewt_tagger.pt', 'pretrain_path': '/root/stanfordnlp_resources/en_ewt_models/en_ewt.pretrain.pt', 'lang': 'en', 'shorthand': 'en_ewt', 'mode': 'predict'}\n",
            "---\n",
            "Loading: lemma\n",
            "With settings: \n",
            "{'model_path': '/root/stanfordnlp_resources/en_ewt_models/en_ewt_lemmatizer.pt', 'lang': 'en', 'shorthand': 'en_ewt', 'mode': 'predict'}\n",
            "Building an attentional Seq2Seq model...\n",
            "Using a Bi-LSTM encoder\n",
            "Using soft attention for LSTM.\n",
            "Finetune all embeddings.\n",
            "[Running seq2seq lemmatizer with edit classifier]\n",
            "---\n",
            "Loading: depparse\n",
            "With settings: \n",
            "{'model_path': '/root/stanfordnlp_resources/en_ewt_models/en_ewt_parser.pt', 'pretrain_path': '/root/stanfordnlp_resources/en_ewt_models/en_ewt.pretrain.pt', 'lang': 'en', 'shorthand': 'en_ewt', 'mode': 'predict'}\n",
            "Done loading processors!\n",
            "---\n"
          ]
        }
      ]
    },
    {
      "cell_type": "code",
      "source": [
        "sentences[0]"
      ],
      "metadata": {
        "colab": {
          "base_uri": "https://localhost:8080/",
          "height": 53
        },
        "id": "qQ6MAkDGa9NP",
        "outputId": "8c481118-1f9f-4d70-d4ef-8181e0ce5a22"
      },
      "execution_count": 27,
      "outputs": [
        {
          "output_type": "execute_result",
          "data": {
            "text/plain": [
              "'This Functional Requirements Specification FRS is intended to capture the changes infunctionality that will occur during system name ReWriting effort which is part of the xxxEnhancements project'"
            ],
            "application/vnd.google.colaboratory.intrinsic+json": {
              "type": "string"
            }
          },
          "metadata": {},
          "execution_count": 27
        }
      ]
    },
    {
      "cell_type": "code",
      "source": [
        "# Create a pipeline with the pos processor\n",
        "nlp = stanfordnlp.Pipeline(processors='tokenize,pos,depparse', lang='en')"
      ],
      "metadata": {
        "colab": {
          "base_uri": "https://localhost:8080/"
        },
        "id": "D5zZytUIa3y9",
        "outputId": "eb7c028a-0361-4210-b94b-8c8d77ac852e"
      },
      "execution_count": 28,
      "outputs": [
        {
          "output_type": "stream",
          "name": "stdout",
          "text": [
            "Use device: cpu\n",
            "---\n",
            "Loading: tokenize\n",
            "With settings: \n",
            "{'model_path': '/root/stanfordnlp_resources/en_ewt_models/en_ewt_tokenizer.pt', 'lang': 'en', 'shorthand': 'en_ewt', 'mode': 'predict'}\n",
            "---\n",
            "Loading: pos\n",
            "With settings: \n",
            "{'model_path': '/root/stanfordnlp_resources/en_ewt_models/en_ewt_tagger.pt', 'pretrain_path': '/root/stanfordnlp_resources/en_ewt_models/en_ewt.pretrain.pt', 'lang': 'en', 'shorthand': 'en_ewt', 'mode': 'predict'}\n",
            "---\n",
            "Loading: depparse\n",
            "With settings: \n",
            "{'model_path': '/root/stanfordnlp_resources/en_ewt_models/en_ewt_parser.pt', 'pretrain_path': '/root/stanfordnlp_resources/en_ewt_models/en_ewt.pretrain.pt', 'lang': 'en', 'shorthand': 'en_ewt', 'mode': 'predict'}\n",
            "Done loading processors!\n",
            "---\n"
          ]
        }
      ]
    },
    {
      "cell_type": "code",
      "source": [
        "# Tokenize the input sentence\n",
        "doc = nlp('I ate the spaghetti with chopsticks.')\n",
        "# Print the parse tree for each sentence\n",
        "for i, sentence in enumerate(doc.sentences):\n",
        "    print(f\"PARSE FOR SENTENCE {i+1}:\")\n",
        "    print(*[f\"index: {word.index.rjust(2)}\\tword: {word.text.ljust(11)}\\tgovernor index: {word.governor}\\tgovernor: {(sentence.words[word.governor-1].text if word.governor > 0 else 'root').ljust(11)}\\tdeprel: {word.dependency_relation}\" for word in sentence.words], sep='\\n')\n",
        "    print()"
      ],
      "metadata": {
        "colab": {
          "base_uri": "https://localhost:8080/"
        },
        "id": "8xB_JF6Vcx3F",
        "outputId": "0cadb94e-87d4-4e21-f811-28ddadca4a2a"
      },
      "execution_count": 29,
      "outputs": [
        {
          "output_type": "stream",
          "name": "stdout",
          "text": [
            "PARSE FOR SENTENCE 1:\n",
            "index:  1\tword: I          \tgovernor index: 2\tgovernor: ate        \tdeprel: nsubj\n",
            "index:  2\tword: ate        \tgovernor index: 0\tgovernor: root       \tdeprel: root\n",
            "index:  3\tword: the        \tgovernor index: 4\tgovernor: spaghetti  \tdeprel: det\n",
            "index:  4\tword: spaghetti  \tgovernor index: 2\tgovernor: ate        \tdeprel: obj\n",
            "index:  5\tword: with       \tgovernor index: 6\tgovernor: chopsticks \tdeprel: case\n",
            "index:  6\tword: chopsticks \tgovernor index: 2\tgovernor: ate        \tdeprel: obl\n",
            "index:  7\tword: .          \tgovernor index: 2\tgovernor: ate        \tdeprel: punct\n",
            "\n"
          ]
        },
        {
          "output_type": "stream",
          "name": "stderr",
          "text": [
            "/usr/local/lib/python3.8/dist-packages/stanfordnlp/models/depparse/model.py:157: UserWarning: masked_fill_ received a mask with dtype torch.uint8, this behavior is now deprecated,please use a mask with dtype torch.bool instead. (Triggered internally at ../aten/src/ATen/native/TensorAdvancedIndexing.cpp:1646.)\n",
            "  unlabeled_scores.masked_fill_(diag, -float('inf'))\n"
          ]
        }
      ]
    },
    {
      "cell_type": "code",
      "source": [
        "for x in range(len(sentences)):\n",
        "  # Tokenize the input sentence\n",
        "  doc = nlp(sentences[x])\n",
        "  # Print the parse tree for each sentence\n",
        "  for i, sentence in enumerate(doc.sentences):\n",
        "      print(f\"PARSE FOR SENTENCE {i+1}:\")\n",
        "      print(*[f\"index: {word.index.rjust(2)}\\tword: {word.text.ljust(11)}\\tgovernor index: {word.governor}\\tgovernor: {(sentence.words[word.governor-1].text if word.governor > 0 else 'root').ljust(11)}\\tdeprel: {word.dependency_relation}\" for word in sentence.words], sep='\\n')\n",
        "      print()\n",
        "      print(\"\\n\\n\")"
      ],
      "metadata": {
        "colab": {
          "base_uri": "https://localhost:8080/"
        },
        "id": "grnlDiI8dUkv",
        "outputId": "f38fcc45-2490-440c-a7ea-207dff7681d6"
      },
      "execution_count": 30,
      "outputs": [
        {
          "output_type": "stream",
          "name": "stdout",
          "text": [
            "PARSE FOR SENTENCE 1:\n",
            "index:  1\tword: This       \tgovernor index: 2\tgovernor: Functional \tdeprel: det\n",
            "index:  2\tword: Functional \tgovernor index: 0\tgovernor: root       \tdeprel: root\n",
            "\n",
            "\n",
            "\n",
            "\n",
            "PARSE FOR SENTENCE 2:\n",
            "index:  1\tword: Requirements\tgovernor index: 3\tgovernor: FRS        \tdeprel: compound\n",
            "index:  2\tword: Specification\tgovernor index: 3\tgovernor: FRS        \tdeprel: compound\n",
            "index:  3\tword: FRS        \tgovernor index: 5\tgovernor: intended   \tdeprel: nsubj:pass\n",
            "index:  4\tword: is         \tgovernor index: 5\tgovernor: intended   \tdeprel: aux:pass\n",
            "index:  5\tword: intended   \tgovernor index: 0\tgovernor: root       \tdeprel: root\n",
            "index:  6\tword: to         \tgovernor index: 7\tgovernor: capture    \tdeprel: mark\n",
            "index:  7\tword: capture    \tgovernor index: 5\tgovernor: intended   \tdeprel: xcomp\n",
            "index:  8\tword: the        \tgovernor index: 10\tgovernor: infunctionality\tdeprel: det\n",
            "index:  9\tword: changes    \tgovernor index: 10\tgovernor: infunctionality\tdeprel: compound\n",
            "index: 10\tword: infunctionality\tgovernor index: 7\tgovernor: capture    \tdeprel: obj\n",
            "index: 11\tword: that       \tgovernor index: 13\tgovernor: occur      \tdeprel: nsubj\n",
            "index: 12\tword: will       \tgovernor index: 13\tgovernor: occur      \tdeprel: aux\n",
            "index: 13\tword: occur      \tgovernor index: 10\tgovernor: infunctionality\tdeprel: acl:relcl\n",
            "index: 14\tword: during     \tgovernor index: 18\tgovernor: effort     \tdeprel: case\n",
            "index: 15\tword: system     \tgovernor index: 16\tgovernor: name       \tdeprel: compound\n",
            "index: 16\tword: name       \tgovernor index: 18\tgovernor: effort     \tdeprel: compound\n",
            "index: 17\tword: ReWriting  \tgovernor index: 18\tgovernor: effort     \tdeprel: compound\n",
            "index: 18\tword: effort     \tgovernor index: 13\tgovernor: occur      \tdeprel: obl\n",
            "index: 19\tword: which      \tgovernor index: 21\tgovernor: part       \tdeprel: nsubj\n",
            "index: 20\tword: is         \tgovernor index: 21\tgovernor: part       \tdeprel: cop\n",
            "index: 21\tword: part       \tgovernor index: 18\tgovernor: effort     \tdeprel: acl:relcl\n",
            "index: 22\tword: of         \tgovernor index: 25\tgovernor: project    \tdeprel: case\n",
            "index: 23\tword: the        \tgovernor index: 25\tgovernor: project    \tdeprel: det\n",
            "index: 24\tword: xxxEnhancements\tgovernor index: 25\tgovernor: project    \tdeprel: compound\n",
            "index: 25\tword: project    \tgovernor index: 21\tgovernor: part       \tdeprel: nmod\n",
            "\n",
            "\n",
            "\n",
            "\n",
            "PARSE FOR SENTENCE 1:\n",
            "index:  1\tword: All        \tgovernor index: 2\tgovernor: functionalities\tdeprel: det\n",
            "index:  2\tword: functionalities\tgovernor index: 10\tgovernor: bedocumented\tdeprel: nsubj\n",
            "index:  3\tword: for        \tgovernor index: 8\tgovernor: system     \tdeprel: case\n",
            "index:  4\tword: the        \tgovernor index: 8\tgovernor: system     \tdeprel: det\n",
            "index:  5\tword: new        \tgovernor index: 8\tgovernor: system     \tdeprel: amod\n",
            "index:  6\tword: system     \tgovernor index: 8\tgovernor: system     \tdeprel: compound\n",
            "index:  7\tword: name       \tgovernor index: 8\tgovernor: system     \tdeprel: compound\n",
            "index:  8\tword: system     \tgovernor index: 2\tgovernor: functionalities\tdeprel: nmod\n",
            "index:  9\tword: would      \tgovernor index: 10\tgovernor: bedocumented\tdeprel: aux\n",
            "index: 10\tword: bedocumented\tgovernor index: 0\tgovernor: root       \tdeprel: root\n",
            "index: 11\tword: in         \tgovernor index: 13\tgovernor: FRS        \tdeprel: case\n",
            "index: 12\tword: this       \tgovernor index: 13\tgovernor: FRS        \tdeprel: det\n",
            "index: 13\tword: FRS        \tgovernor index: 10\tgovernor: bedocumented\tdeprel: obl\n",
            "\n",
            "\n",
            "\n",
            "\n",
            "PARSE FOR SENTENCE 1:\n",
            "index:  1\tword: Any        \tgovernor index: 3\tgovernor: requirements\tdeprel: det\n",
            "index:  2\tword: undocumented\tgovernor index: 3\tgovernor: requirements\tdeprel: amod\n",
            "index:  3\tword: requirements\tgovernor index: 6\tgovernor: considered \tdeprel: nsubj:pass\n",
            "index:  4\tword: will       \tgovernor index: 6\tgovernor: considered \tdeprel: aux\n",
            "index:  5\tword: be         \tgovernor index: 6\tgovernor: considered \tdeprel: aux:pass\n",
            "index:  6\tword: considered \tgovernor index: 0\tgovernor: root       \tdeprel: root\n",
            "index:  7\tword: out        \tgovernor index: 9\tgovernor: scopeand   \tdeprel: case\n",
            "index:  8\tword: of         \tgovernor index: 9\tgovernor: scopeand   \tdeprel: case\n",
            "index:  9\tword: scopeand   \tgovernor index: 6\tgovernor: considered \tdeprel: obl\n",
            "index: 10\tword: will       \tgovernor index: 13\tgovernor: implemented\tdeprel: aux\n",
            "index: 11\tword: not        \tgovernor index: 13\tgovernor: implemented\tdeprel: advmod\n",
            "index: 12\tword: be         \tgovernor index: 13\tgovernor: implemented\tdeprel: aux:pass\n",
            "index: 13\tword: implemented\tgovernor index: 6\tgovernor: considered \tdeprel: conj\n",
            "index: 14\tword: during     \tgovernor index: 16\tgovernor: phase      \tdeprel: case\n",
            "index: 15\tword: this       \tgovernor index: 16\tgovernor: phase      \tdeprel: det\n",
            "index: 16\tword: phase      \tgovernor index: 13\tgovernor: implemented\tdeprel: obl\n",
            "index: 17\tword: of         \tgovernor index: 18\tgovernor: ReWriting  \tdeprel: case\n",
            "index: 18\tword: ReWriting  \tgovernor index: 16\tgovernor: phase      \tdeprel: nmod\n",
            "\n",
            "\n",
            "\n",
            "\n",
            "PARSE FOR SENTENCE 1:\n",
            "index:  1\tword: The        \tgovernor index: 3\tgovernor: functionalities\tdeprel: det\n",
            "index:  2\tword: existing   \tgovernor index: 3\tgovernor: functionalities\tdeprel: amod\n",
            "index:  3\tword: functionalities\tgovernor index: 10\tgovernor: remain     \tdeprel: nsubj\n",
            "index:  4\tword: in         \tgovernor index: 8\tgovernor: name       \tdeprel: case\n",
            "index:  5\tword: the        \tgovernor index: 8\tgovernor: name       \tdeprel: det\n",
            "index:  6\tword: core       \tgovernor index: 8\tgovernor: name       \tdeprel: amod\n",
            "index:  7\tword: system     \tgovernor index: 8\tgovernor: name       \tdeprel: compound\n",
            "index:  8\tword: name       \tgovernor index: 3\tgovernor: functionalities\tdeprel: nmod\n",
            "index:  9\tword: will       \tgovernor index: 10\tgovernor: remain     \tdeprel: aux\n",
            "index: 10\tword: remain     \tgovernor index: 0\tgovernor: root       \tdeprel: root\n",
            "index: 11\tword: same       \tgovernor index: 10\tgovernor: remain     \tdeprel: xcomp\n",
            "\n",
            "\n",
            "\n",
            "\n",
            "PARSE FOR SENTENCE 1:\n",
            "index:  1\tword: This       \tgovernor index: 2\tgovernor: project    \tdeprel: det\n",
            "index:  2\tword: project    \tgovernor index: 3\tgovernor: islimited  \tdeprel: nsubj\n",
            "index:  3\tword: islimited  \tgovernor index: 0\tgovernor: root       \tdeprel: root\n",
            "index:  4\tword: in         \tgovernor index: 5\tgovernor: scope      \tdeprel: case\n",
            "index:  5\tword: scope      \tgovernor index: 3\tgovernor: islimited  \tdeprel: obl\n",
            "index:  6\tword: to         \tgovernor index: 8\tgovernor: enhancements\tdeprel: case\n",
            "index:  7\tword: the        \tgovernor index: 8\tgovernor: enhancements\tdeprel: det\n",
            "index:  8\tword: enhancements\tgovernor index: 5\tgovernor: scope      \tdeprel: nmod\n",
            "index:  9\tword: and        \tgovernor index: 10\tgovernor: defects    \tdeprel: cc\n",
            "index: 10\tword: defects    \tgovernor index: 8\tgovernor: enhancements\tdeprel: conj\n",
            "index: 11\tword: that       \tgovernor index: 13\tgovernor: critical   \tdeprel: nsubj\n",
            "index: 12\tword: are        \tgovernor index: 13\tgovernor: critical   \tdeprel: cop\n",
            "index: 13\tword: critical   \tgovernor index: 8\tgovernor: enhancements\tdeprel: acl:relcl\n",
            "index: 14\tword: in         \tgovernor index: 17\tgovernor: level      \tdeprel: case\n",
            "index: 15\tword: the        \tgovernor index: 17\tgovernor: level      \tdeprel: det\n",
            "index: 16\tword: severity   \tgovernor index: 17\tgovernor: level      \tdeprel: compound\n",
            "index: 17\tword: level      \tgovernor index: 13\tgovernor: critical   \tdeprel: obl\n",
            "index: 18\tword: that       \tgovernor index: 19\tgovernor: isthe      \tdeprel: nsubj\n",
            "index: 19\tword: isthe      \tgovernor index: 17\tgovernor: level      \tdeprel: acl:relcl\n",
            "index: 20\tword: issues     \tgovernor index: 19\tgovernor: isthe      \tdeprel: obj\n",
            "index: 21\tword: that       \tgovernor index: 22\tgovernor: cause      \tdeprel: nsubj\n",
            "index: 22\tword: cause      \tgovernor index: 20\tgovernor: issues     \tdeprel: acl:relcl\n",
            "index: 23\tword: great      \tgovernor index: 24\tgovernor: burden     \tdeprel: amod\n",
            "index: 24\tword: burden     \tgovernor index: 22\tgovernor: cause      \tdeprel: obj\n",
            "index: 25\tword: to         \tgovernor index: 28\tgovernor: users      \tdeprel: case\n",
            "index: 26\tword: the        \tgovernor index: 28\tgovernor: users      \tdeprel: det\n",
            "index: 27\tword: system     \tgovernor index: 28\tgovernor: users      \tdeprel: compound\n",
            "index: 28\tword: users      \tgovernor index: 24\tgovernor: burden     \tdeprel: nmod\n",
            "index: 29\tword: and        \tgovernor index: 31\tgovernor: enhancements\tdeprel: cc\n",
            "index: 30\tword: the        \tgovernor index: 31\tgovernor: enhancements\tdeprel: det\n",
            "index: 31\tword: enhancements\tgovernor index: 28\tgovernor: users      \tdeprel: conj\n",
            "index: 32\tword: in         \tgovernor index: 33\tgovernor: systemarchitecture\tdeprel: case\n",
            "index: 33\tword: systemarchitecture\tgovernor index: 31\tgovernor: enhancements\tdeprel: nmod\n",
            "index: 34\tword: which      \tgovernor index: 36\tgovernor: facilitate \tdeprel: nsubj\n",
            "index: 35\tword: will       \tgovernor index: 36\tgovernor: facilitate \tdeprel: aux\n",
            "index: 36\tword: facilitate \tgovernor index: 31\tgovernor: enhancements\tdeprel: acl:relcl\n",
            "index: 37\tword: efficient  \tgovernor index: 38\tgovernor: growth     \tdeprel: amod\n",
            "index: 38\tword: growth     \tgovernor index: 36\tgovernor: facilitate \tdeprel: obj\n",
            "index: 39\tword: of         \tgovernor index: 41\tgovernor: name       \tdeprel: case\n",
            "index: 40\tword: system     \tgovernor index: 41\tgovernor: name       \tdeprel: compound\n",
            "index: 41\tword: name       \tgovernor index: 38\tgovernor: growth     \tdeprel: nmod\n",
            "index: 42\tword: and        \tgovernor index: 47\tgovernor: fall       \tdeprel: cc\n",
            "index: 43\tword: the        \tgovernor index: 45\tgovernor: namebusiness\tdeprel: det\n",
            "index: 44\tword: company    \tgovernor index: 45\tgovernor: namebusiness\tdeprel: compound\n",
            "index: 45\tword: namebusiness\tgovernor index: 47\tgovernor: fall       \tdeprel: nsubj\n",
            "index: 46\tword: will       \tgovernor index: 47\tgovernor: fall       \tdeprel: aux\n",
            "index: 47\tword: fall       \tgovernor index: 36\tgovernor: facilitate \tdeprel: conj\n",
            "index: 48\tword: under      \tgovernor index: 50\tgovernor: purview    \tdeprel: case\n",
            "index: 49\tword: the        \tgovernor index: 50\tgovernor: purview    \tdeprel: det\n",
            "index: 50\tword: purview    \tgovernor index: 47\tgovernor: fall       \tdeprel: obl\n",
            "index: 51\tword: of         \tgovernor index: 54\tgovernor: scope      \tdeprel: case\n",
            "index: 52\tword: this       \tgovernor index: 54\tgovernor: scope      \tdeprel: det\n",
            "index: 53\tword: project    \tgovernor index: 54\tgovernor: scope      \tdeprel: compound\n",
            "index: 54\tword: scope      \tgovernor index: 50\tgovernor: purview    \tdeprel: nmod\n",
            "\n",
            "\n",
            "\n",
            "\n",
            "PARSE FOR SENTENCE 2:\n",
            "index:  1\tword: The        \tgovernor index: 3\tgovernor: issues     \tdeprel: det\n",
            "index:  2\tword: functional \tgovernor index: 3\tgovernor: issues     \tdeprel: amod\n",
            "index:  3\tword: issues     \tgovernor index: 27\tgovernor: documented \tdeprel: nsubj:pass\n",
            "index:  4\tword: and        \tgovernor index: 5\tgovernor: requirements\tdeprel: cc\n",
            "index:  5\tword: requirements\tgovernor index: 3\tgovernor: issues     \tdeprel: conj\n",
            "index:  6\tword: that       \tgovernor index: 9\tgovernor: discussed  \tdeprel: nsubj:pass\n",
            "index:  7\tword: will       \tgovernor index: 9\tgovernor: discussed  \tdeprel: aux\n",
            "index:  8\tword: be         \tgovernor index: 9\tgovernor: discussed  \tdeprel: aux:pass\n",
            "index:  9\tword: discussed  \tgovernor index: 3\tgovernor: issues     \tdeprel: acl:relcl\n",
            "index: 10\tword: and        \tgovernor index: 11\tgovernor: gathered   \tdeprel: cc\n",
            "index: 11\tword: gathered   \tgovernor index: 9\tgovernor: discussed  \tdeprel: conj\n",
            "index: 12\tword: respectively\tgovernor index: 11\tgovernor: gathered   \tdeprel: advmod\n",
            "index: 13\tword: aswell     \tgovernor index: 9\tgovernor: discussed  \tdeprel: advmod\n",
            "index: 14\tword: as         \tgovernor index: 15\tgovernor: validated  \tdeprel: mark\n",
            "index: 15\tword: validated  \tgovernor index: 11\tgovernor: gathered   \tdeprel: advcl\n",
            "index: 16\tword: in         \tgovernor index: 18\tgovernor: Requirements\tdeprel: case\n",
            "index: 17\tword: the        \tgovernor index: 18\tgovernor: Requirements\tdeprel: det\n",
            "index: 18\tword: Requirements\tgovernor index: 15\tgovernor: validated  \tdeprel: obl\n",
            "index: 19\tword: Gathering  \tgovernor index: 15\tgovernor: validated  \tdeprel: obl\n",
            "index: 20\tword: and        \tgovernor index: 21\tgovernor: Validating \tdeprel: cc\n",
            "index: 21\tword: Validating \tgovernor index: 15\tgovernor: validated  \tdeprel: conj\n",
            "index: 22\tword: Sessions   \tgovernor index: 21\tgovernor: Validating \tdeprel: obj\n",
            "index: 23\tword: started    \tgovernor index: 22\tgovernor: Sessions   \tdeprel: acl\n",
            "index: 24\tword: on         \tgovernor index: 25\tgovernor: MMDDYYYYwould\tdeprel: case\n",
            "index: 25\tword: MMDDYYYYwould\tgovernor index: 23\tgovernor: started    \tdeprel: obl\n",
            "index: 26\tword: be         \tgovernor index: 27\tgovernor: documented \tdeprel: aux:pass\n",
            "index: 27\tword: documented \tgovernor index: 0\tgovernor: root       \tdeprel: root\n",
            "index: 28\tword: in         \tgovernor index: 30\tgovernor: FRS        \tdeprel: case\n",
            "index: 29\tword: this       \tgovernor index: 30\tgovernor: FRS        \tdeprel: det\n",
            "index: 30\tword: FRS        \tgovernor index: 27\tgovernor: documented \tdeprel: obl\n",
            "index: 31\tword: moving     \tgovernor index: 27\tgovernor: documented \tdeprel: obl\n",
            "index: 32\tword: forward    \tgovernor index: 31\tgovernor: moving     \tdeprel: advmod\n",
            "\n",
            "\n",
            "\n",
            "\n",
            "PARSE FOR SENTENCE 1:\n",
            "index:  1\tword: The        \tgovernor index: 3\tgovernor: team       \tdeprel: det\n",
            "index:  2\tword: project    \tgovernor index: 3\tgovernor: team       \tdeprel: compound\n",
            "index:  3\tword: team       \tgovernor index: 4\tgovernor: hasdecided \tdeprel: nsubj\n",
            "index:  4\tword: hasdecided \tgovernor index: 0\tgovernor: root       \tdeprel: root\n",
            "index:  5\tword: that       \tgovernor index: 9\tgovernor: occur      \tdeprel: mark\n",
            "index:  6\tword: system     \tgovernor index: 7\tgovernor: development\tdeprel: compound\n",
            "index:  7\tword: development\tgovernor index: 9\tgovernor: occur      \tdeprel: nsubj\n",
            "index:  8\tword: will       \tgovernor index: 9\tgovernor: occur      \tdeprel: aux\n",
            "index:  9\tword: occur      \tgovernor index: 4\tgovernor: hasdecided \tdeprel: ccomp\n",
            "index: 10\tword: on         \tgovernor index: 11\tgovernor: module     \tdeprel: case\n",
            "index: 11\tword: module     \tgovernor index: 9\tgovernor: occur      \tdeprel: obl\n",
            "index: 12\tword: by         \tgovernor index: 14\tgovernor: basis      \tdeprel: case\n",
            "index: 13\tword: module     \tgovernor index: 14\tgovernor: basis      \tdeprel: compound\n",
            "index: 14\tword: basis      \tgovernor index: 9\tgovernor: occur      \tdeprel: obl\n",
            "\n",
            "\n",
            "\n",
            "\n"
          ]
        }
      ]
    },
    {
      "cell_type": "code",
      "source": [],
      "metadata": {
        "id": "_wGHXoH3djVo"
      },
      "execution_count": 30,
      "outputs": []
    }
  ]
}