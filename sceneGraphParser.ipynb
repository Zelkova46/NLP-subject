{
  "nbformat": 4,
  "nbformat_minor": 0,
  "metadata": {
    "colab": {
      "provenance": [],
      "authorship_tag": "ABX9TyOhl/ss+irCym4bpOzEVG6v",
      "include_colab_link": true
    },
    "kernelspec": {
      "name": "python3",
      "display_name": "Python 3"
    },
    "language_info": {
      "name": "python"
    }
  },
  "cells": [
    {
      "cell_type": "markdown",
      "metadata": {
        "id": "view-in-github",
        "colab_type": "text"
      },
      "source": [
        "<a href=\"https://colab.research.google.com/github/Zelkova46/NLP-subject/blob/main/sceneGraphParser.ipynb\" target=\"_parent\"><img src=\"https://colab.research.google.com/assets/colab-badge.svg\" alt=\"Open In Colab\"/></a>"
      ]
    },
    {
      "cell_type": "markdown",
      "source": [
        "sumber : https://github.com/vacancy/SceneGraphParser"
      ],
      "metadata": {
        "id": "lUVN9OklAe1H"
      }
    },
    {
      "cell_type": "markdown",
      "source": [
        "dependency parsing"
      ],
      "metadata": {
        "id": "6Kki4yaGR2oC"
      }
    },
    {
      "cell_type": "code",
      "execution_count": 1,
      "metadata": {
        "colab": {
          "base_uri": "https://localhost:8080/"
        },
        "id": "K6AwPPx6ACix",
        "outputId": "0552130a-2bb2-4575-9038-9585af390669"
      },
      "outputs": [
        {
          "output_type": "stream",
          "name": "stdout",
          "text": [
            "Looking in indexes: https://pypi.org/simple, https://us-python.pkg.dev/colab-wheels/public/simple/\n",
            "Collecting SceneGraphParser\n",
            "  Downloading SceneGraphParser-0.1.0-py3-none-any.whl (19 kB)\n",
            "Requirement already satisfied: spacy>=3.2.0 in /usr/local/lib/python3.8/dist-packages (from SceneGraphParser) (3.4.4)\n",
            "Requirement already satisfied: tabulate>=0.8.9 in /usr/local/lib/python3.8/dist-packages (from SceneGraphParser) (0.8.10)\n",
            "Requirement already satisfied: cymem<2.1.0,>=2.0.2 in /usr/local/lib/python3.8/dist-packages (from spacy>=3.2.0->SceneGraphParser) (2.0.7)\n",
            "Requirement already satisfied: thinc<8.2.0,>=8.1.0 in /usr/local/lib/python3.8/dist-packages (from spacy>=3.2.0->SceneGraphParser) (8.1.7)\n",
            "Requirement already satisfied: requests<3.0.0,>=2.13.0 in /usr/local/lib/python3.8/dist-packages (from spacy>=3.2.0->SceneGraphParser) (2.25.1)\n",
            "Requirement already satisfied: pydantic!=1.8,!=1.8.1,<1.11.0,>=1.7.4 in /usr/local/lib/python3.8/dist-packages (from spacy>=3.2.0->SceneGraphParser) (1.10.5)\n",
            "Requirement already satisfied: smart-open<7.0.0,>=5.2.1 in /usr/local/lib/python3.8/dist-packages (from spacy>=3.2.0->SceneGraphParser) (6.3.0)\n",
            "Requirement already satisfied: langcodes<4.0.0,>=3.2.0 in /usr/local/lib/python3.8/dist-packages (from spacy>=3.2.0->SceneGraphParser) (3.3.0)\n",
            "Requirement already satisfied: packaging>=20.0 in /usr/local/lib/python3.8/dist-packages (from spacy>=3.2.0->SceneGraphParser) (23.0)\n",
            "Requirement already satisfied: numpy>=1.15.0 in /usr/local/lib/python3.8/dist-packages (from spacy>=3.2.0->SceneGraphParser) (1.22.4)\n",
            "Requirement already satisfied: setuptools in /usr/local/lib/python3.8/dist-packages (from spacy>=3.2.0->SceneGraphParser) (57.4.0)\n",
            "Requirement already satisfied: spacy-loggers<2.0.0,>=1.0.0 in /usr/local/lib/python3.8/dist-packages (from spacy>=3.2.0->SceneGraphParser) (1.0.4)\n",
            "Requirement already satisfied: srsly<3.0.0,>=2.4.3 in /usr/local/lib/python3.8/dist-packages (from spacy>=3.2.0->SceneGraphParser) (2.4.5)\n",
            "Requirement already satisfied: pathy>=0.3.5 in /usr/local/lib/python3.8/dist-packages (from spacy>=3.2.0->SceneGraphParser) (0.10.1)\n",
            "Requirement already satisfied: spacy-legacy<3.1.0,>=3.0.10 in /usr/local/lib/python3.8/dist-packages (from spacy>=3.2.0->SceneGraphParser) (3.0.12)\n",
            "Requirement already satisfied: murmurhash<1.1.0,>=0.28.0 in /usr/local/lib/python3.8/dist-packages (from spacy>=3.2.0->SceneGraphParser) (1.0.9)\n",
            "Requirement already satisfied: typer<0.8.0,>=0.3.0 in /usr/local/lib/python3.8/dist-packages (from spacy>=3.2.0->SceneGraphParser) (0.7.0)\n",
            "Requirement already satisfied: wasabi<1.1.0,>=0.9.1 in /usr/local/lib/python3.8/dist-packages (from spacy>=3.2.0->SceneGraphParser) (0.10.1)\n",
            "Requirement already satisfied: preshed<3.1.0,>=3.0.2 in /usr/local/lib/python3.8/dist-packages (from spacy>=3.2.0->SceneGraphParser) (3.0.8)\n",
            "Requirement already satisfied: catalogue<2.1.0,>=2.0.6 in /usr/local/lib/python3.8/dist-packages (from spacy>=3.2.0->SceneGraphParser) (2.0.8)\n",
            "Requirement already satisfied: jinja2 in /usr/local/lib/python3.8/dist-packages (from spacy>=3.2.0->SceneGraphParser) (2.11.3)\n",
            "Requirement already satisfied: tqdm<5.0.0,>=4.38.0 in /usr/local/lib/python3.8/dist-packages (from spacy>=3.2.0->SceneGraphParser) (4.64.1)\n",
            "Requirement already satisfied: typing-extensions>=4.2.0 in /usr/local/lib/python3.8/dist-packages (from pydantic!=1.8,!=1.8.1,<1.11.0,>=1.7.4->spacy>=3.2.0->SceneGraphParser) (4.5.0)\n",
            "Requirement already satisfied: chardet<5,>=3.0.2 in /usr/local/lib/python3.8/dist-packages (from requests<3.0.0,>=2.13.0->spacy>=3.2.0->SceneGraphParser) (4.0.0)\n",
            "Requirement already satisfied: idna<3,>=2.5 in /usr/local/lib/python3.8/dist-packages (from requests<3.0.0,>=2.13.0->spacy>=3.2.0->SceneGraphParser) (2.10)\n",
            "Requirement already satisfied: urllib3<1.27,>=1.21.1 in /usr/local/lib/python3.8/dist-packages (from requests<3.0.0,>=2.13.0->spacy>=3.2.0->SceneGraphParser) (1.24.3)\n",
            "Requirement already satisfied: certifi>=2017.4.17 in /usr/local/lib/python3.8/dist-packages (from requests<3.0.0,>=2.13.0->spacy>=3.2.0->SceneGraphParser) (2022.12.7)\n",
            "Requirement already satisfied: confection<1.0.0,>=0.0.1 in /usr/local/lib/python3.8/dist-packages (from thinc<8.2.0,>=8.1.0->spacy>=3.2.0->SceneGraphParser) (0.0.4)\n",
            "Requirement already satisfied: blis<0.8.0,>=0.7.8 in /usr/local/lib/python3.8/dist-packages (from thinc<8.2.0,>=8.1.0->spacy>=3.2.0->SceneGraphParser) (0.7.9)\n",
            "Requirement already satisfied: click<9.0.0,>=7.1.1 in /usr/local/lib/python3.8/dist-packages (from typer<0.8.0,>=0.3.0->spacy>=3.2.0->SceneGraphParser) (7.1.2)\n",
            "Requirement already satisfied: MarkupSafe>=0.23 in /usr/local/lib/python3.8/dist-packages (from jinja2->spacy>=3.2.0->SceneGraphParser) (2.0.1)\n",
            "Installing collected packages: SceneGraphParser\n",
            "Successfully installed SceneGraphParser-0.1.0\n"
          ]
        }
      ],
      "source": [
        "!pip install SceneGraphParser"
      ]
    },
    {
      "cell_type": "markdown",
      "source": [
        "parser bahasa inggris "
      ],
      "metadata": {
        "id": "n939KLbXSdfM"
      }
    },
    {
      "cell_type": "code",
      "source": [
        "!python -m spacy download en_core_web_sm"
      ],
      "metadata": {
        "colab": {
          "base_uri": "https://localhost:8080/"
        },
        "id": "bcWIm8VhSP-d",
        "outputId": "026d72b7-e952-4b27-f736-61ab17599ef1"
      },
      "execution_count": 2,
      "outputs": [
        {
          "output_type": "stream",
          "name": "stdout",
          "text": [
            "/usr/local/lib/python3.8/dist-packages/torch/cuda/__init__.py:497: UserWarning: Can't initialize NVML\n",
            "  warnings.warn(\"Can't initialize NVML\")\n",
            "2023-02-23 09:09:46.982221: I tensorflow/core/platform/cpu_feature_guard.cc:193] This TensorFlow binary is optimized with oneAPI Deep Neural Network Library (oneDNN) to use the following CPU instructions in performance-critical operations:  AVX2 FMA\n",
            "To enable them in other operations, rebuild TensorFlow with the appropriate compiler flags.\n",
            "2023-02-23 09:09:48.117283: W tensorflow/compiler/xla/stream_executor/platform/default/dso_loader.cc:64] Could not load dynamic library 'libnvinfer.so.7'; dlerror: libnvinfer.so.7: cannot open shared object file: No such file or directory; LD_LIBRARY_PATH: /usr/local/nvidia/lib:/usr/local/nvidia/lib64\n",
            "2023-02-23 09:09:48.117426: W tensorflow/compiler/xla/stream_executor/platform/default/dso_loader.cc:64] Could not load dynamic library 'libnvinfer_plugin.so.7'; dlerror: libnvinfer_plugin.so.7: cannot open shared object file: No such file or directory; LD_LIBRARY_PATH: /usr/local/nvidia/lib:/usr/local/nvidia/lib64\n",
            "2023-02-23 09:09:48.117448: W tensorflow/compiler/tf2tensorrt/utils/py_utils.cc:38] TF-TRT Warning: Cannot dlopen some TensorRT libraries. If you would like to use Nvidia GPU with TensorRT, please make sure the missing libraries mentioned above are installed properly.\n",
            "2023-02-23 09:09:50.442952: E tensorflow/compiler/xla/stream_executor/cuda/cuda_driver.cc:267] failed call to cuInit: CUDA_ERROR_NO_DEVICE: no CUDA-capable device is detected\n",
            "Looking in indexes: https://pypi.org/simple, https://us-python.pkg.dev/colab-wheels/public/simple/\n",
            "Collecting en-core-web-sm==3.4.1\n",
            "  Downloading https://github.com/explosion/spacy-models/releases/download/en_core_web_sm-3.4.1/en_core_web_sm-3.4.1-py3-none-any.whl (12.8 MB)\n",
            "\u001b[2K     \u001b[90m━━━━━━━━━━━━━━━━━━━━━━━━━━━━━━━━━━━━━━━━\u001b[0m \u001b[32m12.8/12.8 MB\u001b[0m \u001b[31m42.1 MB/s\u001b[0m eta \u001b[36m0:00:00\u001b[0m\n",
            "\u001b[?25hRequirement already satisfied: spacy<3.5.0,>=3.4.0 in /usr/local/lib/python3.8/dist-packages (from en-core-web-sm==3.4.1) (3.4.4)\n",
            "Requirement already satisfied: tqdm<5.0.0,>=4.38.0 in /usr/local/lib/python3.8/dist-packages (from spacy<3.5.0,>=3.4.0->en-core-web-sm==3.4.1) (4.64.1)\n",
            "Requirement already satisfied: packaging>=20.0 in /usr/local/lib/python3.8/dist-packages (from spacy<3.5.0,>=3.4.0->en-core-web-sm==3.4.1) (23.0)\n",
            "Requirement already satisfied: catalogue<2.1.0,>=2.0.6 in /usr/local/lib/python3.8/dist-packages (from spacy<3.5.0,>=3.4.0->en-core-web-sm==3.4.1) (2.0.8)\n",
            "Requirement already satisfied: langcodes<4.0.0,>=3.2.0 in /usr/local/lib/python3.8/dist-packages (from spacy<3.5.0,>=3.4.0->en-core-web-sm==3.4.1) (3.3.0)\n",
            "Requirement already satisfied: pathy>=0.3.5 in /usr/local/lib/python3.8/dist-packages (from spacy<3.5.0,>=3.4.0->en-core-web-sm==3.4.1) (0.10.1)\n",
            "Requirement already satisfied: setuptools in /usr/local/lib/python3.8/dist-packages (from spacy<3.5.0,>=3.4.0->en-core-web-sm==3.4.1) (57.4.0)\n",
            "Requirement already satisfied: murmurhash<1.1.0,>=0.28.0 in /usr/local/lib/python3.8/dist-packages (from spacy<3.5.0,>=3.4.0->en-core-web-sm==3.4.1) (1.0.9)\n",
            "Requirement already satisfied: spacy-loggers<2.0.0,>=1.0.0 in /usr/local/lib/python3.8/dist-packages (from spacy<3.5.0,>=3.4.0->en-core-web-sm==3.4.1) (1.0.4)\n",
            "Requirement already satisfied: numpy>=1.15.0 in /usr/local/lib/python3.8/dist-packages (from spacy<3.5.0,>=3.4.0->en-core-web-sm==3.4.1) (1.22.4)\n",
            "Requirement already satisfied: thinc<8.2.0,>=8.1.0 in /usr/local/lib/python3.8/dist-packages (from spacy<3.5.0,>=3.4.0->en-core-web-sm==3.4.1) (8.1.7)\n",
            "Requirement already satisfied: preshed<3.1.0,>=3.0.2 in /usr/local/lib/python3.8/dist-packages (from spacy<3.5.0,>=3.4.0->en-core-web-sm==3.4.1) (3.0.8)\n",
            "Requirement already satisfied: requests<3.0.0,>=2.13.0 in /usr/local/lib/python3.8/dist-packages (from spacy<3.5.0,>=3.4.0->en-core-web-sm==3.4.1) (2.25.1)\n",
            "Requirement already satisfied: pydantic!=1.8,!=1.8.1,<1.11.0,>=1.7.4 in /usr/local/lib/python3.8/dist-packages (from spacy<3.5.0,>=3.4.0->en-core-web-sm==3.4.1) (1.10.5)\n",
            "Requirement already satisfied: wasabi<1.1.0,>=0.9.1 in /usr/local/lib/python3.8/dist-packages (from spacy<3.5.0,>=3.4.0->en-core-web-sm==3.4.1) (0.10.1)\n",
            "Requirement already satisfied: typer<0.8.0,>=0.3.0 in /usr/local/lib/python3.8/dist-packages (from spacy<3.5.0,>=3.4.0->en-core-web-sm==3.4.1) (0.7.0)\n",
            "Requirement already satisfied: spacy-legacy<3.1.0,>=3.0.10 in /usr/local/lib/python3.8/dist-packages (from spacy<3.5.0,>=3.4.0->en-core-web-sm==3.4.1) (3.0.12)\n",
            "Requirement already satisfied: smart-open<7.0.0,>=5.2.1 in /usr/local/lib/python3.8/dist-packages (from spacy<3.5.0,>=3.4.0->en-core-web-sm==3.4.1) (6.3.0)\n",
            "Requirement already satisfied: cymem<2.1.0,>=2.0.2 in /usr/local/lib/python3.8/dist-packages (from spacy<3.5.0,>=3.4.0->en-core-web-sm==3.4.1) (2.0.7)\n",
            "Requirement already satisfied: jinja2 in /usr/local/lib/python3.8/dist-packages (from spacy<3.5.0,>=3.4.0->en-core-web-sm==3.4.1) (2.11.3)\n",
            "Requirement already satisfied: srsly<3.0.0,>=2.4.3 in /usr/local/lib/python3.8/dist-packages (from spacy<3.5.0,>=3.4.0->en-core-web-sm==3.4.1) (2.4.5)\n",
            "Requirement already satisfied: typing-extensions>=4.2.0 in /usr/local/lib/python3.8/dist-packages (from pydantic!=1.8,!=1.8.1,<1.11.0,>=1.7.4->spacy<3.5.0,>=3.4.0->en-core-web-sm==3.4.1) (4.5.0)\n",
            "Requirement already satisfied: urllib3<1.27,>=1.21.1 in /usr/local/lib/python3.8/dist-packages (from requests<3.0.0,>=2.13.0->spacy<3.5.0,>=3.4.0->en-core-web-sm==3.4.1) (1.24.3)\n",
            "Requirement already satisfied: certifi>=2017.4.17 in /usr/local/lib/python3.8/dist-packages (from requests<3.0.0,>=2.13.0->spacy<3.5.0,>=3.4.0->en-core-web-sm==3.4.1) (2022.12.7)\n",
            "Requirement already satisfied: idna<3,>=2.5 in /usr/local/lib/python3.8/dist-packages (from requests<3.0.0,>=2.13.0->spacy<3.5.0,>=3.4.0->en-core-web-sm==3.4.1) (2.10)\n",
            "Requirement already satisfied: chardet<5,>=3.0.2 in /usr/local/lib/python3.8/dist-packages (from requests<3.0.0,>=2.13.0->spacy<3.5.0,>=3.4.0->en-core-web-sm==3.4.1) (4.0.0)\n",
            "Requirement already satisfied: confection<1.0.0,>=0.0.1 in /usr/local/lib/python3.8/dist-packages (from thinc<8.2.0,>=8.1.0->spacy<3.5.0,>=3.4.0->en-core-web-sm==3.4.1) (0.0.4)\n",
            "Requirement already satisfied: blis<0.8.0,>=0.7.8 in /usr/local/lib/python3.8/dist-packages (from thinc<8.2.0,>=8.1.0->spacy<3.5.0,>=3.4.0->en-core-web-sm==3.4.1) (0.7.9)\n",
            "Requirement already satisfied: click<9.0.0,>=7.1.1 in /usr/local/lib/python3.8/dist-packages (from typer<0.8.0,>=0.3.0->spacy<3.5.0,>=3.4.0->en-core-web-sm==3.4.1) (7.1.2)\n",
            "Requirement already satisfied: MarkupSafe>=0.23 in /usr/local/lib/python3.8/dist-packages (from jinja2->spacy<3.5.0,>=3.4.0->en-core-web-sm==3.4.1) (2.0.1)\n",
            "\u001b[38;5;2m✔ Download and installation successful\u001b[0m\n",
            "You can now load the package via spacy.load('en_core_web_sm')\n"
          ]
        }
      ]
    },
    {
      "cell_type": "code",
      "source": [
        "!pip install spacy"
      ],
      "metadata": {
        "colab": {
          "base_uri": "https://localhost:8080/"
        },
        "id": "SbueSrsLSrPg",
        "outputId": "61ba0831-be9f-4115-c0b2-a3905dc13910"
      },
      "execution_count": 3,
      "outputs": [
        {
          "output_type": "stream",
          "name": "stdout",
          "text": [
            "Looking in indexes: https://pypi.org/simple, https://us-python.pkg.dev/colab-wheels/public/simple/\n",
            "Requirement already satisfied: spacy in /usr/local/lib/python3.8/dist-packages (3.4.4)\n",
            "Requirement already satisfied: murmurhash<1.1.0,>=0.28.0 in /usr/local/lib/python3.8/dist-packages (from spacy) (1.0.9)\n",
            "Requirement already satisfied: cymem<2.1.0,>=2.0.2 in /usr/local/lib/python3.8/dist-packages (from spacy) (2.0.7)\n",
            "Requirement already satisfied: packaging>=20.0 in /usr/local/lib/python3.8/dist-packages (from spacy) (23.0)\n",
            "Requirement already satisfied: langcodes<4.0.0,>=3.2.0 in /usr/local/lib/python3.8/dist-packages (from spacy) (3.3.0)\n",
            "Requirement already satisfied: pathy>=0.3.5 in /usr/local/lib/python3.8/dist-packages (from spacy) (0.10.1)\n",
            "Requirement already satisfied: spacy-legacy<3.1.0,>=3.0.10 in /usr/local/lib/python3.8/dist-packages (from spacy) (3.0.12)\n",
            "Requirement already satisfied: spacy-loggers<2.0.0,>=1.0.0 in /usr/local/lib/python3.8/dist-packages (from spacy) (1.0.4)\n",
            "Requirement already satisfied: thinc<8.2.0,>=8.1.0 in /usr/local/lib/python3.8/dist-packages (from spacy) (8.1.7)\n",
            "Requirement already satisfied: preshed<3.1.0,>=3.0.2 in /usr/local/lib/python3.8/dist-packages (from spacy) (3.0.8)\n",
            "Requirement already satisfied: wasabi<1.1.0,>=0.9.1 in /usr/local/lib/python3.8/dist-packages (from spacy) (0.10.1)\n",
            "Requirement already satisfied: srsly<3.0.0,>=2.4.3 in /usr/local/lib/python3.8/dist-packages (from spacy) (2.4.5)\n",
            "Requirement already satisfied: pydantic!=1.8,!=1.8.1,<1.11.0,>=1.7.4 in /usr/local/lib/python3.8/dist-packages (from spacy) (1.10.5)\n",
            "Requirement already satisfied: typer<0.8.0,>=0.3.0 in /usr/local/lib/python3.8/dist-packages (from spacy) (0.7.0)\n",
            "Requirement already satisfied: requests<3.0.0,>=2.13.0 in /usr/local/lib/python3.8/dist-packages (from spacy) (2.25.1)\n",
            "Requirement already satisfied: smart-open<7.0.0,>=5.2.1 in /usr/local/lib/python3.8/dist-packages (from spacy) (6.3.0)\n",
            "Requirement already satisfied: tqdm<5.0.0,>=4.38.0 in /usr/local/lib/python3.8/dist-packages (from spacy) (4.64.1)\n",
            "Requirement already satisfied: numpy>=1.15.0 in /usr/local/lib/python3.8/dist-packages (from spacy) (1.22.4)\n",
            "Requirement already satisfied: setuptools in /usr/local/lib/python3.8/dist-packages (from spacy) (57.4.0)\n",
            "Requirement already satisfied: catalogue<2.1.0,>=2.0.6 in /usr/local/lib/python3.8/dist-packages (from spacy) (2.0.8)\n",
            "Requirement already satisfied: jinja2 in /usr/local/lib/python3.8/dist-packages (from spacy) (2.11.3)\n",
            "Requirement already satisfied: typing-extensions>=4.2.0 in /usr/local/lib/python3.8/dist-packages (from pydantic!=1.8,!=1.8.1,<1.11.0,>=1.7.4->spacy) (4.5.0)\n",
            "Requirement already satisfied: urllib3<1.27,>=1.21.1 in /usr/local/lib/python3.8/dist-packages (from requests<3.0.0,>=2.13.0->spacy) (1.24.3)\n",
            "Requirement already satisfied: certifi>=2017.4.17 in /usr/local/lib/python3.8/dist-packages (from requests<3.0.0,>=2.13.0->spacy) (2022.12.7)\n",
            "Requirement already satisfied: chardet<5,>=3.0.2 in /usr/local/lib/python3.8/dist-packages (from requests<3.0.0,>=2.13.0->spacy) (4.0.0)\n",
            "Requirement already satisfied: idna<3,>=2.5 in /usr/local/lib/python3.8/dist-packages (from requests<3.0.0,>=2.13.0->spacy) (2.10)\n",
            "Requirement already satisfied: blis<0.8.0,>=0.7.8 in /usr/local/lib/python3.8/dist-packages (from thinc<8.2.0,>=8.1.0->spacy) (0.7.9)\n",
            "Requirement already satisfied: confection<1.0.0,>=0.0.1 in /usr/local/lib/python3.8/dist-packages (from thinc<8.2.0,>=8.1.0->spacy) (0.0.4)\n",
            "Requirement already satisfied: click<9.0.0,>=7.1.1 in /usr/local/lib/python3.8/dist-packages (from typer<0.8.0,>=0.3.0->spacy) (7.1.2)\n",
            "Requirement already satisfied: MarkupSafe>=0.23 in /usr/local/lib/python3.8/dist-packages (from jinja2->spacy) (2.0.1)\n"
          ]
        }
      ]
    },
    {
      "cell_type": "code",
      "source": [],
      "metadata": {
        "id": "dYFg5UK9SxZS"
      },
      "execution_count": 3,
      "outputs": []
    },
    {
      "cell_type": "code",
      "source": [],
      "metadata": {
        "id": "fG_nuGdMTFhq"
      },
      "execution_count": 3,
      "outputs": []
    },
    {
      "cell_type": "markdown",
      "source": [
        "## import dataset"
      ],
      "metadata": {
        "id": "KHtURl1n40dW"
      }
    },
    {
      "cell_type": "code",
      "source": [
        "!pip install xmltodict"
      ],
      "metadata": {
        "colab": {
          "base_uri": "https://localhost:8080/"
        },
        "id": "oABRUIE940K-",
        "outputId": "f2a6640a-fbe6-446d-b8e2-002b00baa8d3"
      },
      "execution_count": 4,
      "outputs": [
        {
          "output_type": "stream",
          "name": "stdout",
          "text": [
            "Looking in indexes: https://pypi.org/simple, https://us-python.pkg.dev/colab-wheels/public/simple/\n",
            "Collecting xmltodict\n",
            "  Downloading xmltodict-0.13.0-py2.py3-none-any.whl (10.0 kB)\n",
            "Installing collected packages: xmltodict\n",
            "Successfully installed xmltodict-0.13.0\n"
          ]
        }
      ]
    },
    {
      "cell_type": "code",
      "source": [
        "import csv\n",
        "import xmltodict\n",
        "import numpy as np\n",
        "import nltk\n",
        "nltk.download('punkt')\n",
        "nltk.download('averaged_perceptron_tagger')"
      ],
      "metadata": {
        "colab": {
          "base_uri": "https://localhost:8080/"
        },
        "id": "hGzSwLR845ph",
        "outputId": "8540fca2-18fc-409c-c34d-65fcb60c4388"
      },
      "execution_count": 5,
      "outputs": [
        {
          "output_type": "stream",
          "name": "stderr",
          "text": [
            "[nltk_data] Downloading package punkt to /root/nltk_data...\n",
            "[nltk_data]   Unzipping tokenizers/punkt.zip.\n",
            "[nltk_data] Downloading package averaged_perceptron_tagger to\n",
            "[nltk_data]     /root/nltk_data...\n",
            "[nltk_data]   Unzipping taggers/averaged_perceptron_tagger.zip.\n"
          ]
        },
        {
          "output_type": "execute_result",
          "data": {
            "text/plain": [
              "True"
            ]
          },
          "metadata": {},
          "execution_count": 5
        }
      ]
    },
    {
      "cell_type": "code",
      "source": [],
      "metadata": {
        "id": "mZMhIQW25GTf"
      },
      "execution_count": 5,
      "outputs": []
    },
    {
      "cell_type": "code",
      "source": [
        "with open(\"/content/2010-blitdraft.xml\", \"r\") as file:\n",
        "  filedata = file.read()\n",
        "\n",
        "\n",
        "#convverting xml to python dictionary (ordered dict)\n",
        "data_dict = xmltodict.parse(filedata)"
      ],
      "metadata": {
        "id": "MOm-WG9em29p"
      },
      "execution_count": 6,
      "outputs": []
    },
    {
      "cell_type": "code",
      "source": [
        "data_dict.keys()"
      ],
      "metadata": {
        "colab": {
          "base_uri": "https://localhost:8080/"
        },
        "id": "9lye4FyinQDE",
        "outputId": "c8e855bd-5c9e-4b60-b6d7-4b6715b84c82"
      },
      "execution_count": 7,
      "outputs": [
        {
          "output_type": "execute_result",
          "data": {
            "text/plain": [
              "dict_keys(['req_document'])"
            ]
          },
          "metadata": {},
          "execution_count": 7
        }
      ]
    },
    {
      "cell_type": "code",
      "source": [
        "data_dict = data_dict['req_document']"
      ],
      "metadata": {
        "id": "j7ZHGpUEnSP_"
      },
      "execution_count": 8,
      "outputs": []
    },
    {
      "cell_type": "code",
      "source": [
        "data_dict.keys()"
      ],
      "metadata": {
        "colab": {
          "base_uri": "https://localhost:8080/"
        },
        "id": "hcSx-pFnnWmL",
        "outputId": "1cac94f6-73d3-4ea2-9bbc-bece8a2e02ea"
      },
      "execution_count": 9,
      "outputs": [
        {
          "output_type": "execute_result",
          "data": {
            "text/plain": [
              "dict_keys(['@xmlns', '@xmlns:xsi', '@xsi:schemaLocation', 'title', 'version', 'p'])"
            ]
          },
          "metadata": {},
          "execution_count": 9
        }
      ]
    },
    {
      "cell_type": "code",
      "source": [
        "data_dict = data_dict['p']"
      ],
      "metadata": {
        "id": "acRwZEngnZee"
      },
      "execution_count": 10,
      "outputs": []
    },
    {
      "cell_type": "code",
      "source": [
        "print((data_dict))\n",
        "print(len(data_dict))"
      ],
      "metadata": {
        "colab": {
          "base_uri": "https://localhost:8080/"
        },
        "id": "dSEGfi1kng7v",
        "outputId": "89057354-00b5-41ec-88dc-c9fb9f0e80fd"
      },
      "execution_count": 11,
      "outputs": [
        {
          "output_type": "stream",
          "name": "stdout",
          "text": [
            "[{'@id': '1', 'title': 'Introduction', 'text_body': 'The management of [company name]. has identified a potential need for re-writing its core\\nLaboratory Information System (LIS) to improve the performance. In general, this project\\nwill provide a stable environment, automate decisions, streamline workflows, and employ\\nindustry standard coding and documentation practices. This effort will ensure System\\nIntegrity/Reliability by developing a system that is reliable and low maintenance including\\nsecurity and confidentiality requirements as dictated by HIPAA and FDA regulatory\\nstandards.', 'p': [{'@id': '1.1', 'title': 'Purpose', 'text_body': 'This Functional Requirements Specification (FRS) is intended to capture the changes in\\nfunctionality that will occur during [system name] Re-Writing effort, which is part of the xxx\\nEnhancements project. All functionalities for the new [system name] system would be\\ndocumented in this FRS. Any undocumented requirements will be considered out of scope\\nand will not be implemented during this phase of Re-Writing.'}, {'@id': '1.2', 'title': 'Scope', 'text_body': 'The existing functionalities in the core [system name] will remain same. This project is\\nlimited in scope to the enhancements and defects that are critical in the severity level that is\\nthe issues that cause great burden to the system users and the enhancements in system\\narchitecture, which will facilitate efficient growth of [system name] and the [company name]\\nbusiness, will fall under the purview of this project scope.\\nThe functional issues and requirements that will be discussed and gathered respectively as\\nwell as validated in the Requirements Gathering and Validating Sessions started on\\nMM/DD/YYYYwould be documented in this FRS moving forward. The project team has\\ndecided that system development will occur on module by module basis.'}]}, {'@id': '2', 'title': 'Specific Requirements', 'p': [{'@id': '2.1', 'title': 'Functionality', 'p': {'@id': '2.1.1', 'title': 'Module: Admin', 'p': [{'@id': '2.1.1.1', 'title': 'Use Case: xxx Page, UC ID: UC_RR_xxx_xxx_000', 'p': [{'@id': '2.1.1.1.1', 'text_body': 'System shall display the hyperlinks and descriptions for the user to perform the desired\\nfunctions as specified in the related UIS.'}, {'@id': '2.1.1.1.2', 'text_body': 'The User shall be able to view the hyperlinks and descriptions listed.'}, {'@id': '2.1.1.1.3', 'text_body': 'The User shall be able to choose a function by clicking the hyperlink.'}, {'@id': '2.1.1.1.4', 'text_body': 'The system shall display the desired operational page for the user after clicking the\\nhyperlink.'}]}, {'@id': '2.1.1.2', 'title': 'Use Case: xxx Page, UC ID: UC_RR_xxx_xxx_000', 'p': {'@id': '2.1.1.2.1', 'title': 'Action: Create/Add User', 'p': [{'@id': '2.1.1.2.1.1', 'text_body': 'A user with admin privileges shall be able to Add/Create a new user and associate the\\nuser with specified role(s) in the system.'}, {'@id': '2.1.1.2.1.2', 'text_body': 'The system shall display an error message if the new user is found in the [system name]\\nsystem.'}, {'@id': '2.1.1.2.1.3', 'text_body': 'The system shall display an error message if the new user is not active in the Active\\nDirectory.'}, {'@id': '2.1.1.2.1.4', 'text_body': 'The system shall display the xxx tab as the default tab.'}, {'@id': '2.1.1.2.1.5', 'text_body': 'The user shall be able to create/add a new user manually or from a template.'}, {'@id': '2.1.1.2.1.6', 'text_body': 'The user record shall inherit all specified role(s) settings in the template when the user\\nrecord is created from the user template'}, {'@id': '2.1.1.2.1.7', 'text_body': 'The user shall be able to add additional roles manually while creating/adding a new user\\nfrom a user template.'}, {'@id': '2.1.1.2.1.8', 'text_body': 'The system shall save the user info to the database with specified roles associated with\\ndivisions for the newly created/added user.'}, {'@id': '2.1.1.2.1.9', 'text_body': 'The system shall perform a search on the [system name] user display name and user\\nname columns in the user tables to find the user and verify the user’s existence.'}, {'@id': '2.1.1.2.1.10', 'text_body': 'The system shall perform a search in the Active Directory to verify the status of the user\\n— Active/Inactive within the company—when the user attempts to create/add a new user\\nin the [system name] system.'}, {'@id': '2.1.1.2.1.11', 'text_body': 'The system shall generate a standard confirmation message after saving data and\\nwarning/caution messages after the cancel or close button is clicked.'}, {'@id': '2.1.1.2.1.12', 'text_body': 'The user must have the flexibility to click any tab to commence the adding process,\\nalthough the xxx Tab shall display as the default tab.'}, {'@id': '2.1.1.2.1.13', 'text_body': 'All required fields as specified in the UIS must be marked with a red asterisk alerting the\\nuser to fill the required fields in.'}, {'@id': '2.1.1.2.1.14', 'text_body': 'The user shall be able to save data after creating/adding a new user or cancel data to\\nabort the process.'}, {'@id': '2.1.1.2.1.15', 'text_body': 'The system shall clear up data if the user chooses to click the Cancel button in the midst\\nof creating/adding a new user.'}, {'@id': '2.1.1.2.1.16', 'text_body': 'The system shall direct the user to the xxx Page if the user chooses to click the close\\nbutton without entering any data.'}, {'@id': '2.1.1.2.1.17', 'text_body': 'The user must associate at least one role, division, designator code, and lab location at\\nthe time of creating/adding a new user.'}, {'@id': '2.1.1.2.1.18', 'text_body': 'The user must fill in the required fields—User Name and Display Name—in the User\\nInformation section at the time of creating/adding a new user.'}, {'@id': '2.1.1.2.1.19', 'text_body': 'The system shall generate a standard error/warning message after the user attempts to\\nsave data without associating one of each of the following criteria—xxx—and/or without\\nfilling in the required fields in the User Information section.'}]}}]}}, {'@id': '2.2', 'title': 'Usability', 'p': {'@id': '2.2.1', 'title': 'User Interface Guidelines', 'p': [{'@id': '2.2.1.1', 'text_body': 'The Project Team must demonstrate mockups of UI changes to project stakeholders early\\nin the development process.'}, {'@id': '2.2.1.2', 'text_body': 'The Project Team must permit reasonable adjustment to the user interfaces of new\\nfunctionality by project stakeholders when project schedule permits those adjustments.'}]}}, {'@id': '2.3', 'title': 'Reliability', 'p': {'@id': '2.3.1', 'title': 'System Downtime', 'p': {'@id': '2.3.1.1', 'text_body': 'The Project Team shall schedule updates to the production environment only on Tuesdays\\nbetween 7pm and 7am. (Example)'}}}, {'@id': '2.4', 'title': 'Performance', 'p': {'@id': '2.4.1', 'title': 'Quality Assurance', 'p': [{'@id': '2.4.1.1', 'text_body': 'The Project Team must perform applicable and appropriate testing against new functionality\\nprior to releasing that functionality/build to the production environment.'}, {'@id': '2.4.1.2', 'text_body': 'The project Team must allow a reasonable time to conduct User Acceptance Testing (UAT)\\nagainst the built functionalities prior to deploying the product to the production environment.'}]}}, {'@id': '2.5', 'title': 'Supportability', 'p': [{'@id': '2.5.1', 'title': 'Coding Standards', 'p': [{'@id': '2.5.1.1', 'text_body': 'The Development Team shall define coding standards for the application and follow those\\nstandards consistently.'}, {'@id': '2.5.1.2', 'text_body': 'The Development Team shall be required to adjust existing source code to follow accepted\\ncoding standards only if that source code must be modified.'}]}, {'@id': '2.5.2', 'title': 'Maintainability Standards', 'p': [{'@id': '2.5.2.1', 'text_body': 'The system shall log errors, warnings, and informational messages to an external log file on\\nthe application server.'}, {'@id': '2.5.2.2', 'text_body': 'The Development Team shall be required to adjust existing source code to use the external\\nlog file only if that source code must be modified to implement another requirement.'}, {'@id': '2.5.2.3', 'text_body': 'The system shall log an error message to the external data file when the user is directed to\\nthe [SYSTEM NAME] error page.'}, {'@id': '2.5.2.4', 'text_body': 'The system shall send a notification email to a Client Services email distribution list if the\\nuser is directed to the xxx error page.'}]}]}, {'@id': '2.6', 'title': 'Design Constraints', 'p': [{'@id': '2.6.1', 'title': 'Development Platform', 'p': [{'@id': '2.6.1.1', 'text_body': 'The Development Team shall develop functionalities using the xx language and on the\\nsupported .NET 3.5 Platform.'}, {'@id': '2.6.1.2', 'text_body': 'The Development Team shall utilize established open source frameworks instead of\\nproprietary custom components wherever appropriate.'}, {'@id': '2.6.1.3', 'text_body': 'The system shall continue to depend upon and use a single SQL Server 2008 database.'}]}, {'@id': '2.6.2', 'title': 'Production Releases', 'p': {'@id': '2.6.2.1', 'text_body': 'The Technical Owner/Lead shall provide signoff before any [SYSTEM NAME] build can be\\ndeployed to the production environment.'}}, {'@id': '2.6.3', 'title': 'Development Process', 'p': [{'@id': '2.6.3.1', 'text_body': 'The Development Team shall perform weekly integrations of the [SYSTEM NAME] system\\nand deploy these system updates to the Staging environment.'}, {'@id': '2.6.3.2', 'text_body': 'The Development Team shall label every scheduled [SYSTEM NAME] build in the source\\ncontrol system.'}, {'@id': '2.6.3.3', 'text_body': 'The Development Team shall perform scheduled [SYSTEM NAME] builds using code\\nchecked out of source control using the label as defined and specified.'}, {'@id': '2.6.3.4', 'text_body': 'The Development Team shall develop and then send out release notes via e-mail to all\\nProject Team after each [SYSTEM NAME] build deployed to the Staging environment.'}, {'@id': '2.6.3.5', 'text_body': 'The Technical Lead shall perform code reviews of every system change before those\\nchanges may be committed to source control.'}, {'@id': '2.6.3.6', 'text_body': 'The QA/QC Team must perform regression testing against all scheduled builds.'}]}]}, {'@id': '2.7', 'title': 'Online User Documentation and Help System Requirements', 'p': {'@id': '2.7.1', 'title': 'Robohelp Tool:', 'text_body': 'RoboHelp version 8 will be used to create the online [system name]\\nHelp hypertext links. The [system name] system will display a hypertext link labeled\\n“Help” at the top right corner on each of the user screens to provide assistance to the\\nuser. Each of the Help topic pop-up windows will contain that same content that is\\navailable within the [system name] user’s manuals.', 'p': [{'@id': '2.7.1.1', 'text_body': 'The system shall provide the capability to open a pop-up window displaying information\\nabout the specific page along with links to supporting help topics upon selecting each Help\\nlink.'}, {'@id': '2.7.1.2', 'text_body': 'The system shall display “[system name] Overview” page located under the Getting Started\\nsection of Help as default help topic page that will load upon selecting Help hypertext link.'}, {'@id': '2.7.1.3', 'text_body': 'The system must allow users to easily navigate through each of the help topics by selecting\\na corresponding hypertext link provided in the left frame of the pop-up Help window.'}, {'@id': '2.7.1.4', 'text_body': 'The system shall display the [company name] logo in the top, right side of the screen on\\neach of the help pages.'}, {'@id': '2.7.1.5', 'text_body': 'The system must exhibit each of the help pages using the same color scheme and\\nbackground as specified.'}, {'@id': '2.7.1.6', 'text_body': 'The system shall provide searching ability to the users to quickly find specific topic material\\nthrough the online help tool.'}, {'@id': '2.7.1.7', 'text_body': 'The system shall provide an index to the users for a more in-depth search of topic contents\\nthrough the online help tool.'}, {'@id': '2.7.1.8', 'text_body': 'The system shall provide a Glossary for industry-related terms associated with [company\\nname] and the [system name] system to the users through the online help tool.'}]}}, {'@id': '2.8', 'title': 'Interfaces'}, {'@id': '2.9', 'title': 'Applicable Standards', 'p': {'@id': '2.9.1', 'p': [{'@id': '2.9.1.1', 'text_body': 'The system shall retain existing HIPAA compliance capabilities.'}, {'@id': '2.9.1.2', 'text_body': 'The system shall follow HIPAA compliance capabilities in new functionality introduced to the\\nsystem.'}]}}]}, {'@id': '3', 'p': {'@id': 'Glossary 30209'}}]\n",
            "3\n"
          ]
        }
      ]
    },
    {
      "cell_type": "code",
      "source": [
        "for item in data_dict:\n",
        "  print(item.keys())"
      ],
      "metadata": {
        "colab": {
          "base_uri": "https://localhost:8080/"
        },
        "id": "gSkU5HilnjYO",
        "outputId": "891220da-54b5-40b2-8a4e-a5d75725837c"
      },
      "execution_count": 12,
      "outputs": [
        {
          "output_type": "stream",
          "name": "stdout",
          "text": [
            "dict_keys(['@id', 'title', 'text_body', 'p'])\n",
            "dict_keys(['@id', 'title', 'p'])\n",
            "dict_keys(['@id', 'p'])\n"
          ]
        }
      ]
    },
    {
      "cell_type": "code",
      "source": [
        "sens = []\n",
        "data = []"
      ],
      "metadata": {
        "id": "mLvlQSGvn2hL"
      },
      "execution_count": 13,
      "outputs": []
    },
    {
      "cell_type": "code",
      "source": [
        "for item in data_dict:\n",
        "  for value in item.keys():\n",
        "    if value == 'p':\n",
        "      data.append(item['p'])"
      ],
      "metadata": {
        "id": "MQnlI55JoAMF"
      },
      "execution_count": 14,
      "outputs": []
    },
    {
      "cell_type": "code",
      "source": [
        "data = data[0]"
      ],
      "metadata": {
        "id": "BO0PVs3RoLWV"
      },
      "execution_count": 15,
      "outputs": []
    },
    {
      "cell_type": "code",
      "source": [
        "data"
      ],
      "metadata": {
        "colab": {
          "base_uri": "https://localhost:8080/"
        },
        "id": "3KmrfsZRoWZC",
        "outputId": "53848949-f6fc-4687-8f9d-c4714ab74382"
      },
      "execution_count": 16,
      "outputs": [
        {
          "output_type": "execute_result",
          "data": {
            "text/plain": [
              "[{'@id': '1.1',\n",
              "  'title': 'Purpose',\n",
              "  'text_body': 'This Functional Requirements Specification (FRS) is intended to capture the changes in\\nfunctionality that will occur during [system name] Re-Writing effort, which is part of the xxx\\nEnhancements project. All functionalities for the new [system name] system would be\\ndocumented in this FRS. Any undocumented requirements will be considered out of scope\\nand will not be implemented during this phase of Re-Writing.'},\n",
              " {'@id': '1.2',\n",
              "  'title': 'Scope',\n",
              "  'text_body': 'The existing functionalities in the core [system name] will remain same. This project is\\nlimited in scope to the enhancements and defects that are critical in the severity level that is\\nthe issues that cause great burden to the system users and the enhancements in system\\narchitecture, which will facilitate efficient growth of [system name] and the [company name]\\nbusiness, will fall under the purview of this project scope.\\nThe functional issues and requirements that will be discussed and gathered respectively as\\nwell as validated in the Requirements Gathering and Validating Sessions started on\\nMM/DD/YYYYwould be documented in this FRS moving forward. The project team has\\ndecided that system development will occur on module by module basis.'}]"
            ]
          },
          "metadata": {},
          "execution_count": 16
        }
      ]
    },
    {
      "cell_type": "code",
      "source": [
        "for item in data:\n",
        "  for value in item.keys():\n",
        "    if value == 'text_body':\n",
        "      sens.append(item['text_body'])"
      ],
      "metadata": {
        "id": "Xe-J9xZkoVqs"
      },
      "execution_count": 17,
      "outputs": []
    },
    {
      "cell_type": "code",
      "source": [
        "sens"
      ],
      "metadata": {
        "colab": {
          "base_uri": "https://localhost:8080/"
        },
        "id": "DMX8B0Ppo52c",
        "outputId": "ab19e798-dafa-4578-c887-15a4d176f958"
      },
      "execution_count": 18,
      "outputs": [
        {
          "output_type": "execute_result",
          "data": {
            "text/plain": [
              "['This Functional Requirements Specification (FRS) is intended to capture the changes in\\nfunctionality that will occur during [system name] Re-Writing effort, which is part of the xxx\\nEnhancements project. All functionalities for the new [system name] system would be\\ndocumented in this FRS. Any undocumented requirements will be considered out of scope\\nand will not be implemented during this phase of Re-Writing.',\n",
              " 'The existing functionalities in the core [system name] will remain same. This project is\\nlimited in scope to the enhancements and defects that are critical in the severity level that is\\nthe issues that cause great burden to the system users and the enhancements in system\\narchitecture, which will facilitate efficient growth of [system name] and the [company name]\\nbusiness, will fall under the purview of this project scope.\\nThe functional issues and requirements that will be discussed and gathered respectively as\\nwell as validated in the Requirements Gathering and Validating Sessions started on\\nMM/DD/YYYYwould be documented in this FRS moving forward. The project team has\\ndecided that system development will occur on module by module basis.']"
            ]
          },
          "metadata": {},
          "execution_count": 18
        }
      ]
    },
    {
      "cell_type": "code",
      "source": [
        "hasil = []\n",
        "for sub in sens:\n",
        "  hasil.append(sub.replace(\"\\n\", \"\"))"
      ],
      "metadata": {
        "id": "UkJeidHgo50E"
      },
      "execution_count": 19,
      "outputs": []
    },
    {
      "cell_type": "code",
      "source": [
        "temp = []\n",
        "for value in hasil:\n",
        "  temp.append(value.split('. '))"
      ],
      "metadata": {
        "id": "j6_JgwUwpKhG"
      },
      "execution_count": 20,
      "outputs": []
    },
    {
      "cell_type": "code",
      "source": [
        "sentences = []\n",
        "for value in temp:\n",
        "  for item in value:\n",
        "    sentences.append(item)\n"
      ],
      "metadata": {
        "id": "Vewv1maZpePB"
      },
      "execution_count": 21,
      "outputs": []
    },
    {
      "cell_type": "code",
      "source": [
        "print(np.array(sentences))"
      ],
      "metadata": {
        "colab": {
          "base_uri": "https://localhost:8080/"
        },
        "id": "NC48CyivpzRU",
        "outputId": "db97910d-d8e6-4ebc-c5f0-6c6339113464"
      },
      "execution_count": 22,
      "outputs": [
        {
          "output_type": "stream",
          "name": "stdout",
          "text": [
            "['This Functional Requirements Specification (FRS) is intended to capture the changes infunctionality that will occur during [system name] Re-Writing effort, which is part of the xxxEnhancements project'\n",
            " 'All functionalities for the new [system name] system would bedocumented in this FRS'\n",
            " 'Any undocumented requirements will be considered out of scopeand will not be implemented during this phase of Re-Writing.'\n",
            " 'The existing functionalities in the core [system name] will remain same'\n",
            " 'This project islimited in scope to the enhancements and defects that are critical in the severity level that isthe issues that cause great burden to the system users and the enhancements in systemarchitecture, which will facilitate efficient growth of [system name] and the [company name]business, will fall under the purview of this project scope.The functional issues and requirements that will be discussed and gathered respectively aswell as validated in the Requirements Gathering and Validating Sessions started onMM/DD/YYYYwould be documented in this FRS moving forward'\n",
            " 'The project team hasdecided that system development will occur on module by module basis.']\n"
          ]
        }
      ]
    },
    {
      "cell_type": "code",
      "source": [
        "import string\n",
        "for x in range(len(sentences)):\n",
        "  sentences[x] = sentences[x].translate(str.maketrans('', '', string.punctuation))"
      ],
      "metadata": {
        "id": "fgl57DpdekWo"
      },
      "execution_count": 23,
      "outputs": []
    },
    {
      "cell_type": "code",
      "source": [
        "sentences"
      ],
      "metadata": {
        "colab": {
          "base_uri": "https://localhost:8080/"
        },
        "id": "0Df-tbPin3xa",
        "outputId": "b6531e7b-7396-488e-d052-a1ecbf688344"
      },
      "execution_count": 24,
      "outputs": [
        {
          "output_type": "execute_result",
          "data": {
            "text/plain": [
              "['This Functional Requirements Specification FRS is intended to capture the changes infunctionality that will occur during system name ReWriting effort which is part of the xxxEnhancements project',\n",
              " 'All functionalities for the new system name system would bedocumented in this FRS',\n",
              " 'Any undocumented requirements will be considered out of scopeand will not be implemented during this phase of ReWriting',\n",
              " 'The existing functionalities in the core system name will remain same',\n",
              " 'This project islimited in scope to the enhancements and defects that are critical in the severity level that isthe issues that cause great burden to the system users and the enhancements in systemarchitecture which will facilitate efficient growth of system name and the company namebusiness will fall under the purview of this project scopeThe functional issues and requirements that will be discussed and gathered respectively aswell as validated in the Requirements Gathering and Validating Sessions started onMMDDYYYYwould be documented in this FRS moving forward',\n",
              " 'The project team hasdecided that system development will occur on module by module basis']"
            ]
          },
          "metadata": {},
          "execution_count": 24
        }
      ]
    },
    {
      "cell_type": "code",
      "source": [
        "type(sentences[0])"
      ],
      "metadata": {
        "colab": {
          "base_uri": "https://localhost:8080/"
        },
        "id": "dsp4Eyb05vEv",
        "outputId": "63237b99-d092-41b1-86b5-54c24b001035"
      },
      "execution_count": 25,
      "outputs": [
        {
          "output_type": "execute_result",
          "data": {
            "text/plain": [
              "str"
            ]
          },
          "metadata": {},
          "execution_count": 25
        }
      ]
    },
    {
      "cell_type": "code",
      "source": [
        "len(sentences)"
      ],
      "metadata": {
        "id": "TamGOkX1TLWj",
        "colab": {
          "base_uri": "https://localhost:8080/"
        },
        "outputId": "15682396-7e43-47dd-ac43-2b648a9bc156"
      },
      "execution_count": 26,
      "outputs": [
        {
          "output_type": "execute_result",
          "data": {
            "text/plain": [
              "6"
            ]
          },
          "metadata": {},
          "execution_count": 26
        }
      ]
    },
    {
      "cell_type": "markdown",
      "source": [
        "import fungsi parsing"
      ],
      "metadata": {
        "id": "hMXLZrk8ThWa"
      }
    },
    {
      "cell_type": "code",
      "source": [
        "import sng_parser"
      ],
      "metadata": {
        "id": "1jHvrQ-ETkKw"
      },
      "execution_count": 27,
      "outputs": []
    },
    {
      "cell_type": "code",
      "source": [
        "graph_list = []\n",
        "for x in range(len(sentences)):\n",
        "  graph = sng_parser.parse(sentences[x])\n",
        "  graph_list.append(graph)"
      ],
      "metadata": {
        "colab": {
          "base_uri": "https://localhost:8080/"
        },
        "id": "ZlFCQIlWTrnj",
        "outputId": "41c4a534-5306-44f2-ebd1-0f40a7e575b0"
      },
      "execution_count": 28,
      "outputs": [
        {
          "output_type": "stream",
          "name": "stderr",
          "text": [
            "/usr/local/lib/python3.8/dist-packages/torch/cuda/__init__.py:497: UserWarning: Can't initialize NVML\n",
            "  warnings.warn(\"Can't initialize NVML\")\n"
          ]
        }
      ]
    },
    {
      "cell_type": "code",
      "source": [
        "from pprint import pprint"
      ],
      "metadata": {
        "id": "boxihe9PUB2h"
      },
      "execution_count": 29,
      "outputs": []
    },
    {
      "cell_type": "code",
      "source": [
        "for x in range(len(graph_list)):\n",
        "  print(\" Kalimat : {x}\".format(x = x))\n",
        "  pprint(graph_list[x])\n",
        "  print(\"\\n\\n\")"
      ],
      "metadata": {
        "colab": {
          "base_uri": "https://localhost:8080/"
        },
        "id": "6KB8ZIbIUDnJ",
        "outputId": "8cf03c66-e804-44ed-9163-3a38074bbc0f"
      },
      "execution_count": 30,
      "outputs": [
        {
          "output_type": "stream",
          "name": "stdout",
          "text": [
            " Kalimat : 0\n",
            "{'entities': [{'head': 'Specification FRS',\n",
            "               'lemma_head': 'Specification FRS',\n",
            "               'lemma_span': 'this Functional Requirements Specification FRS',\n",
            "               'modifiers': [{'dep': 'det',\n",
            "                              'lemma_span': 'this',\n",
            "                              'span': 'This'}],\n",
            "               'span': 'This Functional Requirements Specification FRS',\n",
            "               'span_bounds': (0, 5),\n",
            "               'type': 'unknown'},\n",
            "              {'head': 'changes infunctionality',\n",
            "               'lemma_head': 'change infunctionality',\n",
            "               'lemma_span': 'the change infunctionality',\n",
            "               'modifiers': [{'dep': 'det',\n",
            "                              'lemma_span': 'the',\n",
            "                              'span': 'the'}],\n",
            "               'span': 'the changes infunctionality',\n",
            "               'span_bounds': (9, 12),\n",
            "               'type': 'unknown'},\n",
            "              {'head': 'that',\n",
            "               'lemma_head': 'that',\n",
            "               'lemma_span': 'that',\n",
            "               'modifiers': [],\n",
            "               'span': 'that',\n",
            "               'span_bounds': (12, 13),\n",
            "               'type': 'unknown'},\n",
            "              {'head': 'system name',\n",
            "               'lemma_head': 'system name',\n",
            "               'lemma_span': 'system name',\n",
            "               'modifiers': [],\n",
            "               'span': 'system name',\n",
            "               'span_bounds': (16, 18),\n",
            "               'type': 'unknown'},\n",
            "              {'head': 'ReWriting effort',\n",
            "               'lemma_head': 'rewriting effort',\n",
            "               'lemma_span': 'rewriting effort',\n",
            "               'modifiers': [],\n",
            "               'span': 'ReWriting effort',\n",
            "               'span_bounds': (18, 20),\n",
            "               'type': 'unknown'},\n",
            "              {'head': 'which',\n",
            "               'lemma_head': 'which',\n",
            "               'lemma_span': 'which',\n",
            "               'modifiers': [],\n",
            "               'span': 'which',\n",
            "               'span_bounds': (20, 21),\n",
            "               'type': 'unknown'},\n",
            "              {'head': 'part',\n",
            "               'lemma_head': 'part',\n",
            "               'lemma_span': 'part',\n",
            "               'modifiers': [],\n",
            "               'span': 'part',\n",
            "               'span_bounds': (22, 23),\n",
            "               'type': 'unknown'},\n",
            "              {'head': 'xxxEnhancements project',\n",
            "               'lemma_head': 'xxxEnhancements project',\n",
            "               'lemma_span': 'the xxxEnhancements project',\n",
            "               'modifiers': [{'dep': 'det',\n",
            "                              'lemma_span': 'the',\n",
            "                              'span': 'the'}],\n",
            "               'span': 'the xxxEnhancements project',\n",
            "               'span_bounds': (24, 27),\n",
            "               'type': 'unknown'}],\n",
            " 'relations': [{'lemma_relation': 'during',\n",
            "                'object': 3,\n",
            "                'relation': 'during',\n",
            "                'subject': 2},\n",
            "               {'lemma_relation': 'be',\n",
            "                'object': 6,\n",
            "                'relation': 'is',\n",
            "                'subject': 5},\n",
            "               {'lemma_relation': 'of',\n",
            "                'object': 7,\n",
            "                'relation': 'of',\n",
            "                'subject': 6}]}\n",
            "\n",
            "\n",
            "\n",
            " Kalimat : 1\n",
            "{'entities': [{'head': 'functionalities',\n",
            "               'lemma_head': 'functionality',\n",
            "               'lemma_span': 'all functionality',\n",
            "               'modifiers': [{'dep': 'det',\n",
            "                              'lemma_span': 'all',\n",
            "                              'span': 'All'}],\n",
            "               'span': 'All functionalities',\n",
            "               'span_bounds': (0, 2),\n",
            "               'type': 'unknown'},\n",
            "              {'head': 'name system',\n",
            "               'lemma_head': 'name system',\n",
            "               'lemma_span': 'the new system name system',\n",
            "               'modifiers': [{'dep': 'det', 'lemma_span': 'the', 'span': 'the'},\n",
            "                             {'dep': 'amod',\n",
            "                              'lemma_span': 'new',\n",
            "                              'span': 'new'}],\n",
            "               'span': 'the new system name system',\n",
            "               'span_bounds': (3, 8),\n",
            "               'type': 'unknown'},\n",
            "              {'head': 'FRS',\n",
            "               'lemma_head': 'FRS',\n",
            "               'lemma_span': 'this FRS',\n",
            "               'modifiers': [{'dep': 'det',\n",
            "                              'lemma_span': 'this',\n",
            "                              'span': 'this'}],\n",
            "               'span': 'this FRS',\n",
            "               'span_bounds': (11, 13),\n",
            "               'type': 'unknown'}],\n",
            " 'relations': [{'lemma_relation': 'for',\n",
            "                'object': 1,\n",
            "                'relation': 'for',\n",
            "                'subject': 0},\n",
            "               {'lemma_relation': 'in',\n",
            "                'object': 2,\n",
            "                'relation': 'in',\n",
            "                'subject': 0}]}\n",
            "\n",
            "\n",
            "\n",
            " Kalimat : 2\n",
            "{'entities': [{'head': 'requirements',\n",
            "               'lemma_head': 'requirement',\n",
            "               'lemma_span': 'any undocumented requirement',\n",
            "               'modifiers': [{'dep': 'det', 'lemma_span': 'any', 'span': 'Any'},\n",
            "                             {'dep': 'amod',\n",
            "                              'lemma_span': 'undocumented',\n",
            "                              'span': 'undocumented'}],\n",
            "               'span': 'Any undocumented requirements',\n",
            "               'span_bounds': (0, 3),\n",
            "               'type': 'unknown'},\n",
            "              {'head': 'scopeand',\n",
            "               'lemma_head': 'scopeand',\n",
            "               'lemma_span': 'scopeand',\n",
            "               'modifiers': [],\n",
            "               'span': 'scopeand',\n",
            "               'span_bounds': (8, 9),\n",
            "               'type': 'unknown'},\n",
            "              {'head': 'phase',\n",
            "               'lemma_head': 'phase',\n",
            "               'lemma_span': 'this phase',\n",
            "               'modifiers': [{'dep': 'det',\n",
            "                              'lemma_span': 'this',\n",
            "                              'span': 'this'}],\n",
            "               'span': 'this phase',\n",
            "               'span_bounds': (14, 16),\n",
            "               'type': 'unknown'},\n",
            "              {'head': 'ReWriting',\n",
            "               'lemma_head': 'ReWriting',\n",
            "               'lemma_span': 'ReWriting',\n",
            "               'modifiers': [],\n",
            "               'span': 'ReWriting',\n",
            "               'span_bounds': (17, 18),\n",
            "               'type': 'unknown'}],\n",
            " 'relations': [{'lemma_relation': 'of',\n",
            "                'object': 3,\n",
            "                'relation': 'of',\n",
            "                'subject': 2}]}\n",
            "\n",
            "\n",
            "\n",
            " Kalimat : 3\n",
            "{'entities': [{'head': 'functionalities',\n",
            "               'lemma_head': 'functionality',\n",
            "               'lemma_span': 'the exist functionality',\n",
            "               'modifiers': [{'dep': 'det', 'lemma_span': 'the', 'span': 'The'},\n",
            "                             {'dep': 'amod',\n",
            "                              'lemma_span': 'exist',\n",
            "                              'span': 'existing'}],\n",
            "               'span': 'The existing functionalities',\n",
            "               'span_bounds': (0, 3),\n",
            "               'type': 'unknown'},\n",
            "              {'head': 'system core name',\n",
            "               'lemma_head': 'system core name',\n",
            "               'lemma_span': 'the core system name',\n",
            "               'modifiers': [{'dep': 'det',\n",
            "                              'lemma_span': 'the',\n",
            "                              'span': 'the'}],\n",
            "               'span': 'the core system name',\n",
            "               'span_bounds': (4, 8),\n",
            "               'type': 'unknown'}],\n",
            " 'relations': [{'lemma_relation': 'in',\n",
            "                'object': 1,\n",
            "                'relation': 'in',\n",
            "                'subject': 0}]}\n",
            "\n",
            "\n",
            "\n",
            " Kalimat : 4\n",
            "{'entities': [{'head': 'project',\n",
            "               'lemma_head': 'project',\n",
            "               'lemma_span': 'this project',\n",
            "               'modifiers': [{'dep': 'det',\n",
            "                              'lemma_span': 'this',\n",
            "                              'span': 'This'}],\n",
            "               'span': 'This project',\n",
            "               'span_bounds': (0, 2),\n",
            "               'type': 'unknown'},\n",
            "              {'head': 'scope',\n",
            "               'lemma_head': 'scope',\n",
            "               'lemma_span': 'scope',\n",
            "               'modifiers': [],\n",
            "               'span': 'scope',\n",
            "               'span_bounds': (4, 5),\n",
            "               'type': 'unknown'},\n",
            "              {'head': 'enhancements',\n",
            "               'lemma_head': 'enhancement',\n",
            "               'lemma_span': 'the enhancement',\n",
            "               'modifiers': [{'dep': 'det',\n",
            "                              'lemma_span': 'the',\n",
            "                              'span': 'the'}],\n",
            "               'span': 'the enhancements',\n",
            "               'span_bounds': (6, 8),\n",
            "               'type': 'unknown'},\n",
            "              {'head': 'defects',\n",
            "               'lemma_head': 'defect',\n",
            "               'lemma_span': 'defect',\n",
            "               'modifiers': [],\n",
            "               'span': 'defects',\n",
            "               'span_bounds': (9, 10),\n",
            "               'type': 'unknown'},\n",
            "              {'head': 'that',\n",
            "               'lemma_head': 'that',\n",
            "               'lemma_span': 'that',\n",
            "               'modifiers': [],\n",
            "               'span': 'that',\n",
            "               'span_bounds': (10, 11),\n",
            "               'type': 'unknown'},\n",
            "              {'head': 'severity level',\n",
            "               'lemma_head': 'severity level',\n",
            "               'lemma_span': 'the severity level',\n",
            "               'modifiers': [{'dep': 'det',\n",
            "                              'lemma_span': 'the',\n",
            "                              'span': 'the'}],\n",
            "               'span': 'the severity level',\n",
            "               'span_bounds': (14, 17),\n",
            "               'type': 'unknown'},\n",
            "              {'head': 'issues',\n",
            "               'lemma_head': 'issue',\n",
            "               'lemma_span': 'isthe issue',\n",
            "               'modifiers': [{'dep': 'det',\n",
            "                              'lemma_span': 'isthe',\n",
            "                              'span': 'isthe'}],\n",
            "               'span': 'isthe issues',\n",
            "               'span_bounds': (18, 20),\n",
            "               'type': 'unknown'},\n",
            "              {'head': 'that',\n",
            "               'lemma_head': 'that',\n",
            "               'lemma_span': 'that',\n",
            "               'modifiers': [],\n",
            "               'span': 'that',\n",
            "               'span_bounds': (20, 21),\n",
            "               'type': 'unknown'},\n",
            "              {'head': 'burden',\n",
            "               'lemma_head': 'burden',\n",
            "               'lemma_span': 'great burden',\n",
            "               'modifiers': [{'dep': 'amod',\n",
            "                              'lemma_span': 'great',\n",
            "                              'span': 'great'}],\n",
            "               'span': 'great burden',\n",
            "               'span_bounds': (22, 24),\n",
            "               'type': 'unknown'},\n",
            "              {'head': 'system users',\n",
            "               'lemma_head': 'system user',\n",
            "               'lemma_span': 'the system user',\n",
            "               'modifiers': [{'dep': 'det',\n",
            "                              'lemma_span': 'the',\n",
            "                              'span': 'the'}],\n",
            "               'span': 'the system users',\n",
            "               'span_bounds': (25, 28),\n",
            "               'type': 'unknown'},\n",
            "              {'head': 'enhancements',\n",
            "               'lemma_head': 'enhancement',\n",
            "               'lemma_span': 'the enhancement',\n",
            "               'modifiers': [{'dep': 'det',\n",
            "                              'lemma_span': 'the',\n",
            "                              'span': 'the'}],\n",
            "               'span': 'the enhancements',\n",
            "               'span_bounds': (29, 31),\n",
            "               'type': 'unknown'},\n",
            "              {'head': 'systemarchitecture',\n",
            "               'lemma_head': 'systemarchitecture',\n",
            "               'lemma_span': 'systemarchitecture',\n",
            "               'modifiers': [],\n",
            "               'span': 'systemarchitecture',\n",
            "               'span_bounds': (32, 33),\n",
            "               'type': 'unknown'},\n",
            "              {'head': 'which',\n",
            "               'lemma_head': 'which',\n",
            "               'lemma_span': 'which',\n",
            "               'modifiers': [],\n",
            "               'span': 'which',\n",
            "               'span_bounds': (33, 34),\n",
            "               'type': 'unknown'},\n",
            "              {'head': 'growth',\n",
            "               'lemma_head': 'growth',\n",
            "               'lemma_span': 'efficient growth',\n",
            "               'modifiers': [{'dep': 'amod',\n",
            "                              'lemma_span': 'efficient',\n",
            "                              'span': 'efficient'}],\n",
            "               'span': 'efficient growth',\n",
            "               'span_bounds': (36, 38),\n",
            "               'type': 'unknown'},\n",
            "              {'head': 'system name',\n",
            "               'lemma_head': 'system name',\n",
            "               'lemma_span': 'system name',\n",
            "               'modifiers': [],\n",
            "               'span': 'system name',\n",
            "               'span_bounds': (39, 41),\n",
            "               'type': 'unknown'},\n",
            "              {'head': 'company namebusiness',\n",
            "               'lemma_head': 'company namebusiness',\n",
            "               'lemma_span': 'the company namebusiness',\n",
            "               'modifiers': [{'dep': 'det',\n",
            "                              'lemma_span': 'the',\n",
            "                              'span': 'the'}],\n",
            "               'span': 'the company namebusiness',\n",
            "               'span_bounds': (42, 45),\n",
            "               'type': 'unknown'},\n",
            "              {'head': 'purview',\n",
            "               'lemma_head': 'purview',\n",
            "               'lemma_span': 'the purview',\n",
            "               'modifiers': [{'dep': 'det',\n",
            "                              'lemma_span': 'the',\n",
            "                              'span': 'the'}],\n",
            "               'span': 'the purview',\n",
            "               'span_bounds': (48, 50),\n",
            "               'type': 'unknown'},\n",
            "              {'head': 'project',\n",
            "               'lemma_head': 'project',\n",
            "               'lemma_span': 'this project',\n",
            "               'modifiers': [{'dep': 'det',\n",
            "                              'lemma_span': 'this',\n",
            "                              'span': 'this'}],\n",
            "               'span': 'this project',\n",
            "               'span_bounds': (51, 53),\n",
            "               'type': 'unknown'},\n",
            "              {'head': 'issues',\n",
            "               'lemma_head': 'issue',\n",
            "               'lemma_span': 'scopeThe functional issue',\n",
            "               'modifiers': [{'dep': 'amod',\n",
            "                              'lemma_span': 'scopeThe',\n",
            "                              'span': 'scopeThe'},\n",
            "                             {'dep': 'amod',\n",
            "                              'lemma_span': 'functional',\n",
            "                              'span': 'functional'}],\n",
            "               'span': 'scopeThe functional issues',\n",
            "               'span_bounds': (53, 56),\n",
            "               'type': 'unknown'},\n",
            "              {'head': 'requirements',\n",
            "               'lemma_head': 'requirement',\n",
            "               'lemma_span': 'requirement',\n",
            "               'modifiers': [],\n",
            "               'span': 'requirements',\n",
            "               'span_bounds': (57, 58),\n",
            "               'type': 'unknown'},\n",
            "              {'head': 'that',\n",
            "               'lemma_head': 'that',\n",
            "               'lemma_span': 'that',\n",
            "               'modifiers': [],\n",
            "               'span': 'that',\n",
            "               'span_bounds': (58, 59),\n",
            "               'type': 'unknown'},\n",
            "              {'head': 'Requirements',\n",
            "               'lemma_head': 'Requirements',\n",
            "               'lemma_span': 'the Requirements',\n",
            "               'modifiers': [{'dep': 'det',\n",
            "                              'lemma_span': 'the',\n",
            "                              'span': 'the'}],\n",
            "               'span': 'the Requirements',\n",
            "               'span_bounds': (69, 71),\n",
            "               'type': 'unknown'},\n",
            "              {'head': 'Gathering',\n",
            "               'lemma_head': 'gathering',\n",
            "               'lemma_span': 'gathering',\n",
            "               'modifiers': [],\n",
            "               'span': 'Gathering',\n",
            "               'span_bounds': (71, 72),\n",
            "               'type': 'unknown'},\n",
            "              {'head': 'Validating Sessions',\n",
            "               'lemma_head': 'Validating session',\n",
            "               'lemma_span': 'Validating session',\n",
            "               'modifiers': [],\n",
            "               'span': 'Validating Sessions',\n",
            "               'span_bounds': (73, 75),\n",
            "               'type': 'unknown'},\n",
            "              {'head': 'FRS',\n",
            "               'lemma_head': 'frs',\n",
            "               'lemma_span': 'this frs',\n",
            "               'modifiers': [{'dep': 'det',\n",
            "                              'lemma_span': 'this',\n",
            "                              'span': 'this'}],\n",
            "               'span': 'this FRS',\n",
            "               'span_bounds': (80, 82),\n",
            "               'type': 'unknown'}],\n",
            " 'relations': [{'lemma_relation': 'in',\n",
            "                'object': 1,\n",
            "                'relation': 'in',\n",
            "                'subject': 0},\n",
            "               {'lemma_relation': 'to',\n",
            "                'object': 2,\n",
            "                'relation': 'to',\n",
            "                'subject': 0},\n",
            "               {'lemma_relation': 'to',\n",
            "                'object': 3,\n",
            "                'relation': 'to',\n",
            "                'subject': 0},\n",
            "               {'lemma_relation': 'cause',\n",
            "                'object': 8,\n",
            "                'relation': 'cause',\n",
            "                'subject': 7},\n",
            "               {'lemma_relation': 'to',\n",
            "                'object': 9,\n",
            "                'relation': 'to',\n",
            "                'subject': 8},\n",
            "               {'lemma_relation': 'to',\n",
            "                'object': 10,\n",
            "                'relation': 'to',\n",
            "                'subject': 8},\n",
            "               {'lemma_relation': 'in',\n",
            "                'object': 11,\n",
            "                'relation': 'in',\n",
            "                'subject': 10},\n",
            "               {'lemma_relation': 'facilitate',\n",
            "                'object': 13,\n",
            "                'relation': 'facilitate',\n",
            "                'subject': 12},\n",
            "               {'lemma_relation': 'of',\n",
            "                'object': 14,\n",
            "                'relation': 'of',\n",
            "                'subject': 13},\n",
            "               {'lemma_relation': 'fall under',\n",
            "                'object': 16,\n",
            "                'relation': 'fall under',\n",
            "                'subject': 15},\n",
            "               {'lemma_relation': 'of',\n",
            "                'object': 17,\n",
            "                'relation': 'of',\n",
            "                'subject': 16}]}\n",
            "\n",
            "\n",
            "\n",
            " Kalimat : 5\n",
            "{'entities': [{'head': 'project team',\n",
            "               'lemma_head': 'project team',\n",
            "               'lemma_span': 'the project team',\n",
            "               'modifiers': [{'dep': 'det',\n",
            "                              'lemma_span': 'the',\n",
            "                              'span': 'The'}],\n",
            "               'span': 'The project team',\n",
            "               'span_bounds': (0, 3),\n",
            "               'type': 'unknown'},\n",
            "              {'head': 'system development',\n",
            "               'lemma_head': 'system development',\n",
            "               'lemma_span': 'system development',\n",
            "               'modifiers': [],\n",
            "               'span': 'system development',\n",
            "               'span_bounds': (5, 7),\n",
            "               'type': 'unknown'},\n",
            "              {'head': 'module',\n",
            "               'lemma_head': 'module',\n",
            "               'lemma_span': 'module',\n",
            "               'modifiers': [],\n",
            "               'span': 'module',\n",
            "               'span_bounds': (10, 11),\n",
            "               'type': 'unknown'},\n",
            "              {'head': 'module basis',\n",
            "               'lemma_head': 'module basis',\n",
            "               'lemma_span': 'module basis',\n",
            "               'modifiers': [],\n",
            "               'span': 'module basis',\n",
            "               'span_bounds': (12, 14),\n",
            "               'type': 'unknown'}],\n",
            " 'relations': [{'lemma_relation': 'on',\n",
            "                'object': 2,\n",
            "                'relation': 'on',\n",
            "                'subject': 1},\n",
            "               {'lemma_relation': 'by',\n",
            "                'object': 3,\n",
            "                'relation': 'by',\n",
            "                'subject': 1}]}\n",
            "\n",
            "\n",
            "\n"
          ]
        }
      ]
    },
    {
      "cell_type": "code",
      "source": [
        "for x in range(len(graph_list)):\n",
        "\n",
        "  print(\"Kalimat : {x}\".format(x = x))\n",
        "  sng_parser.tprint(graph_list[x])"
      ],
      "metadata": {
        "id": "AH0-COjBUcPl",
        "colab": {
          "base_uri": "https://localhost:8080/"
        },
        "outputId": "2ce4940a-b41a-4aa3-9b62-9a02aa17118b"
      },
      "execution_count": 31,
      "outputs": [
        {
          "output_type": "stream",
          "name": "stdout",
          "text": [
            "Kalimat : 0\n",
            "Entities:\n",
            "+-------------------------+------------------------------------------------+-------------+\n",
            "| Head                    | Span                                           | Modifiers   |\n",
            "|-------------------------+------------------------------------------------+-------------|\n",
            "| specification frs       | this functional requirements specification frs | this        |\n",
            "| changes infunctionality | the changes infunctionality                    | the         |\n",
            "| that                    | that                                           |             |\n",
            "| system name             | system name                                    |             |\n",
            "| rewriting effort        | rewriting effort                               |             |\n",
            "| which                   | which                                          |             |\n",
            "| part                    | part                                           |             |\n",
            "| xxxenhancements project | the xxxenhancements project                    | the         |\n",
            "+-------------------------+------------------------------------------------+-------------+\n",
            "Relations:\n",
            "+-----------+------------+-------------------------+\n",
            "| Subject   | Relation   | Object                  |\n",
            "|-----------+------------+-------------------------|\n",
            "| that      | during     | system name             |\n",
            "| which     | is         | part                    |\n",
            "| part      | of         | xxxenhancements project |\n",
            "+-----------+------------+-------------------------+\n",
            "Kalimat : 1\n",
            "Entities:\n",
            "+-----------------+----------------------------+-------------+\n",
            "| Head            | Span                       | Modifiers   |\n",
            "|-----------------+----------------------------+-------------|\n",
            "| functionalities | all functionalities        | all         |\n",
            "| name system     | the new system name system | the,new     |\n",
            "| frs             | this frs                   | this        |\n",
            "+-----------------+----------------------------+-------------+\n",
            "Relations:\n",
            "+-----------------+------------+-------------+\n",
            "| Subject         | Relation   | Object      |\n",
            "|-----------------+------------+-------------|\n",
            "| functionalities | for        | name system |\n",
            "| functionalities | in         | frs         |\n",
            "+-----------------+------------+-------------+\n",
            "Kalimat : 2\n",
            "Entities:\n",
            "+--------------+-------------------------------+------------------+\n",
            "| Head         | Span                          | Modifiers        |\n",
            "|--------------+-------------------------------+------------------|\n",
            "| requirements | any undocumented requirements | any,undocumented |\n",
            "| scopeand     | scopeand                      |                  |\n",
            "| phase        | this phase                    | this             |\n",
            "| rewriting    | rewriting                     |                  |\n",
            "+--------------+-------------------------------+------------------+\n",
            "Relations:\n",
            "+-----------+------------+-----------+\n",
            "| Subject   | Relation   | Object    |\n",
            "|-----------+------------+-----------|\n",
            "| phase     | of         | rewriting |\n",
            "+-----------+------------+-----------+\n",
            "Kalimat : 3\n",
            "Entities:\n",
            "+------------------+------------------------------+--------------+\n",
            "| Head             | Span                         | Modifiers    |\n",
            "|------------------+------------------------------+--------------|\n",
            "| functionalities  | the existing functionalities | the,existing |\n",
            "| system core name | the core system name         | the          |\n",
            "+------------------+------------------------------+--------------+\n",
            "Relations:\n",
            "+-----------------+------------+------------------+\n",
            "| Subject         | Relation   | Object           |\n",
            "|-----------------+------------+------------------|\n",
            "| functionalities | in         | system core name |\n",
            "+-----------------+------------+------------------+\n",
            "Kalimat : 4\n",
            "Entities:\n",
            "+----------------------+----------------------------+---------------------+\n",
            "| Head                 | Span                       | Modifiers           |\n",
            "|----------------------+----------------------------+---------------------|\n",
            "| project              | this project               | this                |\n",
            "| scope                | scope                      |                     |\n",
            "| enhancements         | the enhancements           | the                 |\n",
            "| defects              | defects                    |                     |\n",
            "| that                 | that                       |                     |\n",
            "| severity level       | the severity level         | the                 |\n",
            "| issues               | isthe issues               | isthe               |\n",
            "| that                 | that                       |                     |\n",
            "| burden               | great burden               | great               |\n",
            "| system users         | the system users           | the                 |\n",
            "| enhancements         | the enhancements           | the                 |\n",
            "| systemarchitecture   | systemarchitecture         |                     |\n",
            "| which                | which                      |                     |\n",
            "| growth               | efficient growth           | efficient           |\n",
            "| system name          | system name                |                     |\n",
            "| company namebusiness | the company namebusiness   | the                 |\n",
            "| purview              | the purview                | the                 |\n",
            "| project              | this project               | this                |\n",
            "| issues               | scopethe functional issues | scopethe,functional |\n",
            "| requirements         | requirements               |                     |\n",
            "| that                 | that                       |                     |\n",
            "| requirements         | the requirements           | the                 |\n",
            "| gathering            | gathering                  |                     |\n",
            "| validating sessions  | validating sessions        |                     |\n",
            "| frs                  | this frs                   | this                |\n",
            "+----------------------+----------------------------+---------------------+\n",
            "Relations:\n",
            "+----------------------+------------+--------------------+\n",
            "| Subject              | Relation   | Object             |\n",
            "|----------------------+------------+--------------------|\n",
            "| project              | in         | scope              |\n",
            "| project              | to         | enhancements       |\n",
            "| project              | to         | defects            |\n",
            "| that                 | cause      | burden             |\n",
            "| burden               | to         | system users       |\n",
            "| burden               | to         | enhancements       |\n",
            "| enhancements         | in         | systemarchitecture |\n",
            "| which                | facilitate | growth             |\n",
            "| growth               | of         | system name        |\n",
            "| company namebusiness | fall under | purview            |\n",
            "| purview              | of         | project            |\n",
            "+----------------------+------------+--------------------+\n",
            "Kalimat : 5\n",
            "Entities:\n",
            "+--------------------+--------------------+-------------+\n",
            "| Head               | Span               | Modifiers   |\n",
            "|--------------------+--------------------+-------------|\n",
            "| project team       | the project team   | the         |\n",
            "| system development | system development |             |\n",
            "| module             | module             |             |\n",
            "| module basis       | module basis       |             |\n",
            "+--------------------+--------------------+-------------+\n",
            "Relations:\n",
            "+--------------------+------------+--------------+\n",
            "| Subject            | Relation   | Object       |\n",
            "|--------------------+------------+--------------|\n",
            "| system development | on         | module       |\n",
            "| system development | by         | module basis |\n",
            "+--------------------+------------+--------------+\n"
          ]
        }
      ]
    },
    {
      "cell_type": "code",
      "source": [],
      "metadata": {
        "id": "iZj7ge_ymXNl"
      },
      "execution_count": 31,
      "outputs": []
    }
  ]
}