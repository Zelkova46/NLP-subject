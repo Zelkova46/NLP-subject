{
  "nbformat": 4,
  "nbformat_minor": 0,
  "metadata": {
    "colab": {
      "provenance": [],
      "authorship_tag": "ABX9TyPDLfUVralpN3KkseVZOMU/",
      "include_colab_link": true
    },
    "kernelspec": {
      "name": "python3",
      "display_name": "Python 3"
    },
    "language_info": {
      "name": "python"
    }
  },
  "cells": [
    {
      "cell_type": "markdown",
      "metadata": {
        "id": "view-in-github",
        "colab_type": "text"
      },
      "source": [
        "<a href=\"https://colab.research.google.com/github/imambritish/NLP-subject/blob/main/stanfordcoreNLP.ipynb\" target=\"_parent\"><img src=\"https://colab.research.google.com/assets/colab-badge.svg\" alt=\"Open In Colab\"/></a>"
      ]
    },
    {
      "cell_type": "markdown",
      "source": [
        "Dependency parser\n"
      ],
      "metadata": {
        "id": "meXQ_B7cgEfT"
      }
    },
    {
      "cell_type": "markdown",
      "source": [
        "sumber : https://github.com/Lynten/stanford-corenlp"
      ],
      "metadata": {
        "id": "rydCb2Hjgu31"
      }
    },
    {
      "cell_type": "markdown",
      "source": [
        "## import dataset"
      ],
      "metadata": {
        "id": "KHtURl1n40dW"
      }
    },
    {
      "cell_type": "code",
      "source": [
        "!pip install xmltodict"
      ],
      "metadata": {
        "colab": {
          "base_uri": "https://localhost:8080/"
        },
        "id": "oABRUIE940K-",
        "outputId": "19501852-8d26-4e89-e17d-61327e51f39a"
      },
      "execution_count": 1,
      "outputs": [
        {
          "output_type": "stream",
          "name": "stdout",
          "text": [
            "Looking in indexes: https://pypi.org/simple, https://us-python.pkg.dev/colab-wheels/public/simple/\n",
            "Requirement already satisfied: xmltodict in /usr/local/lib/python3.8/dist-packages (0.13.0)\n"
          ]
        }
      ]
    },
    {
      "cell_type": "code",
      "source": [
        "import csv\n",
        "import xmltodict\n",
        "import numpy as np\n",
        "import nltk\n",
        "nltk.download('punkt')\n",
        "nltk.download('averaged_perceptron_tagger')"
      ],
      "metadata": {
        "colab": {
          "base_uri": "https://localhost:8080/"
        },
        "id": "hGzSwLR845ph",
        "outputId": "f36c1164-47d3-4d83-b941-f7fde589b2f5"
      },
      "execution_count": 2,
      "outputs": [
        {
          "output_type": "stream",
          "name": "stderr",
          "text": [
            "[nltk_data] Downloading package punkt to /root/nltk_data...\n",
            "[nltk_data]   Package punkt is already up-to-date!\n",
            "[nltk_data] Downloading package averaged_perceptron_tagger to\n",
            "[nltk_data]     /root/nltk_data...\n",
            "[nltk_data]   Package averaged_perceptron_tagger is already up-to-\n",
            "[nltk_data]       date!\n"
          ]
        },
        {
          "output_type": "execute_result",
          "data": {
            "text/plain": [
              "True"
            ]
          },
          "metadata": {},
          "execution_count": 2
        }
      ]
    },
    {
      "cell_type": "code",
      "source": [],
      "metadata": {
        "id": "mZMhIQW25GTf"
      },
      "execution_count": 2,
      "outputs": []
    },
    {
      "cell_type": "code",
      "source": [
        "with open(\"/content/2010-blitdraft.xml\", \"r\") as file:\n",
        "  filedata = file.read()\n",
        "\n",
        "\n",
        "#convverting xml to python dictionary (ordered dict)\n",
        "data_dict = xmltodict.parse(filedata)"
      ],
      "metadata": {
        "id": "MOm-WG9em29p"
      },
      "execution_count": 3,
      "outputs": []
    },
    {
      "cell_type": "code",
      "source": [
        "data_dict.keys()"
      ],
      "metadata": {
        "colab": {
          "base_uri": "https://localhost:8080/"
        },
        "id": "9lye4FyinQDE",
        "outputId": "fd4b607b-1d99-4caa-ed11-b1f5bd08b820"
      },
      "execution_count": 4,
      "outputs": [
        {
          "output_type": "execute_result",
          "data": {
            "text/plain": [
              "dict_keys(['req_document'])"
            ]
          },
          "metadata": {},
          "execution_count": 4
        }
      ]
    },
    {
      "cell_type": "code",
      "source": [
        "data_dict = data_dict['req_document']"
      ],
      "metadata": {
        "id": "j7ZHGpUEnSP_"
      },
      "execution_count": 5,
      "outputs": []
    },
    {
      "cell_type": "code",
      "source": [
        "data_dict.keys()"
      ],
      "metadata": {
        "colab": {
          "base_uri": "https://localhost:8080/"
        },
        "id": "hcSx-pFnnWmL",
        "outputId": "9115c236-e266-42a8-964e-3a7c202f5acd"
      },
      "execution_count": 6,
      "outputs": [
        {
          "output_type": "execute_result",
          "data": {
            "text/plain": [
              "dict_keys(['@xmlns', '@xmlns:xsi', '@xsi:schemaLocation', 'title', 'version', 'p'])"
            ]
          },
          "metadata": {},
          "execution_count": 6
        }
      ]
    },
    {
      "cell_type": "code",
      "source": [
        "data_dict = data_dict['p']"
      ],
      "metadata": {
        "id": "acRwZEngnZee"
      },
      "execution_count": 7,
      "outputs": []
    },
    {
      "cell_type": "code",
      "source": [
        "print((data_dict))\n",
        "print(len(data_dict))"
      ],
      "metadata": {
        "colab": {
          "base_uri": "https://localhost:8080/"
        },
        "id": "dSEGfi1kng7v",
        "outputId": "fb55549f-1be9-4964-d8ca-a06db67fbd33"
      },
      "execution_count": 8,
      "outputs": [
        {
          "output_type": "stream",
          "name": "stdout",
          "text": [
            "[{'@id': '1', 'title': 'Introduction', 'text_body': 'The management of [company name]. has identified a potential need for re-writing its core\\nLaboratory Information System (LIS) to improve the performance. In general, this project\\nwill provide a stable environment, automate decisions, streamline workflows, and employ\\nindustry standard coding and documentation practices. This effort will ensure System\\nIntegrity/Reliability by developing a system that is reliable and low maintenance including\\nsecurity and confidentiality requirements as dictated by HIPAA and FDA regulatory\\nstandards.', 'p': [{'@id': '1.1', 'title': 'Purpose', 'text_body': 'This Functional Requirements Specification (FRS) is intended to capture the changes in\\nfunctionality that will occur during [system name] Re-Writing effort, which is part of the xxx\\nEnhancements project. All functionalities for the new [system name] system would be\\ndocumented in this FRS. Any undocumented requirements will be considered out of scope\\nand will not be implemented during this phase of Re-Writing.'}, {'@id': '1.2', 'title': 'Scope', 'text_body': 'The existing functionalities in the core [system name] will remain same. This project is\\nlimited in scope to the enhancements and defects that are critical in the severity level that is\\nthe issues that cause great burden to the system users and the enhancements in system\\narchitecture, which will facilitate efficient growth of [system name] and the [company name]\\nbusiness, will fall under the purview of this project scope.\\nThe functional issues and requirements that will be discussed and gathered respectively as\\nwell as validated in the Requirements Gathering and Validating Sessions started on\\nMM/DD/YYYYwould be documented in this FRS moving forward. The project team has\\ndecided that system development will occur on module by module basis.'}]}, {'@id': '2', 'title': 'Specific Requirements', 'p': [{'@id': '2.1', 'title': 'Functionality', 'p': {'@id': '2.1.1', 'title': 'Module: Admin', 'p': [{'@id': '2.1.1.1', 'title': 'Use Case: xxx Page, UC ID: UC_RR_xxx_xxx_000', 'p': [{'@id': '2.1.1.1.1', 'text_body': 'System shall display the hyperlinks and descriptions for the user to perform the desired\\nfunctions as specified in the related UIS.'}, {'@id': '2.1.1.1.2', 'text_body': 'The User shall be able to view the hyperlinks and descriptions listed.'}, {'@id': '2.1.1.1.3', 'text_body': 'The User shall be able to choose a function by clicking the hyperlink.'}, {'@id': '2.1.1.1.4', 'text_body': 'The system shall display the desired operational page for the user after clicking the\\nhyperlink.'}]}, {'@id': '2.1.1.2', 'title': 'Use Case: xxx Page, UC ID: UC_RR_xxx_xxx_000', 'p': {'@id': '2.1.1.2.1', 'title': 'Action: Create/Add User', 'p': [{'@id': '2.1.1.2.1.1', 'text_body': 'A user with admin privileges shall be able to Add/Create a new user and associate the\\nuser with specified role(s) in the system.'}, {'@id': '2.1.1.2.1.2', 'text_body': 'The system shall display an error message if the new user is found in the [system name]\\nsystem.'}, {'@id': '2.1.1.2.1.3', 'text_body': 'The system shall display an error message if the new user is not active in the Active\\nDirectory.'}, {'@id': '2.1.1.2.1.4', 'text_body': 'The system shall display the xxx tab as the default tab.'}, {'@id': '2.1.1.2.1.5', 'text_body': 'The user shall be able to create/add a new user manually or from a template.'}, {'@id': '2.1.1.2.1.6', 'text_body': 'The user record shall inherit all specified role(s) settings in the template when the user\\nrecord is created from the user template'}, {'@id': '2.1.1.2.1.7', 'text_body': 'The user shall be able to add additional roles manually while creating/adding a new user\\nfrom a user template.'}, {'@id': '2.1.1.2.1.8', 'text_body': 'The system shall save the user info to the database with specified roles associated with\\ndivisions for the newly created/added user.'}, {'@id': '2.1.1.2.1.9', 'text_body': 'The system shall perform a search on the [system name] user display name and user\\nname columns in the user tables to find the user and verify the user’s existence.'}, {'@id': '2.1.1.2.1.10', 'text_body': 'The system shall perform a search in the Active Directory to verify the status of the user\\n— Active/Inactive within the company—when the user attempts to create/add a new user\\nin the [system name] system.'}, {'@id': '2.1.1.2.1.11', 'text_body': 'The system shall generate a standard confirmation message after saving data and\\nwarning/caution messages after the cancel or close button is clicked.'}, {'@id': '2.1.1.2.1.12', 'text_body': 'The user must have the flexibility to click any tab to commence the adding process,\\nalthough the xxx Tab shall display as the default tab.'}, {'@id': '2.1.1.2.1.13', 'text_body': 'All required fields as specified in the UIS must be marked with a red asterisk alerting the\\nuser to fill the required fields in.'}, {'@id': '2.1.1.2.1.14', 'text_body': 'The user shall be able to save data after creating/adding a new user or cancel data to\\nabort the process.'}, {'@id': '2.1.1.2.1.15', 'text_body': 'The system shall clear up data if the user chooses to click the Cancel button in the midst\\nof creating/adding a new user.'}, {'@id': '2.1.1.2.1.16', 'text_body': 'The system shall direct the user to the xxx Page if the user chooses to click the close\\nbutton without entering any data.'}, {'@id': '2.1.1.2.1.17', 'text_body': 'The user must associate at least one role, division, designator code, and lab location at\\nthe time of creating/adding a new user.'}, {'@id': '2.1.1.2.1.18', 'text_body': 'The user must fill in the required fields—User Name and Display Name—in the User\\nInformation section at the time of creating/adding a new user.'}, {'@id': '2.1.1.2.1.19', 'text_body': 'The system shall generate a standard error/warning message after the user attempts to\\nsave data without associating one of each of the following criteria—xxx—and/or without\\nfilling in the required fields in the User Information section.'}]}}]}}, {'@id': '2.2', 'title': 'Usability', 'p': {'@id': '2.2.1', 'title': 'User Interface Guidelines', 'p': [{'@id': '2.2.1.1', 'text_body': 'The Project Team must demonstrate mockups of UI changes to project stakeholders early\\nin the development process.'}, {'@id': '2.2.1.2', 'text_body': 'The Project Team must permit reasonable adjustment to the user interfaces of new\\nfunctionality by project stakeholders when project schedule permits those adjustments.'}]}}, {'@id': '2.3', 'title': 'Reliability', 'p': {'@id': '2.3.1', 'title': 'System Downtime', 'p': {'@id': '2.3.1.1', 'text_body': 'The Project Team shall schedule updates to the production environment only on Tuesdays\\nbetween 7pm and 7am. (Example)'}}}, {'@id': '2.4', 'title': 'Performance', 'p': {'@id': '2.4.1', 'title': 'Quality Assurance', 'p': [{'@id': '2.4.1.1', 'text_body': 'The Project Team must perform applicable and appropriate testing against new functionality\\nprior to releasing that functionality/build to the production environment.'}, {'@id': '2.4.1.2', 'text_body': 'The project Team must allow a reasonable time to conduct User Acceptance Testing (UAT)\\nagainst the built functionalities prior to deploying the product to the production environment.'}]}}, {'@id': '2.5', 'title': 'Supportability', 'p': [{'@id': '2.5.1', 'title': 'Coding Standards', 'p': [{'@id': '2.5.1.1', 'text_body': 'The Development Team shall define coding standards for the application and follow those\\nstandards consistently.'}, {'@id': '2.5.1.2', 'text_body': 'The Development Team shall be required to adjust existing source code to follow accepted\\ncoding standards only if that source code must be modified.'}]}, {'@id': '2.5.2', 'title': 'Maintainability Standards', 'p': [{'@id': '2.5.2.1', 'text_body': 'The system shall log errors, warnings, and informational messages to an external log file on\\nthe application server.'}, {'@id': '2.5.2.2', 'text_body': 'The Development Team shall be required to adjust existing source code to use the external\\nlog file only if that source code must be modified to implement another requirement.'}, {'@id': '2.5.2.3', 'text_body': 'The system shall log an error message to the external data file when the user is directed to\\nthe [SYSTEM NAME] error page.'}, {'@id': '2.5.2.4', 'text_body': 'The system shall send a notification email to a Client Services email distribution list if the\\nuser is directed to the xxx error page.'}]}]}, {'@id': '2.6', 'title': 'Design Constraints', 'p': [{'@id': '2.6.1', 'title': 'Development Platform', 'p': [{'@id': '2.6.1.1', 'text_body': 'The Development Team shall develop functionalities using the xx language and on the\\nsupported .NET 3.5 Platform.'}, {'@id': '2.6.1.2', 'text_body': 'The Development Team shall utilize established open source frameworks instead of\\nproprietary custom components wherever appropriate.'}, {'@id': '2.6.1.3', 'text_body': 'The system shall continue to depend upon and use a single SQL Server 2008 database.'}]}, {'@id': '2.6.2', 'title': 'Production Releases', 'p': {'@id': '2.6.2.1', 'text_body': 'The Technical Owner/Lead shall provide signoff before any [SYSTEM NAME] build can be\\ndeployed to the production environment.'}}, {'@id': '2.6.3', 'title': 'Development Process', 'p': [{'@id': '2.6.3.1', 'text_body': 'The Development Team shall perform weekly integrations of the [SYSTEM NAME] system\\nand deploy these system updates to the Staging environment.'}, {'@id': '2.6.3.2', 'text_body': 'The Development Team shall label every scheduled [SYSTEM NAME] build in the source\\ncontrol system.'}, {'@id': '2.6.3.3', 'text_body': 'The Development Team shall perform scheduled [SYSTEM NAME] builds using code\\nchecked out of source control using the label as defined and specified.'}, {'@id': '2.6.3.4', 'text_body': 'The Development Team shall develop and then send out release notes via e-mail to all\\nProject Team after each [SYSTEM NAME] build deployed to the Staging environment.'}, {'@id': '2.6.3.5', 'text_body': 'The Technical Lead shall perform code reviews of every system change before those\\nchanges may be committed to source control.'}, {'@id': '2.6.3.6', 'text_body': 'The QA/QC Team must perform regression testing against all scheduled builds.'}]}]}, {'@id': '2.7', 'title': 'Online User Documentation and Help System Requirements', 'p': {'@id': '2.7.1', 'title': 'Robohelp Tool:', 'text_body': 'RoboHelp version 8 will be used to create the online [system name]\\nHelp hypertext links. The [system name] system will display a hypertext link labeled\\n“Help” at the top right corner on each of the user screens to provide assistance to the\\nuser. Each of the Help topic pop-up windows will contain that same content that is\\navailable within the [system name] user’s manuals.', 'p': [{'@id': '2.7.1.1', 'text_body': 'The system shall provide the capability to open a pop-up window displaying information\\nabout the specific page along with links to supporting help topics upon selecting each Help\\nlink.'}, {'@id': '2.7.1.2', 'text_body': 'The system shall display “[system name] Overview” page located under the Getting Started\\nsection of Help as default help topic page that will load upon selecting Help hypertext link.'}, {'@id': '2.7.1.3', 'text_body': 'The system must allow users to easily navigate through each of the help topics by selecting\\na corresponding hypertext link provided in the left frame of the pop-up Help window.'}, {'@id': '2.7.1.4', 'text_body': 'The system shall display the [company name] logo in the top, right side of the screen on\\neach of the help pages.'}, {'@id': '2.7.1.5', 'text_body': 'The system must exhibit each of the help pages using the same color scheme and\\nbackground as specified.'}, {'@id': '2.7.1.6', 'text_body': 'The system shall provide searching ability to the users to quickly find specific topic material\\nthrough the online help tool.'}, {'@id': '2.7.1.7', 'text_body': 'The system shall provide an index to the users for a more in-depth search of topic contents\\nthrough the online help tool.'}, {'@id': '2.7.1.8', 'text_body': 'The system shall provide a Glossary for industry-related terms associated with [company\\nname] and the [system name] system to the users through the online help tool.'}]}}, {'@id': '2.8', 'title': 'Interfaces'}, {'@id': '2.9', 'title': 'Applicable Standards', 'p': {'@id': '2.9.1', 'p': [{'@id': '2.9.1.1', 'text_body': 'The system shall retain existing HIPAA compliance capabilities.'}, {'@id': '2.9.1.2', 'text_body': 'The system shall follow HIPAA compliance capabilities in new functionality introduced to the\\nsystem.'}]}}]}, {'@id': '3', 'p': {'@id': 'Glossary 30209'}}]\n",
            "3\n"
          ]
        }
      ]
    },
    {
      "cell_type": "code",
      "source": [
        "for item in data_dict:\n",
        "  print(item.keys())"
      ],
      "metadata": {
        "colab": {
          "base_uri": "https://localhost:8080/"
        },
        "id": "gSkU5HilnjYO",
        "outputId": "e79976a2-a824-4b1e-9297-6a9a72f530c4"
      },
      "execution_count": 9,
      "outputs": [
        {
          "output_type": "stream",
          "name": "stdout",
          "text": [
            "dict_keys(['@id', 'title', 'text_body', 'p'])\n",
            "dict_keys(['@id', 'title', 'p'])\n",
            "dict_keys(['@id', 'p'])\n"
          ]
        }
      ]
    },
    {
      "cell_type": "code",
      "source": [
        "sens = []\n",
        "data = []"
      ],
      "metadata": {
        "id": "mLvlQSGvn2hL"
      },
      "execution_count": 10,
      "outputs": []
    },
    {
      "cell_type": "code",
      "source": [
        "for item in data_dict:\n",
        "  for value in item.keys():\n",
        "    if value == 'p':\n",
        "      data.append(item['p'])"
      ],
      "metadata": {
        "id": "MQnlI55JoAMF"
      },
      "execution_count": 11,
      "outputs": []
    },
    {
      "cell_type": "code",
      "source": [
        "data = data[0]"
      ],
      "metadata": {
        "id": "BO0PVs3RoLWV"
      },
      "execution_count": 12,
      "outputs": []
    },
    {
      "cell_type": "code",
      "source": [
        "data"
      ],
      "metadata": {
        "colab": {
          "base_uri": "https://localhost:8080/"
        },
        "id": "3KmrfsZRoWZC",
        "outputId": "bc5780e6-42a9-42c8-8724-72fdb6b89934"
      },
      "execution_count": 13,
      "outputs": [
        {
          "output_type": "execute_result",
          "data": {
            "text/plain": [
              "[{'@id': '1.1',\n",
              "  'title': 'Purpose',\n",
              "  'text_body': 'This Functional Requirements Specification (FRS) is intended to capture the changes in\\nfunctionality that will occur during [system name] Re-Writing effort, which is part of the xxx\\nEnhancements project. All functionalities for the new [system name] system would be\\ndocumented in this FRS. Any undocumented requirements will be considered out of scope\\nand will not be implemented during this phase of Re-Writing.'},\n",
              " {'@id': '1.2',\n",
              "  'title': 'Scope',\n",
              "  'text_body': 'The existing functionalities in the core [system name] will remain same. This project is\\nlimited in scope to the enhancements and defects that are critical in the severity level that is\\nthe issues that cause great burden to the system users and the enhancements in system\\narchitecture, which will facilitate efficient growth of [system name] and the [company name]\\nbusiness, will fall under the purview of this project scope.\\nThe functional issues and requirements that will be discussed and gathered respectively as\\nwell as validated in the Requirements Gathering and Validating Sessions started on\\nMM/DD/YYYYwould be documented in this FRS moving forward. The project team has\\ndecided that system development will occur on module by module basis.'}]"
            ]
          },
          "metadata": {},
          "execution_count": 13
        }
      ]
    },
    {
      "cell_type": "code",
      "source": [
        "for item in data:\n",
        "  for value in item.keys():\n",
        "    if value == 'text_body':\n",
        "      sens.append(item['text_body'])"
      ],
      "metadata": {
        "id": "Xe-J9xZkoVqs"
      },
      "execution_count": 14,
      "outputs": []
    },
    {
      "cell_type": "code",
      "source": [
        "sens"
      ],
      "metadata": {
        "colab": {
          "base_uri": "https://localhost:8080/"
        },
        "id": "DMX8B0Ppo52c",
        "outputId": "92aa45dc-cc19-41b3-beab-4441ab70c876"
      },
      "execution_count": 15,
      "outputs": [
        {
          "output_type": "execute_result",
          "data": {
            "text/plain": [
              "['This Functional Requirements Specification (FRS) is intended to capture the changes in\\nfunctionality that will occur during [system name] Re-Writing effort, which is part of the xxx\\nEnhancements project. All functionalities for the new [system name] system would be\\ndocumented in this FRS. Any undocumented requirements will be considered out of scope\\nand will not be implemented during this phase of Re-Writing.',\n",
              " 'The existing functionalities in the core [system name] will remain same. This project is\\nlimited in scope to the enhancements and defects that are critical in the severity level that is\\nthe issues that cause great burden to the system users and the enhancements in system\\narchitecture, which will facilitate efficient growth of [system name] and the [company name]\\nbusiness, will fall under the purview of this project scope.\\nThe functional issues and requirements that will be discussed and gathered respectively as\\nwell as validated in the Requirements Gathering and Validating Sessions started on\\nMM/DD/YYYYwould be documented in this FRS moving forward. The project team has\\ndecided that system development will occur on module by module basis.']"
            ]
          },
          "metadata": {},
          "execution_count": 15
        }
      ]
    },
    {
      "cell_type": "code",
      "source": [
        "hasil = []\n",
        "for sub in sens:\n",
        "  hasil.append(sub.replace(\"\\n\", \"\"))"
      ],
      "metadata": {
        "id": "UkJeidHgo50E"
      },
      "execution_count": 16,
      "outputs": []
    },
    {
      "cell_type": "code",
      "source": [
        "temp = []\n",
        "for value in hasil:\n",
        "  temp.append(value.split('. '))"
      ],
      "metadata": {
        "id": "j6_JgwUwpKhG"
      },
      "execution_count": 17,
      "outputs": []
    },
    {
      "cell_type": "code",
      "source": [
        "sentences = []\n",
        "for value in temp:\n",
        "  for item in value:\n",
        "    sentences.append(item)\n"
      ],
      "metadata": {
        "id": "Vewv1maZpePB"
      },
      "execution_count": 18,
      "outputs": []
    },
    {
      "cell_type": "code",
      "source": [
        "print(np.array(sentences))"
      ],
      "metadata": {
        "colab": {
          "base_uri": "https://localhost:8080/"
        },
        "id": "NC48CyivpzRU",
        "outputId": "c6747d13-b135-4eba-963a-69dde9e61c6c"
      },
      "execution_count": 19,
      "outputs": [
        {
          "output_type": "stream",
          "name": "stdout",
          "text": [
            "['This Functional Requirements Specification (FRS) is intended to capture the changes infunctionality that will occur during [system name] Re-Writing effort, which is part of the xxxEnhancements project'\n",
            " 'All functionalities for the new [system name] system would bedocumented in this FRS'\n",
            " 'Any undocumented requirements will be considered out of scopeand will not be implemented during this phase of Re-Writing.'\n",
            " 'The existing functionalities in the core [system name] will remain same'\n",
            " 'This project islimited in scope to the enhancements and defects that are critical in the severity level that isthe issues that cause great burden to the system users and the enhancements in systemarchitecture, which will facilitate efficient growth of [system name] and the [company name]business, will fall under the purview of this project scope.The functional issues and requirements that will be discussed and gathered respectively aswell as validated in the Requirements Gathering and Validating Sessions started onMM/DD/YYYYwould be documented in this FRS moving forward'\n",
            " 'The project team hasdecided that system development will occur on module by module basis.']\n"
          ]
        }
      ]
    },
    {
      "cell_type": "code",
      "source": [
        "import string\n",
        "for x in range(len(sentences)):\n",
        "  sentences[x] = sentences[x].translate(str.maketrans('', '', string.punctuation))"
      ],
      "metadata": {
        "id": "fgl57DpdekWo"
      },
      "execution_count": 20,
      "outputs": []
    },
    {
      "cell_type": "code",
      "source": [
        "sentences"
      ],
      "metadata": {
        "colab": {
          "base_uri": "https://localhost:8080/"
        },
        "id": "0Df-tbPin3xa",
        "outputId": "ba39d4a9-3caf-47e0-80c0-8163d63ff2c6"
      },
      "execution_count": 21,
      "outputs": [
        {
          "output_type": "execute_result",
          "data": {
            "text/plain": [
              "['This Functional Requirements Specification FRS is intended to capture the changes infunctionality that will occur during system name ReWriting effort which is part of the xxxEnhancements project',\n",
              " 'All functionalities for the new system name system would bedocumented in this FRS',\n",
              " 'Any undocumented requirements will be considered out of scopeand will not be implemented during this phase of ReWriting',\n",
              " 'The existing functionalities in the core system name will remain same',\n",
              " 'This project islimited in scope to the enhancements and defects that are critical in the severity level that isthe issues that cause great burden to the system users and the enhancements in systemarchitecture which will facilitate efficient growth of system name and the company namebusiness will fall under the purview of this project scopeThe functional issues and requirements that will be discussed and gathered respectively aswell as validated in the Requirements Gathering and Validating Sessions started onMMDDYYYYwould be documented in this FRS moving forward',\n",
              " 'The project team hasdecided that system development will occur on module by module basis']"
            ]
          },
          "metadata": {},
          "execution_count": 21
        }
      ]
    },
    {
      "cell_type": "code",
      "source": [
        "type(sentences[0])"
      ],
      "metadata": {
        "colab": {
          "base_uri": "https://localhost:8080/"
        },
        "id": "dsp4Eyb05vEv",
        "outputId": "e5664c76-e2ae-4dae-f7cf-f60d7e82912c"
      },
      "execution_count": 22,
      "outputs": [
        {
          "output_type": "execute_result",
          "data": {
            "text/plain": [
              "str"
            ]
          },
          "metadata": {},
          "execution_count": 22
        }
      ]
    },
    {
      "cell_type": "code",
      "source": [
        "from nltk.parse.corenlp import CoreNLPDependencyParser, CoreNLPServer\n",
        "\n",
        "dep_parser = CoreNLPDependencyParser(url='http://localhost:9000')"
      ],
      "metadata": {
        "id": "t9WSeK87lB7s"
      },
      "execution_count": 23,
      "outputs": []
    },
    {
      "cell_type": "code",
      "source": [
        "!pip3 install -U nltk # Make sure the version is  at least 3.3."
      ],
      "metadata": {
        "colab": {
          "base_uri": "https://localhost:8080/"
        },
        "id": "rvacasI1lETG",
        "outputId": "b1b27fbf-fe42-4ced-dd0a-62690e37b167"
      },
      "execution_count": 24,
      "outputs": [
        {
          "output_type": "stream",
          "name": "stdout",
          "text": [
            "Looking in indexes: https://pypi.org/simple, https://us-python.pkg.dev/colab-wheels/public/simple/\n",
            "Requirement already satisfied: nltk in /usr/local/lib/python3.8/dist-packages (3.8.1)\n",
            "Requirement already satisfied: tqdm in /usr/local/lib/python3.8/dist-packages (from nltk) (4.64.1)\n",
            "Requirement already satisfied: joblib in /usr/local/lib/python3.8/dist-packages (from nltk) (1.2.0)\n",
            "Requirement already satisfied: click in /usr/local/lib/python3.8/dist-packages (from nltk) (7.1.2)\n",
            "Requirement already satisfied: regex>=2021.8.3 in /usr/local/lib/python3.8/dist-packages (from nltk) (2022.6.2)\n"
          ]
        }
      ]
    },
    {
      "cell_type": "code",
      "source": [
        "!pip install wget"
      ],
      "metadata": {
        "colab": {
          "base_uri": "https://localhost:8080/"
        },
        "id": "SGZxb3z2Z68g",
        "outputId": "6ed35430-36b8-499d-8832-177b287f8b15"
      },
      "execution_count": 25,
      "outputs": [
        {
          "output_type": "stream",
          "name": "stdout",
          "text": [
            "Looking in indexes: https://pypi.org/simple, https://us-python.pkg.dev/colab-wheels/public/simple/\n",
            "Requirement already satisfied: wget in /usr/local/lib/python3.8/dist-packages (3.2)\n"
          ]
        }
      ]
    },
    {
      "cell_type": "code",
      "source": [
        "import wget"
      ],
      "metadata": {
        "id": "uSELejhEZ_fS"
      },
      "execution_count": 26,
      "outputs": []
    },
    {
      "cell_type": "code",
      "source": [
        "\n",
        "url = \"http://nlp.stanford.edu/software/stanford-corenlp-latest.zip\"\n",
        "filename = wget.download(url)"
      ],
      "metadata": {
        "id": "bkGi4Oz4wZ7q"
      },
      "execution_count": 27,
      "outputs": []
    },
    {
      "cell_type": "code",
      "source": [
        "filename"
      ],
      "metadata": {
        "colab": {
          "base_uri": "https://localhost:8080/",
          "height": 36
        },
        "id": "OxBWOUKIwbPQ",
        "outputId": "d6d188a3-0256-4e07-9de7-96e339949a6d"
      },
      "execution_count": 28,
      "outputs": [
        {
          "output_type": "execute_result",
          "data": {
            "text/plain": [
              "'stanford-corenlp-latest (2).zip'"
            ],
            "application/vnd.google.colaboratory.intrinsic+json": {
              "type": "string"
            }
          },
          "metadata": {},
          "execution_count": 28
        }
      ]
    },
    {
      "cell_type": "code",
      "source": [
        "\n",
        "import zipfile\n",
        "\n",
        "with zipfile.ZipFile(\"/content/stanford-corenlp-latest.zip\", 'r') as zip_ref:\n",
        "    zip_ref.extractall(\"/content/\")"
      ],
      "metadata": {
        "id": "piziPAfJwdVQ"
      },
      "execution_count": 29,
      "outputs": []
    },
    {
      "cell_type": "code",
      "source": [
        "!pip install stanfordcorenlp"
      ],
      "metadata": {
        "colab": {
          "base_uri": "https://localhost:8080/"
        },
        "id": "rIqtGQjAvDd0",
        "outputId": "fbfe5418-079c-488f-de1e-2abd489aff23"
      },
      "execution_count": 30,
      "outputs": [
        {
          "output_type": "stream",
          "name": "stdout",
          "text": [
            "Looking in indexes: https://pypi.org/simple, https://us-python.pkg.dev/colab-wheels/public/simple/\n",
            "Requirement already satisfied: stanfordcorenlp in /usr/local/lib/python3.8/dist-packages (3.9.1.1)\n",
            "Requirement already satisfied: psutil in /usr/local/lib/python3.8/dist-packages (from stanfordcorenlp) (5.4.8)\n",
            "Requirement already satisfied: requests in /usr/local/lib/python3.8/dist-packages (from stanfordcorenlp) (2.25.1)\n",
            "Requirement already satisfied: certifi>=2017.4.17 in /usr/local/lib/python3.8/dist-packages (from requests->stanfordcorenlp) (2022.12.7)\n",
            "Requirement already satisfied: idna<3,>=2.5 in /usr/local/lib/python3.8/dist-packages (from requests->stanfordcorenlp) (2.10)\n",
            "Requirement already satisfied: chardet<5,>=3.0.2 in /usr/local/lib/python3.8/dist-packages (from requests->stanfordcorenlp) (4.0.0)\n",
            "Requirement already satisfied: urllib3<1.27,>=1.21.1 in /usr/local/lib/python3.8/dist-packages (from requests->stanfordcorenlp) (1.24.3)\n"
          ]
        }
      ]
    },
    {
      "cell_type": "code",
      "source": [
        "# Simple usage\n",
        "from stanfordcorenlp import StanfordCoreNLP"
      ],
      "metadata": {
        "id": "6mEc0A2EvGvz"
      },
      "execution_count": 31,
      "outputs": []
    },
    {
      "cell_type": "code",
      "source": [
        "nlp = StanfordCoreNLP(r'/content/stanford-corenlp-4.5.0')\n"
      ],
      "metadata": {
        "id": "Qs9yGITvvPGD"
      },
      "execution_count": 32,
      "outputs": []
    },
    {
      "cell_type": "code",
      "source": [
        "sentences"
      ],
      "metadata": {
        "colab": {
          "base_uri": "https://localhost:8080/"
        },
        "id": "ov1cRABayYkG",
        "outputId": "80f704f2-e046-42c7-b42f-f03c6d349a9e"
      },
      "execution_count": 33,
      "outputs": [
        {
          "output_type": "execute_result",
          "data": {
            "text/plain": [
              "['This Functional Requirements Specification FRS is intended to capture the changes infunctionality that will occur during system name ReWriting effort which is part of the xxxEnhancements project',\n",
              " 'All functionalities for the new system name system would bedocumented in this FRS',\n",
              " 'Any undocumented requirements will be considered out of scopeand will not be implemented during this phase of ReWriting',\n",
              " 'The existing functionalities in the core system name will remain same',\n",
              " 'This project islimited in scope to the enhancements and defects that are critical in the severity level that isthe issues that cause great burden to the system users and the enhancements in systemarchitecture which will facilitate efficient growth of system name and the company namebusiness will fall under the purview of this project scopeThe functional issues and requirements that will be discussed and gathered respectively aswell as validated in the Requirements Gathering and Validating Sessions started onMMDDYYYYwould be documented in this FRS moving forward',\n",
              " 'The project team hasdecided that system development will occur on module by module basis']"
            ]
          },
          "metadata": {},
          "execution_count": 33
        }
      ]
    },
    {
      "cell_type": "code",
      "source": [
        "for x in range(len(sentences)):\n",
        "  print(\"Parsing Constituency dan Dependency dari kalimat : {x}\".format(x=x))\n",
        "  print('Tokenize:', nlp.word_tokenize(sentences[x]))\n",
        "  print('Part of Speech:', nlp.pos_tag(sentences[x]))\n",
        "\n",
        "  print('Constituency Parsing:', nlp.parse(sentences[x]))\n",
        "  print('Dependency Parsing:', nlp.dependency_parse(sentences[x]))\n",
        "  print(\"\\n\\n\")\n",
        "  "
      ],
      "metadata": {
        "colab": {
          "base_uri": "https://localhost:8080/"
        },
        "id": "IUWF72MRvUnZ",
        "outputId": "5b4cb983-75b8-4fe2-89a3-e4abe20a96d2"
      },
      "execution_count": 36,
      "outputs": [
        {
          "output_type": "stream",
          "name": "stdout",
          "text": [
            "Parsing Constituency dan Dependency dari kalimat : 0\n",
            "Tokenize: ['This', 'Functional', 'Requirements', 'Specification', 'FRS', 'is', 'intended', 'to', 'capture', 'the', 'changes', 'infunctionality', 'that', 'will', 'occur', 'during', 'system', 'name', 'ReWriting', 'effort', 'which', 'is', 'part', 'of', 'the', 'xxxEnhancements', 'project']\n",
            "Part of Speech: [('This', 'DT'), ('Functional', 'JJ'), ('Requirements', 'NNS'), ('Specification', 'NN'), ('FRS', 'NN'), ('is', 'VBZ'), ('intended', 'VBN'), ('to', 'TO'), ('capture', 'VB'), ('the', 'DT'), ('changes', 'NNS'), ('infunctionality', 'NN'), ('that', 'WDT'), ('will', 'MD'), ('occur', 'VB'), ('during', 'IN'), ('system', 'NN'), ('name', 'NN'), ('ReWriting', 'VBG'), ('effort', 'NN'), ('which', 'WDT'), ('is', 'VBZ'), ('part', 'NN'), ('of', 'IN'), ('the', 'DT'), ('xxxEnhancements', 'NNPS'), ('project', 'NN')]\n",
            "Constituency Parsing: (ROOT\n",
            "  (S\n",
            "    (NP\n",
            "      (NP (DT This) (JJ Functional) (NNS Requirements))\n",
            "      (NP (NN Specification) (NN FRS)))\n",
            "    (VP (VBZ is)\n",
            "      (VP (VBN intended)\n",
            "        (S\n",
            "          (VP (TO to)\n",
            "            (VP (VB capture)\n",
            "              (NP\n",
            "                (NP (DT the) (NNS changes) (NN infunctionality))\n",
            "                (SBAR\n",
            "                  (WHNP (WDT that))\n",
            "                  (S\n",
            "                    (VP (MD will)\n",
            "                      (VP (VB occur)\n",
            "                        (PP (IN during)\n",
            "                          (NP (NN system) (NN name)))\n",
            "                        (S\n",
            "                          (VP (VBG ReWriting)\n",
            "                            (NP\n",
            "                              (NP (NN effort))\n",
            "                              (SBAR\n",
            "                                (WHNP (WDT which))\n",
            "                                (S\n",
            "                                  (VP (VBZ is)\n",
            "                                    (NP\n",
            "                                      (NP (NN part))\n",
            "                                      (PP (IN of)\n",
            "                                        (NP (DT the) (NNPS xxxEnhancements) (NN project))))))))))))))))))))))\n",
            "Dependency Parsing: [('ROOT', 0, 7), ('det', 5, 1), ('amod', 3, 2), ('compound', 5, 3), ('compound', 5, 4), ('nsubj:pass', 7, 5), ('aux:pass', 7, 6), ('mark', 9, 8), ('xcomp', 7, 9), ('det', 12, 10), ('compound', 12, 11), ('obj', 9, 12), ('nsubj', 15, 13), ('aux', 15, 14), ('acl:relcl', 12, 15), ('case', 20, 16), ('compound', 18, 17), ('compound', 20, 18), ('amod', 20, 19), ('obl', 15, 20), ('nsubj', 23, 21), ('cop', 23, 22), ('acl:relcl', 20, 23), ('case', 27, 24), ('det', 27, 25), ('compound', 27, 26), ('nmod', 23, 27)]\n",
            "\n",
            "\n",
            "\n",
            "Parsing Constituency dan Dependency dari kalimat : 1\n",
            "Tokenize: ['All', 'functionalities', 'for', 'the', 'new', 'system', 'name', 'system', 'would', 'bedocumented', 'in', 'this', 'FRS']\n",
            "Part of Speech: [('All', 'DT'), ('functionalities', 'NNS'), ('for', 'IN'), ('the', 'DT'), ('new', 'JJ'), ('system', 'NN'), ('name', 'NN'), ('system', 'NN'), ('would', 'MD'), ('bedocumented', 'VBN'), ('in', 'IN'), ('this', 'DT'), ('FRS', 'NNP')]\n",
            "Constituency Parsing: (ROOT\n",
            "  (S\n",
            "    (NP\n",
            "      (NP (DT All) (NNS functionalities))\n",
            "      (PP (IN for)\n",
            "        (NP (DT the) (JJ new) (NN system) (NN name) (NN system))))\n",
            "    (VP (MD would)\n",
            "      (VP (VBN bedocumented)\n",
            "        (PP (IN in)\n",
            "          (NP (DT this) (NNP FRS)))))))\n",
            "Dependency Parsing: [('ROOT', 0, 10), ('det', 2, 1), ('nsubj', 10, 2), ('case', 8, 3), ('det', 8, 4), ('amod', 8, 5), ('compound', 7, 6), ('compound', 8, 7), ('nmod', 2, 8), ('aux', 10, 9), ('case', 13, 11), ('det', 13, 12), ('obl', 10, 13)]\n",
            "\n",
            "\n",
            "\n",
            "Parsing Constituency dan Dependency dari kalimat : 2\n",
            "Tokenize: ['Any', 'undocumented', 'requirements', 'will', 'be', 'considered', 'out', 'of', 'scopeand', 'will', 'not', 'be', 'implemented', 'during', 'this', 'phase', 'of', 'ReWriting']\n",
            "Part of Speech: [('Any', 'DT'), ('undocumented', 'JJ'), ('requirements', 'NNS'), ('will', 'MD'), ('be', 'VB'), ('considered', 'VBN'), ('out', 'IN'), ('of', 'IN'), ('scopeand', 'NN'), ('will', 'MD'), ('not', 'RB'), ('be', 'VB'), ('implemented', 'VBN'), ('during', 'IN'), ('this', 'DT'), ('phase', 'NN'), ('of', 'IN'), ('ReWriting', 'VBG')]\n",
            "Constituency Parsing: (ROOT\n",
            "  (S\n",
            "    (NP (DT Any) (JJ undocumented) (NNS requirements))\n",
            "    (VP (MD will)\n",
            "      (VP (VB be)\n",
            "        (VP (VBN considered)\n",
            "          (PP (IN out) (IN of)\n",
            "            (NP\n",
            "              (NP (NN scopeand))\n",
            "              (SBAR\n",
            "                (S\n",
            "                  (VP (MD will) (RB not)\n",
            "                    (VP (VB be)\n",
            "                      (VP (VBN implemented)\n",
            "                        (PP (IN during)\n",
            "                          (NP\n",
            "                            (NP (DT this) (NN phase))\n",
            "                            (PP (IN of)\n",
            "                              (S\n",
            "                                (VP (VBG ReWriting))))))))))))))))))\n",
            "Dependency Parsing: [('ROOT', 0, 6), ('det', 3, 1), ('amod', 3, 2), ('nsubj:pass', 6, 3), ('aux', 6, 4), ('aux:pass', 6, 5), ('case', 9, 7), ('case', 9, 8), ('obl', 6, 9), ('aux', 13, 10), ('advmod', 13, 11), ('aux:pass', 13, 12), ('dep', 6, 13), ('case', 16, 14), ('det', 16, 15), ('obl', 13, 16), ('case', 18, 17), ('nmod', 16, 18)]\n",
            "\n",
            "\n",
            "\n",
            "Parsing Constituency dan Dependency dari kalimat : 3\n",
            "Tokenize: ['The', 'existing', 'functionalities', 'in', 'the', 'core', 'system', 'name', 'will', 'remain', 'same']\n",
            "Part of Speech: [('The', 'DT'), ('existing', 'VBG'), ('functionalities', 'NNS'), ('in', 'IN'), ('the', 'DT'), ('core', 'NN'), ('system', 'NN'), ('name', 'NN'), ('will', 'MD'), ('remain', 'VB'), ('same', 'JJ')]\n",
            "Constituency Parsing: (ROOT\n",
            "  (S\n",
            "    (NP\n",
            "      (NP (DT The) (VBG existing) (NNS functionalities))\n",
            "      (PP (IN in)\n",
            "        (NP (DT the) (NN core) (NN system) (NN name))))\n",
            "    (VP (MD will)\n",
            "      (VP (VB remain)\n",
            "        (NP (JJ same))))))\n",
            "Dependency Parsing: [('ROOT', 0, 10), ('det', 3, 1), ('amod', 3, 2), ('nsubj', 10, 3), ('case', 8, 4), ('det', 8, 5), ('compound', 7, 6), ('compound', 8, 7), ('nmod', 3, 8), ('aux', 10, 9), ('xcomp', 10, 11)]\n",
            "\n",
            "\n",
            "\n",
            "Parsing Constituency dan Dependency dari kalimat : 4\n",
            "Tokenize: ['This', 'project', 'islimited', 'in', 'scope', 'to', 'the', 'enhancements', 'and', 'defects', 'that', 'are', 'critical', 'in', 'the', 'severity', 'level', 'that', 'isthe', 'issues', 'that', 'cause', 'great', 'burden', 'to', 'the', 'system', 'users', 'and', 'the', 'enhancements', 'in', 'systemarchitecture', 'which', 'will', 'facilitate', 'efficient', 'growth', 'of', 'system', 'name', 'and', 'the', 'company', 'namebusiness', 'will', 'fall', 'under', 'the', 'purview', 'of', 'this', 'project', 'scopeThe', 'functional', 'issues', 'and', 'requirements', 'that', 'will', 'be', 'discussed', 'and', 'gathered', 'respectively', 'aswell', 'as', 'validated', 'in', 'the', 'Requirements', 'Gathering', 'and', 'Validating', 'Sessions', 'started', 'onMMDDYYYYwould', 'be', 'documented', 'in', 'this', 'FRS', 'moving', 'forward']\n",
            "Part of Speech: [('This', 'DT'), ('project', 'NN'), ('islimited', 'VBN'), ('in', 'IN'), ('scope', 'NN'), ('to', 'IN'), ('the', 'DT'), ('enhancements', 'NNS'), ('and', 'CC'), ('defects', 'NNS'), ('that', 'WDT'), ('are', 'VBP'), ('critical', 'JJ'), ('in', 'IN'), ('the', 'DT'), ('severity', 'NN'), ('level', 'NN'), ('that', 'WDT'), ('isthe', 'VBP'), ('issues', 'NNS'), ('that', 'WDT'), ('cause', 'VBP'), ('great', 'JJ'), ('burden', 'NN'), ('to', 'IN'), ('the', 'DT'), ('system', 'NN'), ('users', 'NNS'), ('and', 'CC'), ('the', 'DT'), ('enhancements', 'NNS'), ('in', 'IN'), ('systemarchitecture', 'NN'), ('which', 'WDT'), ('will', 'MD'), ('facilitate', 'VB'), ('efficient', 'JJ'), ('growth', 'NN'), ('of', 'IN'), ('system', 'NN'), ('name', 'NN'), ('and', 'CC'), ('the', 'DT'), ('company', 'NN'), ('namebusiness', 'NN'), ('will', 'MD'), ('fall', 'VB'), ('under', 'IN'), ('the', 'DT'), ('purview', 'NN'), ('of', 'IN'), ('this', 'DT'), ('project', 'NN'), ('scopeThe', 'NN'), ('functional', 'JJ'), ('issues', 'NNS'), ('and', 'CC'), ('requirements', 'NNS'), ('that', 'WDT'), ('will', 'MD'), ('be', 'VB'), ('discussed', 'VBN'), ('and', 'CC'), ('gathered', 'VBN'), ('respectively', 'RB'), ('aswell', 'RB'), ('as', 'IN'), ('validated', 'VBN'), ('in', 'IN'), ('the', 'DT'), ('Requirements', 'NNS'), ('Gathering', 'VBG'), ('and', 'CC'), ('Validating', 'VBG'), ('Sessions', 'NNP'), ('started', 'VBD'), ('onMMDDYYYYwould', 'RB'), ('be', 'VB'), ('documented', 'VBN'), ('in', 'IN'), ('this', 'DT'), ('FRS', 'NNP'), ('moving', 'VBG'), ('forward', 'RB')]\n",
            "Constituency Parsing: (ROOT\n",
            "  (S\n",
            "    (NP\n",
            "      (NP (DT This) (NN project))\n",
            "      (VP (VBN islimited)\n",
            "        (PP (IN in)\n",
            "          (NP (NN scope)))\n",
            "        (PP (IN to)\n",
            "          (NP\n",
            "            (NP (DT the) (NNS enhancements)\n",
            "              (CC and)\n",
            "              (NNS defects))\n",
            "            (SBAR\n",
            "              (WHNP (WDT that))\n",
            "              (S\n",
            "                (VP (VBP are)\n",
            "                  (ADJP (JJ critical)\n",
            "                    (PP (IN in)\n",
            "                      (NP\n",
            "                        (NP (DT the) (NN severity) (NN level))\n",
            "                        (SBAR\n",
            "                          (WHNP (WDT that))\n",
            "                          (S\n",
            "                            (VP (VBP isthe)\n",
            "                              (NP\n",
            "                                (NP (NNS issues))\n",
            "                                (SBAR\n",
            "                                  (WHNP (WDT that))\n",
            "                                  (S\n",
            "                                    (VP (VBP cause)\n",
            "                                      (NP (JJ great) (NN burden))\n",
            "                                      (PP (IN to)\n",
            "                                        (NP\n",
            "                                          (NP (DT the) (NN system) (NNS users))\n",
            "                                          (CC and)\n",
            "                                          (NP (DT the) (NNS enhancements))))\n",
            "                                      (PP (IN in)\n",
            "                                        (NP\n",
            "                                          (NP (NN systemarchitecture))\n",
            "                                          (SBAR\n",
            "                                            (WHNP (WDT which))\n",
            "                                            (S\n",
            "                                              (VP (MD will)\n",
            "                                                (VP (VB facilitate)\n",
            "                                                  (NP\n",
            "                                                    (NP (JJ efficient) (NN growth))\n",
            "                                                    (PP (IN of)\n",
            "                                                      (NP\n",
            "                                                        (NP (NN system) (NN name))\n",
            "                                                        (CC and)\n",
            "                                                        (NP (DT the) (NN company) (NN namebusiness))))))))))))))))))))))))))))\n",
            "    (VP (MD will)\n",
            "      (VP (VB fall)\n",
            "        (PP (IN under)\n",
            "          (NP\n",
            "            (NP (DT the) (NN purview))\n",
            "            (PP (IN of)\n",
            "              (NP (DT this) (NN project) (NN scopeThe)))))\n",
            "        (NP\n",
            "          (NP (JJ functional) (NNS issues)\n",
            "            (CC and)\n",
            "            (NNS requirements))\n",
            "          (SBAR\n",
            "            (WHNP (WDT that))\n",
            "            (S\n",
            "              (VP (MD will)\n",
            "                (VP (VB be)\n",
            "                  (VP (VBN discussed)\n",
            "                    (CC and)\n",
            "                    (VBN gathered)\n",
            "                    (ADVP (RB respectively))\n",
            "                    (SBAR\n",
            "                      (ADVP (RB aswell))\n",
            "                      (IN as)\n",
            "                      (S\n",
            "                        (S\n",
            "                          (VP (VBN validated)\n",
            "                            (PP (IN in)\n",
            "                              (S\n",
            "                                (NP (DT the) (NNS Requirements))\n",
            "                                (VP (VBG Gathering)\n",
            "                                  (CC and)\n",
            "                                  (VBG Validating)\n",
            "                                  (NP (NNP Sessions)))))))\n",
            "                        (VP (VBD started)\n",
            "                          (ADVP (RB onMMDDYYYYwould))\n",
            "                          (VP (VB be)\n",
            "                            (VP (VBN documented)\n",
            "                              (PP (IN in)\n",
            "                                (NP\n",
            "                                  (NP (DT this) (NNP FRS))\n",
            "                                  (VP (VBG moving)\n",
            "                                    (ADVP (RB forward))))))))))))))))))))\n",
            "Dependency Parsing: [('ROOT', 0, 3), ('det', 2, 1), ('nsubj', 3, 2), ('case', 5, 4), ('obl', 3, 5), ('case', 8, 6), ('det', 8, 7), ('obl', 3, 8), ('cc', 10, 9), ('conj', 8, 10), ('nsubj', 13, 11), ('cop', 13, 12), ('acl:relcl', 8, 13), ('case', 17, 14), ('det', 17, 15), ('compound', 17, 16), ('obl', 13, 17), ('obj', 20, 18), ('nsubj', 20, 19), ('acl:relcl', 17, 20), ('nsubj', 22, 21), ('ccomp', 20, 22), ('amod', 24, 23), ('obj', 22, 24), ('case', 28, 25), ('det', 28, 26), ('compound', 28, 27), ('nmod', 24, 28), ('cc', 31, 29), ('det', 31, 30), ('conj', 28, 31), ('case', 33, 32), ('nmod', 31, 33), ('nsubj', 36, 34), ('aux', 36, 35), ('acl:relcl', 24, 36), ('amod', 38, 37), ('obj', 36, 38), ('case', 41, 39), ('compound', 41, 40), ('nmod', 38, 41), ('cc', 45, 42), ('det', 45, 43), ('compound', 45, 44), ('conj', 41, 45), ('aux', 47, 46), ('dep', 36, 47), ('case', 50, 48), ('det', 50, 49), ('obl', 47, 50), ('case', 56, 51), ('det', 56, 52), ('compound', 54, 53), ('compound', 56, 54), ('amod', 56, 55), ('nmod', 50, 56), ('cc', 58, 57), ('conj', 56, 58), ('nsubj:pass', 62, 59), ('aux', 62, 60), ('aux:pass', 62, 61), ('parataxis', 36, 62), ('cc', 64, 63), ('conj', 62, 64), ('advmod', 62, 65), ('advmod', 62, 66), ('case', 68, 67), ('advcl', 62, 68), ('case', 71, 69), ('det', 71, 70), ('obl', 68, 71), ('acl', 71, 72), ('cc', 74, 73), ('conj', 72, 74), ('obj', 72, 75), ('aux', 79, 76), ('advmod', 79, 77), ('aux:pass', 79, 78), ('advcl', 62, 79), ('case', 82, 80), ('det', 82, 81), ('obl', 79, 82), ('acl', 82, 83), ('advmod', 83, 84)]\n",
            "\n",
            "\n",
            "\n",
            "Parsing Constituency dan Dependency dari kalimat : 5\n",
            "Tokenize: ['The', 'project', 'team', 'hasdecided', 'that', 'system', 'development', 'will', 'occur', 'on', 'module', 'by', 'module', 'basis']\n",
            "Part of Speech: [('The', 'DT'), ('project', 'NN'), ('team', 'NN'), ('hasdecided', 'VBD'), ('that', 'IN'), ('system', 'NN'), ('development', 'NN'), ('will', 'MD'), ('occur', 'VB'), ('on', 'IN'), ('module', 'NN'), ('by', 'IN'), ('module', 'NN'), ('basis', 'NN')]\n",
            "Constituency Parsing: (ROOT\n",
            "  (S\n",
            "    (NP (DT The) (NN project) (NN team))\n",
            "    (VP (VBD hasdecided)\n",
            "      (SBAR (IN that)\n",
            "        (S\n",
            "          (NP (NN system) (NN development))\n",
            "          (VP (MD will)\n",
            "            (VP (VB occur)\n",
            "              (PP (IN on)\n",
            "                (NP (NN module)))\n",
            "              (PP (IN by)\n",
            "                (NP (NN module) (NN basis))))))))))\n",
            "Dependency Parsing: [('ROOT', 0, 4), ('det', 3, 1), ('compound', 3, 2), ('nsubj', 4, 3), ('mark', 9, 5), ('compound', 7, 6), ('nsubj', 9, 7), ('aux', 9, 8), ('ccomp', 4, 9), ('case', 11, 10), ('obl', 9, 11), ('case', 14, 12), ('compound', 14, 13), ('obl', 9, 14)]\n",
            "\n",
            "\n",
            "\n"
          ]
        }
      ]
    },
    {
      "cell_type": "code",
      "source": [],
      "metadata": {
        "id": "NJ7isMqo1oFO"
      },
      "execution_count": null,
      "outputs": []
    }
  ]
}